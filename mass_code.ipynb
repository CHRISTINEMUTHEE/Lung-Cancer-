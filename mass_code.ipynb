{
  "nbformat": 4,
  "nbformat_minor": 0,
  "metadata": {
    "colab": {
      "name": "mass_code.ipynb",
      "provenance": [],
      "collapsed_sections": [],
      "toc_visible": true,
      "include_colab_link": true
    },
    "kernelspec": {
      "name": "python3",
      "display_name": "Python 3"
    },
    "language_info": {
      "name": "python"
    }
  },
  "cells": [
    {
      "cell_type": "markdown",
      "metadata": {
        "id": "view-in-github",
        "colab_type": "text"
      },
      "source": [
        "<a href=\"https://colab.research.google.com/github/mburu-mwangi/Lung-Cancer-/blob/main/mass_code.ipynb\" target=\"_parent\"><img src=\"https://colab.research.google.com/assets/colab-badge.svg\" alt=\"Open In Colab\"/></a>"
      ]
    },
    {
      "cell_type": "markdown",
      "metadata": {
        "id": "aahw9EkJHFG7"
      },
      "source": [
        "# Lung cancer Analysis\n"
      ]
    },
    {
      "cell_type": "code",
      "metadata": {
        "id": "qg-DIigXOMV0"
      },
      "source": [
        "# Importing the necessary libraries\n",
        "import pandas as pd\n",
        "import numpy as np\n",
        "import matplotlib.pyplot as plt\n",
        "import seaborn as sns"
      ],
      "execution_count": 459,
      "outputs": []
    },
    {
      "cell_type": "markdown",
      "metadata": {
        "id": "WwVYPGrAHixu"
      },
      "source": [
        "# Loading of the Dataset"
      ]
    },
    {
      "cell_type": "code",
      "metadata": {
        "id": "Kt1CqjFt0NkS"
      },
      "source": [
        "# Loading the dataset\n",
        "url='https://drive.google.com/file/d/1hIjlEeOgcVUQQ36LcnyT1_xBNBuRE7NY/view?usp=sharing'\n",
        "url2='https://drive.google.com/uc?id=' + url.split('/')[-2]\n",
        "df = pd.read_csv(url2)"
      ],
      "execution_count": 460,
      "outputs": []
    },
    {
      "cell_type": "code",
      "metadata": {
        "id": "eoY3VxzEOgW8"
      },
      "source": [
        "#df_poland = pd.read_csv(\"covid_caner_poland.csv\")"
      ],
      "execution_count": 461,
      "outputs": []
    },
    {
      "cell_type": "code",
      "metadata": {
        "id": "i3rlQwHpOgSe"
      },
      "source": [
        "# Craeting a copy of the same set\n",
        "df_poland =  df.copy()"
      ],
      "execution_count": 462,
      "outputs": []
    },
    {
      "cell_type": "code",
      "metadata": {
        "colab": {
          "base_uri": "https://localhost:8080/",
          "height": 275
        },
        "id": "F7r2ZqcJ0qHm",
        "outputId": "04ddb87b-d138-45e7-8fe7-071180e3c508"
      },
      "source": [
        "# Checking the head of the dataset\n",
        "df_poland.head()"
      ],
      "execution_count": 463,
      "outputs": [
        {
          "output_type": "execute_result",
          "data": {
            "text/html": [
              "<div>\n",
              "<style scoped>\n",
              "    .dataframe tbody tr th:only-of-type {\n",
              "        vertical-align: middle;\n",
              "    }\n",
              "\n",
              "    .dataframe tbody tr th {\n",
              "        vertical-align: top;\n",
              "    }\n",
              "\n",
              "    .dataframe thead th {\n",
              "        text-align: right;\n",
              "    }\n",
              "</style>\n",
              "<table border=\"1\" class=\"dataframe\">\n",
              "  <thead>\n",
              "    <tr style=\"text-align: right;\">\n",
              "      <th></th>\n",
              "      <th>Invasive mediastinal staging</th>\n",
              "      <th>Date of surgery</th>\n",
              "      <th>Approach</th>\n",
              "      <th>Type of surgery</th>\n",
              "      <th>Sleeve - bronchial</th>\n",
              "      <th>Histology</th>\n",
              "      <th>Stage</th>\n",
              "      <th>Stage.1</th>\n",
              "      <th>Total hospital stay</th>\n",
              "      <th>Postoperative hospital stay</th>\n",
              "      <th>Outcome at discharge</th>\n",
              "    </tr>\n",
              "  </thead>\n",
              "  <tbody>\n",
              "    <tr>\n",
              "      <th>0</th>\n",
              "      <td>NIE</td>\n",
              "      <td>2019</td>\n",
              "      <td>Open</td>\n",
              "      <td>Lobectomy</td>\n",
              "      <td>NO</td>\n",
              "      <td>Adenocarcinoma</td>\n",
              "      <td>I</td>\n",
              "      <td>Early</td>\n",
              "      <td>8.0</td>\n",
              "      <td>7.0</td>\n",
              "      <td>Alive</td>\n",
              "    </tr>\n",
              "    <tr>\n",
              "      <th>1</th>\n",
              "      <td>NIE</td>\n",
              "      <td>2019</td>\n",
              "      <td>VATS</td>\n",
              "      <td>Lobectomy</td>\n",
              "      <td>NO</td>\n",
              "      <td>Squamous cell carcinoma</td>\n",
              "      <td>IV</td>\n",
              "      <td>Advanced</td>\n",
              "      <td>6.0</td>\n",
              "      <td>3.0</td>\n",
              "      <td>Alive</td>\n",
              "    </tr>\n",
              "    <tr>\n",
              "      <th>2</th>\n",
              "      <td>NIE</td>\n",
              "      <td>2019</td>\n",
              "      <td>Open</td>\n",
              "      <td>Lobectomy</td>\n",
              "      <td>NO</td>\n",
              "      <td>Adenocarcinoma</td>\n",
              "      <td>I</td>\n",
              "      <td>Early</td>\n",
              "      <td>8.0</td>\n",
              "      <td>5.0</td>\n",
              "      <td>Alive</td>\n",
              "    </tr>\n",
              "    <tr>\n",
              "      <th>3</th>\n",
              "      <td>NIE</td>\n",
              "      <td>2019</td>\n",
              "      <td>Open</td>\n",
              "      <td>Lobectomy</td>\n",
              "      <td>NO</td>\n",
              "      <td>Squamous cell carcinoma</td>\n",
              "      <td>I</td>\n",
              "      <td>Early</td>\n",
              "      <td>6.0</td>\n",
              "      <td>4.0</td>\n",
              "      <td>Alive</td>\n",
              "    </tr>\n",
              "    <tr>\n",
              "      <th>4</th>\n",
              "      <td>TAK</td>\n",
              "      <td>2019</td>\n",
              "      <td>Open</td>\n",
              "      <td>Lobectomy</td>\n",
              "      <td>NO</td>\n",
              "      <td>Adenocarcinoma</td>\n",
              "      <td>I</td>\n",
              "      <td>Early</td>\n",
              "      <td>5.0</td>\n",
              "      <td>4.0</td>\n",
              "      <td>Alive</td>\n",
              "    </tr>\n",
              "  </tbody>\n",
              "</table>\n",
              "</div>"
            ],
            "text/plain": [
              "  Invasive mediastinal staging  ...  Outcome at discharge\n",
              "0                          NIE  ...                 Alive\n",
              "1                          NIE  ...                 Alive\n",
              "2                          NIE  ...                 Alive\n",
              "3                          NIE  ...                 Alive\n",
              "4                          TAK  ...                 Alive\n",
              "\n",
              "[5 rows x 11 columns]"
            ]
          },
          "metadata": {},
          "execution_count": 463
        }
      ]
    },
    {
      "cell_type": "code",
      "metadata": {
        "id": "vvuwi8xGOgQD",
        "colab": {
          "base_uri": "https://localhost:8080/",
          "height": 307
        },
        "outputId": "cbffc939-40b2-444f-ad08-00f6f31a622a"
      },
      "source": [
        "# Creating usique identifiers of my dataset.\n",
        "df_poland['unique_ID'] = [i for i in range(df_poland.shape[0])]\n",
        "# Confirming the operation\n",
        "df_poland.set_index('unique_ID').head()"
      ],
      "execution_count": 464,
      "outputs": [
        {
          "output_type": "execute_result",
          "data": {
            "text/html": [
              "<div>\n",
              "<style scoped>\n",
              "    .dataframe tbody tr th:only-of-type {\n",
              "        vertical-align: middle;\n",
              "    }\n",
              "\n",
              "    .dataframe tbody tr th {\n",
              "        vertical-align: top;\n",
              "    }\n",
              "\n",
              "    .dataframe thead th {\n",
              "        text-align: right;\n",
              "    }\n",
              "</style>\n",
              "<table border=\"1\" class=\"dataframe\">\n",
              "  <thead>\n",
              "    <tr style=\"text-align: right;\">\n",
              "      <th></th>\n",
              "      <th>Invasive mediastinal staging</th>\n",
              "      <th>Date of surgery</th>\n",
              "      <th>Approach</th>\n",
              "      <th>Type of surgery</th>\n",
              "      <th>Sleeve - bronchial</th>\n",
              "      <th>Histology</th>\n",
              "      <th>Stage</th>\n",
              "      <th>Stage.1</th>\n",
              "      <th>Total hospital stay</th>\n",
              "      <th>Postoperative hospital stay</th>\n",
              "      <th>Outcome at discharge</th>\n",
              "    </tr>\n",
              "    <tr>\n",
              "      <th>unique_ID</th>\n",
              "      <th></th>\n",
              "      <th></th>\n",
              "      <th></th>\n",
              "      <th></th>\n",
              "      <th></th>\n",
              "      <th></th>\n",
              "      <th></th>\n",
              "      <th></th>\n",
              "      <th></th>\n",
              "      <th></th>\n",
              "      <th></th>\n",
              "    </tr>\n",
              "  </thead>\n",
              "  <tbody>\n",
              "    <tr>\n",
              "      <th>0</th>\n",
              "      <td>NIE</td>\n",
              "      <td>2019</td>\n",
              "      <td>Open</td>\n",
              "      <td>Lobectomy</td>\n",
              "      <td>NO</td>\n",
              "      <td>Adenocarcinoma</td>\n",
              "      <td>I</td>\n",
              "      <td>Early</td>\n",
              "      <td>8.0</td>\n",
              "      <td>7.0</td>\n",
              "      <td>Alive</td>\n",
              "    </tr>\n",
              "    <tr>\n",
              "      <th>1</th>\n",
              "      <td>NIE</td>\n",
              "      <td>2019</td>\n",
              "      <td>VATS</td>\n",
              "      <td>Lobectomy</td>\n",
              "      <td>NO</td>\n",
              "      <td>Squamous cell carcinoma</td>\n",
              "      <td>IV</td>\n",
              "      <td>Advanced</td>\n",
              "      <td>6.0</td>\n",
              "      <td>3.0</td>\n",
              "      <td>Alive</td>\n",
              "    </tr>\n",
              "    <tr>\n",
              "      <th>2</th>\n",
              "      <td>NIE</td>\n",
              "      <td>2019</td>\n",
              "      <td>Open</td>\n",
              "      <td>Lobectomy</td>\n",
              "      <td>NO</td>\n",
              "      <td>Adenocarcinoma</td>\n",
              "      <td>I</td>\n",
              "      <td>Early</td>\n",
              "      <td>8.0</td>\n",
              "      <td>5.0</td>\n",
              "      <td>Alive</td>\n",
              "    </tr>\n",
              "    <tr>\n",
              "      <th>3</th>\n",
              "      <td>NIE</td>\n",
              "      <td>2019</td>\n",
              "      <td>Open</td>\n",
              "      <td>Lobectomy</td>\n",
              "      <td>NO</td>\n",
              "      <td>Squamous cell carcinoma</td>\n",
              "      <td>I</td>\n",
              "      <td>Early</td>\n",
              "      <td>6.0</td>\n",
              "      <td>4.0</td>\n",
              "      <td>Alive</td>\n",
              "    </tr>\n",
              "    <tr>\n",
              "      <th>4</th>\n",
              "      <td>TAK</td>\n",
              "      <td>2019</td>\n",
              "      <td>Open</td>\n",
              "      <td>Lobectomy</td>\n",
              "      <td>NO</td>\n",
              "      <td>Adenocarcinoma</td>\n",
              "      <td>I</td>\n",
              "      <td>Early</td>\n",
              "      <td>5.0</td>\n",
              "      <td>4.0</td>\n",
              "      <td>Alive</td>\n",
              "    </tr>\n",
              "  </tbody>\n",
              "</table>\n",
              "</div>"
            ],
            "text/plain": [
              "          Invasive mediastinal staging  ...  Outcome at discharge\n",
              "unique_ID                               ...                      \n",
              "0                                  NIE  ...                 Alive\n",
              "1                                  NIE  ...                 Alive\n",
              "2                                  NIE  ...                 Alive\n",
              "3                                  NIE  ...                 Alive\n",
              "4                                  TAK  ...                 Alive\n",
              "\n",
              "[5 rows x 11 columns]"
            ]
          },
          "metadata": {},
          "execution_count": 464
        }
      ]
    },
    {
      "cell_type": "markdown",
      "metadata": {
        "id": "rOsB9vorI45J"
      },
      "source": [
        "# Data Cleaning "
      ]
    },
    {
      "cell_type": "code",
      "metadata": {
        "id": "IYc6gmh8RAlA"
      },
      "source": [
        "#df_poland.to_csv('new_poland_covid_cancer.csv')"
      ],
      "execution_count": 465,
      "outputs": []
    },
    {
      "cell_type": "markdown",
      "metadata": {
        "id": "iCgQYoIsJKYT"
      },
      "source": [
        "## Duplicated Values"
      ]
    },
    {
      "cell_type": "code",
      "metadata": {
        "colab": {
          "base_uri": "https://localhost:8080/"
        },
        "id": "j0-bNDSiRSbD",
        "outputId": "b30a9227-a66c-4295-f70f-60663a500aa8"
      },
      "source": [
        "# Checking for duplicated values\n",
        "df_poland.duplicated().sum()"
      ],
      "execution_count": 466,
      "outputs": [
        {
          "output_type": "execute_result",
          "data": {
            "text/plain": [
              "0"
            ]
          },
          "metadata": {},
          "execution_count": 466
        }
      ]
    },
    {
      "cell_type": "markdown",
      "metadata": {
        "id": "I_QXohnqJS5K"
      },
      "source": [
        "#### There are no duplicated values in the dataset"
      ]
    },
    {
      "cell_type": "markdown",
      "metadata": {
        "id": "TQquG3Z4JbEr"
      },
      "source": [
        "## Checking for missing values in the dataset"
      ]
    },
    {
      "cell_type": "code",
      "metadata": {
        "id": "2UuKRn_OJjEv"
      },
      "source": [
        "# Creating a function to check for percentage of missing values and put it in a dataframe\n",
        "def missing_percentage(data):\n",
        "  df=(data.isnull().sum()/len(data)*100)\n",
        "  missing_frame=pd.DataFrame({\"Column_names\":df.index,\"%_missing\":df.values})\n",
        "  return missing_frame\n"
      ],
      "execution_count": 467,
      "outputs": []
    },
    {
      "cell_type": "code",
      "metadata": {
        "colab": {
          "base_uri": "https://localhost:8080/",
          "height": 426
        },
        "id": "gn8VZeQRKSgG",
        "outputId": "b97e9e1d-1018-4edc-de96-cb3d2f15fb07"
      },
      "source": [
        "# Executing the function\n",
        "missing_percentage(df_poland)"
      ],
      "execution_count": 468,
      "outputs": [
        {
          "output_type": "execute_result",
          "data": {
            "text/html": [
              "<div>\n",
              "<style scoped>\n",
              "    .dataframe tbody tr th:only-of-type {\n",
              "        vertical-align: middle;\n",
              "    }\n",
              "\n",
              "    .dataframe tbody tr th {\n",
              "        vertical-align: top;\n",
              "    }\n",
              "\n",
              "    .dataframe thead th {\n",
              "        text-align: right;\n",
              "    }\n",
              "</style>\n",
              "<table border=\"1\" class=\"dataframe\">\n",
              "  <thead>\n",
              "    <tr style=\"text-align: right;\">\n",
              "      <th></th>\n",
              "      <th>Column_names</th>\n",
              "      <th>%_missing</th>\n",
              "    </tr>\n",
              "  </thead>\n",
              "  <tbody>\n",
              "    <tr>\n",
              "      <th>0</th>\n",
              "      <td>Invasive mediastinal staging</td>\n",
              "      <td>0.000000</td>\n",
              "    </tr>\n",
              "    <tr>\n",
              "      <th>1</th>\n",
              "      <td>Date of surgery</td>\n",
              "      <td>0.000000</td>\n",
              "    </tr>\n",
              "    <tr>\n",
              "      <th>2</th>\n",
              "      <td>Approach</td>\n",
              "      <td>0.109559</td>\n",
              "    </tr>\n",
              "    <tr>\n",
              "      <th>3</th>\n",
              "      <td>Type of surgery</td>\n",
              "      <td>0.000000</td>\n",
              "    </tr>\n",
              "    <tr>\n",
              "      <th>4</th>\n",
              "      <td>Sleeve - bronchial</td>\n",
              "      <td>0.000000</td>\n",
              "    </tr>\n",
              "    <tr>\n",
              "      <th>5</th>\n",
              "      <td>Histology</td>\n",
              "      <td>1.054506</td>\n",
              "    </tr>\n",
              "    <tr>\n",
              "      <th>6</th>\n",
              "      <td>Stage</td>\n",
              "      <td>1.314708</td>\n",
              "    </tr>\n",
              "    <tr>\n",
              "      <th>7</th>\n",
              "      <td>Stage.1</td>\n",
              "      <td>1.314708</td>\n",
              "    </tr>\n",
              "    <tr>\n",
              "      <th>8</th>\n",
              "      <td>Total hospital stay</td>\n",
              "      <td>1.698165</td>\n",
              "    </tr>\n",
              "    <tr>\n",
              "      <th>9</th>\n",
              "      <td>Postoperative hospital stay</td>\n",
              "      <td>2.643111</td>\n",
              "    </tr>\n",
              "    <tr>\n",
              "      <th>10</th>\n",
              "      <td>Outcome at discharge</td>\n",
              "      <td>0.000000</td>\n",
              "    </tr>\n",
              "    <tr>\n",
              "      <th>11</th>\n",
              "      <td>unique_ID</td>\n",
              "      <td>0.000000</td>\n",
              "    </tr>\n",
              "  </tbody>\n",
              "</table>\n",
              "</div>"
            ],
            "text/plain": [
              "                    Column_names  %_missing\n",
              "0   Invasive mediastinal staging   0.000000\n",
              "1                Date of surgery   0.000000\n",
              "2                       Approach   0.109559\n",
              "3                Type of surgery   0.000000\n",
              "4             Sleeve - bronchial   0.000000\n",
              "5                      Histology   1.054506\n",
              "6                          Stage   1.314708\n",
              "7                        Stage.1   1.314708\n",
              "8            Total hospital stay   1.698165\n",
              "9    Postoperative hospital stay   2.643111\n",
              "10          Outcome at discharge   0.000000\n",
              "11                     unique_ID   0.000000"
            ]
          },
          "metadata": {},
          "execution_count": 468
        }
      ]
    },
    {
      "cell_type": "markdown",
      "metadata": {
        "id": "iGl1QNaeMF-r"
      },
      "source": [
        "#### Dealing with missing values"
      ]
    },
    {
      "cell_type": "code",
      "metadata": {
        "colab": {
          "base_uri": "https://localhost:8080/"
        },
        "id": "uD5mPqgzR8Sg",
        "outputId": "19bd5925-5615-43fd-ebb9-db20b1776b80"
      },
      "source": [
        "# Checking datatypes\n",
        "df_poland[['Histology','Stage','Stage.1','Total hospital stay','Postoperative hospital stay']].dtypes"
      ],
      "execution_count": 469,
      "outputs": [
        {
          "output_type": "execute_result",
          "data": {
            "text/plain": [
              "Histology                       object\n",
              "Stage                           object\n",
              "Stage.1                         object\n",
              "Total hospital stay            float64\n",
              "Postoperative hospital stay    float64\n",
              "dtype: object"
            ]
          },
          "metadata": {},
          "execution_count": 469
        }
      ]
    },
    {
      "cell_type": "code",
      "metadata": {
        "id": "UDcWoorhMTSH"
      },
      "source": [
        "# A function to deal with missing values in the continous variables\n",
        "def fill_miss(data,col1,col2):\n",
        "  df1=data[col1].groupby(data[col2]).mean()\n",
        "  if data[col2].any =='Alive':\n",
        "    data[col1]=data[col1].fillna(df1[0])\n",
        "  else:\n",
        "    data[col1]=data[col1].fillna(df1[1])\n",
        "  return data.isnull().sum()\n"
      ],
      "execution_count": 470,
      "outputs": []
    },
    {
      "cell_type": "code",
      "metadata": {
        "colab": {
          "base_uri": "https://localhost:8080/"
        },
        "id": "m43DTtSANiij",
        "outputId": "fc57c5b6-e1f9-47e3-b1f8-24af894a6a4d"
      },
      "source": [
        "# Executong the function on the total hospital stay column\n",
        "fill_miss(df_poland,'Total hospital stay','Outcome at discharge')"
      ],
      "execution_count": 471,
      "outputs": [
        {
          "output_type": "execute_result",
          "data": {
            "text/plain": [
              "Invasive mediastinal staging      0\n",
              "Date of surgery                   0\n",
              "Approach                          8\n",
              "Type of surgery                   0\n",
              "Sleeve - bronchial                0\n",
              "Histology                        77\n",
              "Stage                            96\n",
              "Stage.1                          96\n",
              "Total hospital stay               0\n",
              "Postoperative hospital stay     193\n",
              "Outcome at discharge              0\n",
              "unique_ID                         0\n",
              "dtype: int64"
            ]
          },
          "metadata": {},
          "execution_count": 471
        }
      ]
    },
    {
      "cell_type": "code",
      "metadata": {
        "colab": {
          "base_uri": "https://localhost:8080/"
        },
        "id": "bX6MGV5eOM00",
        "outputId": "23be01c6-f7f7-4d9a-d44e-5c58fd64b8be"
      },
      "source": [
        "# Executing the function on the post operative hospital stay column\n",
        "fill_miss(df_poland,'Postoperative hospital stay','Outcome at discharge')"
      ],
      "execution_count": 472,
      "outputs": [
        {
          "output_type": "execute_result",
          "data": {
            "text/plain": [
              "Invasive mediastinal staging     0\n",
              "Date of surgery                  0\n",
              "Approach                         8\n",
              "Type of surgery                  0\n",
              "Sleeve - bronchial               0\n",
              "Histology                       77\n",
              "Stage                           96\n",
              "Stage.1                         96\n",
              "Total hospital stay              0\n",
              "Postoperative hospital stay      0\n",
              "Outcome at discharge             0\n",
              "unique_ID                        0\n",
              "dtype: int64"
            ]
          },
          "metadata": {},
          "execution_count": 472
        }
      ]
    },
    {
      "cell_type": "markdown",
      "metadata": {
        "id": "y1VOhIz4Ozcy"
      },
      "source": [
        "#### Dealing with missing value in the other columns"
      ]
    },
    {
      "cell_type": "code",
      "metadata": {
        "colab": {
          "base_uri": "https://localhost:8080/"
        },
        "id": "W_ssd-MPZPhc",
        "outputId": "6fc6fcd4-93c1-456f-bfcb-6215768a147b"
      },
      "source": [
        "# Categorical column which had a missing percentage of about 1.3%\n",
        "df_poland[['Histology','Stage','Stage.1']].isnull().sum()"
      ],
      "execution_count": 473,
      "outputs": [
        {
          "output_type": "execute_result",
          "data": {
            "text/plain": [
              "Histology    77\n",
              "Stage        96\n",
              "Stage.1      96\n",
              "dtype: int64"
            ]
          },
          "metadata": {},
          "execution_count": 473
        }
      ]
    },
    {
      "cell_type": "markdown",
      "metadata": {
        "id": "_NadYfcvO4eb"
      },
      "source": [
        "#### Dropping the missing values in the categorical columns"
      ]
    },
    {
      "cell_type": "code",
      "metadata": {
        "id": "1G2nXLWAbC1l"
      },
      "source": [
        "# Dropping the missing values in the  categorical columns\n",
        "df_poland.dropna(axis=0,inplace=True)"
      ],
      "execution_count": 474,
      "outputs": []
    },
    {
      "cell_type": "code",
      "metadata": {
        "colab": {
          "base_uri": "https://localhost:8080/",
          "height": 426
        },
        "id": "S0HCCn-WbN1P",
        "outputId": "5fbc2d9d-caef-4952-cc73-f1c86a78cff7"
      },
      "source": [
        "# Calling the function to check for missing values\n",
        "missing_percentage(df_poland)"
      ],
      "execution_count": 475,
      "outputs": [
        {
          "output_type": "execute_result",
          "data": {
            "text/html": [
              "<div>\n",
              "<style scoped>\n",
              "    .dataframe tbody tr th:only-of-type {\n",
              "        vertical-align: middle;\n",
              "    }\n",
              "\n",
              "    .dataframe tbody tr th {\n",
              "        vertical-align: top;\n",
              "    }\n",
              "\n",
              "    .dataframe thead th {\n",
              "        text-align: right;\n",
              "    }\n",
              "</style>\n",
              "<table border=\"1\" class=\"dataframe\">\n",
              "  <thead>\n",
              "    <tr style=\"text-align: right;\">\n",
              "      <th></th>\n",
              "      <th>Column_names</th>\n",
              "      <th>%_missing</th>\n",
              "    </tr>\n",
              "  </thead>\n",
              "  <tbody>\n",
              "    <tr>\n",
              "      <th>0</th>\n",
              "      <td>Invasive mediastinal staging</td>\n",
              "      <td>0.0</td>\n",
              "    </tr>\n",
              "    <tr>\n",
              "      <th>1</th>\n",
              "      <td>Date of surgery</td>\n",
              "      <td>0.0</td>\n",
              "    </tr>\n",
              "    <tr>\n",
              "      <th>2</th>\n",
              "      <td>Approach</td>\n",
              "      <td>0.0</td>\n",
              "    </tr>\n",
              "    <tr>\n",
              "      <th>3</th>\n",
              "      <td>Type of surgery</td>\n",
              "      <td>0.0</td>\n",
              "    </tr>\n",
              "    <tr>\n",
              "      <th>4</th>\n",
              "      <td>Sleeve - bronchial</td>\n",
              "      <td>0.0</td>\n",
              "    </tr>\n",
              "    <tr>\n",
              "      <th>5</th>\n",
              "      <td>Histology</td>\n",
              "      <td>0.0</td>\n",
              "    </tr>\n",
              "    <tr>\n",
              "      <th>6</th>\n",
              "      <td>Stage</td>\n",
              "      <td>0.0</td>\n",
              "    </tr>\n",
              "    <tr>\n",
              "      <th>7</th>\n",
              "      <td>Stage.1</td>\n",
              "      <td>0.0</td>\n",
              "    </tr>\n",
              "    <tr>\n",
              "      <th>8</th>\n",
              "      <td>Total hospital stay</td>\n",
              "      <td>0.0</td>\n",
              "    </tr>\n",
              "    <tr>\n",
              "      <th>9</th>\n",
              "      <td>Postoperative hospital stay</td>\n",
              "      <td>0.0</td>\n",
              "    </tr>\n",
              "    <tr>\n",
              "      <th>10</th>\n",
              "      <td>Outcome at discharge</td>\n",
              "      <td>0.0</td>\n",
              "    </tr>\n",
              "    <tr>\n",
              "      <th>11</th>\n",
              "      <td>unique_ID</td>\n",
              "      <td>0.0</td>\n",
              "    </tr>\n",
              "  </tbody>\n",
              "</table>\n",
              "</div>"
            ],
            "text/plain": [
              "                    Column_names  %_missing\n",
              "0   Invasive mediastinal staging        0.0\n",
              "1                Date of surgery        0.0\n",
              "2                       Approach        0.0\n",
              "3                Type of surgery        0.0\n",
              "4             Sleeve - bronchial        0.0\n",
              "5                      Histology        0.0\n",
              "6                          Stage        0.0\n",
              "7                        Stage.1        0.0\n",
              "8            Total hospital stay        0.0\n",
              "9    Postoperative hospital stay        0.0\n",
              "10          Outcome at discharge        0.0\n",
              "11                     unique_ID        0.0"
            ]
          },
          "metadata": {},
          "execution_count": 475
        }
      ]
    },
    {
      "cell_type": "markdown",
      "metadata": {
        "id": "plaWClZTPxeu"
      },
      "source": [
        "#### There are no more missing values in the dataset."
      ]
    },
    {
      "cell_type": "code",
      "metadata": {
        "id": "PYTF5mCu2wpv"
      },
      "source": [
        "# Setting unique_ID as the index\n",
        "df_poland = df_poland.set_index('unique_ID')"
      ],
      "execution_count": 476,
      "outputs": []
    },
    {
      "cell_type": "code",
      "metadata": {
        "colab": {
          "base_uri": "https://localhost:8080/",
          "height": 307
        },
        "id": "EQMqcZfrP-SY",
        "outputId": "9d495de4-c3ac-4bc3-c669-6c02881c77e4"
      },
      "source": [
        "# Confirming the operation\n",
        "df_poland.head()"
      ],
      "execution_count": 477,
      "outputs": [
        {
          "output_type": "execute_result",
          "data": {
            "text/html": [
              "<div>\n",
              "<style scoped>\n",
              "    .dataframe tbody tr th:only-of-type {\n",
              "        vertical-align: middle;\n",
              "    }\n",
              "\n",
              "    .dataframe tbody tr th {\n",
              "        vertical-align: top;\n",
              "    }\n",
              "\n",
              "    .dataframe thead th {\n",
              "        text-align: right;\n",
              "    }\n",
              "</style>\n",
              "<table border=\"1\" class=\"dataframe\">\n",
              "  <thead>\n",
              "    <tr style=\"text-align: right;\">\n",
              "      <th></th>\n",
              "      <th>Invasive mediastinal staging</th>\n",
              "      <th>Date of surgery</th>\n",
              "      <th>Approach</th>\n",
              "      <th>Type of surgery</th>\n",
              "      <th>Sleeve - bronchial</th>\n",
              "      <th>Histology</th>\n",
              "      <th>Stage</th>\n",
              "      <th>Stage.1</th>\n",
              "      <th>Total hospital stay</th>\n",
              "      <th>Postoperative hospital stay</th>\n",
              "      <th>Outcome at discharge</th>\n",
              "    </tr>\n",
              "    <tr>\n",
              "      <th>unique_ID</th>\n",
              "      <th></th>\n",
              "      <th></th>\n",
              "      <th></th>\n",
              "      <th></th>\n",
              "      <th></th>\n",
              "      <th></th>\n",
              "      <th></th>\n",
              "      <th></th>\n",
              "      <th></th>\n",
              "      <th></th>\n",
              "      <th></th>\n",
              "    </tr>\n",
              "  </thead>\n",
              "  <tbody>\n",
              "    <tr>\n",
              "      <th>0</th>\n",
              "      <td>NIE</td>\n",
              "      <td>2019</td>\n",
              "      <td>Open</td>\n",
              "      <td>Lobectomy</td>\n",
              "      <td>NO</td>\n",
              "      <td>Adenocarcinoma</td>\n",
              "      <td>I</td>\n",
              "      <td>Early</td>\n",
              "      <td>8.0</td>\n",
              "      <td>7.0</td>\n",
              "      <td>Alive</td>\n",
              "    </tr>\n",
              "    <tr>\n",
              "      <th>1</th>\n",
              "      <td>NIE</td>\n",
              "      <td>2019</td>\n",
              "      <td>VATS</td>\n",
              "      <td>Lobectomy</td>\n",
              "      <td>NO</td>\n",
              "      <td>Squamous cell carcinoma</td>\n",
              "      <td>IV</td>\n",
              "      <td>Advanced</td>\n",
              "      <td>6.0</td>\n",
              "      <td>3.0</td>\n",
              "      <td>Alive</td>\n",
              "    </tr>\n",
              "    <tr>\n",
              "      <th>2</th>\n",
              "      <td>NIE</td>\n",
              "      <td>2019</td>\n",
              "      <td>Open</td>\n",
              "      <td>Lobectomy</td>\n",
              "      <td>NO</td>\n",
              "      <td>Adenocarcinoma</td>\n",
              "      <td>I</td>\n",
              "      <td>Early</td>\n",
              "      <td>8.0</td>\n",
              "      <td>5.0</td>\n",
              "      <td>Alive</td>\n",
              "    </tr>\n",
              "    <tr>\n",
              "      <th>3</th>\n",
              "      <td>NIE</td>\n",
              "      <td>2019</td>\n",
              "      <td>Open</td>\n",
              "      <td>Lobectomy</td>\n",
              "      <td>NO</td>\n",
              "      <td>Squamous cell carcinoma</td>\n",
              "      <td>I</td>\n",
              "      <td>Early</td>\n",
              "      <td>6.0</td>\n",
              "      <td>4.0</td>\n",
              "      <td>Alive</td>\n",
              "    </tr>\n",
              "    <tr>\n",
              "      <th>4</th>\n",
              "      <td>TAK</td>\n",
              "      <td>2019</td>\n",
              "      <td>Open</td>\n",
              "      <td>Lobectomy</td>\n",
              "      <td>NO</td>\n",
              "      <td>Adenocarcinoma</td>\n",
              "      <td>I</td>\n",
              "      <td>Early</td>\n",
              "      <td>5.0</td>\n",
              "      <td>4.0</td>\n",
              "      <td>Alive</td>\n",
              "    </tr>\n",
              "  </tbody>\n",
              "</table>\n",
              "</div>"
            ],
            "text/plain": [
              "          Invasive mediastinal staging  ...  Outcome at discharge\n",
              "unique_ID                               ...                      \n",
              "0                                  NIE  ...                 Alive\n",
              "1                                  NIE  ...                 Alive\n",
              "2                                  NIE  ...                 Alive\n",
              "3                                  NIE  ...                 Alive\n",
              "4                                  TAK  ...                 Alive\n",
              "\n",
              "[5 rows x 11 columns]"
            ]
          },
          "metadata": {},
          "execution_count": 477
        }
      ]
    },
    {
      "cell_type": "markdown",
      "metadata": {
        "id": "R0XXLMzOQGlg"
      },
      "source": [
        "## Checking for outliers and anomalies"
      ]
    },
    {
      "cell_type": "code",
      "metadata": {
        "colab": {
          "base_uri": "https://localhost:8080/"
        },
        "id": "kksdc36K52g8",
        "outputId": "078308d9-2c2a-409c-d2fb-05178dc2eae5"
      },
      "source": [
        "# Checking for anomalies in the Invasive mediastinal staging column\n",
        "df_poland['Invasive mediastinal staging'].unique()\n",
        "# The half of the dataset is in Polish"
      ],
      "execution_count": 478,
      "outputs": [
        {
          "output_type": "execute_result",
          "data": {
            "text/plain": [
              "array(['NIE', 'TAK', 'NO', 'YES'], dtype=object)"
            ]
          },
          "metadata": {},
          "execution_count": 478
        }
      ]
    },
    {
      "cell_type": "code",
      "metadata": {
        "id": "sViEcMxyQl_q"
      },
      "source": [
        "# Function to replace the polish words\n",
        "def replacing(data,col,old,new):\n",
        "  data[col]=data[col].str.replace(old,new)\n",
        "  return data[col].unique()\n"
      ],
      "execution_count": 479,
      "outputs": []
    },
    {
      "cell_type": "code",
      "metadata": {
        "colab": {
          "base_uri": "https://localhost:8080/"
        },
        "id": "23vtDRrJRAIR",
        "outputId": "3b2c8dd0-ec65-48f7-d8ed-ed972bbc3460"
      },
      "source": [
        "# Executing the function on the first column.\n",
        "replacing(df_poland,'Invasive mediastinal staging','NIE','NO')\n",
        "replacing(df_poland,'Invasive mediastinal staging','TAK','YES')"
      ],
      "execution_count": 480,
      "outputs": [
        {
          "output_type": "execute_result",
          "data": {
            "text/plain": [
              "array(['NO', 'YES'], dtype=object)"
            ]
          },
          "metadata": {},
          "execution_count": 480
        }
      ]
    },
    {
      "cell_type": "code",
      "metadata": {
        "colab": {
          "base_uri": "https://localhost:8080/",
          "height": 307
        },
        "id": "Xgq_IX_16E-c",
        "outputId": "a7db7d56-8328-44ef-b57e-249722c0e755"
      },
      "source": [
        "df_poland.head()"
      ],
      "execution_count": 481,
      "outputs": [
        {
          "output_type": "execute_result",
          "data": {
            "text/html": [
              "<div>\n",
              "<style scoped>\n",
              "    .dataframe tbody tr th:only-of-type {\n",
              "        vertical-align: middle;\n",
              "    }\n",
              "\n",
              "    .dataframe tbody tr th {\n",
              "        vertical-align: top;\n",
              "    }\n",
              "\n",
              "    .dataframe thead th {\n",
              "        text-align: right;\n",
              "    }\n",
              "</style>\n",
              "<table border=\"1\" class=\"dataframe\">\n",
              "  <thead>\n",
              "    <tr style=\"text-align: right;\">\n",
              "      <th></th>\n",
              "      <th>Invasive mediastinal staging</th>\n",
              "      <th>Date of surgery</th>\n",
              "      <th>Approach</th>\n",
              "      <th>Type of surgery</th>\n",
              "      <th>Sleeve - bronchial</th>\n",
              "      <th>Histology</th>\n",
              "      <th>Stage</th>\n",
              "      <th>Stage.1</th>\n",
              "      <th>Total hospital stay</th>\n",
              "      <th>Postoperative hospital stay</th>\n",
              "      <th>Outcome at discharge</th>\n",
              "    </tr>\n",
              "    <tr>\n",
              "      <th>unique_ID</th>\n",
              "      <th></th>\n",
              "      <th></th>\n",
              "      <th></th>\n",
              "      <th></th>\n",
              "      <th></th>\n",
              "      <th></th>\n",
              "      <th></th>\n",
              "      <th></th>\n",
              "      <th></th>\n",
              "      <th></th>\n",
              "      <th></th>\n",
              "    </tr>\n",
              "  </thead>\n",
              "  <tbody>\n",
              "    <tr>\n",
              "      <th>0</th>\n",
              "      <td>NO</td>\n",
              "      <td>2019</td>\n",
              "      <td>Open</td>\n",
              "      <td>Lobectomy</td>\n",
              "      <td>NO</td>\n",
              "      <td>Adenocarcinoma</td>\n",
              "      <td>I</td>\n",
              "      <td>Early</td>\n",
              "      <td>8.0</td>\n",
              "      <td>7.0</td>\n",
              "      <td>Alive</td>\n",
              "    </tr>\n",
              "    <tr>\n",
              "      <th>1</th>\n",
              "      <td>NO</td>\n",
              "      <td>2019</td>\n",
              "      <td>VATS</td>\n",
              "      <td>Lobectomy</td>\n",
              "      <td>NO</td>\n",
              "      <td>Squamous cell carcinoma</td>\n",
              "      <td>IV</td>\n",
              "      <td>Advanced</td>\n",
              "      <td>6.0</td>\n",
              "      <td>3.0</td>\n",
              "      <td>Alive</td>\n",
              "    </tr>\n",
              "    <tr>\n",
              "      <th>2</th>\n",
              "      <td>NO</td>\n",
              "      <td>2019</td>\n",
              "      <td>Open</td>\n",
              "      <td>Lobectomy</td>\n",
              "      <td>NO</td>\n",
              "      <td>Adenocarcinoma</td>\n",
              "      <td>I</td>\n",
              "      <td>Early</td>\n",
              "      <td>8.0</td>\n",
              "      <td>5.0</td>\n",
              "      <td>Alive</td>\n",
              "    </tr>\n",
              "    <tr>\n",
              "      <th>3</th>\n",
              "      <td>NO</td>\n",
              "      <td>2019</td>\n",
              "      <td>Open</td>\n",
              "      <td>Lobectomy</td>\n",
              "      <td>NO</td>\n",
              "      <td>Squamous cell carcinoma</td>\n",
              "      <td>I</td>\n",
              "      <td>Early</td>\n",
              "      <td>6.0</td>\n",
              "      <td>4.0</td>\n",
              "      <td>Alive</td>\n",
              "    </tr>\n",
              "    <tr>\n",
              "      <th>4</th>\n",
              "      <td>YES</td>\n",
              "      <td>2019</td>\n",
              "      <td>Open</td>\n",
              "      <td>Lobectomy</td>\n",
              "      <td>NO</td>\n",
              "      <td>Adenocarcinoma</td>\n",
              "      <td>I</td>\n",
              "      <td>Early</td>\n",
              "      <td>5.0</td>\n",
              "      <td>4.0</td>\n",
              "      <td>Alive</td>\n",
              "    </tr>\n",
              "  </tbody>\n",
              "</table>\n",
              "</div>"
            ],
            "text/plain": [
              "          Invasive mediastinal staging  ...  Outcome at discharge\n",
              "unique_ID                               ...                      \n",
              "0                                   NO  ...                 Alive\n",
              "1                                   NO  ...                 Alive\n",
              "2                                   NO  ...                 Alive\n",
              "3                                   NO  ...                 Alive\n",
              "4                                  YES  ...                 Alive\n",
              "\n",
              "[5 rows x 11 columns]"
            ]
          },
          "metadata": {},
          "execution_count": 481
        }
      ]
    },
    {
      "cell_type": "code",
      "metadata": {
        "colab": {
          "base_uri": "https://localhost:8080/"
        },
        "id": "VuuLMwQI7X1R",
        "outputId": "89201de0-3bcf-41a7-bf1c-20e73fbe24bc"
      },
      "source": [
        "# Checking the unique values in the stage column\n",
        "df_poland['Stage'].unique()\n"
      ],
      "execution_count": 482,
      "outputs": [
        {
          "output_type": "execute_result",
          "data": {
            "text/plain": [
              "array(['I', 'IV', 'II', 'III'], dtype=object)"
            ]
          },
          "metadata": {},
          "execution_count": 482
        }
      ]
    },
    {
      "cell_type": "code",
      "metadata": {
        "id": "NsYFSyK_7mnh",
        "colab": {
          "base_uri": "https://localhost:8080/"
        },
        "outputId": "da85eabc-758e-411b-cd12-65c405e879cb"
      },
      "source": [
        "# Replacing the roman numbers with numerical values\n",
        "vals_to_replace = {'I':1, 'IV':4, 'II':2, 'III':3}\n",
        "df_poland['Stage'] = df_poland['Stage'].map(vals_to_replace)\n",
        "\n",
        "# Confirming the operation\n",
        "df_poland['Stage'].unique()"
      ],
      "execution_count": 483,
      "outputs": [
        {
          "output_type": "execute_result",
          "data": {
            "text/plain": [
              "array([1, 4, 2, 3])"
            ]
          },
          "metadata": {},
          "execution_count": 483
        }
      ]
    },
    {
      "cell_type": "markdown",
      "metadata": {
        "id": "ul1LJ4aZ1iih"
      },
      "source": [
        "### Anomalies and Outliers in the continous variables."
      ]
    },
    {
      "cell_type": "code",
      "metadata": {
        "colab": {
          "base_uri": "https://localhost:8080/"
        },
        "id": "gNTjqJwCTGBF",
        "outputId": "a53f008e-1753-4d6b-8d6f-8972559dec41"
      },
      "source": [
        "# Checking the datatypes\n",
        "df_poland.dtypes"
      ],
      "execution_count": 484,
      "outputs": [
        {
          "output_type": "execute_result",
          "data": {
            "text/plain": [
              "Invasive mediastinal staging     object\n",
              "Date of surgery                   int64\n",
              "Approach                         object\n",
              "Type of surgery                  object\n",
              "Sleeve - bronchial               object\n",
              "Histology                        object\n",
              "Stage                             int64\n",
              "Stage.1                          object\n",
              "Total hospital stay             float64\n",
              "Postoperative hospital stay     float64\n",
              "Outcome at discharge             object\n",
              "dtype: object"
            ]
          },
          "metadata": {},
          "execution_count": 484
        }
      ]
    },
    {
      "cell_type": "markdown",
      "metadata": {
        "id": "qCqMLNVYUEax"
      },
      "source": [
        "#### Anomalies in the numerical values"
      ]
    },
    {
      "cell_type": "code",
      "metadata": {
        "colab": {
          "base_uri": "https://localhost:8080/"
        },
        "id": "DnYm6JOj85_p",
        "outputId": "7154fc14-52e7-4b67-bf86-76d9029cc016"
      },
      "source": [
        "# Checking for anomalies in the Postoperative hospital stay \n",
        "df_poland['Postoperative hospital stay'].unique()"
      ],
      "execution_count": 485,
      "outputs": [
        {
          "output_type": "execute_result",
          "data": {
            "text/plain": [
              "array([  7.        ,   3.        ,   5.        ,   4.        ,\n",
              "        12.        , 146.        ,  14.        ,  11.        ,\n",
              "         6.        ,  15.        ,   8.        ,  22.76315789,\n",
              "        18.        ,  43.        ,  13.        ,  30.        ,\n",
              "        19.        ,  25.        ,  10.        ,  32.        ,\n",
              "         2.        ,  16.        ,   9.        ,  22.        ,\n",
              "        28.        ,  54.        ,  23.        ,  41.        ,\n",
              "        20.        ,  29.        ,  21.        ,  76.        ,\n",
              "        27.        ,  17.        ,  36.        ,  47.        ,\n",
              "        70.        ,   1.        ,  85.        ,  34.        ,\n",
              "        62.        ,  33.        ,  42.        ,  24.        ,\n",
              "        44.        ,  48.        ,  40.        ,  35.        ,\n",
              "        31.        ,  26.        ,  50.        ,  46.        ,\n",
              "        37.        ,  53.        ,  45.        , 190.        ,\n",
              "        96.        ,  52.        ,  68.        ,  78.        ,\n",
              "        49.        ,  67.        ,  39.        ,  64.        ,\n",
              "        91.        ,  86.        ,  97.        , 126.        ,\n",
              "        51.        ])"
            ]
          },
          "metadata": {},
          "execution_count": 485
        }
      ]
    },
    {
      "cell_type": "code",
      "metadata": {
        "colab": {
          "base_uri": "https://localhost:8080/"
        },
        "id": "smO28nJMDlE7",
        "outputId": "0dcdf63f-a90e-404e-b83c-4363af33f385"
      },
      "source": [
        "# Checking for anomalies in the Total hospital stay set\n",
        "df_poland['Total hospital stay'].unique()"
      ],
      "execution_count": 486,
      "outputs": [
        {
          "output_type": "execute_result",
          "data": {
            "text/plain": [
              "array([  8.        ,   6.        ,   5.        ,  31.        ,\n",
              "       160.        ,  17.        ,  10.        ,  26.        ,\n",
              "         4.        ,   7.        ,  11.        ,  26.01298701,\n",
              "        21.        ,  22.        ,  12.        ,  14.        ,\n",
              "        13.        ,  18.        ,  76.        ,  20.        ,\n",
              "         9.        ,  48.        ,  35.        ,  29.        ,\n",
              "        42.        ,   3.        ,  19.        ,  27.        ,\n",
              "        15.        ,  23.        ,  32.        ,  40.        ,\n",
              "        64.        ,  43.        , 103.        ,  28.        ,\n",
              "        30.        ,  16.        ,  88.        ,  37.        ,\n",
              "        77.        ,  25.        ,  24.        ,  34.        ,\n",
              "        57.        ,  50.        ,  67.        ,  91.        ,\n",
              "       102.        ,  49.        ,  63.        ,  39.        ,\n",
              "        46.        ,  36.        ,  75.        ,  51.        ,\n",
              "        33.        , 116.        ,  56.        ,  47.        ,\n",
              "        61.        ,  38.        ,  54.        ,  93.        ,\n",
              "       190.        ,  97.        ,  44.        ,  45.        ,\n",
              "        58.        ,   2.        , 177.        ,  41.        ,\n",
              "        78.        , 195.        ,  68.        ,  53.        ,\n",
              "        62.        ,  79.        ,  74.        ,  52.        ,\n",
              "        59.        , 162.        ,  89.        , 181.        ,\n",
              "       175.        ,  81.        ,  82.        ,  98.        ,\n",
              "       150.        ,  71.        ,  94.        , 128.        ])"
            ]
          },
          "metadata": {},
          "execution_count": 486
        }
      ]
    },
    {
      "cell_type": "markdown",
      "metadata": {
        "id": "-yjPORrOUhKG"
      },
      "source": [
        "#### There were anomalies in both columns in that the days were expressed in decimal form which is an anomally."
      ]
    },
    {
      "cell_type": "code",
      "metadata": {
        "id": "gc-Yj1wjU7o0"
      },
      "source": [
        "# A function to round off values in both columns to remove the decimals\n",
        "def rounding(data,col):\n",
        "  data[col]=data[col].apply(np.ceil)\n",
        "  return data[col].unique()"
      ],
      "execution_count": 487,
      "outputs": []
    },
    {
      "cell_type": "code",
      "metadata": {
        "colab": {
          "base_uri": "https://localhost:8080/"
        },
        "id": "kTwOLcmnVvrH",
        "outputId": "4042c864-e2af-4439-f766-dda84b41dfcf"
      },
      "source": [
        "# Rounding the values\n",
        "rounding(df_poland,'Total hospital stay')"
      ],
      "execution_count": 488,
      "outputs": [
        {
          "output_type": "execute_result",
          "data": {
            "text/plain": [
              "array([  8.,   6.,   5.,  31., 160.,  17.,  10.,  26.,   4.,   7.,  11.,\n",
              "        27.,  21.,  22.,  12.,  14.,  13.,  18.,  76.,  20.,   9.,  48.,\n",
              "        35.,  29.,  42.,   3.,  19.,  15.,  23.,  32.,  40.,  64.,  43.,\n",
              "       103.,  28.,  30.,  16.,  88.,  37.,  77.,  25.,  24.,  34.,  57.,\n",
              "        50.,  67.,  91., 102.,  49.,  63.,  39.,  46.,  36.,  75.,  51.,\n",
              "        33., 116.,  56.,  47.,  61.,  38.,  54.,  93., 190.,  97.,  44.,\n",
              "        45.,  58.,   2., 177.,  41.,  78., 195.,  68.,  53.,  62.,  79.,\n",
              "        74.,  52.,  59., 162.,  89., 181., 175.,  81.,  82.,  98., 150.,\n",
              "        71.,  94., 128.])"
            ]
          },
          "metadata": {},
          "execution_count": 488
        }
      ]
    },
    {
      "cell_type": "code",
      "metadata": {
        "colab": {
          "base_uri": "https://localhost:8080/"
        },
        "id": "8wX2kwZBWLfs",
        "outputId": "c7db31a4-9731-4f9e-a1b4-ea8bebf28865"
      },
      "source": [
        "# Rounding the values in the post operative hospital stay columns\n",
        "rounding(df_poland,'Postoperative hospital stay')"
      ],
      "execution_count": 489,
      "outputs": [
        {
          "output_type": "execute_result",
          "data": {
            "text/plain": [
              "array([  7.,   3.,   5.,   4.,  12., 146.,  14.,  11.,   6.,  15.,   8.,\n",
              "        23.,  18.,  43.,  13.,  30.,  19.,  25.,  10.,  32.,   2.,  16.,\n",
              "         9.,  22.,  28.,  54.,  41.,  20.,  29.,  21.,  76.,  27.,  17.,\n",
              "        36.,  47.,  70.,   1.,  85.,  34.,  62.,  33.,  42.,  24.,  44.,\n",
              "        48.,  40.,  35.,  31.,  26.,  50.,  46.,  37.,  53.,  45., 190.,\n",
              "        96.,  52.,  68.,  78.,  49.,  67.,  39.,  64.,  91.,  86.,  97.,\n",
              "       126.,  51.])"
            ]
          },
          "metadata": {},
          "execution_count": 489
        }
      ]
    },
    {
      "cell_type": "code",
      "metadata": {
        "id": "3BhjJcAdN0X3",
        "colab": {
          "base_uri": "https://localhost:8080/"
        },
        "outputId": "e13f55e5-d520-4014-b4d0-452753a99339"
      },
      "source": [
        "# Checking for numerical values in the dataset\n",
        "numerical_cols = [col for col in df_poland if df_poland[col].dtypes !='O']\n",
        "numerical_cols"
      ],
      "execution_count": 490,
      "outputs": [
        {
          "output_type": "execute_result",
          "data": {
            "text/plain": [
              "['Date of surgery',\n",
              " 'Stage',\n",
              " 'Total hospital stay',\n",
              " 'Postoperative hospital stay']"
            ]
          },
          "metadata": {},
          "execution_count": 490
        }
      ]
    },
    {
      "cell_type": "markdown",
      "metadata": {
        "id": "MWQ9eqc3W_cg"
      },
      "source": [
        "### Outliers in numerical variables"
      ]
    },
    {
      "cell_type": "code",
      "metadata": {
        "colab": {
          "base_uri": "https://localhost:8080/",
          "height": 519
        },
        "id": "cSuJuTeRAWbX",
        "outputId": "9c78169d-b91a-4419-d9dc-74c844b91918"
      },
      "source": [
        "# Boxplot of the Postoperative Hospital \n",
        "plt.figure(figsize=(10,8))\n",
        "plt.title('Postoperative hospital stay',fontsize=15)\n",
        "sns.boxplot(x=df_poland['Postoperative hospital stay'])\n",
        "plt.xlabel('Number of Days',fontsize=14)\n",
        "plt.show()"
      ],
      "execution_count": 491,
      "outputs": [
        {
          "output_type": "display_data",
          "data": {
            "image/png": "[encoded data removed]",
            "text/plain": [
              "<Figure size 720x576 with 1 Axes>"
            ]
          },
          "metadata": {
            "needs_background": "light"
          }
        }
      ]
    },
    {
      "cell_type": "code",
      "metadata": {
        "colab": {
          "base_uri": "https://localhost:8080/",
          "height": 519
        },
        "id": "vSO-ce84BKhB",
        "outputId": "2f1a9302-3de4-4bac-dae3-ce2bf0e3792a"
      },
      "source": [
        "# Boxplot of the Total hospital stay \n",
        "plt.figure(figsize=(10,8))\n",
        "plt.title('Total hospital stay',fontsize=15)\n",
        "sns.boxplot(x=df_poland['Total hospital stay'])\n",
        "plt.xlabel(\"Number of Days\",fontsize=14)\n",
        "plt.show()"
      ],
      "execution_count": 492,
      "outputs": [
        {
          "output_type": "display_data",
          "data": {
            "image/png": "[encoded data removed]",
            "text/plain": [
              "<Figure size 720x576 with 1 Axes>"
            ]
          },
          "metadata": {
            "needs_background": "light"
          }
        }
      ]
    },
    {
      "cell_type": "code",
      "metadata": {
        "colab": {
          "base_uri": "https://localhost:8080/"
        },
        "id": "aRVfup3Me470",
        "outputId": "406c85b0-bf42-4943-abc0-8bc913166b2b"
      },
      "source": [
        "df_poland['Type of surgery'].unique()"
      ],
      "execution_count": 493,
      "outputs": [
        {
          "output_type": "execute_result",
          "data": {
            "text/plain": [
              "array(['Lobectomy', 'Pneumonectomy', 'Bilobectomy', 'Wedge resection',\n",
              "       'Segmentectomy', 'Wyci?cie mankietu oskrzela'], dtype=object)"
            ]
          },
          "metadata": {},
          "execution_count": 493
        }
      ]
    },
    {
      "cell_type": "code",
      "metadata": {
        "colab": {
          "base_uri": "https://localhost:8080/"
        },
        "id": "mIeOkIavffPT",
        "outputId": "f6b5a49e-2e1c-4128-9c83-2194b823708d"
      },
      "source": [
        "df_poland['Type of surgery'].value_counts()"
      ],
      "execution_count": 494,
      "outputs": [
        {
          "output_type": "execute_result",
          "data": {
            "text/plain": [
              "Lobectomy                     5455\n",
              "Segmentectomy                  590\n",
              "Pneumonectomy                  451\n",
              "Bilobectomy                    348\n",
              "Wedge resection                340\n",
              "Wyci?cie mankietu oskrzela      15\n",
              "Name: Type of surgery, dtype: int64"
            ]
          },
          "metadata": {},
          "execution_count": 494
        }
      ]
    },
    {
      "cell_type": "code",
      "metadata": {
        "colab": {
          "base_uri": "https://localhost:8080/"
        },
        "id": "yP9_JuI_hpGr",
        "outputId": "176cec8c-b6ef-4cb4-9db0-c2bbac20f0a3"
      },
      "source": [
        "replacing(df_poland,'Type of surgery','Wyci?cie mankietu oskrzela','Broncial cuff excision')# Remember to replace"
      ],
      "execution_count": 495,
      "outputs": [
        {
          "output_type": "execute_result",
          "data": {
            "text/plain": [
              "array(['Lobectomy', 'Pneumonectomy', 'Bilobectomy', 'Wedge resection',\n",
              "       'Segmentectomy', 'Wyci?cie mankietu oskrzela'], dtype=object)"
            ]
          },
          "metadata": {},
          "execution_count": 495
        }
      ]
    },
    {
      "cell_type": "code",
      "metadata": {
        "id": "0wXhOIQfT7YC"
      },
      "source": [
        "# Exporting to CSV\n",
        "df_poland.to_csv(\"Clean dataset.csv\",index=False)"
      ],
      "execution_count": 496,
      "outputs": []
    },
    {
      "cell_type": "markdown",
      "metadata": {
        "id": "D3RjGq2wX6eK"
      },
      "source": [
        "## Exploratory Data Analysis"
      ]
    },
    {
      "cell_type": "markdown",
      "metadata": {
        "id": "SvtKcWLSYHOV"
      },
      "source": [
        "1. Univariate Analysis"
      ]
    },
    {
      "cell_type": "code",
      "metadata": {
        "colab": {
          "base_uri": "https://localhost:8080/",
          "height": 307
        },
        "id": "RvpG-vDlXTGY",
        "outputId": "91250604-4b0c-4d73-a23f-32ebf21104f1"
      },
      "source": [
        "df_poland.head()"
      ],
      "execution_count": 497,
      "outputs": [
        {
          "output_type": "execute_result",
          "data": {
            "text/html": [
              "<div>\n",
              "<style scoped>\n",
              "    .dataframe tbody tr th:only-of-type {\n",
              "        vertical-align: middle;\n",
              "    }\n",
              "\n",
              "    .dataframe tbody tr th {\n",
              "        vertical-align: top;\n",
              "    }\n",
              "\n",
              "    .dataframe thead th {\n",
              "        text-align: right;\n",
              "    }\n",
              "</style>\n",
              "<table border=\"1\" class=\"dataframe\">\n",
              "  <thead>\n",
              "    <tr style=\"text-align: right;\">\n",
              "      <th></th>\n",
              "      <th>Invasive mediastinal staging</th>\n",
              "      <th>Date of surgery</th>\n",
              "      <th>Approach</th>\n",
              "      <th>Type of surgery</th>\n",
              "      <th>Sleeve - bronchial</th>\n",
              "      <th>Histology</th>\n",
              "      <th>Stage</th>\n",
              "      <th>Stage.1</th>\n",
              "      <th>Total hospital stay</th>\n",
              "      <th>Postoperative hospital stay</th>\n",
              "      <th>Outcome at discharge</th>\n",
              "    </tr>\n",
              "    <tr>\n",
              "      <th>unique_ID</th>\n",
              "      <th></th>\n",
              "      <th></th>\n",
              "      <th></th>\n",
              "      <th></th>\n",
              "      <th></th>\n",
              "      <th></th>\n",
              "      <th></th>\n",
              "      <th></th>\n",
              "      <th></th>\n",
              "      <th></th>\n",
              "      <th></th>\n",
              "    </tr>\n",
              "  </thead>\n",
              "  <tbody>\n",
              "    <tr>\n",
              "      <th>0</th>\n",
              "      <td>NO</td>\n",
              "      <td>2019</td>\n",
              "      <td>Open</td>\n",
              "      <td>Lobectomy</td>\n",
              "      <td>NO</td>\n",
              "      <td>Adenocarcinoma</td>\n",
              "      <td>1</td>\n",
              "      <td>Early</td>\n",
              "      <td>8.0</td>\n",
              "      <td>7.0</td>\n",
              "      <td>Alive</td>\n",
              "    </tr>\n",
              "    <tr>\n",
              "      <th>1</th>\n",
              "      <td>NO</td>\n",
              "      <td>2019</td>\n",
              "      <td>VATS</td>\n",
              "      <td>Lobectomy</td>\n",
              "      <td>NO</td>\n",
              "      <td>Squamous cell carcinoma</td>\n",
              "      <td>4</td>\n",
              "      <td>Advanced</td>\n",
              "      <td>6.0</td>\n",
              "      <td>3.0</td>\n",
              "      <td>Alive</td>\n",
              "    </tr>\n",
              "    <tr>\n",
              "      <th>2</th>\n",
              "      <td>NO</td>\n",
              "      <td>2019</td>\n",
              "      <td>Open</td>\n",
              "      <td>Lobectomy</td>\n",
              "      <td>NO</td>\n",
              "      <td>Adenocarcinoma</td>\n",
              "      <td>1</td>\n",
              "      <td>Early</td>\n",
              "      <td>8.0</td>\n",
              "      <td>5.0</td>\n",
              "      <td>Alive</td>\n",
              "    </tr>\n",
              "    <tr>\n",
              "      <th>3</th>\n",
              "      <td>NO</td>\n",
              "      <td>2019</td>\n",
              "      <td>Open</td>\n",
              "      <td>Lobectomy</td>\n",
              "      <td>NO</td>\n",
              "      <td>Squamous cell carcinoma</td>\n",
              "      <td>1</td>\n",
              "      <td>Early</td>\n",
              "      <td>6.0</td>\n",
              "      <td>4.0</td>\n",
              "      <td>Alive</td>\n",
              "    </tr>\n",
              "    <tr>\n",
              "      <th>4</th>\n",
              "      <td>YES</td>\n",
              "      <td>2019</td>\n",
              "      <td>Open</td>\n",
              "      <td>Lobectomy</td>\n",
              "      <td>NO</td>\n",
              "      <td>Adenocarcinoma</td>\n",
              "      <td>1</td>\n",
              "      <td>Early</td>\n",
              "      <td>5.0</td>\n",
              "      <td>4.0</td>\n",
              "      <td>Alive</td>\n",
              "    </tr>\n",
              "  </tbody>\n",
              "</table>\n",
              "</div>"
            ],
            "text/plain": [
              "          Invasive mediastinal staging  ...  Outcome at discharge\n",
              "unique_ID                               ...                      \n",
              "0                                   NO  ...                 Alive\n",
              "1                                   NO  ...                 Alive\n",
              "2                                   NO  ...                 Alive\n",
              "3                                   NO  ...                 Alive\n",
              "4                                  YES  ...                 Alive\n",
              "\n",
              "[5 rows x 11 columns]"
            ]
          },
          "metadata": {},
          "execution_count": 497
        }
      ]
    },
    {
      "cell_type": "code",
      "metadata": {
        "colab": {
          "base_uri": "https://localhost:8080/"
        },
        "id": "MTjwLK31aOd7",
        "outputId": "354ed9bd-c7ca-4cde-e0fd-525eb22f01d9"
      },
      "source": [
        "objects= [cols for cols in df_poland if df_poland[cols].dtypes=='O']\n",
        "objects"
      ],
      "execution_count": 498,
      "outputs": [
        {
          "output_type": "execute_result",
          "data": {
            "text/plain": [
              "['Invasive mediastinal staging',\n",
              " 'Approach',\n",
              " 'Type of surgery',\n",
              " 'Sleeve - bronchial',\n",
              " 'Histology',\n",
              " 'Stage.1',\n",
              " 'Outcome at discharge']"
            ]
          },
          "metadata": {},
          "execution_count": 498
        }
      ]
    },
    {
      "cell_type": "markdown",
      "metadata": {
        "id": "LKjs879tcs9d"
      },
      "source": [
        "#### The number of patients that underwent invasive medistinal staging were more than those that didnt."
      ]
    },
    {
      "cell_type": "code",
      "metadata": {
        "colab": {
          "base_uri": "https://localhost:8080/",
          "height": 1000
        },
        "id": "D6P8iUtXc7VH",
        "outputId": "7838621c-1d9f-484b-eba2-994c510af864"
      },
      "source": [
        "fig,ax=plt.subplots(len(objects),figsize=(19,40))\n",
        "for i, col_vals in enumerate(objects):\n",
        "  sns.countplot(x=df_poland[col_vals],ax=ax[i])\n",
        "  ax[i].set_title(\"Countplot of \"+format(col_vals),fontsize=15)\n",
        "plt.show()"
      ],
      "execution_count": 499,
      "outputs": [
        {
          "output_type": "display_data",
          "data": {
            "image/png": "[encoded data removed]",
            "text/plain": [
              "<Figure size 1368x2880 with 7 Axes>"
            ]
          },
          "metadata": {
            "needs_background": "light"
          }
        }
      ]
    },
    {
      "cell_type": "code",
      "metadata": {
        "colab": {
          "base_uri": "https://localhost:8080/",
          "height": 515
        },
        "id": "TA8HCqi1q67J",
        "outputId": "17b1c8a4-de91-4479-ec37-a644a6e12d44"
      },
      "source": [
        "plt.figure(figsize=(10,8))\n",
        "sns.countplot(x=df_poland['Date of surgery'])\n",
        "plt.title(\"Count plot of the number of years\",fontsize=15)\n",
        "plt.show()"
      ],
      "execution_count": 500,
      "outputs": [
        {
          "output_type": "display_data",
          "data": {
            "image/png": "[encoded data removed]",
            "text/plain": [
              "<Figure size 720x576 with 1 Axes>"
            ]
          },
          "metadata": {
            "needs_background": "light"
          }
        }
      ]
    },
    {
      "cell_type": "code",
      "metadata": {
        "colab": {
          "base_uri": "https://localhost:8080/",
          "height": 515
        },
        "id": "j2iyj4Vlrfrd",
        "outputId": "a427df5b-dd68-4e47-aee6-6dc726d7ea17"
      },
      "source": [
        "plt.figure(figsize=(10,8))\n",
        "sns.countplot(x=df_poland['Stage'])\n",
        "plt.title(\"Count plot of Cancer stages\",fontsize=15)\n",
        "plt.show()"
      ],
      "execution_count": 501,
      "outputs": [
        {
          "output_type": "display_data",
          "data": {
            "image/png": "[encoded data removed]",
            "text/plain": [
              "<Figure size 720x576 with 1 Axes>"
            ]
          },
          "metadata": {
            "needs_background": "light"
          }
        }
      ]
    },
    {
      "cell_type": "markdown",
      "metadata": {
        "id": "VNGoV0--oiVD"
      },
      "source": [
        "*  Fewer patients underwent invasive medialstinal staging as compared to those that underwent.\n",
        "*  Open surgery was done frequently as compared to the Video-assisted thoracoscopic surgery\n",
        "* The leading count of surgery types was lobectomy followed closely by segmentectomy. This could be attributed to the simplicity in the  prpceedures.\n",
        "* A lot of patients presented with Adenocarcinoma as compared to other types of cancers.\n",
        "* Patients at early stages were found in the observations as compared to those at advanced stages.\n",
        "* Alive patients were more than dead patients."
      ]
    },
    {
      "cell_type": "markdown",
      "metadata": {
        "id": "nZXy5vtRqrAn"
      },
      "source": [
        "### Continous Variables"
      ]
    },
    {
      "cell_type": "code",
      "metadata": {
        "colab": {
          "base_uri": "https://localhost:8080/",
          "height": 698
        },
        "id": "CIUfJV8EZGt-",
        "outputId": "2447f88d-f258-403a-8390-cf2bb89a69f1"
      },
      "source": [
        "num_cols=['Total hospital stay','Postoperative hospital stay']\n",
        "fig,ax=plt.subplots(len(num_cols),figsize=(10,10))\n",
        "for i, col_vals in enumerate(num_cols):\n",
        "  sns.distplot(x=df_poland[col_vals],ax=ax[i],kde=True)\n",
        "  ax[i].set_title(\"Distribution of \"+format(col_vals),fontsize=15)\n",
        "plt.show()"
      ],
      "execution_count": 502,
      "outputs": [
        {
          "output_type": "stream",
          "name": "stderr",
          "text": [
            "/usr/local/lib/python3.7/dist-packages/seaborn/distributions.py:2619: FutureWarning: `distplot` is a deprecated function and will be removed in a future version. Please adapt your code to use either `displot` (a figure-level function with similar flexibility) or `histplot` (an axes-level function for histograms).\n",
            "  warnings.warn(msg, FutureWarning)\n",
            "/usr/local/lib/python3.7/dist-packages/seaborn/distributions.py:2619: FutureWarning: `distplot` is a deprecated function and will be removed in a future version. Please adapt your code to use either `displot` (a figure-level function with similar flexibility) or `histplot` (an axes-level function for histograms).\n",
            "  warnings.warn(msg, FutureWarning)\n"
          ]
        },
        {
          "output_type": "display_data",
          "data": {
            "image/png": "[encoded data removed]",
            "text/plain": [
              "<Figure size 720x720 with 2 Axes>"
            ]
          },
          "metadata": {
            "needs_background": "light"
          }
        }
      ]
    },
    {
      "cell_type": "markdown",
      "metadata": {
        "id": "HzRgRIJkoCv9"
      },
      "source": [
        "From the distribution plot we get to see that most people did not spend time in the hospital as our distribution is skewed positively . However , some outliers are seen to be at the 3rd quantile where some patients spent more than 200 days in the hospital."
      ]
    },
    {
      "cell_type": "markdown",
      "metadata": {
        "id": "gYjHwelYqeqe"
      },
      "source": [
        "## Bivariate Analysis."
      ]
    },
    {
      "cell_type": "markdown",
      "metadata": {
        "id": "HMQ0HbThqjPV"
      },
      "source": [
        "### This is meant to help us understand the relationships within our dataset."
      ]
    },
    {
      "cell_type": "code",
      "metadata": {
        "colab": {
          "base_uri": "https://localhost:8080/",
          "height": 307
        },
        "id": "uxC6oWJFoAtC",
        "outputId": "5fdb0052-6c13-4ad5-9806-581ed71c1bbc"
      },
      "source": [
        "df_poland.head()"
      ],
      "execution_count": 503,
      "outputs": [
        {
          "output_type": "execute_result",
          "data": {
            "text/html": [
              "<div>\n",
              "<style scoped>\n",
              "    .dataframe tbody tr th:only-of-type {\n",
              "        vertical-align: middle;\n",
              "    }\n",
              "\n",
              "    .dataframe tbody tr th {\n",
              "        vertical-align: top;\n",
              "    }\n",
              "\n",
              "    .dataframe thead th {\n",
              "        text-align: right;\n",
              "    }\n",
              "</style>\n",
              "<table border=\"1\" class=\"dataframe\">\n",
              "  <thead>\n",
              "    <tr style=\"text-align: right;\">\n",
              "      <th></th>\n",
              "      <th>Invasive mediastinal staging</th>\n",
              "      <th>Date of surgery</th>\n",
              "      <th>Approach</th>\n",
              "      <th>Type of surgery</th>\n",
              "      <th>Sleeve - bronchial</th>\n",
              "      <th>Histology</th>\n",
              "      <th>Stage</th>\n",
              "      <th>Stage.1</th>\n",
              "      <th>Total hospital stay</th>\n",
              "      <th>Postoperative hospital stay</th>\n",
              "      <th>Outcome at discharge</th>\n",
              "    </tr>\n",
              "    <tr>\n",
              "      <th>unique_ID</th>\n",
              "      <th></th>\n",
              "      <th></th>\n",
              "      <th></th>\n",
              "      <th></th>\n",
              "      <th></th>\n",
              "      <th></th>\n",
              "      <th></th>\n",
              "      <th></th>\n",
              "      <th></th>\n",
              "      <th></th>\n",
              "      <th></th>\n",
              "    </tr>\n",
              "  </thead>\n",
              "  <tbody>\n",
              "    <tr>\n",
              "      <th>0</th>\n",
              "      <td>NO</td>\n",
              "      <td>2019</td>\n",
              "      <td>Open</td>\n",
              "      <td>Lobectomy</td>\n",
              "      <td>NO</td>\n",
              "      <td>Adenocarcinoma</td>\n",
              "      <td>1</td>\n",
              "      <td>Early</td>\n",
              "      <td>8.0</td>\n",
              "      <td>7.0</td>\n",
              "      <td>Alive</td>\n",
              "    </tr>\n",
              "    <tr>\n",
              "      <th>1</th>\n",
              "      <td>NO</td>\n",
              "      <td>2019</td>\n",
              "      <td>VATS</td>\n",
              "      <td>Lobectomy</td>\n",
              "      <td>NO</td>\n",
              "      <td>Squamous cell carcinoma</td>\n",
              "      <td>4</td>\n",
              "      <td>Advanced</td>\n",
              "      <td>6.0</td>\n",
              "      <td>3.0</td>\n",
              "      <td>Alive</td>\n",
              "    </tr>\n",
              "    <tr>\n",
              "      <th>2</th>\n",
              "      <td>NO</td>\n",
              "      <td>2019</td>\n",
              "      <td>Open</td>\n",
              "      <td>Lobectomy</td>\n",
              "      <td>NO</td>\n",
              "      <td>Adenocarcinoma</td>\n",
              "      <td>1</td>\n",
              "      <td>Early</td>\n",
              "      <td>8.0</td>\n",
              "      <td>5.0</td>\n",
              "      <td>Alive</td>\n",
              "    </tr>\n",
              "    <tr>\n",
              "      <th>3</th>\n",
              "      <td>NO</td>\n",
              "      <td>2019</td>\n",
              "      <td>Open</td>\n",
              "      <td>Lobectomy</td>\n",
              "      <td>NO</td>\n",
              "      <td>Squamous cell carcinoma</td>\n",
              "      <td>1</td>\n",
              "      <td>Early</td>\n",
              "      <td>6.0</td>\n",
              "      <td>4.0</td>\n",
              "      <td>Alive</td>\n",
              "    </tr>\n",
              "    <tr>\n",
              "      <th>4</th>\n",
              "      <td>YES</td>\n",
              "      <td>2019</td>\n",
              "      <td>Open</td>\n",
              "      <td>Lobectomy</td>\n",
              "      <td>NO</td>\n",
              "      <td>Adenocarcinoma</td>\n",
              "      <td>1</td>\n",
              "      <td>Early</td>\n",
              "      <td>5.0</td>\n",
              "      <td>4.0</td>\n",
              "      <td>Alive</td>\n",
              "    </tr>\n",
              "  </tbody>\n",
              "</table>\n",
              "</div>"
            ],
            "text/plain": [
              "          Invasive mediastinal staging  ...  Outcome at discharge\n",
              "unique_ID                               ...                      \n",
              "0                                   NO  ...                 Alive\n",
              "1                                   NO  ...                 Alive\n",
              "2                                   NO  ...                 Alive\n",
              "3                                   NO  ...                 Alive\n",
              "4                                  YES  ...                 Alive\n",
              "\n",
              "[5 rows x 11 columns]"
            ]
          },
          "metadata": {},
          "execution_count": 503
        }
      ]
    },
    {
      "cell_type": "markdown",
      "metadata": {
        "id": "GOqa0lJGxDpr"
      },
      "source": [
        "# Research Questions\n",
        "####  * What was the reliability of open surgery as compare to Video assisted surgery considering the post discharge Outcome?\n"
      ]
    },
    {
      "cell_type": "code",
      "metadata": {
        "colab": {
          "base_uri": "https://localhost:8080/",
          "height": 515
        },
        "id": "KTfhs_saZQKw",
        "outputId": "f6458391-728a-4529-f196-0a9ec4e5fb64"
      },
      "source": [
        "# Assesing the relationship between The suregery approach to the discharge outcome\n",
        "plt.figure(figsize=(10,8))\n",
        "sns.countplot(x='Approach',hue='Outcome at discharge',data=df_poland)\n",
        "plt.title(\"Count plot to compare Approach and Outcome\",fontsize=15)\n",
        "plt.show()"
      ],
      "execution_count": 504,
      "outputs": [
        {
          "output_type": "display_data",
          "data": {
            "image/png": "[encoded data removed]",
            "text/plain": [
              "<Figure size 720x576 with 1 Axes>"
            ]
          },
          "metadata": {
            "needs_background": "light"
          }
        }
      ]
    },
    {
      "cell_type": "markdown",
      "metadata": {
        "id": "OBLDiBugxkVx"
      },
      "source": [
        "#### * Patients who underwent open surgeries had a higher death count as compared to patients that underwent Video assisted thoracoscopic surgery."
      ]
    },
    {
      "cell_type": "markdown",
      "metadata": {
        "id": "JtcgGTOMZTf0"
      },
      "source": [
        "## What is the effectiveness of invasive mediastinal staging considering the patient's outcome after discharge?"
      ]
    },
    {
      "cell_type": "code",
      "metadata": {
        "colab": {
          "base_uri": "https://localhost:8080/",
          "height": 515
        },
        "id": "VwIa1YxeudmO",
        "outputId": "62e9e7a6-da5d-401b-c811-480da02a4cd3"
      },
      "source": [
        "# Asessing the relationship between patients that underwent invasive mediastinal staging and its outcome\n",
        "plt.figure(figsize=(10,8))\n",
        "sns.countplot(x='Invasive mediastinal staging',hue='Outcome at discharge',data=df_poland)\n",
        "plt.title(\"Count plot to compare Invasive mediastinal staging and Outcome\",fontsize=15)\n",
        "plt.show() "
      ],
      "execution_count": 505,
      "outputs": [
        {
          "output_type": "display_data",
          "data": {
            "image/png": "[encoded data removed]",
            "text/plain": [
              "<Figure size 720x576 with 1 Axes>"
            ]
          },
          "metadata": {
            "needs_background": "light"
          }
        }
      ]
    },
    {
      "cell_type": "markdown",
      "metadata": {
        "id": "RQpgWbOADu_k"
      },
      "source": [
        "* As much as there are a greater number of people who were alive after discharge,the people who didnt undergo the Invasive mediastinal staging had a higher death count as compared to those who underwent. "
      ]
    },
    {
      "cell_type": "code",
      "metadata": {
        "colab": {
          "base_uri": "https://localhost:8080/",
          "height": 515
        },
        "id": "rRkxKEoOu0NS",
        "outputId": "459a4942-eb00-45f8-f204-b031b4c87b08"
      },
      "source": [
        "# A plot of the relationship between Date of surgery and Outcome\n",
        "plt.figure(figsize=(10,8))\n",
        "sns.countplot(x='Date of surgery',hue='Outcome at discharge',data=df_poland)\n",
        "plt.title(\"Count plot to Date of surgery and Outcome\",fontsize=15)\n",
        "plt.show()"
      ],
      "execution_count": 506,
      "outputs": [
        {
          "output_type": "display_data",
          "data": {
            "image/png": "[encoded data removed]",
            "text/plain": [
              "<Figure size 720x576 with 1 Axes>"
            ]
          },
          "metadata": {
            "needs_background": "light"
          }
        }
      ]
    },
    {
      "cell_type": "code",
      "metadata": {
        "colab": {
          "base_uri": "https://localhost:8080/",
          "height": 623
        },
        "id": "E8K-VwRfvEnd",
        "outputId": "f5557635-5642-4a74-ac99-edef1016f615"
      },
      "source": [
        "# A plot to assess the relationship between Broncial resection and Outcome\n",
        "plt.figure(figsize=(10,10))\n",
        "sns.countplot(x='Sleeve - bronchial',hue='Outcome at discharge',data=df_poland)\n",
        "plt.title(\"Count plot to see the relationship between Broncial resection and Outcome\",fontsize=15)\n",
        "plt.show()"
      ],
      "execution_count": 507,
      "outputs": [
        {
          "output_type": "display_data",
          "data": {
            "image/png": "[encoded data removed]",
            "text/plain": [
              "<Figure size 720x720 with 1 Axes>"
            ]
          },
          "metadata": {
            "needs_background": "light"
          }
        }
      ]
    },
    {
      "cell_type": "markdown",
      "source": [
        ""
      ],
      "metadata": {
        "id": "XBihR2v2Dsxd"
      }
    },
    {
      "cell_type": "code",
      "metadata": {
        "colab": {
          "base_uri": "https://localhost:8080/",
          "height": 623
        },
        "id": "D9IAspvCEnBR",
        "outputId": "78b261bb-6911-4d96-dd67-e13a5f80bd2e"
      },
      "source": [
        "plt.figure(figsize=(10,10))\n",
        "sns.barplot(x='Approach',y='Total hospital stay',data=df_poland)\n",
        "plt.title(\"Relationship relationship between Surgical approach and Total hospital stay\",fontsize=15)\n",
        "plt.show()"
      ],
      "execution_count": 508,
      "outputs": [
        {
          "output_type": "display_data",
          "data": {
            "image/png": "[encoded data removed]",
            "text/plain": [
              "<Figure size 720x720 with 1 Axes>"
            ]
          },
          "metadata": {
            "needs_background": "light"
          }
        }
      ]
    },
    {
      "cell_type": "code",
      "metadata": {
        "colab": {
          "base_uri": "https://localhost:8080/",
          "height": 827
        },
        "id": "YHgFrdzhF6wD",
        "outputId": "a8daeed1-ad08-4172-f1ce-6bcc301babae"
      },
      "source": [
        "plt.figure(figsize=(10,12))\n",
        "sns.barplot(x='Type of surgery',y='Total hospital stay',data=df_poland)\n",
        "plt.title(\"Relationship relationship between Type of surgery and Total hospital stay\",fontsize=15)\n",
        "plt.xticks (rotation=45)\n",
        "plt.show()"
      ],
      "execution_count": 509,
      "outputs": [
        {
          "output_type": "display_data",
          "data": {
            "image/png": "[encoded data removed]",
            "text/plain": [
              "<Figure size 720x864 with 1 Axes>"
            ]
          },
          "metadata": {
            "needs_background": "light"
          }
        }
      ]
    },
    {
      "cell_type": "code",
      "metadata": {
        "colab": {
          "base_uri": "https://localhost:8080/",
          "height": 623
        },
        "id": "zbuSXkgiGwpg",
        "outputId": "01244633-1119-42aa-c339-c76647255c4e"
      },
      "source": [
        "plt.figure(figsize=(10,10))\n",
        "sns.barplot(x='Outcome at discharge',y='Total hospital stay',data=df_poland)\n",
        "plt.title(\"Relationship relationship between Outcome at discharge and Total hospital stay\",fontsize=15)\n",
        "plt.show()"
      ],
      "execution_count": 510,
      "outputs": [
        {
          "output_type": "display_data",
          "data": {
            "image/png": "[encoded data removed]",
            "text/plain": [
              "<Figure size 720x720 with 1 Axes>"
            ]
          },
          "metadata": {
            "needs_background": "light"
          }
        }
      ]
    },
    {
      "cell_type": "code",
      "metadata": {
        "colab": {
          "base_uri": "https://localhost:8080/",
          "height": 623
        },
        "id": "ApIi9j33HhGf",
        "outputId": "40a6cd1e-bc21-4aae-b3cf-0e75f6f6c219"
      },
      "source": [
        "plt.figure(figsize=(10,10))\n",
        "sns.barplot(x='Stage',y='Total hospital stay',data=df_poland)\n",
        "plt.title(\"Relationship relationship between Cancer stages and Total hospital stay\",fontsize=15)\n",
        "plt.show()"
      ],
      "execution_count": 511,
      "outputs": [
        {
          "output_type": "display_data",
          "data": {
            "image/png": "[encoded data removed]",
            "text/plain": [
              "<Figure size 720x720 with 1 Axes>"
            ]
          },
          "metadata": {
            "needs_background": "light"
          }
        }
      ]
    },
    {
      "cell_type": "code",
      "metadata": {
        "colab": {
          "base_uri": "https://localhost:8080/",
          "height": 623
        },
        "id": "hWI4ekyEIPam",
        "outputId": "548138fa-1e3a-4def-d374-c10f8196b58c"
      },
      "source": [
        "plt.figure(figsize=(10,10))\n",
        "sns.barplot(x='Histology',y='Total hospital stay',data=df_poland)\n",
        "plt.title(\"Relationship relationship between Cancer history and Total hospital stay\",fontsize=15)\n",
        "plt.show()"
      ],
      "execution_count": 512,
      "outputs": [
        {
          "output_type": "display_data",
          "data": {
            "image/png": "[encoded data removed]",
            "text/plain": [
              "<Figure size 720x720 with 1 Axes>"
            ]
          },
          "metadata": {
            "needs_background": "light"
          }
        }
      ]
    },
    {
      "cell_type": "code",
      "metadata": {
        "colab": {
          "base_uri": "https://localhost:8080/",
          "height": 623
        },
        "id": "aMeIduiiIcSz",
        "outputId": "a1a100fa-0a14-4301-c0a5-bb5269618edc"
      },
      "source": [
        "plt.figure(figsize=(10,10))\n",
        "sns.barplot(x='Outcome at discharge',y='Postoperative hospital stay',data=df_poland)\n",
        "plt.title(\"Relationship relationship between Post operative stay and Discharge outcome\",fontsize=15)\n",
        "plt.show()"
      ],
      "execution_count": 513,
      "outputs": [
        {
          "output_type": "display_data",
          "data": {
            "image/png": "[encoded data removed]",
            "text/plain": [
              "<Figure size 720x720 with 1 Axes>"
            ]
          },
          "metadata": {
            "needs_background": "light"
          }
        }
      ]
    },
    {
      "cell_type": "markdown",
      "metadata": {
        "id": "nF2OyZFngVQh"
      },
      "source": [
        "# Multivariate Analysis"
      ]
    },
    {
      "cell_type": "code",
      "metadata": {
        "colab": {
          "base_uri": "https://localhost:8080/",
          "height": 623
        },
        "id": "dXNmQYedJSgG",
        "outputId": "8e292d6a-63fc-42e1-df61-278fb62f84f1"
      },
      "source": [
        "plt.figure(figsize=(10,10))\n",
        "sns.barplot(x='Outcome at discharge',y='Postoperative hospital stay',hue='Stage.1',data=df_poland)\n",
        "plt.title(\"Relationship relationship between Post operative stay and Discharge outcome\",fontsize=15)\n",
        "plt.show()"
      ],
      "execution_count": 514,
      "outputs": [
        {
          "output_type": "display_data",
          "data": {
            "image/png": "[encoded data removed]",
            "text/plain": [
              "<Figure size 720x720 with 1 Axes>"
            ]
          },
          "metadata": {
            "needs_background": "light"
          }
        }
      ]
    },
    {
      "cell_type": "code",
      "source": [
        "plt.figure(figsize=(10,10))\n",
        "sns.barplot(x='Date of surgery',y='Total hospital stay',hue='Outcome at discharge',data=df_poland)\n",
        "plt.title(\"Relationship relationship between Total hospital stay and Discharge outcome (2019 Vs 2020)\",fontsize=15)\n",
        "plt.show()"
      ],
      "metadata": {
        "colab": {
          "base_uri": "https://localhost:8080/",
          "height": 623
        },
        "id": "P0FToswPM5UL",
        "outputId": "3fc5bea6-cce9-43fe-db0b-931373520989"
      },
      "execution_count": 515,
      "outputs": [
        {
          "output_type": "display_data",
          "data": {
            "image/png": "[encoded data removed]",
            "text/plain": [
              "<Figure size 720x720 with 1 Axes>"
            ]
          },
          "metadata": {
            "needs_background": "light"
          }
        }
      ]
    },
    {
      "cell_type": "markdown",
      "metadata": {
        "id": "B4VjSx25gTQR"
      },
      "source": [
        "# Implementing the solution.\n"
      ]
    },
    {
      "cell_type": "markdown",
      "source": [
        "## Feature Engineering."
      ],
      "metadata": {
        "id": "4yTAAKPjK2V5"
      }
    },
    {
      "cell_type": "code",
      "source": [
        "# viewing the clean dataset\n",
        "#\n",
        "df_poland.head()"
      ],
      "metadata": {
        "colab": {
          "base_uri": "https://localhost:8080/",
          "height": 307
        },
        "id": "_Bk8ommYLR5w",
        "outputId": "126af184-0556-440d-9fa7-27da359d196f"
      },
      "execution_count": 516,
      "outputs": [
        {
          "output_type": "execute_result",
          "data": {
            "text/html": [
              "<div>\n",
              "<style scoped>\n",
              "    .dataframe tbody tr th:only-of-type {\n",
              "        vertical-align: middle;\n",
              "    }\n",
              "\n",
              "    .dataframe tbody tr th {\n",
              "        vertical-align: top;\n",
              "    }\n",
              "\n",
              "    .dataframe thead th {\n",
              "        text-align: right;\n",
              "    }\n",
              "</style>\n",
              "<table border=\"1\" class=\"dataframe\">\n",
              "  <thead>\n",
              "    <tr style=\"text-align: right;\">\n",
              "      <th></th>\n",
              "      <th>Invasive mediastinal staging</th>\n",
              "      <th>Date of surgery</th>\n",
              "      <th>Approach</th>\n",
              "      <th>Type of surgery</th>\n",
              "      <th>Sleeve - bronchial</th>\n",
              "      <th>Histology</th>\n",
              "      <th>Stage</th>\n",
              "      <th>Stage.1</th>\n",
              "      <th>Total hospital stay</th>\n",
              "      <th>Postoperative hospital stay</th>\n",
              "      <th>Outcome at discharge</th>\n",
              "    </tr>\n",
              "    <tr>\n",
              "      <th>unique_ID</th>\n",
              "      <th></th>\n",
              "      <th></th>\n",
              "      <th></th>\n",
              "      <th></th>\n",
              "      <th></th>\n",
              "      <th></th>\n",
              "      <th></th>\n",
              "      <th></th>\n",
              "      <th></th>\n",
              "      <th></th>\n",
              "      <th></th>\n",
              "    </tr>\n",
              "  </thead>\n",
              "  <tbody>\n",
              "    <tr>\n",
              "      <th>0</th>\n",
              "      <td>NO</td>\n",
              "      <td>2019</td>\n",
              "      <td>Open</td>\n",
              "      <td>Lobectomy</td>\n",
              "      <td>NO</td>\n",
              "      <td>Adenocarcinoma</td>\n",
              "      <td>1</td>\n",
              "      <td>Early</td>\n",
              "      <td>8.0</td>\n",
              "      <td>7.0</td>\n",
              "      <td>Alive</td>\n",
              "    </tr>\n",
              "    <tr>\n",
              "      <th>1</th>\n",
              "      <td>NO</td>\n",
              "      <td>2019</td>\n",
              "      <td>VATS</td>\n",
              "      <td>Lobectomy</td>\n",
              "      <td>NO</td>\n",
              "      <td>Squamous cell carcinoma</td>\n",
              "      <td>4</td>\n",
              "      <td>Advanced</td>\n",
              "      <td>6.0</td>\n",
              "      <td>3.0</td>\n",
              "      <td>Alive</td>\n",
              "    </tr>\n",
              "    <tr>\n",
              "      <th>2</th>\n",
              "      <td>NO</td>\n",
              "      <td>2019</td>\n",
              "      <td>Open</td>\n",
              "      <td>Lobectomy</td>\n",
              "      <td>NO</td>\n",
              "      <td>Adenocarcinoma</td>\n",
              "      <td>1</td>\n",
              "      <td>Early</td>\n",
              "      <td>8.0</td>\n",
              "      <td>5.0</td>\n",
              "      <td>Alive</td>\n",
              "    </tr>\n",
              "    <tr>\n",
              "      <th>3</th>\n",
              "      <td>NO</td>\n",
              "      <td>2019</td>\n",
              "      <td>Open</td>\n",
              "      <td>Lobectomy</td>\n",
              "      <td>NO</td>\n",
              "      <td>Squamous cell carcinoma</td>\n",
              "      <td>1</td>\n",
              "      <td>Early</td>\n",
              "      <td>6.0</td>\n",
              "      <td>4.0</td>\n",
              "      <td>Alive</td>\n",
              "    </tr>\n",
              "    <tr>\n",
              "      <th>4</th>\n",
              "      <td>YES</td>\n",
              "      <td>2019</td>\n",
              "      <td>Open</td>\n",
              "      <td>Lobectomy</td>\n",
              "      <td>NO</td>\n",
              "      <td>Adenocarcinoma</td>\n",
              "      <td>1</td>\n",
              "      <td>Early</td>\n",
              "      <td>5.0</td>\n",
              "      <td>4.0</td>\n",
              "      <td>Alive</td>\n",
              "    </tr>\n",
              "  </tbody>\n",
              "</table>\n",
              "</div>"
            ],
            "text/plain": [
              "          Invasive mediastinal staging  ...  Outcome at discharge\n",
              "unique_ID                               ...                      \n",
              "0                                   NO  ...                 Alive\n",
              "1                                   NO  ...                 Alive\n",
              "2                                   NO  ...                 Alive\n",
              "3                                   NO  ...                 Alive\n",
              "4                                  YES  ...                 Alive\n",
              "\n",
              "[5 rows x 11 columns]"
            ]
          },
          "metadata": {},
          "execution_count": 516
        }
      ]
    },
    {
      "cell_type": "code",
      "source": [
        "# getting the variables to encode \n",
        "#\n",
        "objects"
      ],
      "metadata": {
        "colab": {
          "base_uri": "https://localhost:8080/"
        },
        "id": "iZVj3bPEMTvQ",
        "outputId": "f8ca4b79-24b7-4736-d991-b7cab4c44868"
      },
      "execution_count": 517,
      "outputs": [
        {
          "output_type": "execute_result",
          "data": {
            "text/plain": [
              "['Invasive mediastinal staging',\n",
              " 'Approach',\n",
              " 'Type of surgery',\n",
              " 'Sleeve - bronchial',\n",
              " 'Histology',\n",
              " 'Stage.1',\n",
              " 'Outcome at discharge']"
            ]
          },
          "metadata": {},
          "execution_count": 517
        }
      ]
    },
    {
      "cell_type": "code",
      "source": [
        "# \n",
        "# new_cols = pd.get_dummies(df_poland[['Type of surgery','Histology']],drop_first= True)\n",
        "# new_cols"
      ],
      "metadata": {
        "id": "DcalTqUkPXVQ"
      },
      "execution_count": 518,
      "outputs": []
    },
    {
      "cell_type": "code",
      "source": [
        "#\n",
        "#\n",
        "from sklearn.preprocessing import LabelEncoder\n",
        "cols = ['Invasive mediastinal staging','Sleeve - bronchial','Stage.1','Outcome at discharge','Approach']\n",
        "\n",
        "le = LabelEncoder()\n",
        "for col in cols: \n",
        "  le.fit(df_poland[col])\n",
        "  df_poland[col] = le.transform(df_poland[col])\n",
        "df_poland\n"
      ],
      "metadata": {
        "colab": {
          "base_uri": "https://localhost:8080/",
          "height": 542
        },
        "id": "-vnTiyanR5z-",
        "outputId": "2d27646c-1a15-447e-de2f-7e9d9dbb16de"
      },
      "execution_count": 519,
      "outputs": [
        {
          "output_type": "execute_result",
          "data": {
            "text/html": [
              "<div>\n",
              "<style scoped>\n",
              "    .dataframe tbody tr th:only-of-type {\n",
              "        vertical-align: middle;\n",
              "    }\n",
              "\n",
              "    .dataframe tbody tr th {\n",
              "        vertical-align: top;\n",
              "    }\n",
              "\n",
              "    .dataframe thead th {\n",
              "        text-align: right;\n",
              "    }\n",
              "</style>\n",
              "<table border=\"1\" class=\"dataframe\">\n",
              "  <thead>\n",
              "    <tr style=\"text-align: right;\">\n",
              "      <th></th>\n",
              "      <th>Invasive mediastinal staging</th>\n",
              "      <th>Date of surgery</th>\n",
              "      <th>Approach</th>\n",
              "      <th>Type of surgery</th>\n",
              "      <th>Sleeve - bronchial</th>\n",
              "      <th>Histology</th>\n",
              "      <th>Stage</th>\n",
              "      <th>Stage.1</th>\n",
              "      <th>Total hospital stay</th>\n",
              "      <th>Postoperative hospital stay</th>\n",
              "      <th>Outcome at discharge</th>\n",
              "    </tr>\n",
              "    <tr>\n",
              "      <th>unique_ID</th>\n",
              "      <th></th>\n",
              "      <th></th>\n",
              "      <th></th>\n",
              "      <th></th>\n",
              "      <th></th>\n",
              "      <th></th>\n",
              "      <th></th>\n",
              "      <th></th>\n",
              "      <th></th>\n",
              "      <th></th>\n",
              "      <th></th>\n",
              "    </tr>\n",
              "  </thead>\n",
              "  <tbody>\n",
              "    <tr>\n",
              "      <th>0</th>\n",
              "      <td>0</td>\n",
              "      <td>2019</td>\n",
              "      <td>0</td>\n",
              "      <td>Lobectomy</td>\n",
              "      <td>0</td>\n",
              "      <td>Adenocarcinoma</td>\n",
              "      <td>1</td>\n",
              "      <td>1</td>\n",
              "      <td>8.0</td>\n",
              "      <td>7.0</td>\n",
              "      <td>0</td>\n",
              "    </tr>\n",
              "    <tr>\n",
              "      <th>1</th>\n",
              "      <td>0</td>\n",
              "      <td>2019</td>\n",
              "      <td>1</td>\n",
              "      <td>Lobectomy</td>\n",
              "      <td>0</td>\n",
              "      <td>Squamous cell carcinoma</td>\n",
              "      <td>4</td>\n",
              "      <td>0</td>\n",
              "      <td>6.0</td>\n",
              "      <td>3.0</td>\n",
              "      <td>0</td>\n",
              "    </tr>\n",
              "    <tr>\n",
              "      <th>2</th>\n",
              "      <td>0</td>\n",
              "      <td>2019</td>\n",
              "      <td>0</td>\n",
              "      <td>Lobectomy</td>\n",
              "      <td>0</td>\n",
              "      <td>Adenocarcinoma</td>\n",
              "      <td>1</td>\n",
              "      <td>1</td>\n",
              "      <td>8.0</td>\n",
              "      <td>5.0</td>\n",
              "      <td>0</td>\n",
              "    </tr>\n",
              "    <tr>\n",
              "      <th>3</th>\n",
              "      <td>0</td>\n",
              "      <td>2019</td>\n",
              "      <td>0</td>\n",
              "      <td>Lobectomy</td>\n",
              "      <td>0</td>\n",
              "      <td>Squamous cell carcinoma</td>\n",
              "      <td>1</td>\n",
              "      <td>1</td>\n",
              "      <td>6.0</td>\n",
              "      <td>4.0</td>\n",
              "      <td>0</td>\n",
              "    </tr>\n",
              "    <tr>\n",
              "      <th>4</th>\n",
              "      <td>1</td>\n",
              "      <td>2019</td>\n",
              "      <td>0</td>\n",
              "      <td>Lobectomy</td>\n",
              "      <td>0</td>\n",
              "      <td>Adenocarcinoma</td>\n",
              "      <td>1</td>\n",
              "      <td>1</td>\n",
              "      <td>5.0</td>\n",
              "      <td>4.0</td>\n",
              "      <td>0</td>\n",
              "    </tr>\n",
              "    <tr>\n",
              "      <th>...</th>\n",
              "      <td>...</td>\n",
              "      <td>...</td>\n",
              "      <td>...</td>\n",
              "      <td>...</td>\n",
              "      <td>...</td>\n",
              "      <td>...</td>\n",
              "      <td>...</td>\n",
              "      <td>...</td>\n",
              "      <td>...</td>\n",
              "      <td>...</td>\n",
              "      <td>...</td>\n",
              "    </tr>\n",
              "    <tr>\n",
              "      <th>7297</th>\n",
              "      <td>0</td>\n",
              "      <td>2020</td>\n",
              "      <td>1</td>\n",
              "      <td>Lobectomy</td>\n",
              "      <td>0</td>\n",
              "      <td>Adenocarcinoma</td>\n",
              "      <td>1</td>\n",
              "      <td>1</td>\n",
              "      <td>7.0</td>\n",
              "      <td>6.0</td>\n",
              "      <td>0</td>\n",
              "    </tr>\n",
              "    <tr>\n",
              "      <th>7298</th>\n",
              "      <td>0</td>\n",
              "      <td>2020</td>\n",
              "      <td>1</td>\n",
              "      <td>Lobectomy</td>\n",
              "      <td>0</td>\n",
              "      <td>Adenocarcinoma</td>\n",
              "      <td>1</td>\n",
              "      <td>1</td>\n",
              "      <td>6.0</td>\n",
              "      <td>5.0</td>\n",
              "      <td>0</td>\n",
              "    </tr>\n",
              "    <tr>\n",
              "      <th>7299</th>\n",
              "      <td>0</td>\n",
              "      <td>2020</td>\n",
              "      <td>0</td>\n",
              "      <td>Lobectomy</td>\n",
              "      <td>0</td>\n",
              "      <td>Squamous cell carcinoma</td>\n",
              "      <td>2</td>\n",
              "      <td>1</td>\n",
              "      <td>7.0</td>\n",
              "      <td>6.0</td>\n",
              "      <td>0</td>\n",
              "    </tr>\n",
              "    <tr>\n",
              "      <th>7300</th>\n",
              "      <td>0</td>\n",
              "      <td>2020</td>\n",
              "      <td>1</td>\n",
              "      <td>Lobectomy</td>\n",
              "      <td>0</td>\n",
              "      <td>Adenocarcinoma</td>\n",
              "      <td>1</td>\n",
              "      <td>1</td>\n",
              "      <td>5.0</td>\n",
              "      <td>4.0</td>\n",
              "      <td>0</td>\n",
              "    </tr>\n",
              "    <tr>\n",
              "      <th>7301</th>\n",
              "      <td>0</td>\n",
              "      <td>2020</td>\n",
              "      <td>1</td>\n",
              "      <td>Lobectomy</td>\n",
              "      <td>0</td>\n",
              "      <td>Adenocarcinoma</td>\n",
              "      <td>1</td>\n",
              "      <td>1</td>\n",
              "      <td>7.0</td>\n",
              "      <td>6.0</td>\n",
              "      <td>0</td>\n",
              "    </tr>\n",
              "  </tbody>\n",
              "</table>\n",
              "<p>7199 rows × 11 columns</p>\n",
              "</div>"
            ],
            "text/plain": [
              "           Invasive mediastinal staging  ...  Outcome at discharge\n",
              "unique_ID                                ...                      \n",
              "0                                     0  ...                     0\n",
              "1                                     0  ...                     0\n",
              "2                                     0  ...                     0\n",
              "3                                     0  ...                     0\n",
              "4                                     1  ...                     0\n",
              "...                                 ...  ...                   ...\n",
              "7297                                  0  ...                     0\n",
              "7298                                  0  ...                     0\n",
              "7299                                  0  ...                     0\n",
              "7300                                  0  ...                     0\n",
              "7301                                  0  ...                     0\n",
              "\n",
              "[7199 rows x 11 columns]"
            ]
          },
          "metadata": {},
          "execution_count": 519
        }
      ]
    },
    {
      "cell_type": "code",
      "source": [
        "df_poland.columns"
      ],
      "metadata": {
        "colab": {
          "base_uri": "https://localhost:8080/"
        },
        "id": "Eukcstt2ePlD",
        "outputId": "931b09bd-eb17-433a-f024-3d764d6c7c43"
      },
      "execution_count": 520,
      "outputs": [
        {
          "output_type": "execute_result",
          "data": {
            "text/plain": [
              "Index(['Invasive mediastinal staging', 'Date of surgery', 'Approach',\n",
              "       'Type of surgery', 'Sleeve - bronchial', 'Histology', 'Stage',\n",
              "       'Stage.1', 'Total hospital stay', 'Postoperative hospital stay',\n",
              "       'Outcome at discharge'],\n",
              "      dtype='object')"
            ]
          },
          "metadata": {},
          "execution_count": 520
        }
      ]
    },
    {
      "cell_type": "code",
      "source": [
        "#\n",
        "dummy = pd.get_dummies(df_poland['Histology'], drop_first= True)\n"
      ],
      "metadata": {
        "id": "sB3HbO4laHTf"
      },
      "execution_count": 521,
      "outputs": []
    },
    {
      "cell_type": "code",
      "source": [
        "#\n",
        "dummy2 = pd.get_dummies(df_poland['Type of surgery'], drop_first= True)"
      ],
      "metadata": {
        "id": "bHgG5xCTe3Lt"
      },
      "execution_count": 522,
      "outputs": []
    },
    {
      "cell_type": "code",
      "source": [
        "df_poland.head()"
      ],
      "metadata": {
        "colab": {
          "base_uri": "https://localhost:8080/",
          "height": 307
        },
        "id": "XwOeykmqgm0p",
        "outputId": "8e5d5b2f-5889-4249-c1da-ca2c2d777d78"
      },
      "execution_count": 523,
      "outputs": [
        {
          "output_type": "execute_result",
          "data": {
            "text/html": [
              "<div>\n",
              "<style scoped>\n",
              "    .dataframe tbody tr th:only-of-type {\n",
              "        vertical-align: middle;\n",
              "    }\n",
              "\n",
              "    .dataframe tbody tr th {\n",
              "        vertical-align: top;\n",
              "    }\n",
              "\n",
              "    .dataframe thead th {\n",
              "        text-align: right;\n",
              "    }\n",
              "</style>\n",
              "<table border=\"1\" class=\"dataframe\">\n",
              "  <thead>\n",
              "    <tr style=\"text-align: right;\">\n",
              "      <th></th>\n",
              "      <th>Invasive mediastinal staging</th>\n",
              "      <th>Date of surgery</th>\n",
              "      <th>Approach</th>\n",
              "      <th>Type of surgery</th>\n",
              "      <th>Sleeve - bronchial</th>\n",
              "      <th>Histology</th>\n",
              "      <th>Stage</th>\n",
              "      <th>Stage.1</th>\n",
              "      <th>Total hospital stay</th>\n",
              "      <th>Postoperative hospital stay</th>\n",
              "      <th>Outcome at discharge</th>\n",
              "    </tr>\n",
              "    <tr>\n",
              "      <th>unique_ID</th>\n",
              "      <th></th>\n",
              "      <th></th>\n",
              "      <th></th>\n",
              "      <th></th>\n",
              "      <th></th>\n",
              "      <th></th>\n",
              "      <th></th>\n",
              "      <th></th>\n",
              "      <th></th>\n",
              "      <th></th>\n",
              "      <th></th>\n",
              "    </tr>\n",
              "  </thead>\n",
              "  <tbody>\n",
              "    <tr>\n",
              "      <th>0</th>\n",
              "      <td>0</td>\n",
              "      <td>2019</td>\n",
              "      <td>0</td>\n",
              "      <td>Lobectomy</td>\n",
              "      <td>0</td>\n",
              "      <td>Adenocarcinoma</td>\n",
              "      <td>1</td>\n",
              "      <td>1</td>\n",
              "      <td>8.0</td>\n",
              "      <td>7.0</td>\n",
              "      <td>0</td>\n",
              "    </tr>\n",
              "    <tr>\n",
              "      <th>1</th>\n",
              "      <td>0</td>\n",
              "      <td>2019</td>\n",
              "      <td>1</td>\n",
              "      <td>Lobectomy</td>\n",
              "      <td>0</td>\n",
              "      <td>Squamous cell carcinoma</td>\n",
              "      <td>4</td>\n",
              "      <td>0</td>\n",
              "      <td>6.0</td>\n",
              "      <td>3.0</td>\n",
              "      <td>0</td>\n",
              "    </tr>\n",
              "    <tr>\n",
              "      <th>2</th>\n",
              "      <td>0</td>\n",
              "      <td>2019</td>\n",
              "      <td>0</td>\n",
              "      <td>Lobectomy</td>\n",
              "      <td>0</td>\n",
              "      <td>Adenocarcinoma</td>\n",
              "      <td>1</td>\n",
              "      <td>1</td>\n",
              "      <td>8.0</td>\n",
              "      <td>5.0</td>\n",
              "      <td>0</td>\n",
              "    </tr>\n",
              "    <tr>\n",
              "      <th>3</th>\n",
              "      <td>0</td>\n",
              "      <td>2019</td>\n",
              "      <td>0</td>\n",
              "      <td>Lobectomy</td>\n",
              "      <td>0</td>\n",
              "      <td>Squamous cell carcinoma</td>\n",
              "      <td>1</td>\n",
              "      <td>1</td>\n",
              "      <td>6.0</td>\n",
              "      <td>4.0</td>\n",
              "      <td>0</td>\n",
              "    </tr>\n",
              "    <tr>\n",
              "      <th>4</th>\n",
              "      <td>1</td>\n",
              "      <td>2019</td>\n",
              "      <td>0</td>\n",
              "      <td>Lobectomy</td>\n",
              "      <td>0</td>\n",
              "      <td>Adenocarcinoma</td>\n",
              "      <td>1</td>\n",
              "      <td>1</td>\n",
              "      <td>5.0</td>\n",
              "      <td>4.0</td>\n",
              "      <td>0</td>\n",
              "    </tr>\n",
              "  </tbody>\n",
              "</table>\n",
              "</div>"
            ],
            "text/plain": [
              "           Invasive mediastinal staging  ...  Outcome at discharge\n",
              "unique_ID                                ...                      \n",
              "0                                     0  ...                     0\n",
              "1                                     0  ...                     0\n",
              "2                                     0  ...                     0\n",
              "3                                     0  ...                     0\n",
              "4                                     1  ...                     0\n",
              "\n",
              "[5 rows x 11 columns]"
            ]
          },
          "metadata": {},
          "execution_count": 523
        }
      ]
    },
    {
      "cell_type": "code",
      "source": [
        "df_poland_new = pd.concat([df_poland, dummy,dummy2], axis = 1).drop(df_poland[[\"Type of surgery\",\"Histology\"]],axis = 1)\n",
        "df_poland_new.head()"
      ],
      "metadata": {
        "colab": {
          "base_uri": "https://localhost:8080/",
          "height": 292
        },
        "id": "UlXNruIqV7Tu",
        "outputId": "016fe869-edc6-462b-c487-e946e961099e"
      },
      "execution_count": 525,
      "outputs": [
        {
          "output_type": "execute_result",
          "data": {
            "text/html": [
              "<div>\n",
              "<style scoped>\n",
              "    .dataframe tbody tr th:only-of-type {\n",
              "        vertical-align: middle;\n",
              "    }\n",
              "\n",
              "    .dataframe tbody tr th {\n",
              "        vertical-align: top;\n",
              "    }\n",
              "\n",
              "    .dataframe thead th {\n",
              "        text-align: right;\n",
              "    }\n",
              "</style>\n",
              "<table border=\"1\" class=\"dataframe\">\n",
              "  <thead>\n",
              "    <tr style=\"text-align: right;\">\n",
              "      <th></th>\n",
              "      <th>Invasive mediastinal staging</th>\n",
              "      <th>Date of surgery</th>\n",
              "      <th>Approach</th>\n",
              "      <th>Sleeve - bronchial</th>\n",
              "      <th>Stage</th>\n",
              "      <th>Stage.1</th>\n",
              "      <th>Total hospital stay</th>\n",
              "      <th>Postoperative hospital stay</th>\n",
              "      <th>Outcome at discharge</th>\n",
              "      <th>Large cell carcinoma</th>\n",
              "      <th>Other</th>\n",
              "      <th>Squamous cell carcinoma</th>\n",
              "      <th>Lobectomy</th>\n",
              "      <th>Pneumonectomy</th>\n",
              "      <th>Segmentectomy</th>\n",
              "      <th>Wedge resection</th>\n",
              "      <th>Wyci?cie mankietu oskrzela</th>\n",
              "    </tr>\n",
              "    <tr>\n",
              "      <th>unique_ID</th>\n",
              "      <th></th>\n",
              "      <th></th>\n",
              "      <th></th>\n",
              "      <th></th>\n",
              "      <th></th>\n",
              "      <th></th>\n",
              "      <th></th>\n",
              "      <th></th>\n",
              "      <th></th>\n",
              "      <th></th>\n",
              "      <th></th>\n",
              "      <th></th>\n",
              "      <th></th>\n",
              "      <th></th>\n",
              "      <th></th>\n",
              "      <th></th>\n",
              "      <th></th>\n",
              "    </tr>\n",
              "  </thead>\n",
              "  <tbody>\n",
              "    <tr>\n",
              "      <th>0</th>\n",
              "      <td>0</td>\n",
              "      <td>2019</td>\n",
              "      <td>0</td>\n",
              "      <td>0</td>\n",
              "      <td>1</td>\n",
              "      <td>1</td>\n",
              "      <td>8.0</td>\n",
              "      <td>7.0</td>\n",
              "      <td>0</td>\n",
              "      <td>0</td>\n",
              "      <td>0</td>\n",
              "      <td>0</td>\n",
              "      <td>1</td>\n",
              "      <td>0</td>\n",
              "      <td>0</td>\n",
              "      <td>0</td>\n",
              "      <td>0</td>\n",
              "    </tr>\n",
              "    <tr>\n",
              "      <th>1</th>\n",
              "      <td>0</td>\n",
              "      <td>2019</td>\n",
              "      <td>1</td>\n",
              "      <td>0</td>\n",
              "      <td>4</td>\n",
              "      <td>0</td>\n",
              "      <td>6.0</td>\n",
              "      <td>3.0</td>\n",
              "      <td>0</td>\n",
              "      <td>0</td>\n",
              "      <td>0</td>\n",
              "      <td>1</td>\n",
              "      <td>1</td>\n",
              "      <td>0</td>\n",
              "      <td>0</td>\n",
              "      <td>0</td>\n",
              "      <td>0</td>\n",
              "    </tr>\n",
              "    <tr>\n",
              "      <th>2</th>\n",
              "      <td>0</td>\n",
              "      <td>2019</td>\n",
              "      <td>0</td>\n",
              "      <td>0</td>\n",
              "      <td>1</td>\n",
              "      <td>1</td>\n",
              "      <td>8.0</td>\n",
              "      <td>5.0</td>\n",
              "      <td>0</td>\n",
              "      <td>0</td>\n",
              "      <td>0</td>\n",
              "      <td>0</td>\n",
              "      <td>1</td>\n",
              "      <td>0</td>\n",
              "      <td>0</td>\n",
              "      <td>0</td>\n",
              "      <td>0</td>\n",
              "    </tr>\n",
              "    <tr>\n",
              "      <th>3</th>\n",
              "      <td>0</td>\n",
              "      <td>2019</td>\n",
              "      <td>0</td>\n",
              "      <td>0</td>\n",
              "      <td>1</td>\n",
              "      <td>1</td>\n",
              "      <td>6.0</td>\n",
              "      <td>4.0</td>\n",
              "      <td>0</td>\n",
              "      <td>0</td>\n",
              "      <td>0</td>\n",
              "      <td>1</td>\n",
              "      <td>1</td>\n",
              "      <td>0</td>\n",
              "      <td>0</td>\n",
              "      <td>0</td>\n",
              "      <td>0</td>\n",
              "    </tr>\n",
              "    <tr>\n",
              "      <th>4</th>\n",
              "      <td>1</td>\n",
              "      <td>2019</td>\n",
              "      <td>0</td>\n",
              "      <td>0</td>\n",
              "      <td>1</td>\n",
              "      <td>1</td>\n",
              "      <td>5.0</td>\n",
              "      <td>4.0</td>\n",
              "      <td>0</td>\n",
              "      <td>0</td>\n",
              "      <td>0</td>\n",
              "      <td>0</td>\n",
              "      <td>1</td>\n",
              "      <td>0</td>\n",
              "      <td>0</td>\n",
              "      <td>0</td>\n",
              "      <td>0</td>\n",
              "    </tr>\n",
              "  </tbody>\n",
              "</table>\n",
              "</div>"
            ],
            "text/plain": [
              "           Invasive mediastinal staging  ...  Wyci?cie mankietu oskrzela\n",
              "unique_ID                                ...                            \n",
              "0                                     0  ...                           0\n",
              "1                                     0  ...                           0\n",
              "2                                     0  ...                           0\n",
              "3                                     0  ...                           0\n",
              "4                                     1  ...                           0\n",
              "\n",
              "[5 rows x 17 columns]"
            ]
          },
          "metadata": {},
          "execution_count": 525
        }
      ]
    },
    {
      "cell_type": "code",
      "source": [
        "x = df_poland_new.drop(\"Total hospital stay\", axis = 1)\n",
        "Y = df_poland_new['Total hospital stay']"
      ],
      "metadata": {
        "id": "TeLzqw6nieuR"
      },
      "execution_count": 527,
      "outputs": []
    },
    {
      "cell_type": "code",
      "source": [
        "# Checking for multicollinearity\n",
        "#\n",
        "from statsmodels.stats.outliers_influence import variance_inflation_factor\n",
        "vif = pd.DataFrame()\n",
        "vif[\"Factor\"] = [variance_inflation_factor(x.values, i) for i in range(x.shape[1])]\n",
        "vif[\"Feat\"] = x.columns\n",
        "vif"
      ],
      "metadata": {
        "colab": {
          "base_uri": "https://localhost:8080/",
          "height": 551
        },
        "id": "Gky55kS6hvyn",
        "outputId": "4f6a3c83-a327-4110-96e2-23fe792dba62"
      },
      "execution_count": 532,
      "outputs": [
        {
          "output_type": "execute_result",
          "data": {
            "text/html": [
              "<div>\n",
              "<style scoped>\n",
              "    .dataframe tbody tr th:only-of-type {\n",
              "        vertical-align: middle;\n",
              "    }\n",
              "\n",
              "    .dataframe tbody tr th {\n",
              "        vertical-align: top;\n",
              "    }\n",
              "\n",
              "    .dataframe thead th {\n",
              "        text-align: right;\n",
              "    }\n",
              "</style>\n",
              "<table border=\"1\" class=\"dataframe\">\n",
              "  <thead>\n",
              "    <tr style=\"text-align: right;\">\n",
              "      <th></th>\n",
              "      <th>Factor</th>\n",
              "      <th>Feat</th>\n",
              "    </tr>\n",
              "  </thead>\n",
              "  <tbody>\n",
              "    <tr>\n",
              "      <th>0</th>\n",
              "      <td>1.200298</td>\n",
              "      <td>Invasive mediastinal staging</td>\n",
              "    </tr>\n",
              "    <tr>\n",
              "      <th>1</th>\n",
              "      <td>83.395633</td>\n",
              "      <td>Date of surgery</td>\n",
              "    </tr>\n",
              "    <tr>\n",
              "      <th>2</th>\n",
              "      <td>2.009439</td>\n",
              "      <td>Approach</td>\n",
              "    </tr>\n",
              "    <tr>\n",
              "      <th>3</th>\n",
              "      <td>1.039424</td>\n",
              "      <td>Sleeve - bronchial</td>\n",
              "    </tr>\n",
              "    <tr>\n",
              "      <th>4</th>\n",
              "      <td>19.217354</td>\n",
              "      <td>Stage</td>\n",
              "    </tr>\n",
              "    <tr>\n",
              "      <th>5</th>\n",
              "      <td>19.046199</td>\n",
              "      <td>Stage.1</td>\n",
              "    </tr>\n",
              "    <tr>\n",
              "      <th>6</th>\n",
              "      <td>2.436358</td>\n",
              "      <td>Postoperative hospital stay</td>\n",
              "    </tr>\n",
              "    <tr>\n",
              "      <th>7</th>\n",
              "      <td>1.070571</td>\n",
              "      <td>Outcome at discharge</td>\n",
              "    </tr>\n",
              "    <tr>\n",
              "      <th>8</th>\n",
              "      <td>1.109500</td>\n",
              "      <td>Large cell carcinoma</td>\n",
              "    </tr>\n",
              "    <tr>\n",
              "      <th>9</th>\n",
              "      <td>1.277094</td>\n",
              "      <td>Other</td>\n",
              "    </tr>\n",
              "    <tr>\n",
              "      <th>10</th>\n",
              "      <td>1.876338</td>\n",
              "      <td>Squamous cell carcinoma</td>\n",
              "    </tr>\n",
              "    <tr>\n",
              "      <th>11</th>\n",
              "      <td>17.420135</td>\n",
              "      <td>Lobectomy</td>\n",
              "    </tr>\n",
              "    <tr>\n",
              "      <th>12</th>\n",
              "      <td>2.315410</td>\n",
              "      <td>Pneumonectomy</td>\n",
              "    </tr>\n",
              "    <tr>\n",
              "      <th>13</th>\n",
              "      <td>2.814246</td>\n",
              "      <td>Segmentectomy</td>\n",
              "    </tr>\n",
              "    <tr>\n",
              "      <th>14</th>\n",
              "      <td>2.066862</td>\n",
              "      <td>Wedge resection</td>\n",
              "    </tr>\n",
              "    <tr>\n",
              "      <th>15</th>\n",
              "      <td>1.050096</td>\n",
              "      <td>Wyci?cie mankietu oskrzela</td>\n",
              "    </tr>\n",
              "  </tbody>\n",
              "</table>\n",
              "</div>"
            ],
            "text/plain": [
              "       Factor                          Feat\n",
              "0    1.200298  Invasive mediastinal staging\n",
              "1   83.395633               Date of surgery\n",
              "2    2.009439                      Approach\n",
              "3    1.039424            Sleeve - bronchial\n",
              "4   19.217354                         Stage\n",
              "5   19.046199                       Stage.1\n",
              "6    2.436358   Postoperative hospital stay\n",
              "7    1.070571          Outcome at discharge\n",
              "8    1.109500          Large cell carcinoma\n",
              "9    1.277094                         Other\n",
              "10   1.876338       Squamous cell carcinoma\n",
              "11  17.420135                     Lobectomy\n",
              "12   2.315410                 Pneumonectomy\n",
              "13   2.814246                 Segmentectomy\n",
              "14   2.066862               Wedge resection\n",
              "15   1.050096    Wyci?cie mankietu oskrzela"
            ]
          },
          "metadata": {},
          "execution_count": 532
        }
      ]
    },
    {
      "cell_type": "code",
      "source": [
        "x2 = x.drop(columns = [\"Date of surgery\",\"Stage.1\",\"Lobectomy\"], axis = 1)\n"
      ],
      "metadata": {
        "id": "60ceCO6dk6L0"
      },
      "execution_count": 535,
      "outputs": []
    },
    {
      "cell_type": "code",
      "source": [
        "from statsmodels.stats.outliers_influence import variance_inflation_factor\n",
        "vif = pd.DataFrame()\n",
        "vif[\"Factor\"] = [variance_inflation_factor(x2.values, i) for i in range(x2.shape[1])]\n",
        "vif[\"Feat\"] = x2.columns\n",
        "vif"
      ],
      "metadata": {
        "colab": {
          "base_uri": "https://localhost:8080/",
          "height": 457
        },
        "id": "KFIltufYlgVY",
        "outputId": "42cfa691-4d42-4672-b1b0-9554596abf14"
      },
      "execution_count": 536,
      "outputs": [
        {
          "output_type": "execute_result",
          "data": {
            "text/html": [
              "<div>\n",
              "<style scoped>\n",
              "    .dataframe tbody tr th:only-of-type {\n",
              "        vertical-align: middle;\n",
              "    }\n",
              "\n",
              "    .dataframe tbody tr th {\n",
              "        vertical-align: top;\n",
              "    }\n",
              "\n",
              "    .dataframe thead th {\n",
              "        text-align: right;\n",
              "    }\n",
              "</style>\n",
              "<table border=\"1\" class=\"dataframe\">\n",
              "  <thead>\n",
              "    <tr style=\"text-align: right;\">\n",
              "      <th></th>\n",
              "      <th>Factor</th>\n",
              "      <th>Feat</th>\n",
              "    </tr>\n",
              "  </thead>\n",
              "  <tbody>\n",
              "    <tr>\n",
              "      <th>0</th>\n",
              "      <td>1.187035</td>\n",
              "      <td>Invasive mediastinal staging</td>\n",
              "    </tr>\n",
              "    <tr>\n",
              "      <th>1</th>\n",
              "      <td>1.485239</td>\n",
              "      <td>Approach</td>\n",
              "    </tr>\n",
              "    <tr>\n",
              "      <th>2</th>\n",
              "      <td>1.037743</td>\n",
              "      <td>Sleeve - bronchial</td>\n",
              "    </tr>\n",
              "    <tr>\n",
              "      <th>3</th>\n",
              "      <td>2.762076</td>\n",
              "      <td>Stage</td>\n",
              "    </tr>\n",
              "    <tr>\n",
              "      <th>4</th>\n",
              "      <td>2.106628</td>\n",
              "      <td>Postoperative hospital stay</td>\n",
              "    </tr>\n",
              "    <tr>\n",
              "      <th>5</th>\n",
              "      <td>1.067717</td>\n",
              "      <td>Outcome at discharge</td>\n",
              "    </tr>\n",
              "    <tr>\n",
              "      <th>6</th>\n",
              "      <td>1.097641</td>\n",
              "      <td>Large cell carcinoma</td>\n",
              "    </tr>\n",
              "    <tr>\n",
              "      <th>7</th>\n",
              "      <td>1.201048</td>\n",
              "      <td>Other</td>\n",
              "    </tr>\n",
              "    <tr>\n",
              "      <th>8</th>\n",
              "      <td>1.684765</td>\n",
              "      <td>Squamous cell carcinoma</td>\n",
              "    </tr>\n",
              "    <tr>\n",
              "      <th>9</th>\n",
              "      <td>1.180579</td>\n",
              "      <td>Pneumonectomy</td>\n",
              "    </tr>\n",
              "    <tr>\n",
              "      <th>10</th>\n",
              "      <td>1.066769</td>\n",
              "      <td>Segmentectomy</td>\n",
              "    </tr>\n",
              "    <tr>\n",
              "      <th>11</th>\n",
              "      <td>1.050837</td>\n",
              "      <td>Wedge resection</td>\n",
              "    </tr>\n",
              "    <tr>\n",
              "      <th>12</th>\n",
              "      <td>1.009671</td>\n",
              "      <td>Wyci?cie mankietu oskrzela</td>\n",
              "    </tr>\n",
              "  </tbody>\n",
              "</table>\n",
              "</div>"
            ],
            "text/plain": [
              "      Factor                          Feat\n",
              "0   1.187035  Invasive mediastinal staging\n",
              "1   1.485239                      Approach\n",
              "2   1.037743            Sleeve - bronchial\n",
              "3   2.762076                         Stage\n",
              "4   2.106628   Postoperative hospital stay\n",
              "5   1.067717          Outcome at discharge\n",
              "6   1.097641          Large cell carcinoma\n",
              "7   1.201048                         Other\n",
              "8   1.684765       Squamous cell carcinoma\n",
              "9   1.180579                 Pneumonectomy\n",
              "10  1.066769                 Segmentectomy\n",
              "11  1.050837               Wedge resection\n",
              "12  1.009671    Wyci?cie mankietu oskrzela"
            ]
          },
          "metadata": {},
          "execution_count": 536
        }
      ]
    },
    {
      "cell_type": "code",
      "source": [
        "def extra_tree_regressor(x,Y):\n",
        "  \n",
        "    from sklearn.ensemble import ExtraTreesRegressor\n",
        "\n",
        "    model = ExtraTreesRegressor()\n",
        "\n",
        "    model.fit(x,Y)\n",
        "\n",
        "    model_import = model.feature_importances_\n",
        "    print(model_import)\n",
        "    feat_imp = pd.Series(model.feature_importances_, index=x.columns)\n",
        "\n",
        "    feat_imp.nlargest(13).plot.barh(figsize = (10,8))\n",
        "\n",
        "    plt.title(\"Feature Importance\")\n",
        "    \n",
        "    plt.show()"
      ],
      "metadata": {
        "id": "t5WSzUPzOvBY"
      },
      "execution_count": 545,
      "outputs": []
    },
    {
      "cell_type": "code",
      "source": [
        "extra_tree_regressor(x2,Y)"
      ],
      "metadata": {
        "colab": {
          "base_uri": "https://localhost:8080/",
          "height": 569
        },
        "id": "n3g4qiiqmX0S",
        "outputId": "807047b0-e94f-4dea-8e0b-9eebc10f155e"
      },
      "execution_count": 546,
      "outputs": [
        {
          "output_type": "stream",
          "name": "stdout",
          "text": [
            "[6.68713490e-03 1.85503977e-02 1.97348930e-03 7.72328287e-02\n",
            " 8.18303934e-01 4.10919783e-03 4.89797800e-03 1.65778448e-02\n",
            " 1.78327697e-02 2.11936483e-02 1.04188748e-02 2.14652434e-03\n",
            " 7.53781083e-05]\n"
          ]
        },
        {
          "output_type": "display_data",
          "data": {
            "image/png": "[encoded data removed]",
            "text/plain": [
              "<Figure size 720x576 with 1 Axes>"
            ]
          },
          "metadata": {
            "needs_background": "light"
          }
        }
      ]
    },
    {
      "cell_type": "code",
      "source": [
        "# dropping the least important features\n",
        "#\n",
        "x3 = x2.drop(columns = [\"Wyci?cie mankietu oskrzela\",\"Sleeve - bronchial\",\"Wedge resection\",\"Outcome at discharge\"], axis = 1)"
      ],
      "metadata": {
        "id": "VDDo1N7hogn1"
      },
      "execution_count": 548,
      "outputs": []
    },
    {
      "cell_type": "markdown",
      "source": [
        "### Baseline model"
      ],
      "metadata": {
        "id": "-DhE9fsRtkon"
      }
    },
    {
      "cell_type": "code",
      "source": [
        "from sklearn.ensemble import RandomForestRegressor\n",
        "\n",
        "from sklearn.model_selection import train_test_split\n",
        "\n",
        "# splitting to test and train sets \n",
        "#\n",
        "x_train, x_test, Y_train, Y_test = train_test_split(x3,Y,test_size=0.2,random_state = 0)\n",
        "\n",
        "# Calling the regressor\n",
        "#\n",
        "regr = RandomForestRegressor(n_estimators = 500 , random_state = 0)\n",
        "\n",
        "# Fitting the model\n",
        "#\n",
        "regr.fit(x_train,Y_train)\n",
        "\n",
        "# Predicting the total number of days \n",
        "#\n",
        "Y_pred = regr.predict(x_test)\n",
        "\n",
        "from sklearn.metrics import mean_squared_error\n",
        "\n",
        "# Calculating the RMSE\n",
        "#\n",
        "RMSE = np.sqrt(mean_squared_error(Y_test, Y_pred))\n",
        "\n",
        "print(RMSE)"
      ],
      "metadata": {
        "colab": {
          "base_uri": "https://localhost:8080/"
        },
        "id": "m2X5QQNUtPt0",
        "outputId": "baabc81a-45ba-42e2-9573-309405dd994a"
      },
      "execution_count": 550,
      "outputs": [
        {
          "output_type": "stream",
          "name": "stdout",
          "text": [
            "6.933394904200383\n"
          ]
        }
      ]
    },
    {
      "cell_type": "markdown",
      "source": [
        "### Optimization of our baseline model"
      ],
      "metadata": {
        "id": "w23C9a6u0GZ9"
      }
    },
    {
      "cell_type": "code",
      "source": [
        "# Tuning of the hyperparameters\n",
        "#\n",
        "regr.get_params()"
      ],
      "metadata": {
        "colab": {
          "base_uri": "https://localhost:8080/"
        },
        "id": "RsiiL7SCzrrA",
        "outputId": "309ac15a-5096-452c-a991-9c019bed9850"
      },
      "execution_count": 552,
      "outputs": [
        {
          "output_type": "execute_result",
          "data": {
            "text/plain": [
              "{'bootstrap': True,\n",
              " 'ccp_alpha': 0.0,\n",
              " 'criterion': 'squared_error',\n",
              " 'max_depth': None,\n",
              " 'max_features': 'auto',\n",
              " 'max_leaf_nodes': None,\n",
              " 'max_samples': None,\n",
              " 'min_impurity_decrease': 0.0,\n",
              " 'min_samples_leaf': 1,\n",
              " 'min_samples_split': 2,\n",
              " 'min_weight_fraction_leaf': 0.0,\n",
              " 'n_estimators': 500,\n",
              " 'n_jobs': None,\n",
              " 'oob_score': False,\n",
              " 'random_state': 0,\n",
              " 'verbose': 0,\n",
              " 'warm_start': False}"
            ]
          },
          "metadata": {},
          "execution_count": 552
        }
      ]
    },
    {
      "cell_type": "code",
      "source": [
        "metrics.SCORERS.keys"
      ],
      "metadata": {
        "id": "xyyoCUio5TQO"
      },
      "execution_count": null,
      "outputs": []
    },
    {
      "cell_type": "code",
      "source": [
        "\n",
        "rf = RandomForestRegressor()\n",
        "\n",
        "# obtaining the param grid\n",
        "#\n",
        "param_grid = {\n",
        "     'max_depth': [3,5,10],\n",
        "     'max_features': [2,3,5],\n",
        "     'min_samples_leaf': [3,4,5],\n",
        "     'min_samples_split': [4,6,8],\n",
        "     'n_estimators': [200,300,500]\n",
        " }\n",
        "\n",
        " # performing grid search\n",
        " #\n",
        "from sklearn.model_selection import GridSearchCV  \n",
        "forest_search = GridSearchCV(estimator = rf , param_grid = param_grid, scoring = \"r2\", cv = 3, verbose = 1)\n",
        "forest_search.fit(x_train, Y_train)\n"
      ],
      "metadata": {
        "colab": {
          "base_uri": "https://localhost:8080/"
        },
        "id": "iz092huf0cPu",
        "outputId": "e79ca320-239d-4e50-f9a8-4fb89cd4d1aa"
      },
      "execution_count": 557,
      "outputs": [
        {
          "output_type": "stream",
          "name": "stdout",
          "text": [
            "Fitting 3 folds for each of 243 candidates, totalling 729 fits\n"
          ]
        },
        {
          "output_type": "execute_result",
          "data": {
            "text/plain": [
              "GridSearchCV(cv=3, estimator=RandomForestRegressor(),\n",
              "             param_grid={'max_depth': [3, 5, 10], 'max_features': [2, 3, 5],\n",
              "                         'min_samples_leaf': [3, 4, 5],\n",
              "                         'min_samples_split': [4, 6, 8],\n",
              "                         'n_estimators': [200, 300, 500]},\n",
              "             scoring='r2', verbose=1)"
            ]
          },
          "metadata": {},
          "execution_count": 557
        }
      ]
    },
    {
      "cell_type": "code",
      "source": [
        "my_params= forest_search.best_params_\n",
        "my_params"
      ],
      "metadata": {
        "colab": {
          "base_uri": "https://localhost:8080/"
        },
        "id": "v9JO9O8VAH_C",
        "outputId": "b1909714-8c39-41ae-d244-6e2a2ae1388c"
      },
      "execution_count": 558,
      "outputs": [
        {
          "output_type": "execute_result",
          "data": {
            "text/plain": [
              "{'max_depth': 5,\n",
              " 'max_features': 5,\n",
              " 'min_samples_leaf': 3,\n",
              " 'min_samples_split': 6,\n",
              " 'n_estimators': 500}"
            ]
          },
          "metadata": {},
          "execution_count": 558
        }
      ]
    },
    {
      "cell_type": "code",
      "source": [
        "# Best Estimator\n",
        "#\n",
        "best_model = forest_search.best_estimator_\n",
        "Y_pred_optimum = best_model.predict(x_test)\n",
        "RMSE1 = np.sqrt(mean_squared_error(Y_test, Y_pred_optimum))\n",
        "print(RMSE1)"
      ],
      "metadata": {
        "colab": {
          "base_uri": "https://localhost:8080/"
        },
        "id": "e4nHi4OA_04c",
        "outputId": "cd2b8b89-201d-4974-f971-c51e8e7cf058"
      },
      "execution_count": 560,
      "outputs": [
        {
          "output_type": "stream",
          "name": "stdout",
          "text": [
            "6.930242051770278\n"
          ]
        }
      ]
    },
    {
      "cell_type": "markdown",
      "source": [
        "### Optimizing using SVM"
      ],
      "metadata": {
        "id": "aN9YbMVeBBMi"
      }
    },
    {
      "cell_type": "code",
      "source": [
        "# Normalizing our features\n",
        "#\n",
        "x_train, x_test, Y_train, Y_test = train_test_split(x3,Y,test_size=0.2,random_state = 42)\n",
        "from sklearn.preprocessing import StandardScaler\n",
        "\n",
        "sc = StandardScaler()\n",
        "x_train = sc.fit_transform(x_train)\n",
        "x_test = sc.transform(x_test)"
      ],
      "metadata": {
        "id": "BO4LJT3IBvAx"
      },
      "execution_count": 562,
      "outputs": []
    },
    {
      "cell_type": "code",
      "source": [
        "from sklearn.svm import SVC\n",
        "# using svc regressor to tune hyperparameters\n",
        "#\n",
        "svm = SVC()\n",
        "# Obtaining the param grig\n",
        "param_grid_svm = {'C': [0.1,1,10,100,1000],\n",
        "                    'gamma': [1,0.1,0.01,0.001,0.0001],\n",
        "                    'kernel': ['rbf']}\n",
        "\n",
        "svm_search=GridSearchCV(estimator=svm,\n",
        "                           param_grid=param_grid_svm,\n",
        "                           scoring=\"neg_mean_squared_error\",\n",
        "                           n_jobs=1,cv=5,verbose=1)\n",
        "svm_search.fit(x_train, Y_train)\n"
      ],
      "metadata": {
        "colab": {
          "base_uri": "https://localhost:8080/"
        },
        "id": "Q_TbnL6SBGAz",
        "outputId": "e6238068-c79f-4cd7-a463-6d907de2df05"
      },
      "execution_count": 563,
      "outputs": [
        {
          "output_type": "stream",
          "name": "stdout",
          "text": [
            "Fitting 5 folds for each of 25 candidates, totalling 125 fits\n"
          ]
        },
        {
          "output_type": "stream",
          "name": "stderr",
          "text": [
            "/usr/local/lib/python3.7/dist-packages/sklearn/model_selection/_split.py:680: UserWarning: The least populated class in y has only 1 members, which is less than n_splits=5.\n",
            "  UserWarning,\n"
          ]
        },
        {
          "output_type": "execute_result",
          "data": {
            "text/plain": [
              "GridSearchCV(cv=5, estimator=SVC(), n_jobs=1,\n",
              "             param_grid={'C': [0.1, 1, 10, 100, 1000],\n",
              "                         'gamma': [1, 0.1, 0.01, 0.001, 0.0001],\n",
              "                         'kernel': ['rbf']},\n",
              "             scoring='neg_mean_squared_error', verbose=1)"
            ]
          },
          "metadata": {},
          "execution_count": 563
        }
      ]
    },
    {
      "cell_type": "code",
      "source": [
        "m_params = svm_search.best_estimator_\n",
        "m_params"
      ],
      "metadata": {
        "colab": {
          "base_uri": "https://localhost:8080/"
        },
        "id": "0BCPMVGEFbY-",
        "outputId": "6c130568-62d4-4d46-993d-865384b399fa"
      },
      "execution_count": 564,
      "outputs": [
        {
          "output_type": "execute_result",
          "data": {
            "text/plain": [
              "SVC(C=100, gamma=0.001)"
            ]
          },
          "metadata": {},
          "execution_count": 564
        }
      ]
    },
    {
      "cell_type": "code",
      "source": [
        "# Best Estimator\n",
        "#\n",
        "best_model2 = svm_search.best_estimator_\n",
        "Y_pred_optimum2 = best_model2.predict(x_test)\n",
        "RMSE3 = np.sqrt(mean_squared_error(Y_test, Y_pred_optimum2))\n",
        "print(RMSE3)"
      ],
      "metadata": {
        "colab": {
          "base_uri": "https://localhost:8080/"
        },
        "id": "OE2Z0SBnEjQq",
        "outputId": "02e6ed81-43d5-48c8-e7d8-f53b98a06253"
      },
      "execution_count": 566,
      "outputs": [
        {
          "output_type": "stream",
          "name": "stdout",
          "text": [
            "6.541958592212445\n"
          ]
        }
      ]
    },
    {
      "cell_type": "markdown",
      "source": [
        "The error could be attributed to the outliers in the total number of days spent in the hospital---------------------> "
      ],
      "metadata": {
        "id": "meYEm1beGsGL"
      }
    },
    {
      "cell_type": "markdown",
      "source": [
        "### Clustering\n"
      ],
      "metadata": {
        "id": "rZllyDJRGh2n"
      }
    }
  ]
}