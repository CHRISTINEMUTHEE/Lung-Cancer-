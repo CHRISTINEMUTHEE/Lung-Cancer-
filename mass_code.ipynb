{
  "nbformat": 4,
  "nbformat_minor": 0,
  "metadata": {
    "colab": {
      "name": "mass_code.ipynb",
      "provenance": [],
      "include_colab_link": true
    },
    "kernelspec": {
      "name": "python3",
      "display_name": "Python 3"
    },
    "language_info": {
      "name": "python"
    }
  },
  "cells": [
    {
      "cell_type": "markdown",
      "metadata": {
        "id": "view-in-github",
        "colab_type": "text"
      },
      "source": [
        "<a href=\"https://colab.research.google.com/github/mburu-mwangi/Lung-Cancer-/blob/main/mass_code.ipynb\" target=\"_parent\"><img src=\"https://colab.research.google.com/assets/colab-badge.svg\" alt=\"Open In Colab\"/></a>"
      ]
    },
    {
      "cell_type": "code",
      "metadata": {
        "id": "qg-DIigXOMV0"
      },
      "source": [
        "import pandas as pd\n",
        "import numpy as np"
      ],
      "execution_count": null,
      "outputs": []
    },
    {
      "cell_type": "code",
      "metadata": {
        "id": "eoY3VxzEOgW8"
      },
      "source": [
        "df_poland = pd.read_csv(\"covid_caner_poland.csv\")"
      ],
      "execution_count": null,
      "outputs": []
    },
    {
      "cell_type": "code",
      "metadata": {
        "colab": {
          "base_uri": "https://localhost:8080/",
          "height": 510
        },
        "id": "i3rlQwHpOgSe",
        "outputId": "0ff398a2-c62f-47c4-d5a9-8210a3d829ca"
      },
      "source": [
        "df_poland"
      ],
      "execution_count": null,
      "outputs": [
        {
          "output_type": "execute_result",
          "data": {
            "text/html": [
              "<div>\n",
              "<style scoped>\n",
              "    .dataframe tbody tr th:only-of-type {\n",
              "        vertical-align: middle;\n",
              "    }\n",
              "\n",
              "    .dataframe tbody tr th {\n",
              "        vertical-align: top;\n",
              "    }\n",
              "\n",
              "    .dataframe thead th {\n",
              "        text-align: right;\n",
              "    }\n",
              "</style>\n",
              "<table border=\"1\" class=\"dataframe\">\n",
              "  <thead>\n",
              "    <tr style=\"text-align: right;\">\n",
              "      <th></th>\n",
              "      <th>Invasive mediastinal staging</th>\n",
              "      <th>Date of surgery</th>\n",
              "      <th>Approach</th>\n",
              "      <th>Type of surgery</th>\n",
              "      <th>Sleeve - bronchial</th>\n",
              "      <th>Histology</th>\n",
              "      <th>Stage</th>\n",
              "      <th>Stage.1</th>\n",
              "      <th>Total hospital stay</th>\n",
              "      <th>Postoperative hospital stay</th>\n",
              "      <th>Outcome at discharge</th>\n",
              "    </tr>\n",
              "  </thead>\n",
              "  <tbody>\n",
              "    <tr>\n",
              "      <th>0</th>\n",
              "      <td>NIE</td>\n",
              "      <td>2019</td>\n",
              "      <td>Open</td>\n",
              "      <td>Lobectomy</td>\n",
              "      <td>NO</td>\n",
              "      <td>Adenocarcinoma</td>\n",
              "      <td>I</td>\n",
              "      <td>Early</td>\n",
              "      <td>8.0</td>\n",
              "      <td>7.0</td>\n",
              "      <td>Alive</td>\n",
              "    </tr>\n",
              "    <tr>\n",
              "      <th>1</th>\n",
              "      <td>NIE</td>\n",
              "      <td>2019</td>\n",
              "      <td>VATS</td>\n",
              "      <td>Lobectomy</td>\n",
              "      <td>NO</td>\n",
              "      <td>Squamous cell carcinoma</td>\n",
              "      <td>IV</td>\n",
              "      <td>Advanced</td>\n",
              "      <td>6.0</td>\n",
              "      <td>3.0</td>\n",
              "      <td>Alive</td>\n",
              "    </tr>\n",
              "    <tr>\n",
              "      <th>2</th>\n",
              "      <td>NIE</td>\n",
              "      <td>2019</td>\n",
              "      <td>Open</td>\n",
              "      <td>Lobectomy</td>\n",
              "      <td>NO</td>\n",
              "      <td>Adenocarcinoma</td>\n",
              "      <td>I</td>\n",
              "      <td>Early</td>\n",
              "      <td>8.0</td>\n",
              "      <td>5.0</td>\n",
              "      <td>Alive</td>\n",
              "    </tr>\n",
              "    <tr>\n",
              "      <th>3</th>\n",
              "      <td>NIE</td>\n",
              "      <td>2019</td>\n",
              "      <td>Open</td>\n",
              "      <td>Lobectomy</td>\n",
              "      <td>NO</td>\n",
              "      <td>Squamous cell carcinoma</td>\n",
              "      <td>I</td>\n",
              "      <td>Early</td>\n",
              "      <td>6.0</td>\n",
              "      <td>4.0</td>\n",
              "      <td>Alive</td>\n",
              "    </tr>\n",
              "    <tr>\n",
              "      <th>4</th>\n",
              "      <td>TAK</td>\n",
              "      <td>2019</td>\n",
              "      <td>Open</td>\n",
              "      <td>Lobectomy</td>\n",
              "      <td>NO</td>\n",
              "      <td>Adenocarcinoma</td>\n",
              "      <td>I</td>\n",
              "      <td>Early</td>\n",
              "      <td>5.0</td>\n",
              "      <td>4.0</td>\n",
              "      <td>Alive</td>\n",
              "    </tr>\n",
              "    <tr>\n",
              "      <th>...</th>\n",
              "      <td>...</td>\n",
              "      <td>...</td>\n",
              "      <td>...</td>\n",
              "      <td>...</td>\n",
              "      <td>...</td>\n",
              "      <td>...</td>\n",
              "      <td>...</td>\n",
              "      <td>...</td>\n",
              "      <td>...</td>\n",
              "      <td>...</td>\n",
              "      <td>...</td>\n",
              "    </tr>\n",
              "    <tr>\n",
              "      <th>7297</th>\n",
              "      <td>NO</td>\n",
              "      <td>2020</td>\n",
              "      <td>VATS</td>\n",
              "      <td>Lobectomy</td>\n",
              "      <td>NO</td>\n",
              "      <td>Adenocarcinoma</td>\n",
              "      <td>I</td>\n",
              "      <td>Early</td>\n",
              "      <td>7.0</td>\n",
              "      <td>6.0</td>\n",
              "      <td>Alive</td>\n",
              "    </tr>\n",
              "    <tr>\n",
              "      <th>7298</th>\n",
              "      <td>NO</td>\n",
              "      <td>2020</td>\n",
              "      <td>VATS</td>\n",
              "      <td>Lobectomy</td>\n",
              "      <td>NO</td>\n",
              "      <td>Adenocarcinoma</td>\n",
              "      <td>I</td>\n",
              "      <td>Early</td>\n",
              "      <td>6.0</td>\n",
              "      <td>5.0</td>\n",
              "      <td>Alive</td>\n",
              "    </tr>\n",
              "    <tr>\n",
              "      <th>7299</th>\n",
              "      <td>NO</td>\n",
              "      <td>2020</td>\n",
              "      <td>Open</td>\n",
              "      <td>Lobectomy</td>\n",
              "      <td>NO</td>\n",
              "      <td>Squamous cell carcinoma</td>\n",
              "      <td>II</td>\n",
              "      <td>Early</td>\n",
              "      <td>7.0</td>\n",
              "      <td>6.0</td>\n",
              "      <td>Alive</td>\n",
              "    </tr>\n",
              "    <tr>\n",
              "      <th>7300</th>\n",
              "      <td>NO</td>\n",
              "      <td>2020</td>\n",
              "      <td>VATS</td>\n",
              "      <td>Lobectomy</td>\n",
              "      <td>NO</td>\n",
              "      <td>Adenocarcinoma</td>\n",
              "      <td>I</td>\n",
              "      <td>Early</td>\n",
              "      <td>5.0</td>\n",
              "      <td>4.0</td>\n",
              "      <td>Alive</td>\n",
              "    </tr>\n",
              "    <tr>\n",
              "      <th>7301</th>\n",
              "      <td>NO</td>\n",
              "      <td>2020</td>\n",
              "      <td>VATS</td>\n",
              "      <td>Lobectomy</td>\n",
              "      <td>NO</td>\n",
              "      <td>Adenocarcinoma</td>\n",
              "      <td>I</td>\n",
              "      <td>Early</td>\n",
              "      <td>7.0</td>\n",
              "      <td>6.0</td>\n",
              "      <td>Alive</td>\n",
              "    </tr>\n",
              "  </tbody>\n",
              "</table>\n",
              "<p>7302 rows × 11 columns</p>\n",
              "</div>"
            ],
            "text/plain": [
              "     Invasive mediastinal staging  ...  Outcome at discharge\n",
              "0                             NIE  ...                 Alive\n",
              "1                             NIE  ...                 Alive\n",
              "2                             NIE  ...                 Alive\n",
              "3                             NIE  ...                 Alive\n",
              "4                             TAK  ...                 Alive\n",
              "...                           ...  ...                   ...\n",
              "7297                           NO  ...                 Alive\n",
              "7298                           NO  ...                 Alive\n",
              "7299                           NO  ...                 Alive\n",
              "7300                           NO  ...                 Alive\n",
              "7301                           NO  ...                 Alive\n",
              "\n",
              "[7302 rows x 11 columns]"
            ]
          },
          "metadata": {},
          "execution_count": 100
        }
      ]
    },
    {
      "cell_type": "code",
      "metadata": {
        "id": "vvuwi8xGOgQD"
      },
      "source": [
        "df_poland['unique_ID'] = [i for i in range(df_poland.shape[0])]"
      ],
      "execution_count": null,
      "outputs": []
    },
    {
      "cell_type": "code",
      "metadata": {
        "colab": {
          "base_uri": "https://localhost:8080/",
          "height": 542
        },
        "id": "YCXcDFLcOgNB",
        "outputId": "e0a86b8d-92f9-42c2-a777-f3ad00b908f7"
      },
      "source": [
        "df_poland.set_index('unique_ID')"
      ],
      "execution_count": null,
      "outputs": [
        {
          "output_type": "execute_result",
          "data": {
            "text/html": [
              "<div>\n",
              "<style scoped>\n",
              "    .dataframe tbody tr th:only-of-type {\n",
              "        vertical-align: middle;\n",
              "    }\n",
              "\n",
              "    .dataframe tbody tr th {\n",
              "        vertical-align: top;\n",
              "    }\n",
              "\n",
              "    .dataframe thead th {\n",
              "        text-align: right;\n",
              "    }\n",
              "</style>\n",
              "<table border=\"1\" class=\"dataframe\">\n",
              "  <thead>\n",
              "    <tr style=\"text-align: right;\">\n",
              "      <th></th>\n",
              "      <th>Invasive mediastinal staging</th>\n",
              "      <th>Date of surgery</th>\n",
              "      <th>Approach</th>\n",
              "      <th>Type of surgery</th>\n",
              "      <th>Sleeve - bronchial</th>\n",
              "      <th>Histology</th>\n",
              "      <th>Stage</th>\n",
              "      <th>Stage.1</th>\n",
              "      <th>Total hospital stay</th>\n",
              "      <th>Postoperative hospital stay</th>\n",
              "      <th>Outcome at discharge</th>\n",
              "    </tr>\n",
              "    <tr>\n",
              "      <th>unique_ID</th>\n",
              "      <th></th>\n",
              "      <th></th>\n",
              "      <th></th>\n",
              "      <th></th>\n",
              "      <th></th>\n",
              "      <th></th>\n",
              "      <th></th>\n",
              "      <th></th>\n",
              "      <th></th>\n",
              "      <th></th>\n",
              "      <th></th>\n",
              "    </tr>\n",
              "  </thead>\n",
              "  <tbody>\n",
              "    <tr>\n",
              "      <th>0</th>\n",
              "      <td>NIE</td>\n",
              "      <td>2019</td>\n",
              "      <td>Open</td>\n",
              "      <td>Lobectomy</td>\n",
              "      <td>NO</td>\n",
              "      <td>Adenocarcinoma</td>\n",
              "      <td>I</td>\n",
              "      <td>Early</td>\n",
              "      <td>8.0</td>\n",
              "      <td>7.0</td>\n",
              "      <td>Alive</td>\n",
              "    </tr>\n",
              "    <tr>\n",
              "      <th>1</th>\n",
              "      <td>NIE</td>\n",
              "      <td>2019</td>\n",
              "      <td>VATS</td>\n",
              "      <td>Lobectomy</td>\n",
              "      <td>NO</td>\n",
              "      <td>Squamous cell carcinoma</td>\n",
              "      <td>IV</td>\n",
              "      <td>Advanced</td>\n",
              "      <td>6.0</td>\n",
              "      <td>3.0</td>\n",
              "      <td>Alive</td>\n",
              "    </tr>\n",
              "    <tr>\n",
              "      <th>2</th>\n",
              "      <td>NIE</td>\n",
              "      <td>2019</td>\n",
              "      <td>Open</td>\n",
              "      <td>Lobectomy</td>\n",
              "      <td>NO</td>\n",
              "      <td>Adenocarcinoma</td>\n",
              "      <td>I</td>\n",
              "      <td>Early</td>\n",
              "      <td>8.0</td>\n",
              "      <td>5.0</td>\n",
              "      <td>Alive</td>\n",
              "    </tr>\n",
              "    <tr>\n",
              "      <th>3</th>\n",
              "      <td>NIE</td>\n",
              "      <td>2019</td>\n",
              "      <td>Open</td>\n",
              "      <td>Lobectomy</td>\n",
              "      <td>NO</td>\n",
              "      <td>Squamous cell carcinoma</td>\n",
              "      <td>I</td>\n",
              "      <td>Early</td>\n",
              "      <td>6.0</td>\n",
              "      <td>4.0</td>\n",
              "      <td>Alive</td>\n",
              "    </tr>\n",
              "    <tr>\n",
              "      <th>4</th>\n",
              "      <td>TAK</td>\n",
              "      <td>2019</td>\n",
              "      <td>Open</td>\n",
              "      <td>Lobectomy</td>\n",
              "      <td>NO</td>\n",
              "      <td>Adenocarcinoma</td>\n",
              "      <td>I</td>\n",
              "      <td>Early</td>\n",
              "      <td>5.0</td>\n",
              "      <td>4.0</td>\n",
              "      <td>Alive</td>\n",
              "    </tr>\n",
              "    <tr>\n",
              "      <th>...</th>\n",
              "      <td>...</td>\n",
              "      <td>...</td>\n",
              "      <td>...</td>\n",
              "      <td>...</td>\n",
              "      <td>...</td>\n",
              "      <td>...</td>\n",
              "      <td>...</td>\n",
              "      <td>...</td>\n",
              "      <td>...</td>\n",
              "      <td>...</td>\n",
              "      <td>...</td>\n",
              "    </tr>\n",
              "    <tr>\n",
              "      <th>7297</th>\n",
              "      <td>NO</td>\n",
              "      <td>2020</td>\n",
              "      <td>VATS</td>\n",
              "      <td>Lobectomy</td>\n",
              "      <td>NO</td>\n",
              "      <td>Adenocarcinoma</td>\n",
              "      <td>I</td>\n",
              "      <td>Early</td>\n",
              "      <td>7.0</td>\n",
              "      <td>6.0</td>\n",
              "      <td>Alive</td>\n",
              "    </tr>\n",
              "    <tr>\n",
              "      <th>7298</th>\n",
              "      <td>NO</td>\n",
              "      <td>2020</td>\n",
              "      <td>VATS</td>\n",
              "      <td>Lobectomy</td>\n",
              "      <td>NO</td>\n",
              "      <td>Adenocarcinoma</td>\n",
              "      <td>I</td>\n",
              "      <td>Early</td>\n",
              "      <td>6.0</td>\n",
              "      <td>5.0</td>\n",
              "      <td>Alive</td>\n",
              "    </tr>\n",
              "    <tr>\n",
              "      <th>7299</th>\n",
              "      <td>NO</td>\n",
              "      <td>2020</td>\n",
              "      <td>Open</td>\n",
              "      <td>Lobectomy</td>\n",
              "      <td>NO</td>\n",
              "      <td>Squamous cell carcinoma</td>\n",
              "      <td>II</td>\n",
              "      <td>Early</td>\n",
              "      <td>7.0</td>\n",
              "      <td>6.0</td>\n",
              "      <td>Alive</td>\n",
              "    </tr>\n",
              "    <tr>\n",
              "      <th>7300</th>\n",
              "      <td>NO</td>\n",
              "      <td>2020</td>\n",
              "      <td>VATS</td>\n",
              "      <td>Lobectomy</td>\n",
              "      <td>NO</td>\n",
              "      <td>Adenocarcinoma</td>\n",
              "      <td>I</td>\n",
              "      <td>Early</td>\n",
              "      <td>5.0</td>\n",
              "      <td>4.0</td>\n",
              "      <td>Alive</td>\n",
              "    </tr>\n",
              "    <tr>\n",
              "      <th>7301</th>\n",
              "      <td>NO</td>\n",
              "      <td>2020</td>\n",
              "      <td>VATS</td>\n",
              "      <td>Lobectomy</td>\n",
              "      <td>NO</td>\n",
              "      <td>Adenocarcinoma</td>\n",
              "      <td>I</td>\n",
              "      <td>Early</td>\n",
              "      <td>7.0</td>\n",
              "      <td>6.0</td>\n",
              "      <td>Alive</td>\n",
              "    </tr>\n",
              "  </tbody>\n",
              "</table>\n",
              "<p>7302 rows × 11 columns</p>\n",
              "</div>"
            ],
            "text/plain": [
              "          Invasive mediastinal staging  ...  Outcome at discharge\n",
              "unique_ID                               ...                      \n",
              "0                                  NIE  ...                 Alive\n",
              "1                                  NIE  ...                 Alive\n",
              "2                                  NIE  ...                 Alive\n",
              "3                                  NIE  ...                 Alive\n",
              "4                                  TAK  ...                 Alive\n",
              "...                                ...  ...                   ...\n",
              "7297                                NO  ...                 Alive\n",
              "7298                                NO  ...                 Alive\n",
              "7299                                NO  ...                 Alive\n",
              "7300                                NO  ...                 Alive\n",
              "7301                                NO  ...                 Alive\n",
              "\n",
              "[7302 rows x 11 columns]"
            ]
          },
          "metadata": {},
          "execution_count": 102
        }
      ]
    },
    {
      "cell_type": "code",
      "metadata": {
        "id": "IYc6gmh8RAlA"
      },
      "source": [
        "df_poland.to_csv('new_poland_covid_cancer.csv')"
      ],
      "execution_count": null,
      "outputs": []
    },
    {
      "cell_type": "code",
      "metadata": {
        "colab": {
          "base_uri": "https://localhost:8080/"
        },
        "id": "j0-bNDSiRSbD",
        "outputId": "fc18d56b-a7c8-4368-a4bd-0a529b2e28e4"
      },
      "source": [
        "df_poland.duplicated().sum()"
      ],
      "execution_count": null,
      "outputs": [
        {
          "output_type": "execute_result",
          "data": {
            "text/plain": [
              "0"
            ]
          },
          "metadata": {},
          "execution_count": 104
        }
      ]
    },
    {
      "cell_type": "code",
      "metadata": {
        "colab": {
          "base_uri": "https://localhost:8080/"
        },
        "id": "sFPKFVe0RXm-",
        "outputId": "16f88aed-3334-466e-d7ee-81dea121446d"
      },
      "source": [
        "df_poland.isnull().sum() / len(df_poland) * 100"
      ],
      "execution_count": null,
      "outputs": [
        {
          "output_type": "execute_result",
          "data": {
            "text/plain": [
              "Invasive mediastinal staging    0.000000\n",
              "Date of surgery                 0.000000\n",
              "Approach                        0.109559\n",
              "Type of surgery                 0.000000\n",
              "Sleeve - bronchial              0.000000\n",
              "Histology                       1.054506\n",
              "Stage                           1.314708\n",
              "Stage.1                         1.314708\n",
              "Total hospital stay             1.698165\n",
              "Postoperative hospital stay     2.643111\n",
              "Outcome at discharge            0.000000\n",
              "unique_ID                       0.000000\n",
              "dtype: float64"
            ]
          },
          "metadata": {},
          "execution_count": 105
        }
      ]
    },
    {
      "cell_type": "code",
      "metadata": {
        "colab": {
          "base_uri": "https://localhost:8080/",
          "height": 424
        },
        "id": "eOcHR_xhS6EU",
        "outputId": "31c8905f-6cd3-4826-9cdd-6afccac71aa6"
      },
      "source": [
        "# with null values\n",
        "df_poland[['Histology','Stage','Stage.1','Total hospital stay','Postoperative hospital stay']]"
      ],
      "execution_count": null,
      "outputs": [
        {
          "output_type": "execute_result",
          "data": {
            "text/html": [
              "<div>\n",
              "<style scoped>\n",
              "    .dataframe tbody tr th:only-of-type {\n",
              "        vertical-align: middle;\n",
              "    }\n",
              "\n",
              "    .dataframe tbody tr th {\n",
              "        vertical-align: top;\n",
              "    }\n",
              "\n",
              "    .dataframe thead th {\n",
              "        text-align: right;\n",
              "    }\n",
              "</style>\n",
              "<table border=\"1\" class=\"dataframe\">\n",
              "  <thead>\n",
              "    <tr style=\"text-align: right;\">\n",
              "      <th></th>\n",
              "      <th>Histology</th>\n",
              "      <th>Stage</th>\n",
              "      <th>Stage.1</th>\n",
              "      <th>Total hospital stay</th>\n",
              "      <th>Postoperative hospital stay</th>\n",
              "    </tr>\n",
              "  </thead>\n",
              "  <tbody>\n",
              "    <tr>\n",
              "      <th>0</th>\n",
              "      <td>Adenocarcinoma</td>\n",
              "      <td>I</td>\n",
              "      <td>Early</td>\n",
              "      <td>8.0</td>\n",
              "      <td>7.0</td>\n",
              "    </tr>\n",
              "    <tr>\n",
              "      <th>1</th>\n",
              "      <td>Squamous cell carcinoma</td>\n",
              "      <td>IV</td>\n",
              "      <td>Advanced</td>\n",
              "      <td>6.0</td>\n",
              "      <td>3.0</td>\n",
              "    </tr>\n",
              "    <tr>\n",
              "      <th>2</th>\n",
              "      <td>Adenocarcinoma</td>\n",
              "      <td>I</td>\n",
              "      <td>Early</td>\n",
              "      <td>8.0</td>\n",
              "      <td>5.0</td>\n",
              "    </tr>\n",
              "    <tr>\n",
              "      <th>3</th>\n",
              "      <td>Squamous cell carcinoma</td>\n",
              "      <td>I</td>\n",
              "      <td>Early</td>\n",
              "      <td>6.0</td>\n",
              "      <td>4.0</td>\n",
              "    </tr>\n",
              "    <tr>\n",
              "      <th>4</th>\n",
              "      <td>Adenocarcinoma</td>\n",
              "      <td>I</td>\n",
              "      <td>Early</td>\n",
              "      <td>5.0</td>\n",
              "      <td>4.0</td>\n",
              "    </tr>\n",
              "    <tr>\n",
              "      <th>...</th>\n",
              "      <td>...</td>\n",
              "      <td>...</td>\n",
              "      <td>...</td>\n",
              "      <td>...</td>\n",
              "      <td>...</td>\n",
              "    </tr>\n",
              "    <tr>\n",
              "      <th>7297</th>\n",
              "      <td>Adenocarcinoma</td>\n",
              "      <td>I</td>\n",
              "      <td>Early</td>\n",
              "      <td>7.0</td>\n",
              "      <td>6.0</td>\n",
              "    </tr>\n",
              "    <tr>\n",
              "      <th>7298</th>\n",
              "      <td>Adenocarcinoma</td>\n",
              "      <td>I</td>\n",
              "      <td>Early</td>\n",
              "      <td>6.0</td>\n",
              "      <td>5.0</td>\n",
              "    </tr>\n",
              "    <tr>\n",
              "      <th>7299</th>\n",
              "      <td>Squamous cell carcinoma</td>\n",
              "      <td>II</td>\n",
              "      <td>Early</td>\n",
              "      <td>7.0</td>\n",
              "      <td>6.0</td>\n",
              "    </tr>\n",
              "    <tr>\n",
              "      <th>7300</th>\n",
              "      <td>Adenocarcinoma</td>\n",
              "      <td>I</td>\n",
              "      <td>Early</td>\n",
              "      <td>5.0</td>\n",
              "      <td>4.0</td>\n",
              "    </tr>\n",
              "    <tr>\n",
              "      <th>7301</th>\n",
              "      <td>Adenocarcinoma</td>\n",
              "      <td>I</td>\n",
              "      <td>Early</td>\n",
              "      <td>7.0</td>\n",
              "      <td>6.0</td>\n",
              "    </tr>\n",
              "  </tbody>\n",
              "</table>\n",
              "<p>7302 rows × 5 columns</p>\n",
              "</div>"
            ],
            "text/plain": [
              "                    Histology  ... Postoperative hospital stay\n",
              "0              Adenocarcinoma  ...                         7.0\n",
              "1     Squamous cell carcinoma  ...                         3.0\n",
              "2              Adenocarcinoma  ...                         5.0\n",
              "3     Squamous cell carcinoma  ...                         4.0\n",
              "4              Adenocarcinoma  ...                         4.0\n",
              "...                       ...  ...                         ...\n",
              "7297           Adenocarcinoma  ...                         6.0\n",
              "7298           Adenocarcinoma  ...                         5.0\n",
              "7299  Squamous cell carcinoma  ...                         6.0\n",
              "7300           Adenocarcinoma  ...                         4.0\n",
              "7301           Adenocarcinoma  ...                         6.0\n",
              "\n",
              "[7302 rows x 5 columns]"
            ]
          },
          "metadata": {},
          "execution_count": 106
        }
      ]
    },
    {
      "cell_type": "code",
      "metadata": {
        "colab": {
          "base_uri": "https://localhost:8080/"
        },
        "id": "uD5mPqgzR8Sg",
        "outputId": "0978d478-bfe9-4798-db13-12cfbe436193"
      },
      "source": [
        "# with null values\n",
        "df_poland[['Histology','Stage','Stage.1','Total hospital stay','Postoperative hospital stay']].dtypes"
      ],
      "execution_count": null,
      "outputs": [
        {
          "output_type": "execute_result",
          "data": {
            "text/plain": [
              "Histology                       object\n",
              "Stage                           object\n",
              "Stage.1                         object\n",
              "Total hospital stay            float64\n",
              "Postoperative hospital stay    float64\n",
              "dtype: object"
            ]
          },
          "metadata": {},
          "execution_count": 107
        }
      ]
    },
    {
      "cell_type": "code",
      "metadata": {
        "colab": {
          "base_uri": "https://localhost:8080/",
          "height": 300
        },
        "id": "hXB2-Ys2R8Ot",
        "outputId": "128efe9f-abce-459f-8ad0-160c14fa7616"
      },
      "source": [
        "df_poland[['Total hospital stay','Postoperative hospital stay']].describe()"
      ],
      "execution_count": null,
      "outputs": [
        {
          "output_type": "execute_result",
          "data": {
            "text/html": [
              "<div>\n",
              "<style scoped>\n",
              "    .dataframe tbody tr th:only-of-type {\n",
              "        vertical-align: middle;\n",
              "    }\n",
              "\n",
              "    .dataframe tbody tr th {\n",
              "        vertical-align: top;\n",
              "    }\n",
              "\n",
              "    .dataframe thead th {\n",
              "        text-align: right;\n",
              "    }\n",
              "</style>\n",
              "<table border=\"1\" class=\"dataframe\">\n",
              "  <thead>\n",
              "    <tr style=\"text-align: right;\">\n",
              "      <th></th>\n",
              "      <th>Total hospital stay</th>\n",
              "      <th>Postoperative hospital stay</th>\n",
              "    </tr>\n",
              "  </thead>\n",
              "  <tbody>\n",
              "    <tr>\n",
              "      <th>count</th>\n",
              "      <td>7178.000000</td>\n",
              "      <td>7109.000000</td>\n",
              "    </tr>\n",
              "    <tr>\n",
              "      <th>mean</th>\n",
              "      <td>10.937866</td>\n",
              "      <td>7.345759</td>\n",
              "    </tr>\n",
              "    <tr>\n",
              "      <th>std</th>\n",
              "      <td>10.243859</td>\n",
              "      <td>6.610859</td>\n",
              "    </tr>\n",
              "    <tr>\n",
              "      <th>min</th>\n",
              "      <td>2.000000</td>\n",
              "      <td>1.000000</td>\n",
              "    </tr>\n",
              "    <tr>\n",
              "      <th>25%</th>\n",
              "      <td>7.000000</td>\n",
              "      <td>5.000000</td>\n",
              "    </tr>\n",
              "    <tr>\n",
              "      <th>50%</th>\n",
              "      <td>8.000000</td>\n",
              "      <td>6.000000</td>\n",
              "    </tr>\n",
              "    <tr>\n",
              "      <th>75%</th>\n",
              "      <td>12.000000</td>\n",
              "      <td>8.000000</td>\n",
              "    </tr>\n",
              "    <tr>\n",
              "      <th>max</th>\n",
              "      <td>195.000000</td>\n",
              "      <td>190.000000</td>\n",
              "    </tr>\n",
              "  </tbody>\n",
              "</table>\n",
              "</div>"
            ],
            "text/plain": [
              "       Total hospital stay  Postoperative hospital stay\n",
              "count          7178.000000                  7109.000000\n",
              "mean             10.937866                     7.345759\n",
              "std              10.243859                     6.610859\n",
              "min               2.000000                     1.000000\n",
              "25%               7.000000                     5.000000\n",
              "50%               8.000000                     6.000000\n",
              "75%              12.000000                     8.000000\n",
              "max             195.000000                   190.000000"
            ]
          },
          "metadata": {},
          "execution_count": 108
        }
      ]
    },
    {
      "cell_type": "code",
      "metadata": {
        "colab": {
          "base_uri": "https://localhost:8080/"
        },
        "id": "_czrVRGeR8L7",
        "outputId": "462fdd38-0485-4313-edc6-0329bea0b424"
      },
      "source": [
        "df_poland_grp_1 = df_poland['Total hospital stay'].groupby(df_poland['Outcome at discharge']).mean()\n",
        "df_poland_grp_1"
      ],
      "execution_count": null,
      "outputs": [
        {
          "output_type": "execute_result",
          "data": {
            "text/plain": [
              "Outcome at discharge\n",
              "Alive    10.774398\n",
              "Dead     26.012987\n",
              "Name: Total hospital stay, dtype: float64"
            ]
          },
          "metadata": {},
          "execution_count": 109
        }
      ]
    },
    {
      "cell_type": "code",
      "metadata": {
        "colab": {
          "base_uri": "https://localhost:8080/"
        },
        "id": "G1jk3ebVX_f0",
        "outputId": "eeabce71-3637-41b2-974b-1c113c43c723"
      },
      "source": [
        "df_poland_grp_2 = df_poland['Postoperative hospital stay'].groupby(df_poland['Outcome at discharge']).mean()\n",
        "df_poland_grp_2"
      ],
      "execution_count": null,
      "outputs": [
        {
          "output_type": "execute_result",
          "data": {
            "text/plain": [
              "Outcome at discharge\n",
              "Alive     7.179155\n",
              "Dead     22.763158\n",
              "Name: Postoperative hospital stay, dtype: float64"
            ]
          },
          "metadata": {},
          "execution_count": 110
        }
      ]
    },
    {
      "cell_type": "code",
      "metadata": {
        "id": "-acP10xcR4de"
      },
      "source": [
        "# back filling null values\n",
        "if df_poland['Outcome at discharge'].any() == 'Alive':\n",
        "  df_poland['Total hospital stay'] = df_poland['Total hospital stay'].fillna(10.774398)\n",
        "  df_poland['Postoperative hospital stay'] = df_poland['Postoperative hospital stay'].fillna(7.179155)\n",
        "else:\n",
        "  df_poland['Total hospital stay'] = df_poland['Total hospital stay'].fillna(26.012987)\n",
        "  df_poland['Postoperative hospital stay'] = df_poland['Postoperative hospital stay'].fillna(22.763158)"
      ],
      "execution_count": null,
      "outputs": []
    },
    {
      "cell_type": "code",
      "metadata": {
        "colab": {
          "base_uri": "https://localhost:8080/"
        },
        "id": "eBveiIqLUgzC",
        "outputId": "3aff1b25-0c5f-4ac5-f0fd-972b53e377f2"
      },
      "source": [
        "df_poland[['Total hospital stay','Postoperative hospital stay']].isnull().sum()"
      ],
      "execution_count": null,
      "outputs": [
        {
          "output_type": "execute_result",
          "data": {
            "text/plain": [
              "Total hospital stay            0\n",
              "Postoperative hospital stay    0\n",
              "dtype: int64"
            ]
          },
          "metadata": {},
          "execution_count": 112
        }
      ]
    },
    {
      "cell_type": "code",
      "metadata": {
        "colab": {
          "base_uri": "https://localhost:8080/",
          "height": 424
        },
        "id": "Ij9AhxjtXxeW",
        "outputId": "75865759-79a3-4afd-b83a-c553b71e068b"
      },
      "source": [
        "df_poland[['Total hospital stay','Postoperative hospital stay']]\n"
      ],
      "execution_count": null,
      "outputs": [
        {
          "output_type": "execute_result",
          "data": {
            "text/html": [
              "<div>\n",
              "<style scoped>\n",
              "    .dataframe tbody tr th:only-of-type {\n",
              "        vertical-align: middle;\n",
              "    }\n",
              "\n",
              "    .dataframe tbody tr th {\n",
              "        vertical-align: top;\n",
              "    }\n",
              "\n",
              "    .dataframe thead th {\n",
              "        text-align: right;\n",
              "    }\n",
              "</style>\n",
              "<table border=\"1\" class=\"dataframe\">\n",
              "  <thead>\n",
              "    <tr style=\"text-align: right;\">\n",
              "      <th></th>\n",
              "      <th>Total hospital stay</th>\n",
              "      <th>Postoperative hospital stay</th>\n",
              "    </tr>\n",
              "  </thead>\n",
              "  <tbody>\n",
              "    <tr>\n",
              "      <th>0</th>\n",
              "      <td>8.0</td>\n",
              "      <td>7.0</td>\n",
              "    </tr>\n",
              "    <tr>\n",
              "      <th>1</th>\n",
              "      <td>6.0</td>\n",
              "      <td>3.0</td>\n",
              "    </tr>\n",
              "    <tr>\n",
              "      <th>2</th>\n",
              "      <td>8.0</td>\n",
              "      <td>5.0</td>\n",
              "    </tr>\n",
              "    <tr>\n",
              "      <th>3</th>\n",
              "      <td>6.0</td>\n",
              "      <td>4.0</td>\n",
              "    </tr>\n",
              "    <tr>\n",
              "      <th>4</th>\n",
              "      <td>5.0</td>\n",
              "      <td>4.0</td>\n",
              "    </tr>\n",
              "    <tr>\n",
              "      <th>...</th>\n",
              "      <td>...</td>\n",
              "      <td>...</td>\n",
              "    </tr>\n",
              "    <tr>\n",
              "      <th>7297</th>\n",
              "      <td>7.0</td>\n",
              "      <td>6.0</td>\n",
              "    </tr>\n",
              "    <tr>\n",
              "      <th>7298</th>\n",
              "      <td>6.0</td>\n",
              "      <td>5.0</td>\n",
              "    </tr>\n",
              "    <tr>\n",
              "      <th>7299</th>\n",
              "      <td>7.0</td>\n",
              "      <td>6.0</td>\n",
              "    </tr>\n",
              "    <tr>\n",
              "      <th>7300</th>\n",
              "      <td>5.0</td>\n",
              "      <td>4.0</td>\n",
              "    </tr>\n",
              "    <tr>\n",
              "      <th>7301</th>\n",
              "      <td>7.0</td>\n",
              "      <td>6.0</td>\n",
              "    </tr>\n",
              "  </tbody>\n",
              "</table>\n",
              "<p>7302 rows × 2 columns</p>\n",
              "</div>"
            ],
            "text/plain": [
              "      Total hospital stay  Postoperative hospital stay\n",
              "0                     8.0                          7.0\n",
              "1                     6.0                          3.0\n",
              "2                     8.0                          5.0\n",
              "3                     6.0                          4.0\n",
              "4                     5.0                          4.0\n",
              "...                   ...                          ...\n",
              "7297                  7.0                          6.0\n",
              "7298                  6.0                          5.0\n",
              "7299                  7.0                          6.0\n",
              "7300                  5.0                          4.0\n",
              "7301                  7.0                          6.0\n",
              "\n",
              "[7302 rows x 2 columns]"
            ]
          },
          "metadata": {},
          "execution_count": 113
        }
      ]
    },
    {
      "cell_type": "code",
      "metadata": {
        "colab": {
          "base_uri": "https://localhost:8080/"
        },
        "id": "hBy-epFpZM5P",
        "outputId": "e56a53bf-9cb3-459e-920f-4093a943b65a"
      },
      "source": [
        "df_poland.isnull().sum() / len(df_poland) * 100"
      ],
      "execution_count": null,
      "outputs": [
        {
          "output_type": "execute_result",
          "data": {
            "text/plain": [
              "Invasive mediastinal staging    0.000000\n",
              "Date of surgery                 0.000000\n",
              "Approach                        0.109559\n",
              "Type of surgery                 0.000000\n",
              "Sleeve - bronchial              0.000000\n",
              "Histology                       1.054506\n",
              "Stage                           1.314708\n",
              "Stage.1                         1.314708\n",
              "Total hospital stay             0.000000\n",
              "Postoperative hospital stay     0.000000\n",
              "Outcome at discharge            0.000000\n",
              "unique_ID                       0.000000\n",
              "dtype: float64"
            ]
          },
          "metadata": {},
          "execution_count": 114
        }
      ]
    },
    {
      "cell_type": "code",
      "metadata": {
        "colab": {
          "base_uri": "https://localhost:8080/",
          "height": 424
        },
        "id": "xifAq5Pta4Rw",
        "outputId": "e650c8c0-e3e4-470c-9267-c0a6c4590997"
      },
      "source": [
        "df_poland[['Histology','Stage','Stage.1']]"
      ],
      "execution_count": null,
      "outputs": [
        {
          "output_type": "execute_result",
          "data": {
            "text/html": [
              "<div>\n",
              "<style scoped>\n",
              "    .dataframe tbody tr th:only-of-type {\n",
              "        vertical-align: middle;\n",
              "    }\n",
              "\n",
              "    .dataframe tbody tr th {\n",
              "        vertical-align: top;\n",
              "    }\n",
              "\n",
              "    .dataframe thead th {\n",
              "        text-align: right;\n",
              "    }\n",
              "</style>\n",
              "<table border=\"1\" class=\"dataframe\">\n",
              "  <thead>\n",
              "    <tr style=\"text-align: right;\">\n",
              "      <th></th>\n",
              "      <th>Histology</th>\n",
              "      <th>Stage</th>\n",
              "      <th>Stage.1</th>\n",
              "    </tr>\n",
              "  </thead>\n",
              "  <tbody>\n",
              "    <tr>\n",
              "      <th>0</th>\n",
              "      <td>Adenocarcinoma</td>\n",
              "      <td>I</td>\n",
              "      <td>Early</td>\n",
              "    </tr>\n",
              "    <tr>\n",
              "      <th>1</th>\n",
              "      <td>Squamous cell carcinoma</td>\n",
              "      <td>IV</td>\n",
              "      <td>Advanced</td>\n",
              "    </tr>\n",
              "    <tr>\n",
              "      <th>2</th>\n",
              "      <td>Adenocarcinoma</td>\n",
              "      <td>I</td>\n",
              "      <td>Early</td>\n",
              "    </tr>\n",
              "    <tr>\n",
              "      <th>3</th>\n",
              "      <td>Squamous cell carcinoma</td>\n",
              "      <td>I</td>\n",
              "      <td>Early</td>\n",
              "    </tr>\n",
              "    <tr>\n",
              "      <th>4</th>\n",
              "      <td>Adenocarcinoma</td>\n",
              "      <td>I</td>\n",
              "      <td>Early</td>\n",
              "    </tr>\n",
              "    <tr>\n",
              "      <th>...</th>\n",
              "      <td>...</td>\n",
              "      <td>...</td>\n",
              "      <td>...</td>\n",
              "    </tr>\n",
              "    <tr>\n",
              "      <th>7297</th>\n",
              "      <td>Adenocarcinoma</td>\n",
              "      <td>I</td>\n",
              "      <td>Early</td>\n",
              "    </tr>\n",
              "    <tr>\n",
              "      <th>7298</th>\n",
              "      <td>Adenocarcinoma</td>\n",
              "      <td>I</td>\n",
              "      <td>Early</td>\n",
              "    </tr>\n",
              "    <tr>\n",
              "      <th>7299</th>\n",
              "      <td>Squamous cell carcinoma</td>\n",
              "      <td>II</td>\n",
              "      <td>Early</td>\n",
              "    </tr>\n",
              "    <tr>\n",
              "      <th>7300</th>\n",
              "      <td>Adenocarcinoma</td>\n",
              "      <td>I</td>\n",
              "      <td>Early</td>\n",
              "    </tr>\n",
              "    <tr>\n",
              "      <th>7301</th>\n",
              "      <td>Adenocarcinoma</td>\n",
              "      <td>I</td>\n",
              "      <td>Early</td>\n",
              "    </tr>\n",
              "  </tbody>\n",
              "</table>\n",
              "<p>7302 rows × 3 columns</p>\n",
              "</div>"
            ],
            "text/plain": [
              "                    Histology Stage   Stage.1\n",
              "0              Adenocarcinoma     I     Early\n",
              "1     Squamous cell carcinoma    IV  Advanced\n",
              "2              Adenocarcinoma     I     Early\n",
              "3     Squamous cell carcinoma     I     Early\n",
              "4              Adenocarcinoma     I     Early\n",
              "...                       ...   ...       ...\n",
              "7297           Adenocarcinoma     I     Early\n",
              "7298           Adenocarcinoma     I     Early\n",
              "7299  Squamous cell carcinoma    II     Early\n",
              "7300           Adenocarcinoma     I     Early\n",
              "7301           Adenocarcinoma     I     Early\n",
              "\n",
              "[7302 rows x 3 columns]"
            ]
          },
          "metadata": {},
          "execution_count": 115
        }
      ]
    },
    {
      "cell_type": "code",
      "metadata": {
        "colab": {
          "base_uri": "https://localhost:8080/"
        },
        "id": "W_ssd-MPZPhc",
        "outputId": "8900d44b-7044-4ff0-b38b-dda69472a040"
      },
      "source": [
        "df_poland[['Histology','Stage','Stage.1']].isnull().sum()"
      ],
      "execution_count": null,
      "outputs": [
        {
          "output_type": "execute_result",
          "data": {
            "text/plain": [
              "Histology    77\n",
              "Stage        96\n",
              "Stage.1      96\n",
              "dtype: int64"
            ]
          },
          "metadata": {},
          "execution_count": 116
        }
      ]
    },
    {
      "cell_type": "code",
      "metadata": {
        "id": "ig9S3LGgZd_U"
      },
      "source": [
        "df_poland_test = df_poland[['Histology','Stage','Stage.1']].dropna(axis=0)"
      ],
      "execution_count": null,
      "outputs": []
    },
    {
      "cell_type": "code",
      "metadata": {
        "colab": {
          "base_uri": "https://localhost:8080/"
        },
        "id": "64AqqQZbang0",
        "outputId": "c0969866-90e0-4264-acd1-0bcfd6f71349"
      },
      "source": [
        "df_poland[['Histology','Stage','Stage.1']].shape[0] - df_poland_test.shape[0]"
      ],
      "execution_count": null,
      "outputs": [
        {
          "output_type": "execute_result",
          "data": {
            "text/plain": [
              "96"
            ]
          },
          "metadata": {},
          "execution_count": 118
        }
      ]
    },
    {
      "cell_type": "code",
      "metadata": {
        "colab": {
          "base_uri": "https://localhost:8080/"
        },
        "id": "BLdaHYMqZdo4",
        "outputId": "48d660cb-c640-4005-9479-aea6c6e40a1f"
      },
      "source": [
        "df_poland_test.shape"
      ],
      "execution_count": null,
      "outputs": [
        {
          "output_type": "execute_result",
          "data": {
            "text/plain": [
              "(7206, 3)"
            ]
          },
          "metadata": {},
          "execution_count": 119
        }
      ]
    },
    {
      "cell_type": "code",
      "metadata": {
        "colab": {
          "base_uri": "https://localhost:8080/"
        },
        "id": "M_9H3UjWZdyz",
        "outputId": "84b3c1dc-ce94-46de-e218-4df744b92fdb"
      },
      "source": [
        "df_poland_test.isnull().sum()"
      ],
      "execution_count": null,
      "outputs": [
        {
          "output_type": "execute_result",
          "data": {
            "text/plain": [
              "Histology    0\n",
              "Stage        0\n",
              "Stage.1      0\n",
              "dtype: int64"
            ]
          },
          "metadata": {},
          "execution_count": 120
        }
      ]
    },
    {
      "cell_type": "code",
      "metadata": {
        "id": "1G2nXLWAbC1l"
      },
      "source": [
        "df_poland.dropna(axis=0,inplace=True)"
      ],
      "execution_count": null,
      "outputs": []
    },
    {
      "cell_type": "code",
      "metadata": {
        "colab": {
          "base_uri": "https://localhost:8080/"
        },
        "id": "S0HCCn-WbN1P",
        "outputId": "b4fe01c8-1def-4f2d-fcfa-0d5ad757f29b"
      },
      "source": [
        "df_poland.isnull().sum() / len(df_poland) * 100"
      ],
      "execution_count": null,
      "outputs": [
        {
          "output_type": "execute_result",
          "data": {
            "text/plain": [
              "Invasive mediastinal staging    0.0\n",
              "Date of surgery                 0.0\n",
              "Approach                        0.0\n",
              "Type of surgery                 0.0\n",
              "Sleeve - bronchial              0.0\n",
              "Histology                       0.0\n",
              "Stage                           0.0\n",
              "Stage.1                         0.0\n",
              "Total hospital stay             0.0\n",
              "Postoperative hospital stay     0.0\n",
              "Outcome at discharge            0.0\n",
              "unique_ID                       0.0\n",
              "dtype: float64"
            ]
          },
          "metadata": {},
          "execution_count": 122
        }
      ]
    },
    {
      "cell_type": "code",
      "metadata": {
        "colab": {
          "base_uri": "https://localhost:8080/",
          "height": 510
        },
        "id": "yw_jWvoFbQAi",
        "outputId": "73d68923-0316-4ddf-9168-41034a58725e"
      },
      "source": [
        "df_poland"
      ],
      "execution_count": null,
      "outputs": [
        {
          "output_type": "execute_result",
          "data": {
            "text/html": [
              "<div>\n",
              "<style scoped>\n",
              "    .dataframe tbody tr th:only-of-type {\n",
              "        vertical-align: middle;\n",
              "    }\n",
              "\n",
              "    .dataframe tbody tr th {\n",
              "        vertical-align: top;\n",
              "    }\n",
              "\n",
              "    .dataframe thead th {\n",
              "        text-align: right;\n",
              "    }\n",
              "</style>\n",
              "<table border=\"1\" class=\"dataframe\">\n",
              "  <thead>\n",
              "    <tr style=\"text-align: right;\">\n",
              "      <th></th>\n",
              "      <th>Invasive mediastinal staging</th>\n",
              "      <th>Date of surgery</th>\n",
              "      <th>Approach</th>\n",
              "      <th>Type of surgery</th>\n",
              "      <th>Sleeve - bronchial</th>\n",
              "      <th>Histology</th>\n",
              "      <th>Stage</th>\n",
              "      <th>Stage.1</th>\n",
              "      <th>Total hospital stay</th>\n",
              "      <th>Postoperative hospital stay</th>\n",
              "      <th>Outcome at discharge</th>\n",
              "      <th>unique_ID</th>\n",
              "    </tr>\n",
              "  </thead>\n",
              "  <tbody>\n",
              "    <tr>\n",
              "      <th>0</th>\n",
              "      <td>NIE</td>\n",
              "      <td>2019</td>\n",
              "      <td>Open</td>\n",
              "      <td>Lobectomy</td>\n",
              "      <td>NO</td>\n",
              "      <td>Adenocarcinoma</td>\n",
              "      <td>I</td>\n",
              "      <td>Early</td>\n",
              "      <td>8.0</td>\n",
              "      <td>7.0</td>\n",
              "      <td>Alive</td>\n",
              "      <td>0</td>\n",
              "    </tr>\n",
              "    <tr>\n",
              "      <th>1</th>\n",
              "      <td>NIE</td>\n",
              "      <td>2019</td>\n",
              "      <td>VATS</td>\n",
              "      <td>Lobectomy</td>\n",
              "      <td>NO</td>\n",
              "      <td>Squamous cell carcinoma</td>\n",
              "      <td>IV</td>\n",
              "      <td>Advanced</td>\n",
              "      <td>6.0</td>\n",
              "      <td>3.0</td>\n",
              "      <td>Alive</td>\n",
              "      <td>1</td>\n",
              "    </tr>\n",
              "    <tr>\n",
              "      <th>2</th>\n",
              "      <td>NIE</td>\n",
              "      <td>2019</td>\n",
              "      <td>Open</td>\n",
              "      <td>Lobectomy</td>\n",
              "      <td>NO</td>\n",
              "      <td>Adenocarcinoma</td>\n",
              "      <td>I</td>\n",
              "      <td>Early</td>\n",
              "      <td>8.0</td>\n",
              "      <td>5.0</td>\n",
              "      <td>Alive</td>\n",
              "      <td>2</td>\n",
              "    </tr>\n",
              "    <tr>\n",
              "      <th>3</th>\n",
              "      <td>NIE</td>\n",
              "      <td>2019</td>\n",
              "      <td>Open</td>\n",
              "      <td>Lobectomy</td>\n",
              "      <td>NO</td>\n",
              "      <td>Squamous cell carcinoma</td>\n",
              "      <td>I</td>\n",
              "      <td>Early</td>\n",
              "      <td>6.0</td>\n",
              "      <td>4.0</td>\n",
              "      <td>Alive</td>\n",
              "      <td>3</td>\n",
              "    </tr>\n",
              "    <tr>\n",
              "      <th>4</th>\n",
              "      <td>TAK</td>\n",
              "      <td>2019</td>\n",
              "      <td>Open</td>\n",
              "      <td>Lobectomy</td>\n",
              "      <td>NO</td>\n",
              "      <td>Adenocarcinoma</td>\n",
              "      <td>I</td>\n",
              "      <td>Early</td>\n",
              "      <td>5.0</td>\n",
              "      <td>4.0</td>\n",
              "      <td>Alive</td>\n",
              "      <td>4</td>\n",
              "    </tr>\n",
              "    <tr>\n",
              "      <th>...</th>\n",
              "      <td>...</td>\n",
              "      <td>...</td>\n",
              "      <td>...</td>\n",
              "      <td>...</td>\n",
              "      <td>...</td>\n",
              "      <td>...</td>\n",
              "      <td>...</td>\n",
              "      <td>...</td>\n",
              "      <td>...</td>\n",
              "      <td>...</td>\n",
              "      <td>...</td>\n",
              "      <td>...</td>\n",
              "    </tr>\n",
              "    <tr>\n",
              "      <th>7297</th>\n",
              "      <td>NO</td>\n",
              "      <td>2020</td>\n",
              "      <td>VATS</td>\n",
              "      <td>Lobectomy</td>\n",
              "      <td>NO</td>\n",
              "      <td>Adenocarcinoma</td>\n",
              "      <td>I</td>\n",
              "      <td>Early</td>\n",
              "      <td>7.0</td>\n",
              "      <td>6.0</td>\n",
              "      <td>Alive</td>\n",
              "      <td>7297</td>\n",
              "    </tr>\n",
              "    <tr>\n",
              "      <th>7298</th>\n",
              "      <td>NO</td>\n",
              "      <td>2020</td>\n",
              "      <td>VATS</td>\n",
              "      <td>Lobectomy</td>\n",
              "      <td>NO</td>\n",
              "      <td>Adenocarcinoma</td>\n",
              "      <td>I</td>\n",
              "      <td>Early</td>\n",
              "      <td>6.0</td>\n",
              "      <td>5.0</td>\n",
              "      <td>Alive</td>\n",
              "      <td>7298</td>\n",
              "    </tr>\n",
              "    <tr>\n",
              "      <th>7299</th>\n",
              "      <td>NO</td>\n",
              "      <td>2020</td>\n",
              "      <td>Open</td>\n",
              "      <td>Lobectomy</td>\n",
              "      <td>NO</td>\n",
              "      <td>Squamous cell carcinoma</td>\n",
              "      <td>II</td>\n",
              "      <td>Early</td>\n",
              "      <td>7.0</td>\n",
              "      <td>6.0</td>\n",
              "      <td>Alive</td>\n",
              "      <td>7299</td>\n",
              "    </tr>\n",
              "    <tr>\n",
              "      <th>7300</th>\n",
              "      <td>NO</td>\n",
              "      <td>2020</td>\n",
              "      <td>VATS</td>\n",
              "      <td>Lobectomy</td>\n",
              "      <td>NO</td>\n",
              "      <td>Adenocarcinoma</td>\n",
              "      <td>I</td>\n",
              "      <td>Early</td>\n",
              "      <td>5.0</td>\n",
              "      <td>4.0</td>\n",
              "      <td>Alive</td>\n",
              "      <td>7300</td>\n",
              "    </tr>\n",
              "    <tr>\n",
              "      <th>7301</th>\n",
              "      <td>NO</td>\n",
              "      <td>2020</td>\n",
              "      <td>VATS</td>\n",
              "      <td>Lobectomy</td>\n",
              "      <td>NO</td>\n",
              "      <td>Adenocarcinoma</td>\n",
              "      <td>I</td>\n",
              "      <td>Early</td>\n",
              "      <td>7.0</td>\n",
              "      <td>6.0</td>\n",
              "      <td>Alive</td>\n",
              "      <td>7301</td>\n",
              "    </tr>\n",
              "  </tbody>\n",
              "</table>\n",
              "<p>7199 rows × 12 columns</p>\n",
              "</div>"
            ],
            "text/plain": [
              "     Invasive mediastinal staging  ...  unique_ID\n",
              "0                             NIE  ...          0\n",
              "1                             NIE  ...          1\n",
              "2                             NIE  ...          2\n",
              "3                             NIE  ...          3\n",
              "4                             TAK  ...          4\n",
              "...                           ...  ...        ...\n",
              "7297                           NO  ...       7297\n",
              "7298                           NO  ...       7298\n",
              "7299                           NO  ...       7299\n",
              "7300                           NO  ...       7300\n",
              "7301                           NO  ...       7301\n",
              "\n",
              "[7199 rows x 12 columns]"
            ]
          },
          "metadata": {},
          "execution_count": 93
        }
      ]
    },
    {
      "cell_type": "code",
      "metadata": {
        "id": "uY3syrkqN05-"
      },
      "source": [
        ""
      ],
      "execution_count": null,
      "outputs": []
    },
    {
      "cell_type": "code",
      "metadata": {
        "id": "jFdNyQB0N0pI"
      },
      "source": [
        ""
      ],
      "execution_count": null,
      "outputs": []
    },
    {
      "cell_type": "code",
      "metadata": {
        "id": "hAsOH0jeN0hB"
      },
      "source": [
        ""
      ],
      "execution_count": null,
      "outputs": []
    },
    {
      "cell_type": "code",
      "metadata": {
        "id": "3BhjJcAdN0X3"
      },
      "source": [
        ""
      ],
      "execution_count": null,
      "outputs": []
    },
    {
      "cell_type": "code",
      "metadata": {
        "id": "pM1xIrAWN0NA"
      },
      "source": [
        ""
      ],
      "execution_count": null,
      "outputs": []
    }
  ]
}