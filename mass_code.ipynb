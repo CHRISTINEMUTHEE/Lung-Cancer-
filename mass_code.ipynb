{
  "nbformat": 4,
  "nbformat_minor": 0,
  "metadata": {
    "colab": {
      "name": "mass_code.ipynb",
      "provenance": [],
      "collapsed_sections": [],
      "toc_visible": true,
      "include_colab_link": true
    },
    "kernelspec": {
      "name": "python3",
      "display_name": "Python 3"
    },
    "language_info": {
      "name": "python"
    }
  },
  "cells": [
    {
      "cell_type": "markdown",
      "metadata": {
        "id": "view-in-github",
        "colab_type": "text"
      },
      "source": [
        "<a href=\"https://colab.research.google.com/github/mburu-mwangi/Lung-Cancer-/blob/main/mass_code.ipynb\" target=\"_parent\"><img src=\"https://colab.research.google.com/assets/colab-badge.svg\" alt=\"Open In Colab\"/></a>"
      ]
    },
    {
      "cell_type": "markdown",
      "metadata": {
        "id": "aahw9EkJHFG7"
      },
      "source": [
        "# Lung cancer Analysis\n"
      ]
    },
    {
      "cell_type": "code",
      "metadata": {
        "id": "qg-DIigXOMV0"
      },
      "source": [
        "# Importing the necessary libraries\n",
        "import pandas as pd\n",
        "import numpy as np\n",
        "import matplotlib.pyplot as plt\n",
        "import seaborn as sns"
      ],
      "execution_count": 1,
      "outputs": []
    },
    {
      "cell_type": "markdown",
      "metadata": {
        "id": "WwVYPGrAHixu"
      },
      "source": [
        "# Loading of the Dataset"
      ]
    },
    {
      "cell_type": "code",
      "metadata": {
        "id": "Kt1CqjFt0NkS"
      },
      "source": [
        "# Loading the dataset\n",
        "url='https://drive.google.com/file/d/1hIjlEeOgcVUQQ36LcnyT1_xBNBuRE7NY/view?usp=sharing'\n",
        "url2='https://drive.google.com/uc?id=' + url.split('/')[-2]\n",
        "df = pd.read_csv(url2)"
      ],
      "execution_count": 2,
      "outputs": []
    },
    {
      "cell_type": "code",
      "metadata": {
        "id": "eoY3VxzEOgW8"
      },
      "source": [
        "#df_poland = pd.read_csv(\"covid_caner_poland.csv\")"
      ],
      "execution_count": 3,
      "outputs": []
    },
    {
      "cell_type": "code",
      "metadata": {
        "id": "i3rlQwHpOgSe"
      },
      "source": [
        "# Craeting a copy of the same set\n",
        "df_poland =  df.copy()"
      ],
      "execution_count": 4,
      "outputs": []
    },
    {
      "cell_type": "code",
      "metadata": {
        "colab": {
          "base_uri": "https://localhost:8080/",
          "height": 296
        },
        "id": "F7r2ZqcJ0qHm",
        "outputId": "c249b935-ec37-4fc0-ef59-692930fd2bd4"
      },
      "source": [
        "# Checking the head of the dataset\n",
        "df_poland.head()"
      ],
      "execution_count": 5,
      "outputs": [
        {
          "output_type": "execute_result",
          "data": {
            "text/html": [
              "<div>\n",
              "<style scoped>\n",
              "    .dataframe tbody tr th:only-of-type {\n",
              "        vertical-align: middle;\n",
              "    }\n",
              "\n",
              "    .dataframe tbody tr th {\n",
              "        vertical-align: top;\n",
              "    }\n",
              "\n",
              "    .dataframe thead th {\n",
              "        text-align: right;\n",
              "    }\n",
              "</style>\n",
              "<table border=\"1\" class=\"dataframe\">\n",
              "  <thead>\n",
              "    <tr style=\"text-align: right;\">\n",
              "      <th></th>\n",
              "      <th>Invasive mediastinal staging</th>\n",
              "      <th>Date of surgery</th>\n",
              "      <th>Approach</th>\n",
              "      <th>Type of surgery</th>\n",
              "      <th>Sleeve - bronchial</th>\n",
              "      <th>Histology</th>\n",
              "      <th>Stage</th>\n",
              "      <th>Stage.1</th>\n",
              "      <th>Total hospital stay</th>\n",
              "      <th>Postoperative hospital stay</th>\n",
              "      <th>Outcome at discharge</th>\n",
              "    </tr>\n",
              "  </thead>\n",
              "  <tbody>\n",
              "    <tr>\n",
              "      <th>0</th>\n",
              "      <td>NIE</td>\n",
              "      <td>2019</td>\n",
              "      <td>Open</td>\n",
              "      <td>Lobectomy</td>\n",
              "      <td>NO</td>\n",
              "      <td>Adenocarcinoma</td>\n",
              "      <td>I</td>\n",
              "      <td>Early</td>\n",
              "      <td>8.0</td>\n",
              "      <td>7.0</td>\n",
              "      <td>Alive</td>\n",
              "    </tr>\n",
              "    <tr>\n",
              "      <th>1</th>\n",
              "      <td>NIE</td>\n",
              "      <td>2019</td>\n",
              "      <td>VATS</td>\n",
              "      <td>Lobectomy</td>\n",
              "      <td>NO</td>\n",
              "      <td>Squamous cell carcinoma</td>\n",
              "      <td>IV</td>\n",
              "      <td>Advanced</td>\n",
              "      <td>6.0</td>\n",
              "      <td>3.0</td>\n",
              "      <td>Alive</td>\n",
              "    </tr>\n",
              "    <tr>\n",
              "      <th>2</th>\n",
              "      <td>NIE</td>\n",
              "      <td>2019</td>\n",
              "      <td>Open</td>\n",
              "      <td>Lobectomy</td>\n",
              "      <td>NO</td>\n",
              "      <td>Adenocarcinoma</td>\n",
              "      <td>I</td>\n",
              "      <td>Early</td>\n",
              "      <td>8.0</td>\n",
              "      <td>5.0</td>\n",
              "      <td>Alive</td>\n",
              "    </tr>\n",
              "    <tr>\n",
              "      <th>3</th>\n",
              "      <td>NIE</td>\n",
              "      <td>2019</td>\n",
              "      <td>Open</td>\n",
              "      <td>Lobectomy</td>\n",
              "      <td>NO</td>\n",
              "      <td>Squamous cell carcinoma</td>\n",
              "      <td>I</td>\n",
              "      <td>Early</td>\n",
              "      <td>6.0</td>\n",
              "      <td>4.0</td>\n",
              "      <td>Alive</td>\n",
              "    </tr>\n",
              "    <tr>\n",
              "      <th>4</th>\n",
              "      <td>TAK</td>\n",
              "      <td>2019</td>\n",
              "      <td>Open</td>\n",
              "      <td>Lobectomy</td>\n",
              "      <td>NO</td>\n",
              "      <td>Adenocarcinoma</td>\n",
              "      <td>I</td>\n",
              "      <td>Early</td>\n",
              "      <td>5.0</td>\n",
              "      <td>4.0</td>\n",
              "      <td>Alive</td>\n",
              "    </tr>\n",
              "  </tbody>\n",
              "</table>\n",
              "</div>"
            ],
            "text/plain": [
              "  Invasive mediastinal staging  ...  Outcome at discharge\n",
              "0                          NIE  ...                 Alive\n",
              "1                          NIE  ...                 Alive\n",
              "2                          NIE  ...                 Alive\n",
              "3                          NIE  ...                 Alive\n",
              "4                          TAK  ...                 Alive\n",
              "\n",
              "[5 rows x 11 columns]"
            ]
          },
          "metadata": {},
          "execution_count": 5
        }
      ]
    },
    {
      "cell_type": "code",
      "metadata": {
        "id": "vvuwi8xGOgQD",
        "colab": {
          "base_uri": "https://localhost:8080/",
          "height": 327
        },
        "outputId": "966e6f69-5416-468b-822a-763b896029d4"
      },
      "source": [
        "# Creating usique identifiers of my dataset.\n",
        "df_poland['unique_ID'] = [i for i in range(df_poland.shape[0])]\n",
        "# Confirming the operation\n",
        "df_poland.set_index('unique_ID').head()"
      ],
      "execution_count": 6,
      "outputs": [
        {
          "output_type": "execute_result",
          "data": {
            "text/html": [
              "<div>\n",
              "<style scoped>\n",
              "    .dataframe tbody tr th:only-of-type {\n",
              "        vertical-align: middle;\n",
              "    }\n",
              "\n",
              "    .dataframe tbody tr th {\n",
              "        vertical-align: top;\n",
              "    }\n",
              "\n",
              "    .dataframe thead th {\n",
              "        text-align: right;\n",
              "    }\n",
              "</style>\n",
              "<table border=\"1\" class=\"dataframe\">\n",
              "  <thead>\n",
              "    <tr style=\"text-align: right;\">\n",
              "      <th></th>\n",
              "      <th>Invasive mediastinal staging</th>\n",
              "      <th>Date of surgery</th>\n",
              "      <th>Approach</th>\n",
              "      <th>Type of surgery</th>\n",
              "      <th>Sleeve - bronchial</th>\n",
              "      <th>Histology</th>\n",
              "      <th>Stage</th>\n",
              "      <th>Stage.1</th>\n",
              "      <th>Total hospital stay</th>\n",
              "      <th>Postoperative hospital stay</th>\n",
              "      <th>Outcome at discharge</th>\n",
              "    </tr>\n",
              "    <tr>\n",
              "      <th>unique_ID</th>\n",
              "      <th></th>\n",
              "      <th></th>\n",
              "      <th></th>\n",
              "      <th></th>\n",
              "      <th></th>\n",
              "      <th></th>\n",
              "      <th></th>\n",
              "      <th></th>\n",
              "      <th></th>\n",
              "      <th></th>\n",
              "      <th></th>\n",
              "    </tr>\n",
              "  </thead>\n",
              "  <tbody>\n",
              "    <tr>\n",
              "      <th>0</th>\n",
              "      <td>NIE</td>\n",
              "      <td>2019</td>\n",
              "      <td>Open</td>\n",
              "      <td>Lobectomy</td>\n",
              "      <td>NO</td>\n",
              "      <td>Adenocarcinoma</td>\n",
              "      <td>I</td>\n",
              "      <td>Early</td>\n",
              "      <td>8.0</td>\n",
              "      <td>7.0</td>\n",
              "      <td>Alive</td>\n",
              "    </tr>\n",
              "    <tr>\n",
              "      <th>1</th>\n",
              "      <td>NIE</td>\n",
              "      <td>2019</td>\n",
              "      <td>VATS</td>\n",
              "      <td>Lobectomy</td>\n",
              "      <td>NO</td>\n",
              "      <td>Squamous cell carcinoma</td>\n",
              "      <td>IV</td>\n",
              "      <td>Advanced</td>\n",
              "      <td>6.0</td>\n",
              "      <td>3.0</td>\n",
              "      <td>Alive</td>\n",
              "    </tr>\n",
              "    <tr>\n",
              "      <th>2</th>\n",
              "      <td>NIE</td>\n",
              "      <td>2019</td>\n",
              "      <td>Open</td>\n",
              "      <td>Lobectomy</td>\n",
              "      <td>NO</td>\n",
              "      <td>Adenocarcinoma</td>\n",
              "      <td>I</td>\n",
              "      <td>Early</td>\n",
              "      <td>8.0</td>\n",
              "      <td>5.0</td>\n",
              "      <td>Alive</td>\n",
              "    </tr>\n",
              "    <tr>\n",
              "      <th>3</th>\n",
              "      <td>NIE</td>\n",
              "      <td>2019</td>\n",
              "      <td>Open</td>\n",
              "      <td>Lobectomy</td>\n",
              "      <td>NO</td>\n",
              "      <td>Squamous cell carcinoma</td>\n",
              "      <td>I</td>\n",
              "      <td>Early</td>\n",
              "      <td>6.0</td>\n",
              "      <td>4.0</td>\n",
              "      <td>Alive</td>\n",
              "    </tr>\n",
              "    <tr>\n",
              "      <th>4</th>\n",
              "      <td>TAK</td>\n",
              "      <td>2019</td>\n",
              "      <td>Open</td>\n",
              "      <td>Lobectomy</td>\n",
              "      <td>NO</td>\n",
              "      <td>Adenocarcinoma</td>\n",
              "      <td>I</td>\n",
              "      <td>Early</td>\n",
              "      <td>5.0</td>\n",
              "      <td>4.0</td>\n",
              "      <td>Alive</td>\n",
              "    </tr>\n",
              "  </tbody>\n",
              "</table>\n",
              "</div>"
            ],
            "text/plain": [
              "          Invasive mediastinal staging  ...  Outcome at discharge\n",
              "unique_ID                               ...                      \n",
              "0                                  NIE  ...                 Alive\n",
              "1                                  NIE  ...                 Alive\n",
              "2                                  NIE  ...                 Alive\n",
              "3                                  NIE  ...                 Alive\n",
              "4                                  TAK  ...                 Alive\n",
              "\n",
              "[5 rows x 11 columns]"
            ]
          },
          "metadata": {},
          "execution_count": 6
        }
      ]
    },
    {
      "cell_type": "markdown",
      "metadata": {
        "id": "rOsB9vorI45J"
      },
      "source": [
        "# Data Cleaning "
      ]
    },
    {
      "cell_type": "code",
      "metadata": {
        "id": "IYc6gmh8RAlA"
      },
      "source": [
        "#df_poland.to_csv('new_poland_covid_cancer.csv')"
      ],
      "execution_count": 7,
      "outputs": []
    },
    {
      "cell_type": "markdown",
      "metadata": {
        "id": "iCgQYoIsJKYT"
      },
      "source": [
        "## Duplicated Values"
      ]
    },
    {
      "cell_type": "code",
      "metadata": {
        "colab": {
          "base_uri": "https://localhost:8080/"
        },
        "id": "j0-bNDSiRSbD",
        "outputId": "cee5049a-edea-4083-971c-f9e6633a2c84"
      },
      "source": [
        "# Checking for duplicated values\n",
        "df_poland.duplicated().sum()\n"
      ],
      "execution_count": 8,
      "outputs": [
        {
          "output_type": "execute_result",
          "data": {
            "text/plain": [
              "0"
            ]
          },
          "metadata": {},
          "execution_count": 8
        }
      ]
    },
    {
      "cell_type": "markdown",
      "metadata": {
        "id": "I_QXohnqJS5K"
      },
      "source": [
        "#### There are no duplicated values in the dataset"
      ]
    },
    {
      "cell_type": "markdown",
      "metadata": {
        "id": "TQquG3Z4JbEr"
      },
      "source": [
        "## Checking for missing values in the dataset"
      ]
    },
    {
      "cell_type": "code",
      "metadata": {
        "id": "2UuKRn_OJjEv"
      },
      "source": [
        "# Creating a function to check for percentage of missing values and put it in a dataframe\n",
        "def missing_percentage(data):\n",
        "  df=(data.isnull().sum()/len(data)*100)\n",
        "  missing_frame=pd.DataFrame({\"Column_names\":df.index,\"%_missing\":df.values})\n",
        "  return missing_frame\n"
      ],
      "execution_count": 9,
      "outputs": []
    },
    {
      "cell_type": "code",
      "metadata": {
        "colab": {
          "base_uri": "https://localhost:8080/",
          "height": 426
        },
        "id": "gn8VZeQRKSgG",
        "outputId": "54fd2bd4-4046-4f5a-c857-af9a0af80a4f"
      },
      "source": [
        "# Executing the function\n",
        "missing_percentage(df_poland)"
      ],
      "execution_count": 10,
      "outputs": [
        {
          "output_type": "execute_result",
          "data": {
            "text/html": [
              "<div>\n",
              "<style scoped>\n",
              "    .dataframe tbody tr th:only-of-type {\n",
              "        vertical-align: middle;\n",
              "    }\n",
              "\n",
              "    .dataframe tbody tr th {\n",
              "        vertical-align: top;\n",
              "    }\n",
              "\n",
              "    .dataframe thead th {\n",
              "        text-align: right;\n",
              "    }\n",
              "</style>\n",
              "<table border=\"1\" class=\"dataframe\">\n",
              "  <thead>\n",
              "    <tr style=\"text-align: right;\">\n",
              "      <th></th>\n",
              "      <th>Column_names</th>\n",
              "      <th>%_missing</th>\n",
              "    </tr>\n",
              "  </thead>\n",
              "  <tbody>\n",
              "    <tr>\n",
              "      <th>0</th>\n",
              "      <td>Invasive mediastinal staging</td>\n",
              "      <td>0.000000</td>\n",
              "    </tr>\n",
              "    <tr>\n",
              "      <th>1</th>\n",
              "      <td>Date of surgery</td>\n",
              "      <td>0.000000</td>\n",
              "    </tr>\n",
              "    <tr>\n",
              "      <th>2</th>\n",
              "      <td>Approach</td>\n",
              "      <td>0.109559</td>\n",
              "    </tr>\n",
              "    <tr>\n",
              "      <th>3</th>\n",
              "      <td>Type of surgery</td>\n",
              "      <td>0.000000</td>\n",
              "    </tr>\n",
              "    <tr>\n",
              "      <th>4</th>\n",
              "      <td>Sleeve - bronchial</td>\n",
              "      <td>0.000000</td>\n",
              "    </tr>\n",
              "    <tr>\n",
              "      <th>5</th>\n",
              "      <td>Histology</td>\n",
              "      <td>1.054506</td>\n",
              "    </tr>\n",
              "    <tr>\n",
              "      <th>6</th>\n",
              "      <td>Stage</td>\n",
              "      <td>1.314708</td>\n",
              "    </tr>\n",
              "    <tr>\n",
              "      <th>7</th>\n",
              "      <td>Stage.1</td>\n",
              "      <td>1.314708</td>\n",
              "    </tr>\n",
              "    <tr>\n",
              "      <th>8</th>\n",
              "      <td>Total hospital stay</td>\n",
              "      <td>1.698165</td>\n",
              "    </tr>\n",
              "    <tr>\n",
              "      <th>9</th>\n",
              "      <td>Postoperative hospital stay</td>\n",
              "      <td>2.643111</td>\n",
              "    </tr>\n",
              "    <tr>\n",
              "      <th>10</th>\n",
              "      <td>Outcome at discharge</td>\n",
              "      <td>0.000000</td>\n",
              "    </tr>\n",
              "    <tr>\n",
              "      <th>11</th>\n",
              "      <td>unique_ID</td>\n",
              "      <td>0.000000</td>\n",
              "    </tr>\n",
              "  </tbody>\n",
              "</table>\n",
              "</div>"
            ],
            "text/plain": [
              "                    Column_names  %_missing\n",
              "0   Invasive mediastinal staging   0.000000\n",
              "1                Date of surgery   0.000000\n",
              "2                       Approach   0.109559\n",
              "3                Type of surgery   0.000000\n",
              "4             Sleeve - bronchial   0.000000\n",
              "5                      Histology   1.054506\n",
              "6                          Stage   1.314708\n",
              "7                        Stage.1   1.314708\n",
              "8            Total hospital stay   1.698165\n",
              "9    Postoperative hospital stay   2.643111\n",
              "10          Outcome at discharge   0.000000\n",
              "11                     unique_ID   0.000000"
            ]
          },
          "metadata": {},
          "execution_count": 10
        }
      ]
    },
    {
      "cell_type": "markdown",
      "metadata": {
        "id": "iGl1QNaeMF-r"
      },
      "source": [
        "#### Dealing with missing values"
      ]
    },
    {
      "cell_type": "code",
      "metadata": {
        "colab": {
          "base_uri": "https://localhost:8080/"
        },
        "id": "uD5mPqgzR8Sg",
        "outputId": "d88114d8-d1dd-4b86-fecd-c39ecb180860"
      },
      "source": [
        "# Checking datatypes\n",
        "df_poland[['Histology','Stage','Stage.1','Total hospital stay','Postoperative hospital stay']].dtypes"
      ],
      "execution_count": 11,
      "outputs": [
        {
          "output_type": "execute_result",
          "data": {
            "text/plain": [
              "Histology                       object\n",
              "Stage                           object\n",
              "Stage.1                         object\n",
              "Total hospital stay            float64\n",
              "Postoperative hospital stay    float64\n",
              "dtype: object"
            ]
          },
          "metadata": {},
          "execution_count": 11
        }
      ]
    },
    {
      "cell_type": "code",
      "metadata": {
        "id": "UDcWoorhMTSH"
      },
      "source": [
        "# A function to deal with missing values in the continous variables\n",
        "def fill_miss(data,col1,col2):\n",
        "  df1=data[col1].groupby(data[col2]).mean()\n",
        "  if data[col2].any =='Alive':\n",
        "    data[col1]=data[col1].fillna(df1[0])\n",
        "  else:\n",
        "    data[col1]=data[col1].fillna(df1[1])\n",
        "  return data.isnull().sum()\n"
      ],
      "execution_count": 12,
      "outputs": []
    },
    {
      "cell_type": "code",
      "metadata": {
        "colab": {
          "base_uri": "https://localhost:8080/"
        },
        "id": "m43DTtSANiij",
        "outputId": "597ad5da-d1f2-400b-972b-b04e290428cd"
      },
      "source": [
        "# Executong the function on the total hospital stay column\n",
        "fill_miss(df_poland,'Total hospital stay','Outcome at discharge')"
      ],
      "execution_count": 13,
      "outputs": [
        {
          "output_type": "execute_result",
          "data": {
            "text/plain": [
              "Invasive mediastinal staging      0\n",
              "Date of surgery                   0\n",
              "Approach                          8\n",
              "Type of surgery                   0\n",
              "Sleeve - bronchial                0\n",
              "Histology                        77\n",
              "Stage                            96\n",
              "Stage.1                          96\n",
              "Total hospital stay               0\n",
              "Postoperative hospital stay     193\n",
              "Outcome at discharge              0\n",
              "unique_ID                         0\n",
              "dtype: int64"
            ]
          },
          "metadata": {},
          "execution_count": 13
        }
      ]
    },
    {
      "cell_type": "code",
      "metadata": {
        "colab": {
          "base_uri": "https://localhost:8080/"
        },
        "id": "bX6MGV5eOM00",
        "outputId": "169c713a-8193-4e7c-9e08-fb9d0f9dd01f"
      },
      "source": [
        "# Executing the function on the post operative hospital stay column\n",
        "fill_miss(df_poland,'Postoperative hospital stay','Outcome at discharge')"
      ],
      "execution_count": 14,
      "outputs": [
        {
          "output_type": "execute_result",
          "data": {
            "text/plain": [
              "Invasive mediastinal staging     0\n",
              "Date of surgery                  0\n",
              "Approach                         8\n",
              "Type of surgery                  0\n",
              "Sleeve - bronchial               0\n",
              "Histology                       77\n",
              "Stage                           96\n",
              "Stage.1                         96\n",
              "Total hospital stay              0\n",
              "Postoperative hospital stay      0\n",
              "Outcome at discharge             0\n",
              "unique_ID                        0\n",
              "dtype: int64"
            ]
          },
          "metadata": {},
          "execution_count": 14
        }
      ]
    },
    {
      "cell_type": "markdown",
      "metadata": {
        "id": "y1VOhIz4Ozcy"
      },
      "source": [
        "#### Dealing with missing value in the other columns"
      ]
    },
    {
      "cell_type": "code",
      "metadata": {
        "colab": {
          "base_uri": "https://localhost:8080/"
        },
        "id": "W_ssd-MPZPhc",
        "outputId": "6f732901-46ab-4df2-f19a-5de7fa3c215a"
      },
      "source": [
        "# Categorical column which had a missing percentage of about 1.3%\n",
        "df_poland[['Histology','Stage','Stage.1']].isnull().sum()"
      ],
      "execution_count": 15,
      "outputs": [
        {
          "output_type": "execute_result",
          "data": {
            "text/plain": [
              "Histology    77\n",
              "Stage        96\n",
              "Stage.1      96\n",
              "dtype: int64"
            ]
          },
          "metadata": {},
          "execution_count": 15
        }
      ]
    },
    {
      "cell_type": "markdown",
      "metadata": {
        "id": "_NadYfcvO4eb"
      },
      "source": [
        "#### Dropping the missing values in the categorical columns"
      ]
    },
    {
      "cell_type": "code",
      "metadata": {
        "id": "1G2nXLWAbC1l"
      },
      "source": [
        "# Dropping the missing values in the  categorical columns\n",
        "df_poland.dropna(axis=0,inplace=True)"
      ],
      "execution_count": 16,
      "outputs": []
    },
    {
      "cell_type": "code",
      "metadata": {
        "colab": {
          "base_uri": "https://localhost:8080/",
          "height": 426
        },
        "id": "S0HCCn-WbN1P",
        "outputId": "823b59e6-1ca3-4327-9fba-ae841e5c1ad0"
      },
      "source": [
        "# Calling the function to check for missing values\n",
        "missing_percentage(df_poland)"
      ],
      "execution_count": 17,
      "outputs": [
        {
          "output_type": "execute_result",
          "data": {
            "text/html": [
              "<div>\n",
              "<style scoped>\n",
              "    .dataframe tbody tr th:only-of-type {\n",
              "        vertical-align: middle;\n",
              "    }\n",
              "\n",
              "    .dataframe tbody tr th {\n",
              "        vertical-align: top;\n",
              "    }\n",
              "\n",
              "    .dataframe thead th {\n",
              "        text-align: right;\n",
              "    }\n",
              "</style>\n",
              "<table border=\"1\" class=\"dataframe\">\n",
              "  <thead>\n",
              "    <tr style=\"text-align: right;\">\n",
              "      <th></th>\n",
              "      <th>Column_names</th>\n",
              "      <th>%_missing</th>\n",
              "    </tr>\n",
              "  </thead>\n",
              "  <tbody>\n",
              "    <tr>\n",
              "      <th>0</th>\n",
              "      <td>Invasive mediastinal staging</td>\n",
              "      <td>0.0</td>\n",
              "    </tr>\n",
              "    <tr>\n",
              "      <th>1</th>\n",
              "      <td>Date of surgery</td>\n",
              "      <td>0.0</td>\n",
              "    </tr>\n",
              "    <tr>\n",
              "      <th>2</th>\n",
              "      <td>Approach</td>\n",
              "      <td>0.0</td>\n",
              "    </tr>\n",
              "    <tr>\n",
              "      <th>3</th>\n",
              "      <td>Type of surgery</td>\n",
              "      <td>0.0</td>\n",
              "    </tr>\n",
              "    <tr>\n",
              "      <th>4</th>\n",
              "      <td>Sleeve - bronchial</td>\n",
              "      <td>0.0</td>\n",
              "    </tr>\n",
              "    <tr>\n",
              "      <th>5</th>\n",
              "      <td>Histology</td>\n",
              "      <td>0.0</td>\n",
              "    </tr>\n",
              "    <tr>\n",
              "      <th>6</th>\n",
              "      <td>Stage</td>\n",
              "      <td>0.0</td>\n",
              "    </tr>\n",
              "    <tr>\n",
              "      <th>7</th>\n",
              "      <td>Stage.1</td>\n",
              "      <td>0.0</td>\n",
              "    </tr>\n",
              "    <tr>\n",
              "      <th>8</th>\n",
              "      <td>Total hospital stay</td>\n",
              "      <td>0.0</td>\n",
              "    </tr>\n",
              "    <tr>\n",
              "      <th>9</th>\n",
              "      <td>Postoperative hospital stay</td>\n",
              "      <td>0.0</td>\n",
              "    </tr>\n",
              "    <tr>\n",
              "      <th>10</th>\n",
              "      <td>Outcome at discharge</td>\n",
              "      <td>0.0</td>\n",
              "    </tr>\n",
              "    <tr>\n",
              "      <th>11</th>\n",
              "      <td>unique_ID</td>\n",
              "      <td>0.0</td>\n",
              "    </tr>\n",
              "  </tbody>\n",
              "</table>\n",
              "</div>"
            ],
            "text/plain": [
              "                    Column_names  %_missing\n",
              "0   Invasive mediastinal staging        0.0\n",
              "1                Date of surgery        0.0\n",
              "2                       Approach        0.0\n",
              "3                Type of surgery        0.0\n",
              "4             Sleeve - bronchial        0.0\n",
              "5                      Histology        0.0\n",
              "6                          Stage        0.0\n",
              "7                        Stage.1        0.0\n",
              "8            Total hospital stay        0.0\n",
              "9    Postoperative hospital stay        0.0\n",
              "10          Outcome at discharge        0.0\n",
              "11                     unique_ID        0.0"
            ]
          },
          "metadata": {},
          "execution_count": 17
        }
      ]
    },
    {
      "cell_type": "markdown",
      "metadata": {
        "id": "plaWClZTPxeu"
      },
      "source": [
        "#### There are no more missing values in the dataset."
      ]
    },
    {
      "cell_type": "code",
      "metadata": {
        "id": "PYTF5mCu2wpv"
      },
      "source": [
        "# Setting unique_ID as the index\n",
        "df_poland = df_poland.set_index('unique_ID')"
      ],
      "execution_count": 18,
      "outputs": []
    },
    {
      "cell_type": "code",
      "metadata": {
        "colab": {
          "base_uri": "https://localhost:8080/",
          "height": 327
        },
        "id": "EQMqcZfrP-SY",
        "outputId": "f5d957de-f524-41c0-8654-a95b76e9cb01"
      },
      "source": [
        "# Confirming the operation\n",
        "df_poland.head()"
      ],
      "execution_count": 19,
      "outputs": [
        {
          "output_type": "execute_result",
          "data": {
            "text/html": [
              "<div>\n",
              "<style scoped>\n",
              "    .dataframe tbody tr th:only-of-type {\n",
              "        vertical-align: middle;\n",
              "    }\n",
              "\n",
              "    .dataframe tbody tr th {\n",
              "        vertical-align: top;\n",
              "    }\n",
              "\n",
              "    .dataframe thead th {\n",
              "        text-align: right;\n",
              "    }\n",
              "</style>\n",
              "<table border=\"1\" class=\"dataframe\">\n",
              "  <thead>\n",
              "    <tr style=\"text-align: right;\">\n",
              "      <th></th>\n",
              "      <th>Invasive mediastinal staging</th>\n",
              "      <th>Date of surgery</th>\n",
              "      <th>Approach</th>\n",
              "      <th>Type of surgery</th>\n",
              "      <th>Sleeve - bronchial</th>\n",
              "      <th>Histology</th>\n",
              "      <th>Stage</th>\n",
              "      <th>Stage.1</th>\n",
              "      <th>Total hospital stay</th>\n",
              "      <th>Postoperative hospital stay</th>\n",
              "      <th>Outcome at discharge</th>\n",
              "    </tr>\n",
              "    <tr>\n",
              "      <th>unique_ID</th>\n",
              "      <th></th>\n",
              "      <th></th>\n",
              "      <th></th>\n",
              "      <th></th>\n",
              "      <th></th>\n",
              "      <th></th>\n",
              "      <th></th>\n",
              "      <th></th>\n",
              "      <th></th>\n",
              "      <th></th>\n",
              "      <th></th>\n",
              "    </tr>\n",
              "  </thead>\n",
              "  <tbody>\n",
              "    <tr>\n",
              "      <th>0</th>\n",
              "      <td>NIE</td>\n",
              "      <td>2019</td>\n",
              "      <td>Open</td>\n",
              "      <td>Lobectomy</td>\n",
              "      <td>NO</td>\n",
              "      <td>Adenocarcinoma</td>\n",
              "      <td>I</td>\n",
              "      <td>Early</td>\n",
              "      <td>8.0</td>\n",
              "      <td>7.0</td>\n",
              "      <td>Alive</td>\n",
              "    </tr>\n",
              "    <tr>\n",
              "      <th>1</th>\n",
              "      <td>NIE</td>\n",
              "      <td>2019</td>\n",
              "      <td>VATS</td>\n",
              "      <td>Lobectomy</td>\n",
              "      <td>NO</td>\n",
              "      <td>Squamous cell carcinoma</td>\n",
              "      <td>IV</td>\n",
              "      <td>Advanced</td>\n",
              "      <td>6.0</td>\n",
              "      <td>3.0</td>\n",
              "      <td>Alive</td>\n",
              "    </tr>\n",
              "    <tr>\n",
              "      <th>2</th>\n",
              "      <td>NIE</td>\n",
              "      <td>2019</td>\n",
              "      <td>Open</td>\n",
              "      <td>Lobectomy</td>\n",
              "      <td>NO</td>\n",
              "      <td>Adenocarcinoma</td>\n",
              "      <td>I</td>\n",
              "      <td>Early</td>\n",
              "      <td>8.0</td>\n",
              "      <td>5.0</td>\n",
              "      <td>Alive</td>\n",
              "    </tr>\n",
              "    <tr>\n",
              "      <th>3</th>\n",
              "      <td>NIE</td>\n",
              "      <td>2019</td>\n",
              "      <td>Open</td>\n",
              "      <td>Lobectomy</td>\n",
              "      <td>NO</td>\n",
              "      <td>Squamous cell carcinoma</td>\n",
              "      <td>I</td>\n",
              "      <td>Early</td>\n",
              "      <td>6.0</td>\n",
              "      <td>4.0</td>\n",
              "      <td>Alive</td>\n",
              "    </tr>\n",
              "    <tr>\n",
              "      <th>4</th>\n",
              "      <td>TAK</td>\n",
              "      <td>2019</td>\n",
              "      <td>Open</td>\n",
              "      <td>Lobectomy</td>\n",
              "      <td>NO</td>\n",
              "      <td>Adenocarcinoma</td>\n",
              "      <td>I</td>\n",
              "      <td>Early</td>\n",
              "      <td>5.0</td>\n",
              "      <td>4.0</td>\n",
              "      <td>Alive</td>\n",
              "    </tr>\n",
              "  </tbody>\n",
              "</table>\n",
              "</div>"
            ],
            "text/plain": [
              "          Invasive mediastinal staging  ...  Outcome at discharge\n",
              "unique_ID                               ...                      \n",
              "0                                  NIE  ...                 Alive\n",
              "1                                  NIE  ...                 Alive\n",
              "2                                  NIE  ...                 Alive\n",
              "3                                  NIE  ...                 Alive\n",
              "4                                  TAK  ...                 Alive\n",
              "\n",
              "[5 rows x 11 columns]"
            ]
          },
          "metadata": {},
          "execution_count": 19
        }
      ]
    },
    {
      "cell_type": "markdown",
      "metadata": {
        "id": "R0XXLMzOQGlg"
      },
      "source": [
        "## Checking for outliers and anomalies"
      ]
    },
    {
      "cell_type": "code",
      "metadata": {
        "colab": {
          "base_uri": "https://localhost:8080/"
        },
        "id": "kksdc36K52g8",
        "outputId": "1a415e03-3393-4d5a-84f5-4b2d860af2dc"
      },
      "source": [
        "# Checking for anomalies in the Invasive mediastinal staging column\n",
        "df_poland['Invasive mediastinal staging'].unique()\n",
        "# The half of the dataset is in Polish"
      ],
      "execution_count": 20,
      "outputs": [
        {
          "output_type": "execute_result",
          "data": {
            "text/plain": [
              "array(['NIE', 'TAK', 'NO', 'YES'], dtype=object)"
            ]
          },
          "metadata": {},
          "execution_count": 20
        }
      ]
    },
    {
      "cell_type": "code",
      "metadata": {
        "id": "sViEcMxyQl_q"
      },
      "source": [
        "# Function to replace the polish words\n",
        "def replacing(data,col,old,new):\n",
        "  data[col]=data[col].str.replace(old,new)\n",
        "  return data[col].unique()\n"
      ],
      "execution_count": 21,
      "outputs": []
    },
    {
      "cell_type": "code",
      "metadata": {
        "colab": {
          "base_uri": "https://localhost:8080/"
        },
        "id": "23vtDRrJRAIR",
        "outputId": "631d52be-1a7f-48dc-ec76-de774d8ea84a"
      },
      "source": [
        "# Executing the function on the first column.\n",
        "replacing(df_poland,'Invasive mediastinal staging','NIE','NO')\n",
        "replacing(df_poland,'Invasive mediastinal staging','TAK','YES')"
      ],
      "execution_count": 22,
      "outputs": [
        {
          "output_type": "execute_result",
          "data": {
            "text/plain": [
              "array(['NO', 'YES'], dtype=object)"
            ]
          },
          "metadata": {},
          "execution_count": 22
        }
      ]
    },
    {
      "cell_type": "code",
      "metadata": {
        "colab": {
          "base_uri": "https://localhost:8080/",
          "height": 327
        },
        "id": "Xgq_IX_16E-c",
        "outputId": "702d768c-e487-4ec2-ffbf-50fbfa6c7c17"
      },
      "source": [
        "df_poland.head()"
      ],
      "execution_count": 23,
      "outputs": [
        {
          "output_type": "execute_result",
          "data": {
            "text/html": [
              "<div>\n",
              "<style scoped>\n",
              "    .dataframe tbody tr th:only-of-type {\n",
              "        vertical-align: middle;\n",
              "    }\n",
              "\n",
              "    .dataframe tbody tr th {\n",
              "        vertical-align: top;\n",
              "    }\n",
              "\n",
              "    .dataframe thead th {\n",
              "        text-align: right;\n",
              "    }\n",
              "</style>\n",
              "<table border=\"1\" class=\"dataframe\">\n",
              "  <thead>\n",
              "    <tr style=\"text-align: right;\">\n",
              "      <th></th>\n",
              "      <th>Invasive mediastinal staging</th>\n",
              "      <th>Date of surgery</th>\n",
              "      <th>Approach</th>\n",
              "      <th>Type of surgery</th>\n",
              "      <th>Sleeve - bronchial</th>\n",
              "      <th>Histology</th>\n",
              "      <th>Stage</th>\n",
              "      <th>Stage.1</th>\n",
              "      <th>Total hospital stay</th>\n",
              "      <th>Postoperative hospital stay</th>\n",
              "      <th>Outcome at discharge</th>\n",
              "    </tr>\n",
              "    <tr>\n",
              "      <th>unique_ID</th>\n",
              "      <th></th>\n",
              "      <th></th>\n",
              "      <th></th>\n",
              "      <th></th>\n",
              "      <th></th>\n",
              "      <th></th>\n",
              "      <th></th>\n",
              "      <th></th>\n",
              "      <th></th>\n",
              "      <th></th>\n",
              "      <th></th>\n",
              "    </tr>\n",
              "  </thead>\n",
              "  <tbody>\n",
              "    <tr>\n",
              "      <th>0</th>\n",
              "      <td>NO</td>\n",
              "      <td>2019</td>\n",
              "      <td>Open</td>\n",
              "      <td>Lobectomy</td>\n",
              "      <td>NO</td>\n",
              "      <td>Adenocarcinoma</td>\n",
              "      <td>I</td>\n",
              "      <td>Early</td>\n",
              "      <td>8.0</td>\n",
              "      <td>7.0</td>\n",
              "      <td>Alive</td>\n",
              "    </tr>\n",
              "    <tr>\n",
              "      <th>1</th>\n",
              "      <td>NO</td>\n",
              "      <td>2019</td>\n",
              "      <td>VATS</td>\n",
              "      <td>Lobectomy</td>\n",
              "      <td>NO</td>\n",
              "      <td>Squamous cell carcinoma</td>\n",
              "      <td>IV</td>\n",
              "      <td>Advanced</td>\n",
              "      <td>6.0</td>\n",
              "      <td>3.0</td>\n",
              "      <td>Alive</td>\n",
              "    </tr>\n",
              "    <tr>\n",
              "      <th>2</th>\n",
              "      <td>NO</td>\n",
              "      <td>2019</td>\n",
              "      <td>Open</td>\n",
              "      <td>Lobectomy</td>\n",
              "      <td>NO</td>\n",
              "      <td>Adenocarcinoma</td>\n",
              "      <td>I</td>\n",
              "      <td>Early</td>\n",
              "      <td>8.0</td>\n",
              "      <td>5.0</td>\n",
              "      <td>Alive</td>\n",
              "    </tr>\n",
              "    <tr>\n",
              "      <th>3</th>\n",
              "      <td>NO</td>\n",
              "      <td>2019</td>\n",
              "      <td>Open</td>\n",
              "      <td>Lobectomy</td>\n",
              "      <td>NO</td>\n",
              "      <td>Squamous cell carcinoma</td>\n",
              "      <td>I</td>\n",
              "      <td>Early</td>\n",
              "      <td>6.0</td>\n",
              "      <td>4.0</td>\n",
              "      <td>Alive</td>\n",
              "    </tr>\n",
              "    <tr>\n",
              "      <th>4</th>\n",
              "      <td>YES</td>\n",
              "      <td>2019</td>\n",
              "      <td>Open</td>\n",
              "      <td>Lobectomy</td>\n",
              "      <td>NO</td>\n",
              "      <td>Adenocarcinoma</td>\n",
              "      <td>I</td>\n",
              "      <td>Early</td>\n",
              "      <td>5.0</td>\n",
              "      <td>4.0</td>\n",
              "      <td>Alive</td>\n",
              "    </tr>\n",
              "  </tbody>\n",
              "</table>\n",
              "</div>"
            ],
            "text/plain": [
              "          Invasive mediastinal staging  ...  Outcome at discharge\n",
              "unique_ID                               ...                      \n",
              "0                                   NO  ...                 Alive\n",
              "1                                   NO  ...                 Alive\n",
              "2                                   NO  ...                 Alive\n",
              "3                                   NO  ...                 Alive\n",
              "4                                  YES  ...                 Alive\n",
              "\n",
              "[5 rows x 11 columns]"
            ]
          },
          "metadata": {},
          "execution_count": 23
        }
      ]
    },
    {
      "cell_type": "code",
      "metadata": {
        "colab": {
          "base_uri": "https://localhost:8080/"
        },
        "id": "VuuLMwQI7X1R",
        "outputId": "81688edc-4dae-4933-f9ec-fb2f8247ebe8"
      },
      "source": [
        "# Checking the unique values in the stage column\n",
        "df_poland['Stage'].unique()\n"
      ],
      "execution_count": 24,
      "outputs": [
        {
          "output_type": "execute_result",
          "data": {
            "text/plain": [
              "array(['I', 'IV', 'II', 'III'], dtype=object)"
            ]
          },
          "metadata": {},
          "execution_count": 24
        }
      ]
    },
    {
      "cell_type": "code",
      "metadata": {
        "id": "NsYFSyK_7mnh",
        "colab": {
          "base_uri": "https://localhost:8080/"
        },
        "outputId": "fc5e4670-a8cd-4f7e-e6df-e75200209513"
      },
      "source": [
        "# Replacing the roman numbers with numerical values\n",
        "vals_to_replace = {'I':1, 'IV':4, 'II':2, 'III':3}\n",
        "df_poland['Stage'] = df_poland['Stage'].map(vals_to_replace)\n",
        "\n",
        "# Confirming the operation\n",
        "df_poland['Stage'].unique()"
      ],
      "execution_count": 25,
      "outputs": [
        {
          "output_type": "execute_result",
          "data": {
            "text/plain": [
              "array([1, 4, 2, 3])"
            ]
          },
          "metadata": {},
          "execution_count": 25
        }
      ]
    },
    {
      "cell_type": "markdown",
      "metadata": {
        "id": "ul1LJ4aZ1iih"
      },
      "source": [
        "### Anomalies and Outliers in the continous variables."
      ]
    },
    {
      "cell_type": "code",
      "metadata": {
        "colab": {
          "base_uri": "https://localhost:8080/"
        },
        "id": "gNTjqJwCTGBF",
        "outputId": "54d83ca5-fc5c-4e02-be76-b2c741683d67"
      },
      "source": [
        "# Checking the datatypes\n",
        "df_poland.dtypes"
      ],
      "execution_count": 26,
      "outputs": [
        {
          "output_type": "execute_result",
          "data": {
            "text/plain": [
              "Invasive mediastinal staging     object\n",
              "Date of surgery                   int64\n",
              "Approach                         object\n",
              "Type of surgery                  object\n",
              "Sleeve - bronchial               object\n",
              "Histology                        object\n",
              "Stage                             int64\n",
              "Stage.1                          object\n",
              "Total hospital stay             float64\n",
              "Postoperative hospital stay     float64\n",
              "Outcome at discharge             object\n",
              "dtype: object"
            ]
          },
          "metadata": {},
          "execution_count": 26
        }
      ]
    },
    {
      "cell_type": "markdown",
      "metadata": {
        "id": "qCqMLNVYUEax"
      },
      "source": [
        "#### Anomalies in the numerical values"
      ]
    },
    {
      "cell_type": "code",
      "metadata": {
        "colab": {
          "base_uri": "https://localhost:8080/"
        },
        "id": "DnYm6JOj85_p",
        "outputId": "590ba71c-fb8d-47d1-cb5f-be793ff2be50"
      },
      "source": [
        "# Checking for anomalies in the Postoperative hospital stay \n",
        "df_poland['Postoperative hospital stay'].unique()"
      ],
      "execution_count": 27,
      "outputs": [
        {
          "output_type": "execute_result",
          "data": {
            "text/plain": [
              "array([  7.        ,   3.        ,   5.        ,   4.        ,\n",
              "        12.        , 146.        ,  14.        ,  11.        ,\n",
              "         6.        ,  15.        ,   8.        ,  22.76315789,\n",
              "        18.        ,  43.        ,  13.        ,  30.        ,\n",
              "        19.        ,  25.        ,  10.        ,  32.        ,\n",
              "         2.        ,  16.        ,   9.        ,  22.        ,\n",
              "        28.        ,  54.        ,  23.        ,  41.        ,\n",
              "        20.        ,  29.        ,  21.        ,  76.        ,\n",
              "        27.        ,  17.        ,  36.        ,  47.        ,\n",
              "        70.        ,   1.        ,  85.        ,  34.        ,\n",
              "        62.        ,  33.        ,  42.        ,  24.        ,\n",
              "        44.        ,  48.        ,  40.        ,  35.        ,\n",
              "        31.        ,  26.        ,  50.        ,  46.        ,\n",
              "        37.        ,  53.        ,  45.        , 190.        ,\n",
              "        96.        ,  52.        ,  68.        ,  78.        ,\n",
              "        49.        ,  67.        ,  39.        ,  64.        ,\n",
              "        91.        ,  86.        ,  97.        , 126.        ,\n",
              "        51.        ])"
            ]
          },
          "metadata": {},
          "execution_count": 27
        }
      ]
    },
    {
      "cell_type": "code",
      "metadata": {
        "colab": {
          "base_uri": "https://localhost:8080/"
        },
        "id": "smO28nJMDlE7",
        "outputId": "25888d8b-10a1-4c2e-f5e2-b900898392c1"
      },
      "source": [
        "# Checking for anomalies in the Total hospital stay set\n",
        "df_poland['Total hospital stay'].unique()"
      ],
      "execution_count": 28,
      "outputs": [
        {
          "output_type": "execute_result",
          "data": {
            "text/plain": [
              "array([  8.        ,   6.        ,   5.        ,  31.        ,\n",
              "       160.        ,  17.        ,  10.        ,  26.        ,\n",
              "         4.        ,   7.        ,  11.        ,  26.01298701,\n",
              "        21.        ,  22.        ,  12.        ,  14.        ,\n",
              "        13.        ,  18.        ,  76.        ,  20.        ,\n",
              "         9.        ,  48.        ,  35.        ,  29.        ,\n",
              "        42.        ,   3.        ,  19.        ,  27.        ,\n",
              "        15.        ,  23.        ,  32.        ,  40.        ,\n",
              "        64.        ,  43.        , 103.        ,  28.        ,\n",
              "        30.        ,  16.        ,  88.        ,  37.        ,\n",
              "        77.        ,  25.        ,  24.        ,  34.        ,\n",
              "        57.        ,  50.        ,  67.        ,  91.        ,\n",
              "       102.        ,  49.        ,  63.        ,  39.        ,\n",
              "        46.        ,  36.        ,  75.        ,  51.        ,\n",
              "        33.        , 116.        ,  56.        ,  47.        ,\n",
              "        61.        ,  38.        ,  54.        ,  93.        ,\n",
              "       190.        ,  97.        ,  44.        ,  45.        ,\n",
              "        58.        ,   2.        , 177.        ,  41.        ,\n",
              "        78.        , 195.        ,  68.        ,  53.        ,\n",
              "        62.        ,  79.        ,  74.        ,  52.        ,\n",
              "        59.        , 162.        ,  89.        , 181.        ,\n",
              "       175.        ,  81.        ,  82.        ,  98.        ,\n",
              "       150.        ,  71.        ,  94.        , 128.        ])"
            ]
          },
          "metadata": {},
          "execution_count": 28
        }
      ]
    },
    {
      "cell_type": "markdown",
      "metadata": {
        "id": "-yjPORrOUhKG"
      },
      "source": [
        "#### There were anomalies in both columns in that the days were expressed in decimal form which is an anomally."
      ]
    },
    {
      "cell_type": "code",
      "metadata": {
        "id": "gc-Yj1wjU7o0"
      },
      "source": [
        "# A function to round off values in both columns to remove the decimals\n",
        "def rounding(data,col):\n",
        "  data[col]=data[col].apply(np.ceil)\n",
        "  return data[col].unique()"
      ],
      "execution_count": 29,
      "outputs": []
    },
    {
      "cell_type": "code",
      "metadata": {
        "colab": {
          "base_uri": "https://localhost:8080/"
        },
        "id": "kTwOLcmnVvrH",
        "outputId": "353958f6-5618-49ae-8b4f-026c9f05e6a4"
      },
      "source": [
        "# Rounding the values\n",
        "rounding(df_poland,'Total hospital stay')"
      ],
      "execution_count": 30,
      "outputs": [
        {
          "output_type": "execute_result",
          "data": {
            "text/plain": [
              "array([  8.,   6.,   5.,  31., 160.,  17.,  10.,  26.,   4.,   7.,  11.,\n",
              "        27.,  21.,  22.,  12.,  14.,  13.,  18.,  76.,  20.,   9.,  48.,\n",
              "        35.,  29.,  42.,   3.,  19.,  15.,  23.,  32.,  40.,  64.,  43.,\n",
              "       103.,  28.,  30.,  16.,  88.,  37.,  77.,  25.,  24.,  34.,  57.,\n",
              "        50.,  67.,  91., 102.,  49.,  63.,  39.,  46.,  36.,  75.,  51.,\n",
              "        33., 116.,  56.,  47.,  61.,  38.,  54.,  93., 190.,  97.,  44.,\n",
              "        45.,  58.,   2., 177.,  41.,  78., 195.,  68.,  53.,  62.,  79.,\n",
              "        74.,  52.,  59., 162.,  89., 181., 175.,  81.,  82.,  98., 150.,\n",
              "        71.,  94., 128.])"
            ]
          },
          "metadata": {},
          "execution_count": 30
        }
      ]
    },
    {
      "cell_type": "code",
      "metadata": {
        "colab": {
          "base_uri": "https://localhost:8080/"
        },
        "id": "8wX2kwZBWLfs",
        "outputId": "261a4a03-a791-43b8-c33f-6a77b671df48"
      },
      "source": [
        "# Rounding the values in the post operative hospital stay columns\n",
        "rounding(df_poland,'Postoperative hospital stay')"
      ],
      "execution_count": 31,
      "outputs": [
        {
          "output_type": "execute_result",
          "data": {
            "text/plain": [
              "array([  7.,   3.,   5.,   4.,  12., 146.,  14.,  11.,   6.,  15.,   8.,\n",
              "        23.,  18.,  43.,  13.,  30.,  19.,  25.,  10.,  32.,   2.,  16.,\n",
              "         9.,  22.,  28.,  54.,  41.,  20.,  29.,  21.,  76.,  27.,  17.,\n",
              "        36.,  47.,  70.,   1.,  85.,  34.,  62.,  33.,  42.,  24.,  44.,\n",
              "        48.,  40.,  35.,  31.,  26.,  50.,  46.,  37.,  53.,  45., 190.,\n",
              "        96.,  52.,  68.,  78.,  49.,  67.,  39.,  64.,  91.,  86.,  97.,\n",
              "       126.,  51.])"
            ]
          },
          "metadata": {},
          "execution_count": 31
        }
      ]
    },
    {
      "cell_type": "code",
      "metadata": {
        "id": "3BhjJcAdN0X3",
        "colab": {
          "base_uri": "https://localhost:8080/"
        },
        "outputId": "2ebb2ae1-61a2-4e26-d9fc-b074b7b4747d"
      },
      "source": [
        "# Checking for numerical values in the dataset\n",
        "numerical_cols = [col for col in df_poland if df_poland[col].dtypes !='O']\n",
        "numerical_cols"
      ],
      "execution_count": 32,
      "outputs": [
        {
          "output_type": "execute_result",
          "data": {
            "text/plain": [
              "['Date of surgery',\n",
              " 'Stage',\n",
              " 'Total hospital stay',\n",
              " 'Postoperative hospital stay']"
            ]
          },
          "metadata": {},
          "execution_count": 32
        }
      ]
    },
    {
      "cell_type": "markdown",
      "metadata": {
        "id": "MWQ9eqc3W_cg"
      },
      "source": [
        "### Outliers in numerical variables"
      ]
    },
    {
      "cell_type": "code",
      "metadata": {
        "colab": {
          "base_uri": "https://localhost:8080/",
          "height": 519
        },
        "id": "cSuJuTeRAWbX",
        "outputId": "6479bc11-89d4-4087-cd36-418078866a4d"
      },
      "source": [
        "# Boxplot of the Postoperative Hospital \n",
        "plt.figure(figsize=(10,8))\n",
        "plt.title('Postoperative hospital stay',fontsize=15)\n",
        "sns.boxplot(x=df_poland['Postoperative hospital stay'])\n",
        "plt.xlabel('Number of Days',fontsize=14)\n",
        "plt.show()"
      ],
      "execution_count": 33,
      "outputs": [
        {
          "output_type": "display_data",
          "data": {
            "image/png": "[encoded data removed]",
            "text/plain": [
              "<Figure size 720x576 with 1 Axes>"
            ]
          },
          "metadata": {
            "needs_background": "light"
          }
        }
      ]
    },
    {
      "cell_type": "code",
      "metadata": {
        "colab": {
          "base_uri": "https://localhost:8080/",
          "height": 519
        },
        "id": "vSO-ce84BKhB",
        "outputId": "9da670d1-ba72-49b4-b9f4-70cfc9b8fd9b"
      },
      "source": [
        "# Boxplot of the Total hospital stay \n",
        "plt.figure(figsize=(10,8))\n",
        "plt.title('Total hospital stay',fontsize=15)\n",
        "sns.boxplot(x=df_poland['Total hospital stay'])\n",
        "plt.xlabel(\"Number of Days\",fontsize=14)\n",
        "plt.show()"
      ],
      "execution_count": 34,
      "outputs": [
        {
          "output_type": "display_data",
          "data": {
            "image/png": "[encoded data removed]",
            "text/plain": [
              "<Figure size 720x576 with 1 Axes>"
            ]
          },
          "metadata": {
            "needs_background": "light"
          }
        }
      ]
    },
    {
      "cell_type": "code",
      "metadata": {
        "colab": {
          "base_uri": "https://localhost:8080/"
        },
        "id": "aRVfup3Me470",
        "outputId": "4f29f21b-0d8b-4918-b4de-af190e4736c6"
      },
      "source": [
        "df_poland['Type of surgery'].unique()"
      ],
      "execution_count": 35,
      "outputs": [
        {
          "output_type": "execute_result",
          "data": {
            "text/plain": [
              "array(['Lobectomy', 'Pneumonectomy', 'Bilobectomy', 'Wedge resection',\n",
              "       'Segmentectomy', 'Wyci?cie mankietu oskrzela'], dtype=object)"
            ]
          },
          "metadata": {},
          "execution_count": 35
        }
      ]
    },
    {
      "cell_type": "code",
      "metadata": {
        "colab": {
          "base_uri": "https://localhost:8080/"
        },
        "id": "mIeOkIavffPT",
        "outputId": "8d9a5182-5376-4409-ae9d-d2ed47be1017"
      },
      "source": [
        "df_poland['Type of surgery'].value_counts()"
      ],
      "execution_count": 36,
      "outputs": [
        {
          "output_type": "execute_result",
          "data": {
            "text/plain": [
              "Lobectomy                     5455\n",
              "Segmentectomy                  590\n",
              "Pneumonectomy                  451\n",
              "Bilobectomy                    348\n",
              "Wedge resection                340\n",
              "Wyci?cie mankietu oskrzela      15\n",
              "Name: Type of surgery, dtype: int64"
            ]
          },
          "metadata": {},
          "execution_count": 36
        }
      ]
    },
    {
      "cell_type": "code",
      "metadata": {
        "colab": {
          "base_uri": "https://localhost:8080/"
        },
        "id": "yP9_JuI_hpGr",
        "outputId": "c5b70108-0221-4e2e-8973-51f6bd054bfb"
      },
      "source": [
        "replacing(df_poland,'Type of surgery','Wyci?cie mankietu oskrzela','Broncial cuff excision')# Remember to replace"
      ],
      "execution_count": 37,
      "outputs": [
        {
          "output_type": "execute_result",
          "data": {
            "text/plain": [
              "array(['Lobectomy', 'Pneumonectomy', 'Bilobectomy', 'Wedge resection',\n",
              "       'Segmentectomy', 'Wyci?cie mankietu oskrzela'], dtype=object)"
            ]
          },
          "metadata": {},
          "execution_count": 37
        }
      ]
    },
    {
      "cell_type": "code",
      "metadata": {
        "id": "0wXhOIQfT7YC"
      },
      "source": [
        "# Exporting to CSV\n",
        "df_poland.to_csv(\"Clean dataset.csv\",index=False)"
      ],
      "execution_count": 38,
      "outputs": []
    },
    {
      "cell_type": "markdown",
      "metadata": {
        "id": "D3RjGq2wX6eK"
      },
      "source": [
        "## Exploratory Data Analysis"
      ]
    },
    {
      "cell_type": "markdown",
      "metadata": {
        "id": "SvtKcWLSYHOV"
      },
      "source": [
        "1. Univariate Analysis"
      ]
    },
    {
      "cell_type": "code",
      "metadata": {
        "colab": {
          "base_uri": "https://localhost:8080/",
          "height": 327
        },
        "id": "RvpG-vDlXTGY",
        "outputId": "38993d22-44e3-49f5-f718-02d717feeaac"
      },
      "source": [
        "df_poland.head()"
      ],
      "execution_count": 39,
      "outputs": [
        {
          "output_type": "execute_result",
          "data": {
            "text/html": [
              "<div>\n",
              "<style scoped>\n",
              "    .dataframe tbody tr th:only-of-type {\n",
              "        vertical-align: middle;\n",
              "    }\n",
              "\n",
              "    .dataframe tbody tr th {\n",
              "        vertical-align: top;\n",
              "    }\n",
              "\n",
              "    .dataframe thead th {\n",
              "        text-align: right;\n",
              "    }\n",
              "</style>\n",
              "<table border=\"1\" class=\"dataframe\">\n",
              "  <thead>\n",
              "    <tr style=\"text-align: right;\">\n",
              "      <th></th>\n",
              "      <th>Invasive mediastinal staging</th>\n",
              "      <th>Date of surgery</th>\n",
              "      <th>Approach</th>\n",
              "      <th>Type of surgery</th>\n",
              "      <th>Sleeve - bronchial</th>\n",
              "      <th>Histology</th>\n",
              "      <th>Stage</th>\n",
              "      <th>Stage.1</th>\n",
              "      <th>Total hospital stay</th>\n",
              "      <th>Postoperative hospital stay</th>\n",
              "      <th>Outcome at discharge</th>\n",
              "    </tr>\n",
              "    <tr>\n",
              "      <th>unique_ID</th>\n",
              "      <th></th>\n",
              "      <th></th>\n",
              "      <th></th>\n",
              "      <th></th>\n",
              "      <th></th>\n",
              "      <th></th>\n",
              "      <th></th>\n",
              "      <th></th>\n",
              "      <th></th>\n",
              "      <th></th>\n",
              "      <th></th>\n",
              "    </tr>\n",
              "  </thead>\n",
              "  <tbody>\n",
              "    <tr>\n",
              "      <th>0</th>\n",
              "      <td>NO</td>\n",
              "      <td>2019</td>\n",
              "      <td>Open</td>\n",
              "      <td>Lobectomy</td>\n",
              "      <td>NO</td>\n",
              "      <td>Adenocarcinoma</td>\n",
              "      <td>1</td>\n",
              "      <td>Early</td>\n",
              "      <td>8.0</td>\n",
              "      <td>7.0</td>\n",
              "      <td>Alive</td>\n",
              "    </tr>\n",
              "    <tr>\n",
              "      <th>1</th>\n",
              "      <td>NO</td>\n",
              "      <td>2019</td>\n",
              "      <td>VATS</td>\n",
              "      <td>Lobectomy</td>\n",
              "      <td>NO</td>\n",
              "      <td>Squamous cell carcinoma</td>\n",
              "      <td>4</td>\n",
              "      <td>Advanced</td>\n",
              "      <td>6.0</td>\n",
              "      <td>3.0</td>\n",
              "      <td>Alive</td>\n",
              "    </tr>\n",
              "    <tr>\n",
              "      <th>2</th>\n",
              "      <td>NO</td>\n",
              "      <td>2019</td>\n",
              "      <td>Open</td>\n",
              "      <td>Lobectomy</td>\n",
              "      <td>NO</td>\n",
              "      <td>Adenocarcinoma</td>\n",
              "      <td>1</td>\n",
              "      <td>Early</td>\n",
              "      <td>8.0</td>\n",
              "      <td>5.0</td>\n",
              "      <td>Alive</td>\n",
              "    </tr>\n",
              "    <tr>\n",
              "      <th>3</th>\n",
              "      <td>NO</td>\n",
              "      <td>2019</td>\n",
              "      <td>Open</td>\n",
              "      <td>Lobectomy</td>\n",
              "      <td>NO</td>\n",
              "      <td>Squamous cell carcinoma</td>\n",
              "      <td>1</td>\n",
              "      <td>Early</td>\n",
              "      <td>6.0</td>\n",
              "      <td>4.0</td>\n",
              "      <td>Alive</td>\n",
              "    </tr>\n",
              "    <tr>\n",
              "      <th>4</th>\n",
              "      <td>YES</td>\n",
              "      <td>2019</td>\n",
              "      <td>Open</td>\n",
              "      <td>Lobectomy</td>\n",
              "      <td>NO</td>\n",
              "      <td>Adenocarcinoma</td>\n",
              "      <td>1</td>\n",
              "      <td>Early</td>\n",
              "      <td>5.0</td>\n",
              "      <td>4.0</td>\n",
              "      <td>Alive</td>\n",
              "    </tr>\n",
              "  </tbody>\n",
              "</table>\n",
              "</div>"
            ],
            "text/plain": [
              "          Invasive mediastinal staging  ...  Outcome at discharge\n",
              "unique_ID                               ...                      \n",
              "0                                   NO  ...                 Alive\n",
              "1                                   NO  ...                 Alive\n",
              "2                                   NO  ...                 Alive\n",
              "3                                   NO  ...                 Alive\n",
              "4                                  YES  ...                 Alive\n",
              "\n",
              "[5 rows x 11 columns]"
            ]
          },
          "metadata": {},
          "execution_count": 39
        }
      ]
    },
    {
      "cell_type": "code",
      "metadata": {
        "colab": {
          "base_uri": "https://localhost:8080/"
        },
        "id": "MTjwLK31aOd7",
        "outputId": "5dc218d9-98f2-4e91-9216-156121961a9a"
      },
      "source": [
        "objects= [cols for cols in df_poland if df_poland[cols].dtypes=='O']\n",
        "objects"
      ],
      "execution_count": 40,
      "outputs": [
        {
          "output_type": "execute_result",
          "data": {
            "text/plain": [
              "['Invasive mediastinal staging',\n",
              " 'Approach',\n",
              " 'Type of surgery',\n",
              " 'Sleeve - bronchial',\n",
              " 'Histology',\n",
              " 'Stage.1',\n",
              " 'Outcome at discharge']"
            ]
          },
          "metadata": {},
          "execution_count": 40
        }
      ]
    },
    {
      "cell_type": "markdown",
      "metadata": {
        "id": "LKjs879tcs9d"
      },
      "source": [
        "#### The number of patients that underwent invasive medistinal staging were more than those that didnt."
      ]
    },
    {
      "cell_type": "code",
      "metadata": {
        "colab": {
          "base_uri": "https://localhost:8080/",
          "height": 1000
        },
        "id": "D6P8iUtXc7VH",
        "outputId": "ff954a12-2c9d-49d3-ec1b-28f530d4ff79"
      },
      "source": [
        "fig,ax=plt.subplots(len(objects),figsize=(19,40))\n",
        "for i, col_vals in enumerate(objects):\n",
        "  sns.countplot(x=df_poland[col_vals],ax=ax[i])\n",
        "  ax[i].set_title(\"Countplot of \"+format(col_vals),fontsize=15)\n",
        "plt.show()"
      ],
      "execution_count": 41,
      "outputs": [
        {
          "output_type": "display_data",
          "data": {
            "image/png": "[encoded data removed]",
            "text/plain": [
              "<Figure size 1368x2880 with 7 Axes>"
            ]
          },
          "metadata": {
            "needs_background": "light"
          }
        }
      ]
    },
    {
      "cell_type": "code",
      "metadata": {
        "colab": {
          "base_uri": "https://localhost:8080/",
          "height": 515
        },
        "id": "TA8HCqi1q67J",
        "outputId": "3fbb1d22-03b5-4e0d-8945-5ccb77de5636"
      },
      "source": [
        "plt.figure(figsize=(10,8))\n",
        "sns.countplot(x=df_poland['Date of surgery'])\n",
        "plt.title(\"Count plot of the number of years\",fontsize=15)\n",
        "plt.show()"
      ],
      "execution_count": 42,
      "outputs": [
        {
          "output_type": "display_data",
          "data": {
            "image/png": "[encoded data removed]",
            "text/plain": [
              "<Figure size 720x576 with 1 Axes>"
            ]
          },
          "metadata": {
            "needs_background": "light"
          }
        }
      ]
    },
    {
      "cell_type": "code",
      "metadata": {
        "colab": {
          "base_uri": "https://localhost:8080/",
          "height": 515
        },
        "id": "j2iyj4Vlrfrd",
        "outputId": "3ad38618-ba08-42da-82f5-28570dd9e1d9"
      },
      "source": [
        "plt.figure(figsize=(10,8))\n",
        "sns.countplot(x=df_poland['Stage'])\n",
        "plt.title(\"Count plot of Cancer stages\",fontsize=15)\n",
        "plt.show()"
      ],
      "execution_count": 43,
      "outputs": [
        {
          "output_type": "display_data",
          "data": {
            "image/png": "[encoded data removed]",
            "text/plain": [
              "<Figure size 720x576 with 1 Axes>"
            ]
          },
          "metadata": {
            "needs_background": "light"
          }
        }
      ]
    },
    {
      "cell_type": "markdown",
      "metadata": {
        "id": "VNGoV0--oiVD"
      },
      "source": [
        "*  Fewer patients underwent invasive medialstinal staging as compared to those that underwent.\n",
        "*  Open surgery was done frequently as compared to the Video-assisted thoracoscopic surgery\n",
        "* The leading count of surgery types was lobectomy followed closely by segmentectomy. This could be attributed to the simplicity in the  prpceedures.\n",
        "* A lot of patients presented with Adenocarcinoma as compared to other types of cancers.\n",
        "* Patients at early stages were found in the observations as compared to those at advanced stages.\n",
        "* Alive patients were more than dead patients."
      ]
    },
    {
      "cell_type": "markdown",
      "metadata": {
        "id": "nZXy5vtRqrAn"
      },
      "source": [
        "### Continous Variables"
      ]
    },
    {
      "cell_type": "code",
      "metadata": {
        "colab": {
          "base_uri": "https://localhost:8080/",
          "height": 698
        },
        "id": "CIUfJV8EZGt-",
        "outputId": "d15fd2d2-4d27-4564-c800-031a3ba40463"
      },
      "source": [
        "num_cols=['Total hospital stay','Postoperative hospital stay']\n",
        "fig,ax=plt.subplots(len(num_cols),figsize=(10,10))\n",
        "for i, col_vals in enumerate(num_cols):\n",
        "  sns.distplot(x=df_poland[col_vals],ax=ax[i],kde=True)\n",
        "  ax[i].set_title(\"Distribution of \"+format(col_vals),fontsize=15)\n",
        "plt.show()"
      ],
      "execution_count": 44,
      "outputs": [
        {
          "output_type": "stream",
          "name": "stderr",
          "text": [
            "/usr/local/lib/python3.7/dist-packages/seaborn/distributions.py:2619: FutureWarning: `distplot` is a deprecated function and will be removed in a future version. Please adapt your code to use either `displot` (a figure-level function with similar flexibility) or `histplot` (an axes-level function for histograms).\n",
            "  warnings.warn(msg, FutureWarning)\n",
            "/usr/local/lib/python3.7/dist-packages/seaborn/distributions.py:2619: FutureWarning: `distplot` is a deprecated function and will be removed in a future version. Please adapt your code to use either `displot` (a figure-level function with similar flexibility) or `histplot` (an axes-level function for histograms).\n",
            "  warnings.warn(msg, FutureWarning)\n"
          ]
        },
        {
          "output_type": "display_data",
          "data": {
            "image/png": "[encoded data removed]",
            "text/plain": [
              "<Figure size 720x720 with 2 Axes>"
            ]
          },
          "metadata": {
            "needs_background": "light"
          }
        }
      ]
    },
    {
      "cell_type": "markdown",
      "metadata": {
        "id": "HzRgRIJkoCv9"
      },
      "source": [
        "From the distribution plot we get to see that most people did not spend time in the hospital as our distribution is skewed positively . However , some outliers are seen to be at the 3rd quantile where some patients spent more than 200 days in the hospital."
      ]
    },
    {
      "cell_type": "markdown",
      "metadata": {
        "id": "gYjHwelYqeqe"
      },
      "source": [
        "## Bivariate Analysis."
      ]
    },
    {
      "cell_type": "markdown",
      "metadata": {
        "id": "HMQ0HbThqjPV"
      },
      "source": [
        "### This is meant to help us understand the relationships within our dataset."
      ]
    },
    {
      "cell_type": "code",
      "metadata": {
        "colab": {
          "base_uri": "https://localhost:8080/",
          "height": 327
        },
        "id": "uxC6oWJFoAtC",
        "outputId": "f5878aeb-5903-4170-9f90-73369f145e8a"
      },
      "source": [
        "df_poland.head()"
      ],
      "execution_count": 45,
      "outputs": [
        {
          "output_type": "execute_result",
          "data": {
            "text/html": [
              "<div>\n",
              "<style scoped>\n",
              "    .dataframe tbody tr th:only-of-type {\n",
              "        vertical-align: middle;\n",
              "    }\n",
              "\n",
              "    .dataframe tbody tr th {\n",
              "        vertical-align: top;\n",
              "    }\n",
              "\n",
              "    .dataframe thead th {\n",
              "        text-align: right;\n",
              "    }\n",
              "</style>\n",
              "<table border=\"1\" class=\"dataframe\">\n",
              "  <thead>\n",
              "    <tr style=\"text-align: right;\">\n",
              "      <th></th>\n",
              "      <th>Invasive mediastinal staging</th>\n",
              "      <th>Date of surgery</th>\n",
              "      <th>Approach</th>\n",
              "      <th>Type of surgery</th>\n",
              "      <th>Sleeve - bronchial</th>\n",
              "      <th>Histology</th>\n",
              "      <th>Stage</th>\n",
              "      <th>Stage.1</th>\n",
              "      <th>Total hospital stay</th>\n",
              "      <th>Postoperative hospital stay</th>\n",
              "      <th>Outcome at discharge</th>\n",
              "    </tr>\n",
              "    <tr>\n",
              "      <th>unique_ID</th>\n",
              "      <th></th>\n",
              "      <th></th>\n",
              "      <th></th>\n",
              "      <th></th>\n",
              "      <th></th>\n",
              "      <th></th>\n",
              "      <th></th>\n",
              "      <th></th>\n",
              "      <th></th>\n",
              "      <th></th>\n",
              "      <th></th>\n",
              "    </tr>\n",
              "  </thead>\n",
              "  <tbody>\n",
              "    <tr>\n",
              "      <th>0</th>\n",
              "      <td>NO</td>\n",
              "      <td>2019</td>\n",
              "      <td>Open</td>\n",
              "      <td>Lobectomy</td>\n",
              "      <td>NO</td>\n",
              "      <td>Adenocarcinoma</td>\n",
              "      <td>1</td>\n",
              "      <td>Early</td>\n",
              "      <td>8.0</td>\n",
              "      <td>7.0</td>\n",
              "      <td>Alive</td>\n",
              "    </tr>\n",
              "    <tr>\n",
              "      <th>1</th>\n",
              "      <td>NO</td>\n",
              "      <td>2019</td>\n",
              "      <td>VATS</td>\n",
              "      <td>Lobectomy</td>\n",
              "      <td>NO</td>\n",
              "      <td>Squamous cell carcinoma</td>\n",
              "      <td>4</td>\n",
              "      <td>Advanced</td>\n",
              "      <td>6.0</td>\n",
              "      <td>3.0</td>\n",
              "      <td>Alive</td>\n",
              "    </tr>\n",
              "    <tr>\n",
              "      <th>2</th>\n",
              "      <td>NO</td>\n",
              "      <td>2019</td>\n",
              "      <td>Open</td>\n",
              "      <td>Lobectomy</td>\n",
              "      <td>NO</td>\n",
              "      <td>Adenocarcinoma</td>\n",
              "      <td>1</td>\n",
              "      <td>Early</td>\n",
              "      <td>8.0</td>\n",
              "      <td>5.0</td>\n",
              "      <td>Alive</td>\n",
              "    </tr>\n",
              "    <tr>\n",
              "      <th>3</th>\n",
              "      <td>NO</td>\n",
              "      <td>2019</td>\n",
              "      <td>Open</td>\n",
              "      <td>Lobectomy</td>\n",
              "      <td>NO</td>\n",
              "      <td>Squamous cell carcinoma</td>\n",
              "      <td>1</td>\n",
              "      <td>Early</td>\n",
              "      <td>6.0</td>\n",
              "      <td>4.0</td>\n",
              "      <td>Alive</td>\n",
              "    </tr>\n",
              "    <tr>\n",
              "      <th>4</th>\n",
              "      <td>YES</td>\n",
              "      <td>2019</td>\n",
              "      <td>Open</td>\n",
              "      <td>Lobectomy</td>\n",
              "      <td>NO</td>\n",
              "      <td>Adenocarcinoma</td>\n",
              "      <td>1</td>\n",
              "      <td>Early</td>\n",
              "      <td>5.0</td>\n",
              "      <td>4.0</td>\n",
              "      <td>Alive</td>\n",
              "    </tr>\n",
              "  </tbody>\n",
              "</table>\n",
              "</div>"
            ],
            "text/plain": [
              "          Invasive mediastinal staging  ...  Outcome at discharge\n",
              "unique_ID                               ...                      \n",
              "0                                   NO  ...                 Alive\n",
              "1                                   NO  ...                 Alive\n",
              "2                                   NO  ...                 Alive\n",
              "3                                   NO  ...                 Alive\n",
              "4                                  YES  ...                 Alive\n",
              "\n",
              "[5 rows x 11 columns]"
            ]
          },
          "metadata": {},
          "execution_count": 45
        }
      ]
    },
    {
      "cell_type": "markdown",
      "metadata": {
        "id": "GOqa0lJGxDpr"
      },
      "source": [
        "# Research Questions\n",
        "####  * What was the reliability of open surgery as compare to Video assisted surgery considering the post discharge Outcome?\n"
      ]
    },
    {
      "cell_type": "code",
      "metadata": {
        "colab": {
          "base_uri": "https://localhost:8080/",
          "height": 515
        },
        "id": "KTfhs_saZQKw",
        "outputId": "0bd6f357-8c7e-4b8f-e005-ded967bbe85d"
      },
      "source": [
        "# Assesing the relationship between The suregery approach to the discharge outcome\n",
        "plt.figure(figsize=(10,8))\n",
        "sns.countplot(x='Approach',hue='Outcome at discharge',data=df_poland)\n",
        "plt.title(\"Count plot to compare Approach and Outcome\",fontsize=15)\n",
        "plt.show()"
      ],
      "execution_count": 46,
      "outputs": [
        {
          "output_type": "display_data",
          "data": {
            "image/png": "[encoded data removed]",
            "text/plain": [
              "<Figure size 720x576 with 1 Axes>"
            ]
          },
          "metadata": {
            "needs_background": "light"
          }
        }
      ]
    },
    {
      "cell_type": "markdown",
      "metadata": {
        "id": "OBLDiBugxkVx"
      },
      "source": [
        "#### * Patients who underwent open surgeries had a higher death count as compared to patients that underwent Video assisted thoracoscopic surgery."
      ]
    },
    {
      "cell_type": "markdown",
      "metadata": {
        "id": "JtcgGTOMZTf0"
      },
      "source": [
        "## What is the effectiveness of invasive mediastinal staging considering the patient's outcome after discharge?"
      ]
    },
    {
      "cell_type": "code",
      "metadata": {
        "colab": {
          "base_uri": "https://localhost:8080/",
          "height": 515
        },
        "id": "VwIa1YxeudmO",
        "outputId": "ecd69aae-f190-4ae3-bea3-5805637f3588"
      },
      "source": [
        "# Asessing the relationship between patients that underwent invasive mediastinal staging and its outcome\n",
        "plt.figure(figsize=(10,8))\n",
        "sns.countplot(x='Invasive mediastinal staging',hue='Outcome at discharge',data=df_poland)\n",
        "plt.title(\"Count plot to compare Invasive mediastinal staging and Outcome\",fontsize=15)\n",
        "plt.show() "
      ],
      "execution_count": 47,
      "outputs": [
        {
          "output_type": "display_data",
          "data": {
            "image/png": "[encoded data removed]",
            "text/plain": [
              "<Figure size 720x576 with 1 Axes>"
            ]
          },
          "metadata": {
            "needs_background": "light"
          }
        }
      ]
    },
    {
      "cell_type": "markdown",
      "metadata": {
        "id": "RQpgWbOADu_k"
      },
      "source": [
        "* As much as there are a greater number of people who were alive after discharge,the people who didnt undergo the Invasive mediastinal staging had a higher death count as compared to those who underwent. "
      ]
    },
    {
      "cell_type": "code",
      "metadata": {
        "colab": {
          "base_uri": "https://localhost:8080/",
          "height": 515
        },
        "id": "rRkxKEoOu0NS",
        "outputId": "7be63c6e-79e3-4077-a7c4-f2750541da67"
      },
      "source": [
        "# A plot of the relationship between Date of surgery and Outcome\n",
        "plt.figure(figsize=(10,8))\n",
        "sns.countplot(x='Date of surgery',hue='Outcome at discharge',data=df_poland)\n",
        "plt.title(\"Count plot to Date of surgery and Outcome\",fontsize=15)\n",
        "plt.show()"
      ],
      "execution_count": 48,
      "outputs": [
        {
          "output_type": "display_data",
          "data": {
            "image/png": "[encoded data removed]",
            "text/plain": [
              "<Figure size 720x576 with 1 Axes>"
            ]
          },
          "metadata": {
            "needs_background": "light"
          }
        }
      ]
    },
    {
      "cell_type": "markdown",
      "source": [
        "* More counts of patients were seen in 2019 than in 2020. The death margin is however infintisimally small."
      ],
      "metadata": {
        "id": "WmNAX7WEornp"
      }
    },
    {
      "cell_type": "code",
      "metadata": {
        "colab": {
          "base_uri": "https://localhost:8080/",
          "height": 623
        },
        "id": "E8K-VwRfvEnd",
        "outputId": "c50b0f31-faa6-4873-899e-6f0d7f0234ea"
      },
      "source": [
        "# A plot to assess the relationship between Broncial resection and Outcome\n",
        "plt.figure(figsize=(10,10))\n",
        "sns.countplot(x='Sleeve - bronchial',hue='Outcome at discharge',data=df_poland)\n",
        "plt.title(\"Count plot to see the relationship between Broncial resection and Outcome\",fontsize=15)\n",
        "plt.show()"
      ],
      "execution_count": 49,
      "outputs": [
        {
          "output_type": "display_data",
          "data": {
            "image/png": "[encoded data removed]",
            "text/plain": [
              "<Figure size 720x720 with 1 Axes>"
            ]
          },
          "metadata": {
            "needs_background": "light"
          }
        }
      ]
    },
    {
      "cell_type": "markdown",
      "source": [
        "* We dont have a single patient who underwent bronchial resection that died. We can see however that very few who didnt undergo the bronchial resection died."
      ],
      "metadata": {
        "id": "XBihR2v2Dsxd"
      }
    },
    {
      "cell_type": "code",
      "metadata": {
        "colab": {
          "base_uri": "https://localhost:8080/",
          "height": 623
        },
        "id": "D9IAspvCEnBR",
        "outputId": "ecca5a32-1e2b-4098-98ed-cfaad0d8cf03"
      },
      "source": [
        "# Understanding the relationship between Surgical approach and Total hospital stay\n",
        "plt.figure(figsize=(10,10))\n",
        "sns.barplot(x='Approach',y='Total hospital stay',data=df_poland)\n",
        "plt.title(\"Relationship between Surgical approach and Total hospital stay\",fontsize=15)\n",
        "plt.show()"
      ],
      "execution_count": 50,
      "outputs": [
        {
          "output_type": "display_data",
          "data": {
            "image/png": "[encoded data removed]",
            "text/plain": [
              "<Figure size 720x720 with 1 Axes>"
            ]
          },
          "metadata": {
            "needs_background": "light"
          }
        }
      ]
    },
    {
      "cell_type": "markdown",
      "source": [
        "* Most patients who underwent open surgery spent more days in the hospitals as comapred to those who underwent video assisted thorascopic Surgery."
      ],
      "metadata": {
        "id": "0HjDa1TlpPig"
      }
    },
    {
      "cell_type": "code",
      "metadata": {
        "colab": {
          "base_uri": "https://localhost:8080/",
          "height": 827
        },
        "id": "YHgFrdzhF6wD",
        "outputId": "8ea648d1-da66-44a4-e63a-dd6c61bcf516"
      },
      "source": [
        "# Plotting the relationship between Type of surgery and Total hospital stay\n",
        "plt.figure(figsize=(10,12))\n",
        "sns.barplot(x='Type of surgery',y='Total hospital stay',data=df_poland)\n",
        "plt.title(\"Relationship between Type of surgery and Total hospital stay\",fontsize=15)\n",
        "plt.xticks (rotation=45)\n",
        "plt.show()"
      ],
      "execution_count": 51,
      "outputs": [
        {
          "output_type": "display_data",
          "data": {
            "image/png": "[encoded data removed]",
            "text/plain": [
              "<Figure size 720x864 with 1 Axes>"
            ]
          },
          "metadata": {
            "needs_background": "light"
          }
        }
      ]
    },
    {
      "cell_type": "markdown",
      "source": [
        "* Ptients who underwent Pneumonectomy proceedure spent most days in the hospital followed closely by bilobectomy. "
      ],
      "metadata": {
        "id": "TKO9p28Hpsfx"
      }
    },
    {
      "cell_type": "code",
      "metadata": {
        "colab": {
          "base_uri": "https://localhost:8080/",
          "height": 623
        },
        "id": "zbuSXkgiGwpg",
        "outputId": "60cf6bf3-1f34-4002-d29a-7ae06a363dd0"
      },
      "source": [
        "# Plotting the relationship between Outcome at discharge and Total hospital stay\n",
        "plt.figure(figsize=(10,10))\n",
        "sns.barplot(x='Outcome at discharge',y='Total hospital stay',data=df_poland)\n",
        "plt.title(\"Relationship between Outcome at discharge and Total hospital stay\",fontsize=15)\n",
        "plt.show()"
      ],
      "execution_count": 52,
      "outputs": [
        {
          "output_type": "display_data",
          "data": {
            "image/png": "[encoded data removed]",
            "text/plain": [
              "<Figure size 720x720 with 1 Axes>"
            ]
          },
          "metadata": {
            "needs_background": "light"
          }
        }
      ]
    },
    {
      "cell_type": "markdown",
      "source": [
        "* Patients who spent more days in the hospital had a higher death count. This though subject to investigation in the multivariate analysis could be attributed to the stage of the cancer and the proceedures that the patients underwent."
      ],
      "metadata": {
        "id": "KNVoJ0AhqOXE"
      }
    },
    {
      "cell_type": "code",
      "metadata": {
        "colab": {
          "base_uri": "https://localhost:8080/",
          "height": 623
        },
        "id": "ApIi9j33HhGf",
        "outputId": "f6ddf76d-45c6-4f50-cccb-fe0a9aabdc74"
      },
      "source": [
        "# Relationship between Cancer stages and Total hospital stay \n",
        "plt.figure(figsize=(10,10))\n",
        "sns.barplot(x='Stage',y='Total hospital stay',data=df_poland)\n",
        "plt.title(\"Relationship between Cancer stages and Total hospital stay\",fontsize=15)\n",
        "plt.show()"
      ],
      "execution_count": 53,
      "outputs": [
        {
          "output_type": "display_data",
          "data": {
            "image/png": "[encoded data removed]",
            "text/plain": [
              "<Figure size 720x720 with 1 Axes>"
            ]
          },
          "metadata": {
            "needs_background": "light"
          }
        }
      ]
    },
    {
      "cell_type": "markdown",
      "source": [
        "* The patients at stage 4 spent more days in the hospital as compared to the first,second and third consecutively."
      ],
      "metadata": {
        "id": "HWz7vlcQrj58"
      }
    },
    {
      "cell_type": "code",
      "metadata": {
        "colab": {
          "base_uri": "https://localhost:8080/",
          "height": 623
        },
        "id": "hWI4ekyEIPam",
        "outputId": "11a2562e-a0fe-4753-8cb5-09c7d64b9016"
      },
      "source": [
        "# Relationship between Cancer history and Total hospital stay\n",
        "plt.figure(figsize=(10,10))\n",
        "sns.barplot(x='Histology',y='Total hospital stay',data=df_poland)\n",
        "plt.title(\"Relationship between Cancer history and Total hospital stay\",fontsize=15)\n",
        "plt.show()"
      ],
      "execution_count": 54,
      "outputs": [
        {
          "output_type": "display_data",
          "data": {
            "image/png": "[encoded data removed]",
            "text/plain": [
              "<Figure size 720x720 with 1 Axes>"
            ]
          },
          "metadata": {
            "needs_background": "light"
          }
        }
      ]
    },
    {
      "cell_type": "markdown",
      "source": [
        "* Patients with squamous cell carcinoma spent more days in the hospital followed closely by the patients with Large cell carcinoma. "
      ],
      "metadata": {
        "id": "SCvgm8wErtRY"
      }
    },
    {
      "cell_type": "code",
      "metadata": {
        "colab": {
          "base_uri": "https://localhost:8080/",
          "height": 623
        },
        "id": "aMeIduiiIcSz",
        "outputId": "46c519e5-d3cd-4e87-949c-594937797fa5"
      },
      "source": [
        "# Plotting the relationship between Post operative stay and Discharge outcom\n",
        "plt.figure(figsize=(10,10))\n",
        "sns.barplot(x='Outcome at discharge',y='Postoperative hospital stay',data=df_poland)\n",
        "plt.title(\"Relationship relationship between Post operative stay and Discharge outcome\",fontsize=15)\n",
        "plt.show()"
      ],
      "execution_count": 55,
      "outputs": [
        {
          "output_type": "display_data",
          "data": {
            "image/png": "[encoded data removed]",
            "text/plain": [
              "<Figure size 720x720 with 1 Axes>"
            ]
          },
          "metadata": {
            "needs_background": "light"
          }
        }
      ]
    },
    {
      "cell_type": "markdown",
      "source": [
        "* The patients who had a higher duration of post operative stay had a higher death count as compared to those who spent less days. "
      ],
      "metadata": {
        "id": "Ri_rDgk9sd2k"
      }
    },
    {
      "cell_type": "code",
      "source": [
        "# Assessing the linear relationship between the Hospital stay and total hospital stay\n",
        "plt.figure(figsize=(10,8))\n",
        "sns.scatterplot(x='Postoperative hospital stay',y='Total hospital stay',data=df_poland)\n",
        "plt.title(\"Relationship relationship between Post operative stay and Total hospital stay\",fontsize=15)\n",
        "plt.show()"
      ],
      "metadata": {
        "colab": {
          "base_uri": "https://localhost:8080/",
          "height": 515
        },
        "id": "DyGC7V2huDo7",
        "outputId": "b9d39f2b-0ca2-41ab-bf1e-260c98c362aa"
      },
      "execution_count": 56,
      "outputs": [
        {
          "output_type": "display_data",
          "data": {
            "image/png": "[encoded data removed]",
            "text/plain": [
              "<Figure size 720x576 with 1 Axes>"
            ]
          },
          "metadata": {
            "needs_background": "light"
          }
        }
      ]
    },
    {
      "cell_type": "code",
      "source": [
        "# Statistical analysis of the relationship\n",
        "import scipy.stats\n",
        "x=df_poland['Total hospital stay'].values\n",
        "y=df_poland['Postoperative hospital stay'].values\n",
        "cor,pval=scipy.stats.pearsonr(x, y)\n",
        "print(cor)\n",
        "print(pval)\n",
        "# There is a significant positive corelation between post operative hopital stay and total hospital stay."
      ],
      "metadata": {
        "colab": {
          "base_uri": "https://localhost:8080/"
        },
        "id": "5DrArNqGwPJM",
        "outputId": "49ffcdf0-c2b9-460c-fa31-5858e8edf18b"
      },
      "execution_count": 57,
      "outputs": [
        {
          "output_type": "stream",
          "name": "stdout",
          "text": [
            "0.7449946109227004\n",
            "0.0\n"
          ]
        }
      ]
    },
    {
      "cell_type": "markdown",
      "metadata": {
        "id": "nF2OyZFngVQh"
      },
      "source": [
        "# Multivariate Analysis"
      ]
    },
    {
      "cell_type": "code",
      "metadata": {
        "colab": {
          "base_uri": "https://localhost:8080/",
          "height": 623
        },
        "id": "dXNmQYedJSgG",
        "outputId": "26c028c2-273a-4802-d33b-61e177d56c69"
      },
      "source": [
        "# Relationship between post operative stay and discharge outcome considering the cancer stage\n",
        "plt.figure(figsize=(10,10))\n",
        "sns.barplot(x='Outcome at discharge',y='Postoperative hospital stay',hue='Stage.1',data=df_poland)\n",
        "plt.title(\"Relationship relationship between Post operative stay and Discharge outcome\",fontsize=15)\n",
        "plt.show()"
      ],
      "execution_count": 58,
      "outputs": [
        {
          "output_type": "display_data",
          "data": {
            "image/png": "[encoded data removed]",
            "text/plain": [
              "<Figure size 720x720 with 1 Axes>"
            ]
          },
          "metadata": {
            "needs_background": "light"
          }
        }
      ]
    },
    {
      "cell_type": "code",
      "source": [
        "# Relationship between Total hospital stay and Discharge outcome (2019 Vs 2020)\n",
        "plt.figure(figsize=(10,10))\n",
        "sns.barplot(x='Date of surgery',y='Total hospital stay',hue='Outcome at discharge',data=df_poland)\n",
        "plt.title(\"Relationship between Total hospital stay and Discharge outcome (2019 Vs 2020)\",fontsize=15)\n",
        "plt.show()"
      ],
      "metadata": {
        "colab": {
          "base_uri": "https://localhost:8080/",
          "height": 623
        },
        "id": "P0FToswPM5UL",
        "outputId": "e8666f24-e140-442a-ecfd-9fcb50c482e5"
      },
      "execution_count": 59,
      "outputs": [
        {
          "output_type": "display_data",
          "data": {
            "image/png": "[encoded data removed]",
            "text/plain": [
              "<Figure size 720x720 with 1 Axes>"
            ]
          },
          "metadata": {
            "needs_background": "light"
          }
        }
      ]
    },
    {
      "cell_type": "markdown",
      "metadata": {
        "id": "B4VjSx25gTQR"
      },
      "source": [
        "# Implementing the solution.\n"
      ]
    },
    {
      "cell_type": "markdown",
      "source": [
        "## Feature Engineering."
      ],
      "metadata": {
        "id": "4yTAAKPjK2V5"
      }
    },
    {
      "cell_type": "code",
      "source": [
        "# viewing the clean dataset\n",
        "#\n",
        "df_poland.head()"
      ],
      "metadata": {
        "colab": {
          "base_uri": "https://localhost:8080/",
          "height": 327
        },
        "id": "_Bk8ommYLR5w",
        "outputId": "d718555b-3ea4-4059-dde9-ce383a7abc4b"
      },
      "execution_count": 60,
      "outputs": [
        {
          "output_type": "execute_result",
          "data": {
            "text/html": [
              "<div>\n",
              "<style scoped>\n",
              "    .dataframe tbody tr th:only-of-type {\n",
              "        vertical-align: middle;\n",
              "    }\n",
              "\n",
              "    .dataframe tbody tr th {\n",
              "        vertical-align: top;\n",
              "    }\n",
              "\n",
              "    .dataframe thead th {\n",
              "        text-align: right;\n",
              "    }\n",
              "</style>\n",
              "<table border=\"1\" class=\"dataframe\">\n",
              "  <thead>\n",
              "    <tr style=\"text-align: right;\">\n",
              "      <th></th>\n",
              "      <th>Invasive mediastinal staging</th>\n",
              "      <th>Date of surgery</th>\n",
              "      <th>Approach</th>\n",
              "      <th>Type of surgery</th>\n",
              "      <th>Sleeve - bronchial</th>\n",
              "      <th>Histology</th>\n",
              "      <th>Stage</th>\n",
              "      <th>Stage.1</th>\n",
              "      <th>Total hospital stay</th>\n",
              "      <th>Postoperative hospital stay</th>\n",
              "      <th>Outcome at discharge</th>\n",
              "    </tr>\n",
              "    <tr>\n",
              "      <th>unique_ID</th>\n",
              "      <th></th>\n",
              "      <th></th>\n",
              "      <th></th>\n",
              "      <th></th>\n",
              "      <th></th>\n",
              "      <th></th>\n",
              "      <th></th>\n",
              "      <th></th>\n",
              "      <th></th>\n",
              "      <th></th>\n",
              "      <th></th>\n",
              "    </tr>\n",
              "  </thead>\n",
              "  <tbody>\n",
              "    <tr>\n",
              "      <th>0</th>\n",
              "      <td>NO</td>\n",
              "      <td>2019</td>\n",
              "      <td>Open</td>\n",
              "      <td>Lobectomy</td>\n",
              "      <td>NO</td>\n",
              "      <td>Adenocarcinoma</td>\n",
              "      <td>1</td>\n",
              "      <td>Early</td>\n",
              "      <td>8.0</td>\n",
              "      <td>7.0</td>\n",
              "      <td>Alive</td>\n",
              "    </tr>\n",
              "    <tr>\n",
              "      <th>1</th>\n",
              "      <td>NO</td>\n",
              "      <td>2019</td>\n",
              "      <td>VATS</td>\n",
              "      <td>Lobectomy</td>\n",
              "      <td>NO</td>\n",
              "      <td>Squamous cell carcinoma</td>\n",
              "      <td>4</td>\n",
              "      <td>Advanced</td>\n",
              "      <td>6.0</td>\n",
              "      <td>3.0</td>\n",
              "      <td>Alive</td>\n",
              "    </tr>\n",
              "    <tr>\n",
              "      <th>2</th>\n",
              "      <td>NO</td>\n",
              "      <td>2019</td>\n",
              "      <td>Open</td>\n",
              "      <td>Lobectomy</td>\n",
              "      <td>NO</td>\n",
              "      <td>Adenocarcinoma</td>\n",
              "      <td>1</td>\n",
              "      <td>Early</td>\n",
              "      <td>8.0</td>\n",
              "      <td>5.0</td>\n",
              "      <td>Alive</td>\n",
              "    </tr>\n",
              "    <tr>\n",
              "      <th>3</th>\n",
              "      <td>NO</td>\n",
              "      <td>2019</td>\n",
              "      <td>Open</td>\n",
              "      <td>Lobectomy</td>\n",
              "      <td>NO</td>\n",
              "      <td>Squamous cell carcinoma</td>\n",
              "      <td>1</td>\n",
              "      <td>Early</td>\n",
              "      <td>6.0</td>\n",
              "      <td>4.0</td>\n",
              "      <td>Alive</td>\n",
              "    </tr>\n",
              "    <tr>\n",
              "      <th>4</th>\n",
              "      <td>YES</td>\n",
              "      <td>2019</td>\n",
              "      <td>Open</td>\n",
              "      <td>Lobectomy</td>\n",
              "      <td>NO</td>\n",
              "      <td>Adenocarcinoma</td>\n",
              "      <td>1</td>\n",
              "      <td>Early</td>\n",
              "      <td>5.0</td>\n",
              "      <td>4.0</td>\n",
              "      <td>Alive</td>\n",
              "    </tr>\n",
              "  </tbody>\n",
              "</table>\n",
              "</div>"
            ],
            "text/plain": [
              "          Invasive mediastinal staging  ...  Outcome at discharge\n",
              "unique_ID                               ...                      \n",
              "0                                   NO  ...                 Alive\n",
              "1                                   NO  ...                 Alive\n",
              "2                                   NO  ...                 Alive\n",
              "3                                   NO  ...                 Alive\n",
              "4                                  YES  ...                 Alive\n",
              "\n",
              "[5 rows x 11 columns]"
            ]
          },
          "metadata": {},
          "execution_count": 60
        }
      ]
    },
    {
      "cell_type": "code",
      "source": [
        "# getting the variables to encode \n",
        "#\n",
        "objects"
      ],
      "metadata": {
        "colab": {
          "base_uri": "https://localhost:8080/"
        },
        "id": "iZVj3bPEMTvQ",
        "outputId": "87d382f1-cc1b-4c03-a6c1-bb15d02293a3"
      },
      "execution_count": 61,
      "outputs": [
        {
          "output_type": "execute_result",
          "data": {
            "text/plain": [
              "['Invasive mediastinal staging',\n",
              " 'Approach',\n",
              " 'Type of surgery',\n",
              " 'Sleeve - bronchial',\n",
              " 'Histology',\n",
              " 'Stage.1',\n",
              " 'Outcome at discharge']"
            ]
          },
          "metadata": {},
          "execution_count": 61
        }
      ]
    },
    {
      "cell_type": "code",
      "source": [
        "# \n",
        "# new_cols = pd.get_dummies(df_poland[['Type of surgery','Histology']],drop_first= True)\n",
        "# new_cols"
      ],
      "metadata": {
        "id": "DcalTqUkPXVQ"
      },
      "execution_count": 62,
      "outputs": []
    },
    {
      "cell_type": "code",
      "source": [
        "#\n",
        "#\n",
        "from sklearn.preprocessing import LabelEncoder\n",
        "cols = ['Invasive mediastinal staging','Sleeve - bronchial','Stage.1','Outcome at discharge','Approach']\n",
        "\n",
        "le = LabelEncoder()\n",
        "for col in cols: \n",
        "  le.fit(df_poland[col])\n",
        "  df_poland[col] = le.transform(df_poland[col])\n",
        "df_poland\n"
      ],
      "metadata": {
        "colab": {
          "base_uri": "https://localhost:8080/",
          "height": 562
        },
        "id": "-vnTiyanR5z-",
        "outputId": "bfda5db9-c348-4834-82e5-265fb53df578"
      },
      "execution_count": 63,
      "outputs": [
        {
          "output_type": "execute_result",
          "data": {
            "text/html": [
              "<div>\n",
              "<style scoped>\n",
              "    .dataframe tbody tr th:only-of-type {\n",
              "        vertical-align: middle;\n",
              "    }\n",
              "\n",
              "    .dataframe tbody tr th {\n",
              "        vertical-align: top;\n",
              "    }\n",
              "\n",
              "    .dataframe thead th {\n",
              "        text-align: right;\n",
              "    }\n",
              "</style>\n",
              "<table border=\"1\" class=\"dataframe\">\n",
              "  <thead>\n",
              "    <tr style=\"text-align: right;\">\n",
              "      <th></th>\n",
              "      <th>Invasive mediastinal staging</th>\n",
              "      <th>Date of surgery</th>\n",
              "      <th>Approach</th>\n",
              "      <th>Type of surgery</th>\n",
              "      <th>Sleeve - bronchial</th>\n",
              "      <th>Histology</th>\n",
              "      <th>Stage</th>\n",
              "      <th>Stage.1</th>\n",
              "      <th>Total hospital stay</th>\n",
              "      <th>Postoperative hospital stay</th>\n",
              "      <th>Outcome at discharge</th>\n",
              "    </tr>\n",
              "    <tr>\n",
              "      <th>unique_ID</th>\n",
              "      <th></th>\n",
              "      <th></th>\n",
              "      <th></th>\n",
              "      <th></th>\n",
              "      <th></th>\n",
              "      <th></th>\n",
              "      <th></th>\n",
              "      <th></th>\n",
              "      <th></th>\n",
              "      <th></th>\n",
              "      <th></th>\n",
              "    </tr>\n",
              "  </thead>\n",
              "  <tbody>\n",
              "    <tr>\n",
              "      <th>0</th>\n",
              "      <td>0</td>\n",
              "      <td>2019</td>\n",
              "      <td>0</td>\n",
              "      <td>Lobectomy</td>\n",
              "      <td>0</td>\n",
              "      <td>Adenocarcinoma</td>\n",
              "      <td>1</td>\n",
              "      <td>1</td>\n",
              "      <td>8.0</td>\n",
              "      <td>7.0</td>\n",
              "      <td>0</td>\n",
              "    </tr>\n",
              "    <tr>\n",
              "      <th>1</th>\n",
              "      <td>0</td>\n",
              "      <td>2019</td>\n",
              "      <td>1</td>\n",
              "      <td>Lobectomy</td>\n",
              "      <td>0</td>\n",
              "      <td>Squamous cell carcinoma</td>\n",
              "      <td>4</td>\n",
              "      <td>0</td>\n",
              "      <td>6.0</td>\n",
              "      <td>3.0</td>\n",
              "      <td>0</td>\n",
              "    </tr>\n",
              "    <tr>\n",
              "      <th>2</th>\n",
              "      <td>0</td>\n",
              "      <td>2019</td>\n",
              "      <td>0</td>\n",
              "      <td>Lobectomy</td>\n",
              "      <td>0</td>\n",
              "      <td>Adenocarcinoma</td>\n",
              "      <td>1</td>\n",
              "      <td>1</td>\n",
              "      <td>8.0</td>\n",
              "      <td>5.0</td>\n",
              "      <td>0</td>\n",
              "    </tr>\n",
              "    <tr>\n",
              "      <th>3</th>\n",
              "      <td>0</td>\n",
              "      <td>2019</td>\n",
              "      <td>0</td>\n",
              "      <td>Lobectomy</td>\n",
              "      <td>0</td>\n",
              "      <td>Squamous cell carcinoma</td>\n",
              "      <td>1</td>\n",
              "      <td>1</td>\n",
              "      <td>6.0</td>\n",
              "      <td>4.0</td>\n",
              "      <td>0</td>\n",
              "    </tr>\n",
              "    <tr>\n",
              "      <th>4</th>\n",
              "      <td>1</td>\n",
              "      <td>2019</td>\n",
              "      <td>0</td>\n",
              "      <td>Lobectomy</td>\n",
              "      <td>0</td>\n",
              "      <td>Adenocarcinoma</td>\n",
              "      <td>1</td>\n",
              "      <td>1</td>\n",
              "      <td>5.0</td>\n",
              "      <td>4.0</td>\n",
              "      <td>0</td>\n",
              "    </tr>\n",
              "    <tr>\n",
              "      <th>...</th>\n",
              "      <td>...</td>\n",
              "      <td>...</td>\n",
              "      <td>...</td>\n",
              "      <td>...</td>\n",
              "      <td>...</td>\n",
              "      <td>...</td>\n",
              "      <td>...</td>\n",
              "      <td>...</td>\n",
              "      <td>...</td>\n",
              "      <td>...</td>\n",
              "      <td>...</td>\n",
              "    </tr>\n",
              "    <tr>\n",
              "      <th>7297</th>\n",
              "      <td>0</td>\n",
              "      <td>2020</td>\n",
              "      <td>1</td>\n",
              "      <td>Lobectomy</td>\n",
              "      <td>0</td>\n",
              "      <td>Adenocarcinoma</td>\n",
              "      <td>1</td>\n",
              "      <td>1</td>\n",
              "      <td>7.0</td>\n",
              "      <td>6.0</td>\n",
              "      <td>0</td>\n",
              "    </tr>\n",
              "    <tr>\n",
              "      <th>7298</th>\n",
              "      <td>0</td>\n",
              "      <td>2020</td>\n",
              "      <td>1</td>\n",
              "      <td>Lobectomy</td>\n",
              "      <td>0</td>\n",
              "      <td>Adenocarcinoma</td>\n",
              "      <td>1</td>\n",
              "      <td>1</td>\n",
              "      <td>6.0</td>\n",
              "      <td>5.0</td>\n",
              "      <td>0</td>\n",
              "    </tr>\n",
              "    <tr>\n",
              "      <th>7299</th>\n",
              "      <td>0</td>\n",
              "      <td>2020</td>\n",
              "      <td>0</td>\n",
              "      <td>Lobectomy</td>\n",
              "      <td>0</td>\n",
              "      <td>Squamous cell carcinoma</td>\n",
              "      <td>2</td>\n",
              "      <td>1</td>\n",
              "      <td>7.0</td>\n",
              "      <td>6.0</td>\n",
              "      <td>0</td>\n",
              "    </tr>\n",
              "    <tr>\n",
              "      <th>7300</th>\n",
              "      <td>0</td>\n",
              "      <td>2020</td>\n",
              "      <td>1</td>\n",
              "      <td>Lobectomy</td>\n",
              "      <td>0</td>\n",
              "      <td>Adenocarcinoma</td>\n",
              "      <td>1</td>\n",
              "      <td>1</td>\n",
              "      <td>5.0</td>\n",
              "      <td>4.0</td>\n",
              "      <td>0</td>\n",
              "    </tr>\n",
              "    <tr>\n",
              "      <th>7301</th>\n",
              "      <td>0</td>\n",
              "      <td>2020</td>\n",
              "      <td>1</td>\n",
              "      <td>Lobectomy</td>\n",
              "      <td>0</td>\n",
              "      <td>Adenocarcinoma</td>\n",
              "      <td>1</td>\n",
              "      <td>1</td>\n",
              "      <td>7.0</td>\n",
              "      <td>6.0</td>\n",
              "      <td>0</td>\n",
              "    </tr>\n",
              "  </tbody>\n",
              "</table>\n",
              "<p>7199 rows × 11 columns</p>\n",
              "</div>"
            ],
            "text/plain": [
              "           Invasive mediastinal staging  ...  Outcome at discharge\n",
              "unique_ID                                ...                      \n",
              "0                                     0  ...                     0\n",
              "1                                     0  ...                     0\n",
              "2                                     0  ...                     0\n",
              "3                                     0  ...                     0\n",
              "4                                     1  ...                     0\n",
              "...                                 ...  ...                   ...\n",
              "7297                                  0  ...                     0\n",
              "7298                                  0  ...                     0\n",
              "7299                                  0  ...                     0\n",
              "7300                                  0  ...                     0\n",
              "7301                                  0  ...                     0\n",
              "\n",
              "[7199 rows x 11 columns]"
            ]
          },
          "metadata": {},
          "execution_count": 63
        }
      ]
    },
    {
      "cell_type": "code",
      "source": [
        "df_poland.columns"
      ],
      "metadata": {
        "colab": {
          "base_uri": "https://localhost:8080/"
        },
        "id": "Eukcstt2ePlD",
        "outputId": "aad3bc96-423c-4c60-dd8e-791b3505cb56"
      },
      "execution_count": 64,
      "outputs": [
        {
          "output_type": "execute_result",
          "data": {
            "text/plain": [
              "Index(['Invasive mediastinal staging', 'Date of surgery', 'Approach',\n",
              "       'Type of surgery', 'Sleeve - bronchial', 'Histology', 'Stage',\n",
              "       'Stage.1', 'Total hospital stay', 'Postoperative hospital stay',\n",
              "       'Outcome at discharge'],\n",
              "      dtype='object')"
            ]
          },
          "metadata": {},
          "execution_count": 64
        }
      ]
    },
    {
      "cell_type": "code",
      "source": [
        "#\n",
        "dummy = pd.get_dummies(df_poland['Histology'], drop_first= True)\n"
      ],
      "metadata": {
        "id": "sB3HbO4laHTf"
      },
      "execution_count": 65,
      "outputs": []
    },
    {
      "cell_type": "code",
      "source": [
        "#\n",
        "dummy2 = pd.get_dummies(df_poland['Type of surgery'], drop_first= True)"
      ],
      "metadata": {
        "id": "bHgG5xCTe3Lt"
      },
      "execution_count": 66,
      "outputs": []
    },
    {
      "cell_type": "code",
      "source": [
        "df_poland.head()"
      ],
      "metadata": {
        "colab": {
          "base_uri": "https://localhost:8080/",
          "height": 327
        },
        "id": "XwOeykmqgm0p",
        "outputId": "c5a5b446-8783-4e08-d667-aeb02cb53541"
      },
      "execution_count": 67,
      "outputs": [
        {
          "output_type": "execute_result",
          "data": {
            "text/html": [
              "<div>\n",
              "<style scoped>\n",
              "    .dataframe tbody tr th:only-of-type {\n",
              "        vertical-align: middle;\n",
              "    }\n",
              "\n",
              "    .dataframe tbody tr th {\n",
              "        vertical-align: top;\n",
              "    }\n",
              "\n",
              "    .dataframe thead th {\n",
              "        text-align: right;\n",
              "    }\n",
              "</style>\n",
              "<table border=\"1\" class=\"dataframe\">\n",
              "  <thead>\n",
              "    <tr style=\"text-align: right;\">\n",
              "      <th></th>\n",
              "      <th>Invasive mediastinal staging</th>\n",
              "      <th>Date of surgery</th>\n",
              "      <th>Approach</th>\n",
              "      <th>Type of surgery</th>\n",
              "      <th>Sleeve - bronchial</th>\n",
              "      <th>Histology</th>\n",
              "      <th>Stage</th>\n",
              "      <th>Stage.1</th>\n",
              "      <th>Total hospital stay</th>\n",
              "      <th>Postoperative hospital stay</th>\n",
              "      <th>Outcome at discharge</th>\n",
              "    </tr>\n",
              "    <tr>\n",
              "      <th>unique_ID</th>\n",
              "      <th></th>\n",
              "      <th></th>\n",
              "      <th></th>\n",
              "      <th></th>\n",
              "      <th></th>\n",
              "      <th></th>\n",
              "      <th></th>\n",
              "      <th></th>\n",
              "      <th></th>\n",
              "      <th></th>\n",
              "      <th></th>\n",
              "    </tr>\n",
              "  </thead>\n",
              "  <tbody>\n",
              "    <tr>\n",
              "      <th>0</th>\n",
              "      <td>0</td>\n",
              "      <td>2019</td>\n",
              "      <td>0</td>\n",
              "      <td>Lobectomy</td>\n",
              "      <td>0</td>\n",
              "      <td>Adenocarcinoma</td>\n",
              "      <td>1</td>\n",
              "      <td>1</td>\n",
              "      <td>8.0</td>\n",
              "      <td>7.0</td>\n",
              "      <td>0</td>\n",
              "    </tr>\n",
              "    <tr>\n",
              "      <th>1</th>\n",
              "      <td>0</td>\n",
              "      <td>2019</td>\n",
              "      <td>1</td>\n",
              "      <td>Lobectomy</td>\n",
              "      <td>0</td>\n",
              "      <td>Squamous cell carcinoma</td>\n",
              "      <td>4</td>\n",
              "      <td>0</td>\n",
              "      <td>6.0</td>\n",
              "      <td>3.0</td>\n",
              "      <td>0</td>\n",
              "    </tr>\n",
              "    <tr>\n",
              "      <th>2</th>\n",
              "      <td>0</td>\n",
              "      <td>2019</td>\n",
              "      <td>0</td>\n",
              "      <td>Lobectomy</td>\n",
              "      <td>0</td>\n",
              "      <td>Adenocarcinoma</td>\n",
              "      <td>1</td>\n",
              "      <td>1</td>\n",
              "      <td>8.0</td>\n",
              "      <td>5.0</td>\n",
              "      <td>0</td>\n",
              "    </tr>\n",
              "    <tr>\n",
              "      <th>3</th>\n",
              "      <td>0</td>\n",
              "      <td>2019</td>\n",
              "      <td>0</td>\n",
              "      <td>Lobectomy</td>\n",
              "      <td>0</td>\n",
              "      <td>Squamous cell carcinoma</td>\n",
              "      <td>1</td>\n",
              "      <td>1</td>\n",
              "      <td>6.0</td>\n",
              "      <td>4.0</td>\n",
              "      <td>0</td>\n",
              "    </tr>\n",
              "    <tr>\n",
              "      <th>4</th>\n",
              "      <td>1</td>\n",
              "      <td>2019</td>\n",
              "      <td>0</td>\n",
              "      <td>Lobectomy</td>\n",
              "      <td>0</td>\n",
              "      <td>Adenocarcinoma</td>\n",
              "      <td>1</td>\n",
              "      <td>1</td>\n",
              "      <td>5.0</td>\n",
              "      <td>4.0</td>\n",
              "      <td>0</td>\n",
              "    </tr>\n",
              "  </tbody>\n",
              "</table>\n",
              "</div>"
            ],
            "text/plain": [
              "           Invasive mediastinal staging  ...  Outcome at discharge\n",
              "unique_ID                                ...                      \n",
              "0                                     0  ...                     0\n",
              "1                                     0  ...                     0\n",
              "2                                     0  ...                     0\n",
              "3                                     0  ...                     0\n",
              "4                                     1  ...                     0\n",
              "\n",
              "[5 rows x 11 columns]"
            ]
          },
          "metadata": {},
          "execution_count": 67
        }
      ]
    },
    {
      "cell_type": "code",
      "source": [
        "df_poland_new = pd.concat([df_poland, dummy,dummy2], axis = 1).drop(df_poland[[\"Type of surgery\",\"Histology\"]],axis = 1)\n",
        "df_poland_new.head()"
      ],
      "metadata": {
        "colab": {
          "base_uri": "https://localhost:8080/",
          "height": 292
        },
        "id": "UlXNruIqV7Tu",
        "outputId": "49331e19-b273-4629-9f5c-ef906d1570e5"
      },
      "execution_count": 68,
      "outputs": [
        {
          "output_type": "execute_result",
          "data": {
            "text/html": [
              "<div>\n",
              "<style scoped>\n",
              "    .dataframe tbody tr th:only-of-type {\n",
              "        vertical-align: middle;\n",
              "    }\n",
              "\n",
              "    .dataframe tbody tr th {\n",
              "        vertical-align: top;\n",
              "    }\n",
              "\n",
              "    .dataframe thead th {\n",
              "        text-align: right;\n",
              "    }\n",
              "</style>\n",
              "<table border=\"1\" class=\"dataframe\">\n",
              "  <thead>\n",
              "    <tr style=\"text-align: right;\">\n",
              "      <th></th>\n",
              "      <th>Invasive mediastinal staging</th>\n",
              "      <th>Date of surgery</th>\n",
              "      <th>Approach</th>\n",
              "      <th>Sleeve - bronchial</th>\n",
              "      <th>Stage</th>\n",
              "      <th>Stage.1</th>\n",
              "      <th>Total hospital stay</th>\n",
              "      <th>Postoperative hospital stay</th>\n",
              "      <th>Outcome at discharge</th>\n",
              "      <th>Large cell carcinoma</th>\n",
              "      <th>Other</th>\n",
              "      <th>Squamous cell carcinoma</th>\n",
              "      <th>Lobectomy</th>\n",
              "      <th>Pneumonectomy</th>\n",
              "      <th>Segmentectomy</th>\n",
              "      <th>Wedge resection</th>\n",
              "      <th>Wyci?cie mankietu oskrzela</th>\n",
              "    </tr>\n",
              "    <tr>\n",
              "      <th>unique_ID</th>\n",
              "      <th></th>\n",
              "      <th></th>\n",
              "      <th></th>\n",
              "      <th></th>\n",
              "      <th></th>\n",
              "      <th></th>\n",
              "      <th></th>\n",
              "      <th></th>\n",
              "      <th></th>\n",
              "      <th></th>\n",
              "      <th></th>\n",
              "      <th></th>\n",
              "      <th></th>\n",
              "      <th></th>\n",
              "      <th></th>\n",
              "      <th></th>\n",
              "      <th></th>\n",
              "    </tr>\n",
              "  </thead>\n",
              "  <tbody>\n",
              "    <tr>\n",
              "      <th>0</th>\n",
              "      <td>0</td>\n",
              "      <td>2019</td>\n",
              "      <td>0</td>\n",
              "      <td>0</td>\n",
              "      <td>1</td>\n",
              "      <td>1</td>\n",
              "      <td>8.0</td>\n",
              "      <td>7.0</td>\n",
              "      <td>0</td>\n",
              "      <td>0</td>\n",
              "      <td>0</td>\n",
              "      <td>0</td>\n",
              "      <td>1</td>\n",
              "      <td>0</td>\n",
              "      <td>0</td>\n",
              "      <td>0</td>\n",
              "      <td>0</td>\n",
              "    </tr>\n",
              "    <tr>\n",
              "      <th>1</th>\n",
              "      <td>0</td>\n",
              "      <td>2019</td>\n",
              "      <td>1</td>\n",
              "      <td>0</td>\n",
              "      <td>4</td>\n",
              "      <td>0</td>\n",
              "      <td>6.0</td>\n",
              "      <td>3.0</td>\n",
              "      <td>0</td>\n",
              "      <td>0</td>\n",
              "      <td>0</td>\n",
              "      <td>1</td>\n",
              "      <td>1</td>\n",
              "      <td>0</td>\n",
              "      <td>0</td>\n",
              "      <td>0</td>\n",
              "      <td>0</td>\n",
              "    </tr>\n",
              "    <tr>\n",
              "      <th>2</th>\n",
              "      <td>0</td>\n",
              "      <td>2019</td>\n",
              "      <td>0</td>\n",
              "      <td>0</td>\n",
              "      <td>1</td>\n",
              "      <td>1</td>\n",
              "      <td>8.0</td>\n",
              "      <td>5.0</td>\n",
              "      <td>0</td>\n",
              "      <td>0</td>\n",
              "      <td>0</td>\n",
              "      <td>0</td>\n",
              "      <td>1</td>\n",
              "      <td>0</td>\n",
              "      <td>0</td>\n",
              "      <td>0</td>\n",
              "      <td>0</td>\n",
              "    </tr>\n",
              "    <tr>\n",
              "      <th>3</th>\n",
              "      <td>0</td>\n",
              "      <td>2019</td>\n",
              "      <td>0</td>\n",
              "      <td>0</td>\n",
              "      <td>1</td>\n",
              "      <td>1</td>\n",
              "      <td>6.0</td>\n",
              "      <td>4.0</td>\n",
              "      <td>0</td>\n",
              "      <td>0</td>\n",
              "      <td>0</td>\n",
              "      <td>1</td>\n",
              "      <td>1</td>\n",
              "      <td>0</td>\n",
              "      <td>0</td>\n",
              "      <td>0</td>\n",
              "      <td>0</td>\n",
              "    </tr>\n",
              "    <tr>\n",
              "      <th>4</th>\n",
              "      <td>1</td>\n",
              "      <td>2019</td>\n",
              "      <td>0</td>\n",
              "      <td>0</td>\n",
              "      <td>1</td>\n",
              "      <td>1</td>\n",
              "      <td>5.0</td>\n",
              "      <td>4.0</td>\n",
              "      <td>0</td>\n",
              "      <td>0</td>\n",
              "      <td>0</td>\n",
              "      <td>0</td>\n",
              "      <td>1</td>\n",
              "      <td>0</td>\n",
              "      <td>0</td>\n",
              "      <td>0</td>\n",
              "      <td>0</td>\n",
              "    </tr>\n",
              "  </tbody>\n",
              "</table>\n",
              "</div>"
            ],
            "text/plain": [
              "           Invasive mediastinal staging  ...  Wyci?cie mankietu oskrzela\n",
              "unique_ID                                ...                            \n",
              "0                                     0  ...                           0\n",
              "1                                     0  ...                           0\n",
              "2                                     0  ...                           0\n",
              "3                                     0  ...                           0\n",
              "4                                     1  ...                           0\n",
              "\n",
              "[5 rows x 17 columns]"
            ]
          },
          "metadata": {},
          "execution_count": 68
        }
      ]
    },
    {
      "cell_type": "code",
      "source": [
        "x = df_poland_new.drop(\"Total hospital stay\", axis = 1)\n",
        "Y = df_poland_new['Total hospital stay']"
      ],
      "metadata": {
        "id": "TeLzqw6nieuR"
      },
      "execution_count": 69,
      "outputs": []
    },
    {
      "cell_type": "code",
      "source": [
        "# Checking for multicollinearity\n",
        "#\n",
        "from statsmodels.stats.outliers_influence import variance_inflation_factor\n",
        "vif = pd.DataFrame()\n",
        "vif[\"Factor\"] = [variance_inflation_factor(x.values, i) for i in range(x.shape[1])]\n",
        "vif[\"Feat\"] = x.columns\n",
        "vif"
      ],
      "metadata": {
        "colab": {
          "base_uri": "https://localhost:8080/",
          "height": 606
        },
        "id": "Gky55kS6hvyn",
        "outputId": "00d81aa6-ce0c-4a39-9df8-b9c2363f17fc"
      },
      "execution_count": 70,
      "outputs": [
        {
          "output_type": "stream",
          "name": "stderr",
          "text": [
            "/usr/local/lib/python3.7/dist-packages/statsmodels/tools/_testing.py:19: FutureWarning: pandas.util.testing is deprecated. Use the functions in the public API at pandas.testing instead.\n",
            "  import pandas.util.testing as tm\n"
          ]
        },
        {
          "output_type": "execute_result",
          "data": {
            "text/html": [
              "<div>\n",
              "<style scoped>\n",
              "    .dataframe tbody tr th:only-of-type {\n",
              "        vertical-align: middle;\n",
              "    }\n",
              "\n",
              "    .dataframe tbody tr th {\n",
              "        vertical-align: top;\n",
              "    }\n",
              "\n",
              "    .dataframe thead th {\n",
              "        text-align: right;\n",
              "    }\n",
              "</style>\n",
              "<table border=\"1\" class=\"dataframe\">\n",
              "  <thead>\n",
              "    <tr style=\"text-align: right;\">\n",
              "      <th></th>\n",
              "      <th>Factor</th>\n",
              "      <th>Feat</th>\n",
              "    </tr>\n",
              "  </thead>\n",
              "  <tbody>\n",
              "    <tr>\n",
              "      <th>0</th>\n",
              "      <td>1.200298</td>\n",
              "      <td>Invasive mediastinal staging</td>\n",
              "    </tr>\n",
              "    <tr>\n",
              "      <th>1</th>\n",
              "      <td>83.395633</td>\n",
              "      <td>Date of surgery</td>\n",
              "    </tr>\n",
              "    <tr>\n",
              "      <th>2</th>\n",
              "      <td>2.009439</td>\n",
              "      <td>Approach</td>\n",
              "    </tr>\n",
              "    <tr>\n",
              "      <th>3</th>\n",
              "      <td>1.039424</td>\n",
              "      <td>Sleeve - bronchial</td>\n",
              "    </tr>\n",
              "    <tr>\n",
              "      <th>4</th>\n",
              "      <td>19.217354</td>\n",
              "      <td>Stage</td>\n",
              "    </tr>\n",
              "    <tr>\n",
              "      <th>5</th>\n",
              "      <td>19.046199</td>\n",
              "      <td>Stage.1</td>\n",
              "    </tr>\n",
              "    <tr>\n",
              "      <th>6</th>\n",
              "      <td>2.436358</td>\n",
              "      <td>Postoperative hospital stay</td>\n",
              "    </tr>\n",
              "    <tr>\n",
              "      <th>7</th>\n",
              "      <td>1.070571</td>\n",
              "      <td>Outcome at discharge</td>\n",
              "    </tr>\n",
              "    <tr>\n",
              "      <th>8</th>\n",
              "      <td>1.109500</td>\n",
              "      <td>Large cell carcinoma</td>\n",
              "    </tr>\n",
              "    <tr>\n",
              "      <th>9</th>\n",
              "      <td>1.277094</td>\n",
              "      <td>Other</td>\n",
              "    </tr>\n",
              "    <tr>\n",
              "      <th>10</th>\n",
              "      <td>1.876338</td>\n",
              "      <td>Squamous cell carcinoma</td>\n",
              "    </tr>\n",
              "    <tr>\n",
              "      <th>11</th>\n",
              "      <td>17.420135</td>\n",
              "      <td>Lobectomy</td>\n",
              "    </tr>\n",
              "    <tr>\n",
              "      <th>12</th>\n",
              "      <td>2.315410</td>\n",
              "      <td>Pneumonectomy</td>\n",
              "    </tr>\n",
              "    <tr>\n",
              "      <th>13</th>\n",
              "      <td>2.814246</td>\n",
              "      <td>Segmentectomy</td>\n",
              "    </tr>\n",
              "    <tr>\n",
              "      <th>14</th>\n",
              "      <td>2.066862</td>\n",
              "      <td>Wedge resection</td>\n",
              "    </tr>\n",
              "    <tr>\n",
              "      <th>15</th>\n",
              "      <td>1.050096</td>\n",
              "      <td>Wyci?cie mankietu oskrzela</td>\n",
              "    </tr>\n",
              "  </tbody>\n",
              "</table>\n",
              "</div>"
            ],
            "text/plain": [
              "       Factor                          Feat\n",
              "0    1.200298  Invasive mediastinal staging\n",
              "1   83.395633               Date of surgery\n",
              "2    2.009439                      Approach\n",
              "3    1.039424            Sleeve - bronchial\n",
              "4   19.217354                         Stage\n",
              "5   19.046199                       Stage.1\n",
              "6    2.436358   Postoperative hospital stay\n",
              "7    1.070571          Outcome at discharge\n",
              "8    1.109500          Large cell carcinoma\n",
              "9    1.277094                         Other\n",
              "10   1.876338       Squamous cell carcinoma\n",
              "11  17.420135                     Lobectomy\n",
              "12   2.315410                 Pneumonectomy\n",
              "13   2.814246                 Segmentectomy\n",
              "14   2.066862               Wedge resection\n",
              "15   1.050096    Wyci?cie mankietu oskrzela"
            ]
          },
          "metadata": {},
          "execution_count": 70
        }
      ]
    },
    {
      "cell_type": "code",
      "source": [
        "x2 = x.drop(columns = [\"Date of surgery\",\"Stage.1\",\"Lobectomy\",\"Postoperative hospital stay\"], axis = 1)\n"
      ],
      "metadata": {
        "id": "60ceCO6dk6L0"
      },
      "execution_count": 71,
      "outputs": []
    },
    {
      "cell_type": "code",
      "source": [
        "from statsmodels.stats.outliers_influence import variance_inflation_factor\n",
        "vif = pd.DataFrame()\n",
        "vif[\"Factor\"] = [variance_inflation_factor(x2.values, i) for i in range(x2.shape[1])]\n",
        "vif[\"Feat\"] = x2.columns\n",
        "vif"
      ],
      "metadata": {
        "colab": {
          "base_uri": "https://localhost:8080/",
          "height": 426
        },
        "id": "KFIltufYlgVY",
        "outputId": "9f5742b0-a1ae-48c9-e214-372c019242dd"
      },
      "execution_count": 72,
      "outputs": [
        {
          "output_type": "execute_result",
          "data": {
            "text/html": [
              "<div>\n",
              "<style scoped>\n",
              "    .dataframe tbody tr th:only-of-type {\n",
              "        vertical-align: middle;\n",
              "    }\n",
              "\n",
              "    .dataframe tbody tr th {\n",
              "        vertical-align: top;\n",
              "    }\n",
              "\n",
              "    .dataframe thead th {\n",
              "        text-align: right;\n",
              "    }\n",
              "</style>\n",
              "<table border=\"1\" class=\"dataframe\">\n",
              "  <thead>\n",
              "    <tr style=\"text-align: right;\">\n",
              "      <th></th>\n",
              "      <th>Factor</th>\n",
              "      <th>Feat</th>\n",
              "    </tr>\n",
              "  </thead>\n",
              "  <tbody>\n",
              "    <tr>\n",
              "      <th>0</th>\n",
              "      <td>1.165037</td>\n",
              "      <td>Invasive mediastinal staging</td>\n",
              "    </tr>\n",
              "    <tr>\n",
              "      <th>1</th>\n",
              "      <td>1.461563</td>\n",
              "      <td>Approach</td>\n",
              "    </tr>\n",
              "    <tr>\n",
              "      <th>2</th>\n",
              "      <td>1.036513</td>\n",
              "      <td>Sleeve - bronchial</td>\n",
              "    </tr>\n",
              "    <tr>\n",
              "      <th>3</th>\n",
              "      <td>2.360092</td>\n",
              "      <td>Stage</td>\n",
              "    </tr>\n",
              "    <tr>\n",
              "      <th>4</th>\n",
              "      <td>1.013684</td>\n",
              "      <td>Outcome at discharge</td>\n",
              "    </tr>\n",
              "    <tr>\n",
              "      <th>5</th>\n",
              "      <td>1.095143</td>\n",
              "      <td>Large cell carcinoma</td>\n",
              "    </tr>\n",
              "    <tr>\n",
              "      <th>6</th>\n",
              "      <td>1.193557</td>\n",
              "      <td>Other</td>\n",
              "    </tr>\n",
              "    <tr>\n",
              "      <th>7</th>\n",
              "      <td>1.640597</td>\n",
              "      <td>Squamous cell carcinoma</td>\n",
              "    </tr>\n",
              "    <tr>\n",
              "      <th>8</th>\n",
              "      <td>1.176385</td>\n",
              "      <td>Pneumonectomy</td>\n",
              "    </tr>\n",
              "    <tr>\n",
              "      <th>9</th>\n",
              "      <td>1.065096</td>\n",
              "      <td>Segmentectomy</td>\n",
              "    </tr>\n",
              "    <tr>\n",
              "      <th>10</th>\n",
              "      <td>1.050383</td>\n",
              "      <td>Wedge resection</td>\n",
              "    </tr>\n",
              "    <tr>\n",
              "      <th>11</th>\n",
              "      <td>1.009411</td>\n",
              "      <td>Wyci?cie mankietu oskrzela</td>\n",
              "    </tr>\n",
              "  </tbody>\n",
              "</table>\n",
              "</div>"
            ],
            "text/plain": [
              "      Factor                          Feat\n",
              "0   1.165037  Invasive mediastinal staging\n",
              "1   1.461563                      Approach\n",
              "2   1.036513            Sleeve - bronchial\n",
              "3   2.360092                         Stage\n",
              "4   1.013684          Outcome at discharge\n",
              "5   1.095143          Large cell carcinoma\n",
              "6   1.193557                         Other\n",
              "7   1.640597       Squamous cell carcinoma\n",
              "8   1.176385                 Pneumonectomy\n",
              "9   1.065096                 Segmentectomy\n",
              "10  1.050383               Wedge resection\n",
              "11  1.009411    Wyci?cie mankietu oskrzela"
            ]
          },
          "metadata": {},
          "execution_count": 72
        }
      ]
    },
    {
      "cell_type": "code",
      "source": [
        "def extra_tree_regressor(x,Y):\n",
        "  \n",
        "    from sklearn.ensemble import ExtraTreesRegressor\n",
        "\n",
        "    model = ExtraTreesRegressor()\n",
        "\n",
        "    model.fit(x,Y)\n",
        "\n",
        "    model_import = model.feature_importances_\n",
        "    print(model_import)\n",
        "    feat_imp = pd.Series(model.feature_importances_, index=x.columns)\n",
        "\n",
        "    feat_imp.nlargest(13).plot.barh(figsize = (10,8))\n",
        "\n",
        "    plt.title(\"Feature Importance\")\n",
        "    \n",
        "    plt.show()"
      ],
      "metadata": {
        "id": "t5WSzUPzOvBY"
      },
      "execution_count": 73,
      "outputs": []
    },
    {
      "cell_type": "code",
      "source": [
        "extra_tree_regressor(x2,Y)"
      ],
      "metadata": {
        "colab": {
          "base_uri": "https://localhost:8080/",
          "height": 534
        },
        "id": "n3g4qiiqmX0S",
        "outputId": "c6194f0b-adc1-4b33-d60d-f6b93a6df9cd"
      },
      "execution_count": 74,
      "outputs": [
        {
          "output_type": "stream",
          "name": "stdout",
          "text": [
            "[0.09312137 0.06648553 0.00975057 0.44495227 0.15837617 0.01754192\n",
            " 0.04626025 0.05253634 0.05893749 0.03451956 0.01474171 0.00277683]\n"
          ]
        },
        {
          "output_type": "display_data",
          "data": {
            "image/png": "[encoded data removed]",
            "text/plain": [
              "<Figure size 720x576 with 1 Axes>"
            ]
          },
          "metadata": {
            "needs_background": "light"
          }
        }
      ]
    },
    {
      "cell_type": "code",
      "source": [
        "# dropping the least important features\n",
        "#\n",
        "x3 = x2.drop(columns = [\"Wyci?cie mankietu oskrzela\",\"Sleeve - bronchial\",\"Wedge resection\",\"Outcome at discharge\"], axis = 1)"
      ],
      "metadata": {
        "id": "VDDo1N7hogn1"
      },
      "execution_count": 75,
      "outputs": []
    },
    {
      "cell_type": "markdown",
      "source": [
        "### Baseline model"
      ],
      "metadata": {
        "id": "-DhE9fsRtkon"
      }
    },
    {
      "cell_type": "code",
      "source": [
        "from sklearn.ensemble import RandomForestRegressor\n",
        "\n",
        "from sklearn.model_selection import train_test_split\n",
        "\n",
        "# splitting to test and train sets \n",
        "#\n",
        "x_train, x_test, Y_train, Y_test = train_test_split(x3,Y,test_size=0.2,random_state = 0)\n",
        "\n",
        "# Calling the regressor\n",
        "#\n",
        "regr = RandomForestRegressor(n_estimators = 500 , random_state = 0)\n",
        "\n",
        "# Fitting the model\n",
        "#\n",
        "regr.fit(x_train,Y_train)\n",
        "\n",
        "# Predicting the total number of days \n",
        "#\n",
        "Y_pred = regr.predict(x_test)\n",
        "\n",
        "from sklearn.metrics import mean_squared_error\n",
        "\n",
        "# Calculating the RMSE\n",
        "#\n",
        "RMSE = np.sqrt(mean_squared_error(Y_test, Y_pred))\n",
        "\n",
        "print(RMSE)"
      ],
      "metadata": {
        "colab": {
          "base_uri": "https://localhost:8080/"
        },
        "id": "m2X5QQNUtPt0",
        "outputId": "b46a2a94-52ad-4c3a-e90c-6cb4faf7fb78"
      },
      "execution_count": 76,
      "outputs": [
        {
          "output_type": "stream",
          "name": "stdout",
          "text": [
            "11.133399882816217\n"
          ]
        }
      ]
    },
    {
      "cell_type": "markdown",
      "source": [
        "### Optimization of our baseline model"
      ],
      "metadata": {
        "id": "w23C9a6u0GZ9"
      }
    },
    {
      "cell_type": "code",
      "source": [
        "# Tuning of the hyperparameters\n",
        "#\n",
        "regr.get_params()"
      ],
      "metadata": {
        "colab": {
          "base_uri": "https://localhost:8080/"
        },
        "id": "RsiiL7SCzrrA",
        "outputId": "c5696dc3-835c-4c96-c28f-10cf6f912c8c"
      },
      "execution_count": 77,
      "outputs": [
        {
          "output_type": "execute_result",
          "data": {
            "text/plain": [
              "{'bootstrap': True,\n",
              " 'ccp_alpha': 0.0,\n",
              " 'criterion': 'squared_error',\n",
              " 'max_depth': None,\n",
              " 'max_features': 'auto',\n",
              " 'max_leaf_nodes': None,\n",
              " 'max_samples': None,\n",
              " 'min_impurity_decrease': 0.0,\n",
              " 'min_samples_leaf': 1,\n",
              " 'min_samples_split': 2,\n",
              " 'min_weight_fraction_leaf': 0.0,\n",
              " 'n_estimators': 500,\n",
              " 'n_jobs': None,\n",
              " 'oob_score': False,\n",
              " 'random_state': 0,\n",
              " 'verbose': 0,\n",
              " 'warm_start': False}"
            ]
          },
          "metadata": {},
          "execution_count": 77
        }
      ]
    },
    {
      "cell_type": "code",
      "source": [
        "\n",
        "rf = RandomForestRegressor()\n",
        "\n",
        "# obtaining the param grid\n",
        "#\n",
        "param_grid = {\n",
        "     'max_depth': [3,5,10],\n",
        "     'max_features': [2,3,5],\n",
        "     'min_samples_leaf': [3,4,5],\n",
        "     'min_samples_split': [4,6,8],\n",
        "     'n_estimators': [200,300,500]\n",
        " }\n",
        "\n",
        " # performing grid search\n",
        " #\n",
        "from sklearn.model_selection import GridSearchCV  \n",
        "forest_search = GridSearchCV(estimator = rf , param_grid = param_grid, scoring = \"r2\", cv = 3, verbose = 1)\n",
        "forest_search.fit(x_train, Y_train)\n"
      ],
      "metadata": {
        "colab": {
          "base_uri": "https://localhost:8080/"
        },
        "id": "iz092huf0cPu",
        "outputId": "0e2478b2-d667-4d4b-8a63-0c06908b5df9"
      },
      "execution_count": 79,
      "outputs": [
        {
          "output_type": "stream",
          "name": "stdout",
          "text": [
            "Fitting 3 folds for each of 243 candidates, totalling 729 fits\n"
          ]
        },
        {
          "output_type": "execute_result",
          "data": {
            "text/plain": [
              "GridSearchCV(cv=3, estimator=RandomForestRegressor(),\n",
              "             param_grid={'max_depth': [3, 5, 10], 'max_features': [2, 3, 5],\n",
              "                         'min_samples_leaf': [3, 4, 5],\n",
              "                         'min_samples_split': [4, 6, 8],\n",
              "                         'n_estimators': [200, 300, 500]},\n",
              "             scoring='r2', verbose=1)"
            ]
          },
          "metadata": {},
          "execution_count": 79
        }
      ]
    },
    {
      "cell_type": "code",
      "source": [
        "my_params= forest_search.best_params_\n",
        "my_params"
      ],
      "metadata": {
        "colab": {
          "base_uri": "https://localhost:8080/"
        },
        "id": "v9JO9O8VAH_C",
        "outputId": "67437bb3-0136-415a-d6c1-f50606fdf67e"
      },
      "execution_count": 80,
      "outputs": [
        {
          "output_type": "execute_result",
          "data": {
            "text/plain": [
              "{'max_depth': 3,\n",
              " 'max_features': 5,\n",
              " 'min_samples_leaf': 4,\n",
              " 'min_samples_split': 6,\n",
              " 'n_estimators': 200}"
            ]
          },
          "metadata": {},
          "execution_count": 80
        }
      ]
    },
    {
      "cell_type": "code",
      "source": [
        "# Best Estimator\n",
        "#\n",
        "best_model = forest_search.best_estimator_\n",
        "Y_pred_optimum = best_model.predict(x_test)\n",
        "RMSE1 = np.sqrt(mean_squared_error(Y_test, Y_pred_optimum))\n",
        "print(RMSE1)"
      ],
      "metadata": {
        "colab": {
          "base_uri": "https://localhost:8080/"
        },
        "id": "e4nHi4OA_04c",
        "outputId": "ff69e81d-5d94-44cb-9e84-e4a6b7227ec8"
      },
      "execution_count": 81,
      "outputs": [
        {
          "output_type": "stream",
          "name": "stdout",
          "text": [
            "11.049869523668361\n"
          ]
        }
      ]
    },
    {
      "cell_type": "markdown",
      "source": [
        "### Optimizing using SVM"
      ],
      "metadata": {
        "id": "aN9YbMVeBBMi"
      }
    },
    {
      "cell_type": "code",
      "source": [
        "# Normalizing our features\n",
        "#\n",
        "x_train, x_test, Y_train, Y_test = train_test_split(x3,Y,test_size=0.2,random_state = 42)\n",
        "from sklearn.preprocessing import StandardScaler\n",
        "\n",
        "sc = StandardScaler()\n",
        "x_train = sc.fit_transform(x_train)\n",
        "x_test = sc.transform(x_test)"
      ],
      "metadata": {
        "id": "BO4LJT3IBvAx"
      },
      "execution_count": 82,
      "outputs": []
    },
    {
      "cell_type": "code",
      "source": [
        "from sklearn.svm import SVC\n",
        "# using svc regressor to tune hyperparameters\n",
        "#\n",
        "svm = SVC()\n",
        "# Obtaining the param grig\n",
        "param_grid_svm = {'C': [0.1,1,10,100,1000],\n",
        "                    'gamma': [1,0.1,0.01,0.001,0.0001],\n",
        "                    'kernel': ['rbf']}\n",
        "\n",
        "svm_search=GridSearchCV(estimator=svm,\n",
        "                           param_grid=param_grid_svm,\n",
        "                           scoring=\"neg_mean_squared_error\",\n",
        "                           n_jobs=1,cv=5,verbose=1)\n",
        "svm_search.fit(x_train, Y_train)\n"
      ],
      "metadata": {
        "colab": {
          "base_uri": "https://localhost:8080/"
        },
        "id": "Q_TbnL6SBGAz",
        "outputId": "2ede8329-ba23-4240-dd5f-f121a8093945"
      },
      "execution_count": 83,
      "outputs": [
        {
          "output_type": "stream",
          "name": "stdout",
          "text": [
            "Fitting 5 folds for each of 25 candidates, totalling 125 fits\n"
          ]
        },
        {
          "output_type": "stream",
          "name": "stderr",
          "text": [
            "/usr/local/lib/python3.7/dist-packages/sklearn/model_selection/_split.py:680: UserWarning: The least populated class in y has only 1 members, which is less than n_splits=5.\n",
            "  UserWarning,\n"
          ]
        },
        {
          "output_type": "execute_result",
          "data": {
            "text/plain": [
              "GridSearchCV(cv=5, estimator=SVC(), n_jobs=1,\n",
              "             param_grid={'C': [0.1, 1, 10, 100, 1000],\n",
              "                         'gamma': [1, 0.1, 0.01, 0.001, 0.0001],\n",
              "                         'kernel': ['rbf']},\n",
              "             scoring='neg_mean_squared_error', verbose=1)"
            ]
          },
          "metadata": {},
          "execution_count": 83
        }
      ]
    },
    {
      "cell_type": "code",
      "source": [
        "m_params = svm_search.best_estimator_\n",
        "m_params"
      ],
      "metadata": {
        "colab": {
          "base_uri": "https://localhost:8080/"
        },
        "id": "0BCPMVGEFbY-",
        "outputId": "abaea60c-bfb0-407f-c96c-0424df70b54e"
      },
      "execution_count": 84,
      "outputs": [
        {
          "output_type": "execute_result",
          "data": {
            "text/plain": [
              "SVC(C=1, gamma=0.1)"
            ]
          },
          "metadata": {},
          "execution_count": 84
        }
      ]
    },
    {
      "cell_type": "code",
      "source": [
        "# Best Estimator\n",
        "#\n",
        "best_model2 = svm_search.best_estimator_\n",
        "Y_pred_optimum2 = best_model2.predict(x_test)\n",
        "RMSE3 = np.sqrt(mean_squared_error(Y_test, Y_pred_optimum2))\n",
        "print(RMSE3)"
      ],
      "metadata": {
        "colab": {
          "base_uri": "https://localhost:8080/"
        },
        "id": "OE2Z0SBnEjQq",
        "outputId": "83a32732-f5cd-4744-81e6-fd0845dc2670"
      },
      "execution_count": 85,
      "outputs": [
        {
          "output_type": "stream",
          "name": "stdout",
          "text": [
            "9.848293704438799\n"
          ]
        }
      ]
    },
    {
      "cell_type": "markdown",
      "source": [
        "The error margin could be attributed to the outliers in the total number of days spent in the hospital in the training set---------------------> \n",
        "We will also remove post operative proceedure as a feature as its positive corelated to Y and not independent at all."
      ],
      "metadata": {
        "id": "meYEm1beGsGL"
      }
    },
    {
      "cell_type": "markdown",
      "source": [
        "### Clustering\n"
      ],
      "metadata": {
        "id": "rZllyDJRGh2n"
      }
    }
  ]
}