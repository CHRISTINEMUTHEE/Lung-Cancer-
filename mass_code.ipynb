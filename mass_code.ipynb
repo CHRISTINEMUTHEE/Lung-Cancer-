{
  "nbformat": 4,
  "nbformat_minor": 0,
  "metadata": {
    "colab": {
      "name": "mass_code.ipynb",
      "provenance": [],
      "collapsed_sections": [],
      "include_colab_link": true
    },
    "kernelspec": {
      "name": "python3",
      "display_name": "Python 3"
    },
    "language_info": {
      "name": "python"
    }
  },
  "cells": [
    {
      "cell_type": "markdown",
      "metadata": {
        "id": "view-in-github",
        "colab_type": "text"
      },
      "source": [
        "<a href=\"https://colab.research.google.com/github/mburu-mwangi/Lung-Cancer-/blob/main/mass_code.ipynb\" target=\"_parent\"><img src=\"https://colab.research.google.com/assets/colab-badge.svg\" alt=\"Open In Colab\"/></a>"
      ]
    },
    {
      "cell_type": "markdown",
      "metadata": {
        "id": "aahw9EkJHFG7"
      },
      "source": [
        "# Lung cancer Analysis\n"
      ]
    },
    {
      "cell_type": "code",
      "metadata": {
        "id": "qg-DIigXOMV0"
      },
      "source": [
        "# Importing the necessary libraries\n",
        "import pandas as pd\n",
        "import numpy as np\n",
        "import matplotlib.pyplot as plt\n",
        "import seaborn as sns"
      ],
      "execution_count": null,
      "outputs": []
    },
    {
      "cell_type": "markdown",
      "metadata": {
        "id": "WwVYPGrAHixu"
      },
      "source": [
        "# Loading of the Dataset"
      ]
    },
    {
      "cell_type": "code",
      "metadata": {
        "id": "Kt1CqjFt0NkS"
      },
      "source": [
        "# Loading the dataset\n",
        "url='https://drive.google.com/file/d/1hIjlEeOgcVUQQ36LcnyT1_xBNBuRE7NY/view?usp=sharing'\n",
        "url2='https://drive.google.com/uc?id=' + url.split('/')[-2]\n",
        "df = pd.read_csv(url2)"
      ],
      "execution_count": null,
      "outputs": []
    },
    {
      "cell_type": "code",
      "metadata": {
        "id": "eoY3VxzEOgW8"
      },
      "source": [
        "#df_poland = pd.read_csv(\"covid_caner_poland.csv\")"
      ],
      "execution_count": null,
      "outputs": []
    },
    {
      "cell_type": "code",
      "metadata": {
        "id": "i3rlQwHpOgSe"
      },
      "source": [
        "# Craeting a copy of the same set\n",
        "df_poland =  df.copy()"
      ],
      "execution_count": null,
      "outputs": []
    },
    {
      "cell_type": "code",
      "metadata": {
        "colab": {
          "base_uri": "https://localhost:8080/",
          "height": 276
        },
        "id": "F7r2ZqcJ0qHm",
        "outputId": "64b6bb22-b1d3-44c6-9e5d-43160286fafa"
      },
      "source": [
        "# Checking the head of the dataset\n",
        "df_poland.head()"
      ],
      "execution_count": null,
      "outputs": [
        {
          "output_type": "execute_result",
          "data": {
            "text/html": [
              "<div>\n",
              "<style scoped>\n",
              "    .dataframe tbody tr th:only-of-type {\n",
              "        vertical-align: middle;\n",
              "    }\n",
              "\n",
              "    .dataframe tbody tr th {\n",
              "        vertical-align: top;\n",
              "    }\n",
              "\n",
              "    .dataframe thead th {\n",
              "        text-align: right;\n",
              "    }\n",
              "</style>\n",
              "<table border=\"1\" class=\"dataframe\">\n",
              "  <thead>\n",
              "    <tr style=\"text-align: right;\">\n",
              "      <th></th>\n",
              "      <th>Invasive mediastinal staging</th>\n",
              "      <th>Date of surgery</th>\n",
              "      <th>Approach</th>\n",
              "      <th>Type of surgery</th>\n",
              "      <th>Sleeve - bronchial</th>\n",
              "      <th>Histology</th>\n",
              "      <th>Stage</th>\n",
              "      <th>Stage.1</th>\n",
              "      <th>Total hospital stay</th>\n",
              "      <th>Postoperative hospital stay</th>\n",
              "      <th>Outcome at discharge</th>\n",
              "    </tr>\n",
              "  </thead>\n",
              "  <tbody>\n",
              "    <tr>\n",
              "      <th>0</th>\n",
              "      <td>NIE</td>\n",
              "      <td>2019</td>\n",
              "      <td>Open</td>\n",
              "      <td>Lobectomy</td>\n",
              "      <td>NO</td>\n",
              "      <td>Adenocarcinoma</td>\n",
              "      <td>I</td>\n",
              "      <td>Early</td>\n",
              "      <td>8.0</td>\n",
              "      <td>7.0</td>\n",
              "      <td>Alive</td>\n",
              "    </tr>\n",
              "    <tr>\n",
              "      <th>1</th>\n",
              "      <td>NIE</td>\n",
              "      <td>2019</td>\n",
              "      <td>VATS</td>\n",
              "      <td>Lobectomy</td>\n",
              "      <td>NO</td>\n",
              "      <td>Squamous cell carcinoma</td>\n",
              "      <td>IV</td>\n",
              "      <td>Advanced</td>\n",
              "      <td>6.0</td>\n",
              "      <td>3.0</td>\n",
              "      <td>Alive</td>\n",
              "    </tr>\n",
              "    <tr>\n",
              "      <th>2</th>\n",
              "      <td>NIE</td>\n",
              "      <td>2019</td>\n",
              "      <td>Open</td>\n",
              "      <td>Lobectomy</td>\n",
              "      <td>NO</td>\n",
              "      <td>Adenocarcinoma</td>\n",
              "      <td>I</td>\n",
              "      <td>Early</td>\n",
              "      <td>8.0</td>\n",
              "      <td>5.0</td>\n",
              "      <td>Alive</td>\n",
              "    </tr>\n",
              "    <tr>\n",
              "      <th>3</th>\n",
              "      <td>NIE</td>\n",
              "      <td>2019</td>\n",
              "      <td>Open</td>\n",
              "      <td>Lobectomy</td>\n",
              "      <td>NO</td>\n",
              "      <td>Squamous cell carcinoma</td>\n",
              "      <td>I</td>\n",
              "      <td>Early</td>\n",
              "      <td>6.0</td>\n",
              "      <td>4.0</td>\n",
              "      <td>Alive</td>\n",
              "    </tr>\n",
              "    <tr>\n",
              "      <th>4</th>\n",
              "      <td>TAK</td>\n",
              "      <td>2019</td>\n",
              "      <td>Open</td>\n",
              "      <td>Lobectomy</td>\n",
              "      <td>NO</td>\n",
              "      <td>Adenocarcinoma</td>\n",
              "      <td>I</td>\n",
              "      <td>Early</td>\n",
              "      <td>5.0</td>\n",
              "      <td>4.0</td>\n",
              "      <td>Alive</td>\n",
              "    </tr>\n",
              "  </tbody>\n",
              "</table>\n",
              "</div>"
            ],
            "text/plain": [
              "  Invasive mediastinal staging  ...  Outcome at discharge\n",
              "0                          NIE  ...                 Alive\n",
              "1                          NIE  ...                 Alive\n",
              "2                          NIE  ...                 Alive\n",
              "3                          NIE  ...                 Alive\n",
              "4                          TAK  ...                 Alive\n",
              "\n",
              "[5 rows x 11 columns]"
            ]
          },
          "metadata": {},
          "execution_count": 5
        }
      ]
    },
    {
      "cell_type": "code",
      "metadata": {
        "id": "vvuwi8xGOgQD",
        "colab": {
          "base_uri": "https://localhost:8080/",
          "height": 307
        },
        "outputId": "5000d999-a0d2-4178-cf1b-f62f5811c28a"
      },
      "source": [
        "# Creating usique identifiers of my dataset.\n",
        "df_poland['unique_ID'] = [i for i in range(df_poland.shape[0])]\n",
        "# Confirming the operation\n",
        "df_poland.set_index('unique_ID').head()"
      ],
      "execution_count": null,
      "outputs": [
        {
          "output_type": "execute_result",
          "data": {
            "text/html": [
              "<div>\n",
              "<style scoped>\n",
              "    .dataframe tbody tr th:only-of-type {\n",
              "        vertical-align: middle;\n",
              "    }\n",
              "\n",
              "    .dataframe tbody tr th {\n",
              "        vertical-align: top;\n",
              "    }\n",
              "\n",
              "    .dataframe thead th {\n",
              "        text-align: right;\n",
              "    }\n",
              "</style>\n",
              "<table border=\"1\" class=\"dataframe\">\n",
              "  <thead>\n",
              "    <tr style=\"text-align: right;\">\n",
              "      <th></th>\n",
              "      <th>Invasive mediastinal staging</th>\n",
              "      <th>Date of surgery</th>\n",
              "      <th>Approach</th>\n",
              "      <th>Type of surgery</th>\n",
              "      <th>Sleeve - bronchial</th>\n",
              "      <th>Histology</th>\n",
              "      <th>Stage</th>\n",
              "      <th>Stage.1</th>\n",
              "      <th>Total hospital stay</th>\n",
              "      <th>Postoperative hospital stay</th>\n",
              "      <th>Outcome at discharge</th>\n",
              "    </tr>\n",
              "    <tr>\n",
              "      <th>unique_ID</th>\n",
              "      <th></th>\n",
              "      <th></th>\n",
              "      <th></th>\n",
              "      <th></th>\n",
              "      <th></th>\n",
              "      <th></th>\n",
              "      <th></th>\n",
              "      <th></th>\n",
              "      <th></th>\n",
              "      <th></th>\n",
              "      <th></th>\n",
              "    </tr>\n",
              "  </thead>\n",
              "  <tbody>\n",
              "    <tr>\n",
              "      <th>0</th>\n",
              "      <td>NIE</td>\n",
              "      <td>2019</td>\n",
              "      <td>Open</td>\n",
              "      <td>Lobectomy</td>\n",
              "      <td>NO</td>\n",
              "      <td>Adenocarcinoma</td>\n",
              "      <td>I</td>\n",
              "      <td>Early</td>\n",
              "      <td>8.0</td>\n",
              "      <td>7.0</td>\n",
              "      <td>Alive</td>\n",
              "    </tr>\n",
              "    <tr>\n",
              "      <th>1</th>\n",
              "      <td>NIE</td>\n",
              "      <td>2019</td>\n",
              "      <td>VATS</td>\n",
              "      <td>Lobectomy</td>\n",
              "      <td>NO</td>\n",
              "      <td>Squamous cell carcinoma</td>\n",
              "      <td>IV</td>\n",
              "      <td>Advanced</td>\n",
              "      <td>6.0</td>\n",
              "      <td>3.0</td>\n",
              "      <td>Alive</td>\n",
              "    </tr>\n",
              "    <tr>\n",
              "      <th>2</th>\n",
              "      <td>NIE</td>\n",
              "      <td>2019</td>\n",
              "      <td>Open</td>\n",
              "      <td>Lobectomy</td>\n",
              "      <td>NO</td>\n",
              "      <td>Adenocarcinoma</td>\n",
              "      <td>I</td>\n",
              "      <td>Early</td>\n",
              "      <td>8.0</td>\n",
              "      <td>5.0</td>\n",
              "      <td>Alive</td>\n",
              "    </tr>\n",
              "    <tr>\n",
              "      <th>3</th>\n",
              "      <td>NIE</td>\n",
              "      <td>2019</td>\n",
              "      <td>Open</td>\n",
              "      <td>Lobectomy</td>\n",
              "      <td>NO</td>\n",
              "      <td>Squamous cell carcinoma</td>\n",
              "      <td>I</td>\n",
              "      <td>Early</td>\n",
              "      <td>6.0</td>\n",
              "      <td>4.0</td>\n",
              "      <td>Alive</td>\n",
              "    </tr>\n",
              "    <tr>\n",
              "      <th>4</th>\n",
              "      <td>TAK</td>\n",
              "      <td>2019</td>\n",
              "      <td>Open</td>\n",
              "      <td>Lobectomy</td>\n",
              "      <td>NO</td>\n",
              "      <td>Adenocarcinoma</td>\n",
              "      <td>I</td>\n",
              "      <td>Early</td>\n",
              "      <td>5.0</td>\n",
              "      <td>4.0</td>\n",
              "      <td>Alive</td>\n",
              "    </tr>\n",
              "  </tbody>\n",
              "</table>\n",
              "</div>"
            ],
            "text/plain": [
              "          Invasive mediastinal staging  ...  Outcome at discharge\n",
              "unique_ID                               ...                      \n",
              "0                                  NIE  ...                 Alive\n",
              "1                                  NIE  ...                 Alive\n",
              "2                                  NIE  ...                 Alive\n",
              "3                                  NIE  ...                 Alive\n",
              "4                                  TAK  ...                 Alive\n",
              "\n",
              "[5 rows x 11 columns]"
            ]
          },
          "metadata": {},
          "execution_count": 6
        }
      ]
    },
    {
      "cell_type": "markdown",
      "metadata": {
        "id": "rOsB9vorI45J"
      },
      "source": [
        "# Data Cleaning "
      ]
    },
    {
      "cell_type": "code",
      "metadata": {
        "id": "IYc6gmh8RAlA"
      },
      "source": [
        "#df_poland.to_csv('new_poland_covid_cancer.csv')"
      ],
      "execution_count": null,
      "outputs": []
    },
    {
      "cell_type": "markdown",
      "metadata": {
        "id": "iCgQYoIsJKYT"
      },
      "source": [
        "## Duplicated Values"
      ]
    },
    {
      "cell_type": "code",
      "metadata": {
        "colab": {
          "base_uri": "https://localhost:8080/"
        },
        "id": "j0-bNDSiRSbD",
        "outputId": "7bf5b2c6-7288-471f-d279-5bea9c2a5f0f"
      },
      "source": [
        "# Checking for duplicated values\n",
        "df_poland.duplicated().sum()"
      ],
      "execution_count": null,
      "outputs": [
        {
          "output_type": "execute_result",
          "data": {
            "text/plain": [
              "0"
            ]
          },
          "metadata": {},
          "execution_count": 8
        }
      ]
    },
    {
      "cell_type": "markdown",
      "metadata": {
        "id": "I_QXohnqJS5K"
      },
      "source": [
        "#### There are no duplicated values in the dataset"
      ]
    },
    {
      "cell_type": "markdown",
      "metadata": {
        "id": "TQquG3Z4JbEr"
      },
      "source": [
        "## Checking for missing values in the dataset"
      ]
    },
    {
      "cell_type": "code",
      "metadata": {
        "id": "2UuKRn_OJjEv"
      },
      "source": [
        "# Creating a function to check for percentage of missing values and put it in a dataframe\n",
        "def missing_percentage(data):\n",
        "  df=(data.isnull().sum()/len(data)*100)\n",
        "  missing_frame=pd.DataFrame({\"Column_names\":df.index,\"%_missing\":df.values})\n",
        "  return missing_frame\n"
      ],
      "execution_count": null,
      "outputs": []
    },
    {
      "cell_type": "code",
      "metadata": {
        "colab": {
          "base_uri": "https://localhost:8080/",
          "height": 426
        },
        "id": "gn8VZeQRKSgG",
        "outputId": "77ca45ec-99f1-45f3-f7f7-4477beaf0bfe"
      },
      "source": [
        "# Executing the function\n",
        "missing_percentage(df_poland)"
      ],
      "execution_count": null,
      "outputs": [
        {
          "output_type": "execute_result",
          "data": {
            "text/html": [
              "<div>\n",
              "<style scoped>\n",
              "    .dataframe tbody tr th:only-of-type {\n",
              "        vertical-align: middle;\n",
              "    }\n",
              "\n",
              "    .dataframe tbody tr th {\n",
              "        vertical-align: top;\n",
              "    }\n",
              "\n",
              "    .dataframe thead th {\n",
              "        text-align: right;\n",
              "    }\n",
              "</style>\n",
              "<table border=\"1\" class=\"dataframe\">\n",
              "  <thead>\n",
              "    <tr style=\"text-align: right;\">\n",
              "      <th></th>\n",
              "      <th>Column_names</th>\n",
              "      <th>%_missing</th>\n",
              "    </tr>\n",
              "  </thead>\n",
              "  <tbody>\n",
              "    <tr>\n",
              "      <th>0</th>\n",
              "      <td>Invasive mediastinal staging</td>\n",
              "      <td>0.000000</td>\n",
              "    </tr>\n",
              "    <tr>\n",
              "      <th>1</th>\n",
              "      <td>Date of surgery</td>\n",
              "      <td>0.000000</td>\n",
              "    </tr>\n",
              "    <tr>\n",
              "      <th>2</th>\n",
              "      <td>Approach</td>\n",
              "      <td>0.109559</td>\n",
              "    </tr>\n",
              "    <tr>\n",
              "      <th>3</th>\n",
              "      <td>Type of surgery</td>\n",
              "      <td>0.000000</td>\n",
              "    </tr>\n",
              "    <tr>\n",
              "      <th>4</th>\n",
              "      <td>Sleeve - bronchial</td>\n",
              "      <td>0.000000</td>\n",
              "    </tr>\n",
              "    <tr>\n",
              "      <th>5</th>\n",
              "      <td>Histology</td>\n",
              "      <td>1.054506</td>\n",
              "    </tr>\n",
              "    <tr>\n",
              "      <th>6</th>\n",
              "      <td>Stage</td>\n",
              "      <td>1.314708</td>\n",
              "    </tr>\n",
              "    <tr>\n",
              "      <th>7</th>\n",
              "      <td>Stage.1</td>\n",
              "      <td>1.314708</td>\n",
              "    </tr>\n",
              "    <tr>\n",
              "      <th>8</th>\n",
              "      <td>Total hospital stay</td>\n",
              "      <td>1.698165</td>\n",
              "    </tr>\n",
              "    <tr>\n",
              "      <th>9</th>\n",
              "      <td>Postoperative hospital stay</td>\n",
              "      <td>2.643111</td>\n",
              "    </tr>\n",
              "    <tr>\n",
              "      <th>10</th>\n",
              "      <td>Outcome at discharge</td>\n",
              "      <td>0.000000</td>\n",
              "    </tr>\n",
              "    <tr>\n",
              "      <th>11</th>\n",
              "      <td>unique_ID</td>\n",
              "      <td>0.000000</td>\n",
              "    </tr>\n",
              "  </tbody>\n",
              "</table>\n",
              "</div>"
            ],
            "text/plain": [
              "                    Column_names  %_missing\n",
              "0   Invasive mediastinal staging   0.000000\n",
              "1                Date of surgery   0.000000\n",
              "2                       Approach   0.109559\n",
              "3                Type of surgery   0.000000\n",
              "4             Sleeve - bronchial   0.000000\n",
              "5                      Histology   1.054506\n",
              "6                          Stage   1.314708\n",
              "7                        Stage.1   1.314708\n",
              "8            Total hospital stay   1.698165\n",
              "9    Postoperative hospital stay   2.643111\n",
              "10          Outcome at discharge   0.000000\n",
              "11                     unique_ID   0.000000"
            ]
          },
          "metadata": {},
          "execution_count": 10
        }
      ]
    },
    {
      "cell_type": "markdown",
      "metadata": {
        "id": "iGl1QNaeMF-r"
      },
      "source": [
        "#### Dealing with missing values"
      ]
    },
    {
      "cell_type": "code",
      "metadata": {
        "colab": {
          "base_uri": "https://localhost:8080/"
        },
        "id": "uD5mPqgzR8Sg",
        "outputId": "b5867509-07eb-42d9-b9e1-85702184435b"
      },
      "source": [
        "# Checking datatypes\n",
        "df_poland[['Histology','Stage','Stage.1','Total hospital stay','Postoperative hospital stay']].dtypes"
      ],
      "execution_count": null,
      "outputs": [
        {
          "output_type": "execute_result",
          "data": {
            "text/plain": [
              "Histology                       object\n",
              "Stage                           object\n",
              "Stage.1                         object\n",
              "Total hospital stay            float64\n",
              "Postoperative hospital stay    float64\n",
              "dtype: object"
            ]
          },
          "metadata": {},
          "execution_count": 11
        }
      ]
    },
    {
      "cell_type": "code",
      "metadata": {
        "id": "UDcWoorhMTSH"
      },
      "source": [
        "# A function to deal with missing values in the continous variables\n",
        "def fill_miss(data,col1,col2):\n",
        "  df1=data[col1].groupby(data[col2]).mean()\n",
        "  if data[col2].any =='Alive':\n",
        "    data[col1]=data[col1].fillna(df1[0])\n",
        "  else:\n",
        "    data[col1]=data[col1].fillna(df1[1])\n",
        "  return data.isnull().sum()\n"
      ],
      "execution_count": null,
      "outputs": []
    },
    {
      "cell_type": "code",
      "metadata": {
        "colab": {
          "base_uri": "https://localhost:8080/"
        },
        "id": "m43DTtSANiij",
        "outputId": "754f23df-62ba-4e8c-b86d-59a12e5ee663"
      },
      "source": [
        "# Executong the function on the total hospital stay column\n",
        "fill_miss(df_poland,'Total hospital stay','Outcome at discharge')"
      ],
      "execution_count": null,
      "outputs": [
        {
          "output_type": "execute_result",
          "data": {
            "text/plain": [
              "Invasive mediastinal staging      0\n",
              "Date of surgery                   0\n",
              "Approach                          8\n",
              "Type of surgery                   0\n",
              "Sleeve - bronchial                0\n",
              "Histology                        77\n",
              "Stage                            96\n",
              "Stage.1                          96\n",
              "Total hospital stay               0\n",
              "Postoperative hospital stay     193\n",
              "Outcome at discharge              0\n",
              "unique_ID                         0\n",
              "dtype: int64"
            ]
          },
          "metadata": {},
          "execution_count": 13
        }
      ]
    },
    {
      "cell_type": "code",
      "metadata": {
        "colab": {
          "base_uri": "https://localhost:8080/"
        },
        "id": "bX6MGV5eOM00",
        "outputId": "c2256017-9eeb-494e-e2ed-75ffcf40bb97"
      },
      "source": [
        "# Executing the function on the post operative hospital stay column\n",
        "fill_miss(df_poland,'Postoperative hospital stay','Outcome at discharge')"
      ],
      "execution_count": null,
      "outputs": [
        {
          "output_type": "execute_result",
          "data": {
            "text/plain": [
              "Invasive mediastinal staging     0\n",
              "Date of surgery                  0\n",
              "Approach                         8\n",
              "Type of surgery                  0\n",
              "Sleeve - bronchial               0\n",
              "Histology                       77\n",
              "Stage                           96\n",
              "Stage.1                         96\n",
              "Total hospital stay              0\n",
              "Postoperative hospital stay      0\n",
              "Outcome at discharge             0\n",
              "unique_ID                        0\n",
              "dtype: int64"
            ]
          },
          "metadata": {},
          "execution_count": 14
        }
      ]
    },
    {
      "cell_type": "markdown",
      "metadata": {
        "id": "y1VOhIz4Ozcy"
      },
      "source": [
        "#### Dealing with missing value in the other columns"
      ]
    },
    {
      "cell_type": "code",
      "metadata": {
        "colab": {
          "base_uri": "https://localhost:8080/"
        },
        "id": "W_ssd-MPZPhc",
        "outputId": "3320906d-ea0d-4ab6-e38c-6d3b8d499c85"
      },
      "source": [
        "# Categorical column which had a missing percentage of about 1.3%\n",
        "df_poland[['Histology','Stage','Stage.1']].isnull().sum()"
      ],
      "execution_count": null,
      "outputs": [
        {
          "output_type": "execute_result",
          "data": {
            "text/plain": [
              "Histology    77\n",
              "Stage        96\n",
              "Stage.1      96\n",
              "dtype: int64"
            ]
          },
          "metadata": {},
          "execution_count": 15
        }
      ]
    },
    {
      "cell_type": "markdown",
      "metadata": {
        "id": "_NadYfcvO4eb"
      },
      "source": [
        "#### Dropping the missing values in the categorical columns"
      ]
    },
    {
      "cell_type": "code",
      "metadata": {
        "id": "1G2nXLWAbC1l"
      },
      "source": [
        "# Dropping the missing values in the  categorical columns\n",
        "df_poland.dropna(axis=0,inplace=True)"
      ],
      "execution_count": null,
      "outputs": []
    },
    {
      "cell_type": "code",
      "metadata": {
        "colab": {
          "base_uri": "https://localhost:8080/",
          "height": 426
        },
        "id": "S0HCCn-WbN1P",
        "outputId": "a6c9c50a-35d7-4276-9971-ebaef19e03d1"
      },
      "source": [
        "# Calling the function to check for missing values\n",
        "missing_percentage(df_poland)"
      ],
      "execution_count": null,
      "outputs": [
        {
          "output_type": "execute_result",
          "data": {
            "text/html": [
              "<div>\n",
              "<style scoped>\n",
              "    .dataframe tbody tr th:only-of-type {\n",
              "        vertical-align: middle;\n",
              "    }\n",
              "\n",
              "    .dataframe tbody tr th {\n",
              "        vertical-align: top;\n",
              "    }\n",
              "\n",
              "    .dataframe thead th {\n",
              "        text-align: right;\n",
              "    }\n",
              "</style>\n",
              "<table border=\"1\" class=\"dataframe\">\n",
              "  <thead>\n",
              "    <tr style=\"text-align: right;\">\n",
              "      <th></th>\n",
              "      <th>Column_names</th>\n",
              "      <th>%_missing</th>\n",
              "    </tr>\n",
              "  </thead>\n",
              "  <tbody>\n",
              "    <tr>\n",
              "      <th>0</th>\n",
              "      <td>Invasive mediastinal staging</td>\n",
              "      <td>0.0</td>\n",
              "    </tr>\n",
              "    <tr>\n",
              "      <th>1</th>\n",
              "      <td>Date of surgery</td>\n",
              "      <td>0.0</td>\n",
              "    </tr>\n",
              "    <tr>\n",
              "      <th>2</th>\n",
              "      <td>Approach</td>\n",
              "      <td>0.0</td>\n",
              "    </tr>\n",
              "    <tr>\n",
              "      <th>3</th>\n",
              "      <td>Type of surgery</td>\n",
              "      <td>0.0</td>\n",
              "    </tr>\n",
              "    <tr>\n",
              "      <th>4</th>\n",
              "      <td>Sleeve - bronchial</td>\n",
              "      <td>0.0</td>\n",
              "    </tr>\n",
              "    <tr>\n",
              "      <th>5</th>\n",
              "      <td>Histology</td>\n",
              "      <td>0.0</td>\n",
              "    </tr>\n",
              "    <tr>\n",
              "      <th>6</th>\n",
              "      <td>Stage</td>\n",
              "      <td>0.0</td>\n",
              "    </tr>\n",
              "    <tr>\n",
              "      <th>7</th>\n",
              "      <td>Stage.1</td>\n",
              "      <td>0.0</td>\n",
              "    </tr>\n",
              "    <tr>\n",
              "      <th>8</th>\n",
              "      <td>Total hospital stay</td>\n",
              "      <td>0.0</td>\n",
              "    </tr>\n",
              "    <tr>\n",
              "      <th>9</th>\n",
              "      <td>Postoperative hospital stay</td>\n",
              "      <td>0.0</td>\n",
              "    </tr>\n",
              "    <tr>\n",
              "      <th>10</th>\n",
              "      <td>Outcome at discharge</td>\n",
              "      <td>0.0</td>\n",
              "    </tr>\n",
              "    <tr>\n",
              "      <th>11</th>\n",
              "      <td>unique_ID</td>\n",
              "      <td>0.0</td>\n",
              "    </tr>\n",
              "  </tbody>\n",
              "</table>\n",
              "</div>"
            ],
            "text/plain": [
              "                    Column_names  %_missing\n",
              "0   Invasive mediastinal staging        0.0\n",
              "1                Date of surgery        0.0\n",
              "2                       Approach        0.0\n",
              "3                Type of surgery        0.0\n",
              "4             Sleeve - bronchial        0.0\n",
              "5                      Histology        0.0\n",
              "6                          Stage        0.0\n",
              "7                        Stage.1        0.0\n",
              "8            Total hospital stay        0.0\n",
              "9    Postoperative hospital stay        0.0\n",
              "10          Outcome at discharge        0.0\n",
              "11                     unique_ID        0.0"
            ]
          },
          "metadata": {},
          "execution_count": 17
        }
      ]
    },
    {
      "cell_type": "markdown",
      "metadata": {
        "id": "plaWClZTPxeu"
      },
      "source": [
        "#### There are no more missing values in the dataset."
      ]
    },
    {
      "cell_type": "code",
      "metadata": {
        "id": "PYTF5mCu2wpv"
      },
      "source": [
        "# Setting unique_ID as the index\n",
        "df_poland = df_poland.set_index('unique_ID')"
      ],
      "execution_count": null,
      "outputs": []
    },
    {
      "cell_type": "code",
      "metadata": {
        "colab": {
          "base_uri": "https://localhost:8080/",
          "height": 307
        },
        "id": "EQMqcZfrP-SY",
        "outputId": "7d402a09-cc35-41f1-a611-a93263fb9ece"
      },
      "source": [
        "# Confirming the operation\n",
        "df_poland.head()"
      ],
      "execution_count": null,
      "outputs": [
        {
          "output_type": "execute_result",
          "data": {
            "text/html": [
              "<div>\n",
              "<style scoped>\n",
              "    .dataframe tbody tr th:only-of-type {\n",
              "        vertical-align: middle;\n",
              "    }\n",
              "\n",
              "    .dataframe tbody tr th {\n",
              "        vertical-align: top;\n",
              "    }\n",
              "\n",
              "    .dataframe thead th {\n",
              "        text-align: right;\n",
              "    }\n",
              "</style>\n",
              "<table border=\"1\" class=\"dataframe\">\n",
              "  <thead>\n",
              "    <tr style=\"text-align: right;\">\n",
              "      <th></th>\n",
              "      <th>Invasive mediastinal staging</th>\n",
              "      <th>Date of surgery</th>\n",
              "      <th>Approach</th>\n",
              "      <th>Type of surgery</th>\n",
              "      <th>Sleeve - bronchial</th>\n",
              "      <th>Histology</th>\n",
              "      <th>Stage</th>\n",
              "      <th>Stage.1</th>\n",
              "      <th>Total hospital stay</th>\n",
              "      <th>Postoperative hospital stay</th>\n",
              "      <th>Outcome at discharge</th>\n",
              "    </tr>\n",
              "    <tr>\n",
              "      <th>unique_ID</th>\n",
              "      <th></th>\n",
              "      <th></th>\n",
              "      <th></th>\n",
              "      <th></th>\n",
              "      <th></th>\n",
              "      <th></th>\n",
              "      <th></th>\n",
              "      <th></th>\n",
              "      <th></th>\n",
              "      <th></th>\n",
              "      <th></th>\n",
              "    </tr>\n",
              "  </thead>\n",
              "  <tbody>\n",
              "    <tr>\n",
              "      <th>0</th>\n",
              "      <td>NIE</td>\n",
              "      <td>2019</td>\n",
              "      <td>Open</td>\n",
              "      <td>Lobectomy</td>\n",
              "      <td>NO</td>\n",
              "      <td>Adenocarcinoma</td>\n",
              "      <td>I</td>\n",
              "      <td>Early</td>\n",
              "      <td>8.0</td>\n",
              "      <td>7.0</td>\n",
              "      <td>Alive</td>\n",
              "    </tr>\n",
              "    <tr>\n",
              "      <th>1</th>\n",
              "      <td>NIE</td>\n",
              "      <td>2019</td>\n",
              "      <td>VATS</td>\n",
              "      <td>Lobectomy</td>\n",
              "      <td>NO</td>\n",
              "      <td>Squamous cell carcinoma</td>\n",
              "      <td>IV</td>\n",
              "      <td>Advanced</td>\n",
              "      <td>6.0</td>\n",
              "      <td>3.0</td>\n",
              "      <td>Alive</td>\n",
              "    </tr>\n",
              "    <tr>\n",
              "      <th>2</th>\n",
              "      <td>NIE</td>\n",
              "      <td>2019</td>\n",
              "      <td>Open</td>\n",
              "      <td>Lobectomy</td>\n",
              "      <td>NO</td>\n",
              "      <td>Adenocarcinoma</td>\n",
              "      <td>I</td>\n",
              "      <td>Early</td>\n",
              "      <td>8.0</td>\n",
              "      <td>5.0</td>\n",
              "      <td>Alive</td>\n",
              "    </tr>\n",
              "    <tr>\n",
              "      <th>3</th>\n",
              "      <td>NIE</td>\n",
              "      <td>2019</td>\n",
              "      <td>Open</td>\n",
              "      <td>Lobectomy</td>\n",
              "      <td>NO</td>\n",
              "      <td>Squamous cell carcinoma</td>\n",
              "      <td>I</td>\n",
              "      <td>Early</td>\n",
              "      <td>6.0</td>\n",
              "      <td>4.0</td>\n",
              "      <td>Alive</td>\n",
              "    </tr>\n",
              "    <tr>\n",
              "      <th>4</th>\n",
              "      <td>TAK</td>\n",
              "      <td>2019</td>\n",
              "      <td>Open</td>\n",
              "      <td>Lobectomy</td>\n",
              "      <td>NO</td>\n",
              "      <td>Adenocarcinoma</td>\n",
              "      <td>I</td>\n",
              "      <td>Early</td>\n",
              "      <td>5.0</td>\n",
              "      <td>4.0</td>\n",
              "      <td>Alive</td>\n",
              "    </tr>\n",
              "  </tbody>\n",
              "</table>\n",
              "</div>"
            ],
            "text/plain": [
              "          Invasive mediastinal staging  ...  Outcome at discharge\n",
              "unique_ID                               ...                      \n",
              "0                                  NIE  ...                 Alive\n",
              "1                                  NIE  ...                 Alive\n",
              "2                                  NIE  ...                 Alive\n",
              "3                                  NIE  ...                 Alive\n",
              "4                                  TAK  ...                 Alive\n",
              "\n",
              "[5 rows x 11 columns]"
            ]
          },
          "metadata": {},
          "execution_count": 19
        }
      ]
    },
    {
      "cell_type": "markdown",
      "metadata": {
        "id": "R0XXLMzOQGlg"
      },
      "source": [
        "## Checking for outliers and anomalies"
      ]
    },
    {
      "cell_type": "code",
      "metadata": {
        "colab": {
          "base_uri": "https://localhost:8080/"
        },
        "id": "kksdc36K52g8",
        "outputId": "d1e73a5e-70cf-457f-ea53-b5284543e8f9"
      },
      "source": [
        "# Checking for anomalies in the Invasive mediastinal staging column\n",
        "df_poland['Invasive mediastinal staging'].unique()\n",
        "# The half of the dataset is in Polish"
      ],
      "execution_count": null,
      "outputs": [
        {
          "output_type": "execute_result",
          "data": {
            "text/plain": [
              "array(['NIE', 'TAK', 'NO', 'YES'], dtype=object)"
            ]
          },
          "metadata": {},
          "execution_count": 20
        }
      ]
    },
    {
      "cell_type": "code",
      "metadata": {
        "id": "sViEcMxyQl_q"
      },
      "source": [
        "# Function to replace the polish words\n",
        "def replacing(data,col,old,new):\n",
        "  data[col]=data[col].str.replace(old,new)\n",
        "  return data[col].unique()\n"
      ],
      "execution_count": null,
      "outputs": []
    },
    {
      "cell_type": "code",
      "metadata": {
        "colab": {
          "base_uri": "https://localhost:8080/"
        },
        "id": "23vtDRrJRAIR",
        "outputId": "912c0489-92e6-4e55-cda6-42a7a1d37bc4"
      },
      "source": [
        "# Executing the function on the first column.\n",
        "replacing(df_poland,'Invasive mediastinal staging','NIE','NO')\n",
        "replacing(df_poland,'Invasive mediastinal staging','TAK','YES')"
      ],
      "execution_count": null,
      "outputs": [
        {
          "output_type": "execute_result",
          "data": {
            "text/plain": [
              "array(['NO', 'YES'], dtype=object)"
            ]
          },
          "metadata": {},
          "execution_count": 22
        }
      ]
    },
    {
      "cell_type": "code",
      "metadata": {
        "colab": {
          "base_uri": "https://localhost:8080/",
          "height": 307
        },
        "id": "Xgq_IX_16E-c",
        "outputId": "60968471-bc85-41c1-85d0-577a9e183dc3"
      },
      "source": [
        "df_poland.head()"
      ],
      "execution_count": null,
      "outputs": [
        {
          "output_type": "execute_result",
          "data": {
            "text/html": [
              "<div>\n",
              "<style scoped>\n",
              "    .dataframe tbody tr th:only-of-type {\n",
              "        vertical-align: middle;\n",
              "    }\n",
              "\n",
              "    .dataframe tbody tr th {\n",
              "        vertical-align: top;\n",
              "    }\n",
              "\n",
              "    .dataframe thead th {\n",
              "        text-align: right;\n",
              "    }\n",
              "</style>\n",
              "<table border=\"1\" class=\"dataframe\">\n",
              "  <thead>\n",
              "    <tr style=\"text-align: right;\">\n",
              "      <th></th>\n",
              "      <th>Invasive mediastinal staging</th>\n",
              "      <th>Date of surgery</th>\n",
              "      <th>Approach</th>\n",
              "      <th>Type of surgery</th>\n",
              "      <th>Sleeve - bronchial</th>\n",
              "      <th>Histology</th>\n",
              "      <th>Stage</th>\n",
              "      <th>Stage.1</th>\n",
              "      <th>Total hospital stay</th>\n",
              "      <th>Postoperative hospital stay</th>\n",
              "      <th>Outcome at discharge</th>\n",
              "    </tr>\n",
              "    <tr>\n",
              "      <th>unique_ID</th>\n",
              "      <th></th>\n",
              "      <th></th>\n",
              "      <th></th>\n",
              "      <th></th>\n",
              "      <th></th>\n",
              "      <th></th>\n",
              "      <th></th>\n",
              "      <th></th>\n",
              "      <th></th>\n",
              "      <th></th>\n",
              "      <th></th>\n",
              "    </tr>\n",
              "  </thead>\n",
              "  <tbody>\n",
              "    <tr>\n",
              "      <th>0</th>\n",
              "      <td>NO</td>\n",
              "      <td>2019</td>\n",
              "      <td>Open</td>\n",
              "      <td>Lobectomy</td>\n",
              "      <td>NO</td>\n",
              "      <td>Adenocarcinoma</td>\n",
              "      <td>I</td>\n",
              "      <td>Early</td>\n",
              "      <td>8.0</td>\n",
              "      <td>7.0</td>\n",
              "      <td>Alive</td>\n",
              "    </tr>\n",
              "    <tr>\n",
              "      <th>1</th>\n",
              "      <td>NO</td>\n",
              "      <td>2019</td>\n",
              "      <td>VATS</td>\n",
              "      <td>Lobectomy</td>\n",
              "      <td>NO</td>\n",
              "      <td>Squamous cell carcinoma</td>\n",
              "      <td>IV</td>\n",
              "      <td>Advanced</td>\n",
              "      <td>6.0</td>\n",
              "      <td>3.0</td>\n",
              "      <td>Alive</td>\n",
              "    </tr>\n",
              "    <tr>\n",
              "      <th>2</th>\n",
              "      <td>NO</td>\n",
              "      <td>2019</td>\n",
              "      <td>Open</td>\n",
              "      <td>Lobectomy</td>\n",
              "      <td>NO</td>\n",
              "      <td>Adenocarcinoma</td>\n",
              "      <td>I</td>\n",
              "      <td>Early</td>\n",
              "      <td>8.0</td>\n",
              "      <td>5.0</td>\n",
              "      <td>Alive</td>\n",
              "    </tr>\n",
              "    <tr>\n",
              "      <th>3</th>\n",
              "      <td>NO</td>\n",
              "      <td>2019</td>\n",
              "      <td>Open</td>\n",
              "      <td>Lobectomy</td>\n",
              "      <td>NO</td>\n",
              "      <td>Squamous cell carcinoma</td>\n",
              "      <td>I</td>\n",
              "      <td>Early</td>\n",
              "      <td>6.0</td>\n",
              "      <td>4.0</td>\n",
              "      <td>Alive</td>\n",
              "    </tr>\n",
              "    <tr>\n",
              "      <th>4</th>\n",
              "      <td>YES</td>\n",
              "      <td>2019</td>\n",
              "      <td>Open</td>\n",
              "      <td>Lobectomy</td>\n",
              "      <td>NO</td>\n",
              "      <td>Adenocarcinoma</td>\n",
              "      <td>I</td>\n",
              "      <td>Early</td>\n",
              "      <td>5.0</td>\n",
              "      <td>4.0</td>\n",
              "      <td>Alive</td>\n",
              "    </tr>\n",
              "  </tbody>\n",
              "</table>\n",
              "</div>"
            ],
            "text/plain": [
              "          Invasive mediastinal staging  ...  Outcome at discharge\n",
              "unique_ID                               ...                      \n",
              "0                                   NO  ...                 Alive\n",
              "1                                   NO  ...                 Alive\n",
              "2                                   NO  ...                 Alive\n",
              "3                                   NO  ...                 Alive\n",
              "4                                  YES  ...                 Alive\n",
              "\n",
              "[5 rows x 11 columns]"
            ]
          },
          "metadata": {},
          "execution_count": 23
        }
      ]
    },
    {
      "cell_type": "code",
      "metadata": {
        "colab": {
          "base_uri": "https://localhost:8080/"
        },
        "id": "VuuLMwQI7X1R",
        "outputId": "a34af6d0-bb3a-4474-fa60-c7e97d800fe8"
      },
      "source": [
        "# Checking the unique values in the stage column\n",
        "df_poland['Stage'].unique()\n"
      ],
      "execution_count": null,
      "outputs": [
        {
          "output_type": "execute_result",
          "data": {
            "text/plain": [
              "array(['I', 'IV', 'II', 'III'], dtype=object)"
            ]
          },
          "metadata": {},
          "execution_count": 24
        }
      ]
    },
    {
      "cell_type": "code",
      "metadata": {
        "id": "NsYFSyK_7mnh",
        "colab": {
          "base_uri": "https://localhost:8080/"
        },
        "outputId": "62e34ddf-8bad-4bff-965c-168db672c9dd"
      },
      "source": [
        "# Replacing the roman numbers with numerical values\n",
        "vals_to_replace = {'I':1, 'IV':4, 'II':2, 'III':3}\n",
        "df_poland['Stage'] = df_poland['Stage'].map(vals_to_replace)\n",
        "\n",
        "# Confirming the operation\n",
        "df_poland['Stage'].unique()"
      ],
      "execution_count": null,
      "outputs": [
        {
          "output_type": "execute_result",
          "data": {
            "text/plain": [
              "array([1, 4, 2, 3])"
            ]
          },
          "metadata": {},
          "execution_count": 25
        }
      ]
    },
    {
      "cell_type": "markdown",
      "metadata": {
        "id": "ul1LJ4aZ1iih"
      },
      "source": [
        "### Anomalies and Outliers in the continous variables."
      ]
    },
    {
      "cell_type": "code",
      "metadata": {
        "colab": {
          "base_uri": "https://localhost:8080/"
        },
        "id": "gNTjqJwCTGBF",
        "outputId": "9742eca9-cd1e-493a-a9bc-5ed95ac3ddd5"
      },
      "source": [
        "# Checking the datatypes\n",
        "df_poland.dtypes"
      ],
      "execution_count": null,
      "outputs": [
        {
          "output_type": "execute_result",
          "data": {
            "text/plain": [
              "Invasive mediastinal staging     object\n",
              "Date of surgery                   int64\n",
              "Approach                         object\n",
              "Type of surgery                  object\n",
              "Sleeve - bronchial               object\n",
              "Histology                        object\n",
              "Stage                             int64\n",
              "Stage.1                          object\n",
              "Total hospital stay             float64\n",
              "Postoperative hospital stay     float64\n",
              "Outcome at discharge             object\n",
              "dtype: object"
            ]
          },
          "metadata": {},
          "execution_count": 26
        }
      ]
    },
    {
      "cell_type": "markdown",
      "metadata": {
        "id": "qCqMLNVYUEax"
      },
      "source": [
        "#### Anomalies in the numerical values"
      ]
    },
    {
      "cell_type": "code",
      "metadata": {
        "colab": {
          "base_uri": "https://localhost:8080/"
        },
        "id": "DnYm6JOj85_p",
        "outputId": "127cfd4e-d5ec-4f29-fd54-e2084f7fc8e5"
      },
      "source": [
        "# Checking for anomalies in the Postoperative hospital stay \n",
        "df_poland['Postoperative hospital stay'].unique()"
      ],
      "execution_count": null,
      "outputs": [
        {
          "output_type": "execute_result",
          "data": {
            "text/plain": [
              "array([  7.        ,   3.        ,   5.        ,   4.        ,\n",
              "        12.        , 146.        ,  14.        ,  11.        ,\n",
              "         6.        ,  15.        ,   8.        ,  22.76315789,\n",
              "        18.        ,  43.        ,  13.        ,  30.        ,\n",
              "        19.        ,  25.        ,  10.        ,  32.        ,\n",
              "         2.        ,  16.        ,   9.        ,  22.        ,\n",
              "        28.        ,  54.        ,  23.        ,  41.        ,\n",
              "        20.        ,  29.        ,  21.        ,  76.        ,\n",
              "        27.        ,  17.        ,  36.        ,  47.        ,\n",
              "        70.        ,   1.        ,  85.        ,  34.        ,\n",
              "        62.        ,  33.        ,  42.        ,  24.        ,\n",
              "        44.        ,  48.        ,  40.        ,  35.        ,\n",
              "        31.        ,  26.        ,  50.        ,  46.        ,\n",
              "        37.        ,  53.        ,  45.        , 190.        ,\n",
              "        96.        ,  52.        ,  68.        ,  78.        ,\n",
              "        49.        ,  67.        ,  39.        ,  64.        ,\n",
              "        91.        ,  86.        ,  97.        , 126.        ,\n",
              "        51.        ])"
            ]
          },
          "metadata": {},
          "execution_count": 27
        }
      ]
    },
    {
      "cell_type": "code",
      "metadata": {
        "colab": {
          "base_uri": "https://localhost:8080/"
        },
        "id": "smO28nJMDlE7",
        "outputId": "d141bdf3-6f2c-4fd5-f41d-d236f53acf7f"
      },
      "source": [
        "# Checking for anomalies in the Total hospital stay set\n",
        "df_poland['Total hospital stay'].unique()"
      ],
      "execution_count": null,
      "outputs": [
        {
          "output_type": "execute_result",
          "data": {
            "text/plain": [
              "array([  8.        ,   6.        ,   5.        ,  31.        ,\n",
              "       160.        ,  17.        ,  10.        ,  26.        ,\n",
              "         4.        ,   7.        ,  11.        ,  26.01298701,\n",
              "        21.        ,  22.        ,  12.        ,  14.        ,\n",
              "        13.        ,  18.        ,  76.        ,  20.        ,\n",
              "         9.        ,  48.        ,  35.        ,  29.        ,\n",
              "        42.        ,   3.        ,  19.        ,  27.        ,\n",
              "        15.        ,  23.        ,  32.        ,  40.        ,\n",
              "        64.        ,  43.        , 103.        ,  28.        ,\n",
              "        30.        ,  16.        ,  88.        ,  37.        ,\n",
              "        77.        ,  25.        ,  24.        ,  34.        ,\n",
              "        57.        ,  50.        ,  67.        ,  91.        ,\n",
              "       102.        ,  49.        ,  63.        ,  39.        ,\n",
              "        46.        ,  36.        ,  75.        ,  51.        ,\n",
              "        33.        , 116.        ,  56.        ,  47.        ,\n",
              "        61.        ,  38.        ,  54.        ,  93.        ,\n",
              "       190.        ,  97.        ,  44.        ,  45.        ,\n",
              "        58.        ,   2.        , 177.        ,  41.        ,\n",
              "        78.        , 195.        ,  68.        ,  53.        ,\n",
              "        62.        ,  79.        ,  74.        ,  52.        ,\n",
              "        59.        , 162.        ,  89.        , 181.        ,\n",
              "       175.        ,  81.        ,  82.        ,  98.        ,\n",
              "       150.        ,  71.        ,  94.        , 128.        ])"
            ]
          },
          "metadata": {},
          "execution_count": 28
        }
      ]
    },
    {
      "cell_type": "markdown",
      "metadata": {
        "id": "-yjPORrOUhKG"
      },
      "source": [
        "#### There were anomalies in both columns in that the days were expressed in decimal form which is an anomally."
      ]
    },
    {
      "cell_type": "code",
      "metadata": {
        "id": "gc-Yj1wjU7o0"
      },
      "source": [
        "# A function to round off values in both columns to remove the decimals\n",
        "def rounding(data,col):\n",
        "  data[col]=data[col].apply(np.ceil)\n",
        "  return data[col].unique()"
      ],
      "execution_count": null,
      "outputs": []
    },
    {
      "cell_type": "code",
      "metadata": {
        "colab": {
          "base_uri": "https://localhost:8080/"
        },
        "id": "kTwOLcmnVvrH",
        "outputId": "b7f45651-8b7e-4fb0-a960-5c24fe9d927c"
      },
      "source": [
        "# Rounding the values\n",
        "rounding(df_poland,'Total hospital stay')"
      ],
      "execution_count": null,
      "outputs": [
        {
          "output_type": "execute_result",
          "data": {
            "text/plain": [
              "array([  8.,   6.,   5.,  31., 160.,  17.,  10.,  26.,   4.,   7.,  11.,\n",
              "        27.,  21.,  22.,  12.,  14.,  13.,  18.,  76.,  20.,   9.,  48.,\n",
              "        35.,  29.,  42.,   3.,  19.,  15.,  23.,  32.,  40.,  64.,  43.,\n",
              "       103.,  28.,  30.,  16.,  88.,  37.,  77.,  25.,  24.,  34.,  57.,\n",
              "        50.,  67.,  91., 102.,  49.,  63.,  39.,  46.,  36.,  75.,  51.,\n",
              "        33., 116.,  56.,  47.,  61.,  38.,  54.,  93., 190.,  97.,  44.,\n",
              "        45.,  58.,   2., 177.,  41.,  78., 195.,  68.,  53.,  62.,  79.,\n",
              "        74.,  52.,  59., 162.,  89., 181., 175.,  81.,  82.,  98., 150.,\n",
              "        71.,  94., 128.])"
            ]
          },
          "metadata": {},
          "execution_count": 30
        }
      ]
    },
    {
      "cell_type": "code",
      "metadata": {
        "colab": {
          "base_uri": "https://localhost:8080/"
        },
        "id": "8wX2kwZBWLfs",
        "outputId": "36028260-337f-4a51-d757-bbaeca0c081e"
      },
      "source": [
        "# Rounding the values in the post operative hospital stay columns\n",
        "rounding(df_poland,'Postoperative hospital stay')"
      ],
      "execution_count": null,
      "outputs": [
        {
          "output_type": "execute_result",
          "data": {
            "text/plain": [
              "array([  7.,   3.,   5.,   4.,  12., 146.,  14.,  11.,   6.,  15.,   8.,\n",
              "        23.,  18.,  43.,  13.,  30.,  19.,  25.,  10.,  32.,   2.,  16.,\n",
              "         9.,  22.,  28.,  54.,  41.,  20.,  29.,  21.,  76.,  27.,  17.,\n",
              "        36.,  47.,  70.,   1.,  85.,  34.,  62.,  33.,  42.,  24.,  44.,\n",
              "        48.,  40.,  35.,  31.,  26.,  50.,  46.,  37.,  53.,  45., 190.,\n",
              "        96.,  52.,  68.,  78.,  49.,  67.,  39.,  64.,  91.,  86.,  97.,\n",
              "       126.,  51.])"
            ]
          },
          "metadata": {},
          "execution_count": 31
        }
      ]
    },
    {
      "cell_type": "code",
      "metadata": {
        "id": "3BhjJcAdN0X3",
        "colab": {
          "base_uri": "https://localhost:8080/"
        },
        "outputId": "dca9bcd3-e679-40b5-e668-3bf6e43b5eea"
      },
      "source": [
        "# Checking for numerical values in the dataset\n",
        "numerical_cols = [col for col in df_poland if df_poland[col].dtypes !='O']\n",
        "numerical_cols"
      ],
      "execution_count": null,
      "outputs": [
        {
          "output_type": "execute_result",
          "data": {
            "text/plain": [
              "['Date of surgery',\n",
              " 'Stage',\n",
              " 'Total hospital stay',\n",
              " 'Postoperative hospital stay']"
            ]
          },
          "metadata": {},
          "execution_count": 32
        }
      ]
    },
    {
      "cell_type": "markdown",
      "metadata": {
        "id": "MWQ9eqc3W_cg"
      },
      "source": [
        "### Outliers in numerical variables"
      ]
    },
    {
      "cell_type": "code",
      "metadata": {
        "colab": {
          "base_uri": "https://localhost:8080/",
          "height": 519
        },
        "id": "cSuJuTeRAWbX",
        "outputId": "5427d3e6-99bd-412e-ea5e-3f6024312591"
      },
      "source": [
        "# Boxplot of the Postoperative Hospital \n",
        "plt.figure(figsize=(10,8))\n",
        "plt.title('Postoperative hospital stay',fontsize=15)\n",
        "sns.boxplot(x=df_poland['Postoperative hospital stay'])\n",
        "plt.xlabel('Number of Days',fontsize=14)\n",
        "plt.show()"
      ],
      "execution_count": null,
      "outputs": [
        {
          "output_type": "display_data",
          "data": {
            "image/png": "[encoded data removed]",
            "text/plain": [
              "<Figure size 720x576 with 1 Axes>"
            ]
          },
          "metadata": {
            "needs_background": "light"
          }
        }
      ]
    },
    {
      "cell_type": "code",
      "metadata": {
        "colab": {
          "base_uri": "https://localhost:8080/",
          "height": 519
        },
        "id": "vSO-ce84BKhB",
        "outputId": "bc58a6ae-a086-4123-95d9-67c96d21c513"
      },
      "source": [
        "# Boxplot of the Total hospital stay \n",
        "plt.figure(figsize=(10,8))\n",
        "plt.title('Total hospital stay',fontsize=15)\n",
        "sns.boxplot(x=df_poland['Total hospital stay'])\n",
        "plt.xlabel(\"Number of Days\",fontsize=14)\n",
        "plt.show()"
      ],
      "execution_count": null,
      "outputs": [
        {
          "output_type": "display_data",
          "data": {
            "image/png": "[encoded data removed]",
            "text/plain": [
              "<Figure size 720x576 with 1 Axes>"
            ]
          },
          "metadata": {
            "needs_background": "light"
          }
        }
      ]
    },
    {
      "cell_type": "code",
      "metadata": {
        "colab": {
          "base_uri": "https://localhost:8080/"
        },
        "id": "aRVfup3Me470",
        "outputId": "7b3f5a4a-0099-4e9c-942e-e1cd79fec8c2"
      },
      "source": [
        "df_poland['Type of surgery'].unique()"
      ],
      "execution_count": null,
      "outputs": [
        {
          "output_type": "execute_result",
          "data": {
            "text/plain": [
              "array(['Lobectomy', 'Pneumonectomy', 'Bilobectomy', 'Wedge resection',\n",
              "       'Segmentectomy', 'Wyci?cie mankietu oskrzela'], dtype=object)"
            ]
          },
          "metadata": {},
          "execution_count": 35
        }
      ]
    },
    {
      "cell_type": "code",
      "metadata": {
        "colab": {
          "base_uri": "https://localhost:8080/"
        },
        "id": "mIeOkIavffPT",
        "outputId": "157df971-0745-4fca-c0f0-332bbddc381a"
      },
      "source": [
        "df_poland['Type of surgery'].value_counts()"
      ],
      "execution_count": null,
      "outputs": [
        {
          "output_type": "execute_result",
          "data": {
            "text/plain": [
              "Lobectomy                     5455\n",
              "Segmentectomy                  590\n",
              "Pneumonectomy                  451\n",
              "Bilobectomy                    348\n",
              "Wedge resection                340\n",
              "Wyci?cie mankietu oskrzela      15\n",
              "Name: Type of surgery, dtype: int64"
            ]
          },
          "metadata": {},
          "execution_count": 36
        }
      ]
    },
    {
      "cell_type": "code",
      "metadata": {
        "colab": {
          "base_uri": "https://localhost:8080/"
        },
        "id": "yP9_JuI_hpGr",
        "outputId": "df93aba9-a63c-44a0-da09-c1ec0555919c"
      },
      "source": [
        "replacing(df_poland,'Type of surgery','Wyci?cie mankietu oskrzela','Broncial cuff excision')# Remember to replace"
      ],
      "execution_count": null,
      "outputs": [
        {
          "output_type": "execute_result",
          "data": {
            "text/plain": [
              "array(['Lobectomy', 'Pneumonectomy', 'Bilobectomy', 'Wedge resection',\n",
              "       'Segmentectomy', 'Wyci?cie mankietu oskrzela'], dtype=object)"
            ]
          },
          "metadata": {},
          "execution_count": 37
        }
      ]
    },
    {
      "cell_type": "markdown",
      "metadata": {
        "id": "D3RjGq2wX6eK"
      },
      "source": [
        "## Exploratory Data Analysis"
      ]
    },
    {
      "cell_type": "markdown",
      "metadata": {
        "id": "SvtKcWLSYHOV"
      },
      "source": [
        "1. Univariate Analysis"
      ]
    },
    {
      "cell_type": "code",
      "metadata": {
        "colab": {
          "base_uri": "https://localhost:8080/",
          "height": 307
        },
        "id": "RvpG-vDlXTGY",
        "outputId": "0b46d71e-963c-4601-ef36-1953f2ce52ea"
      },
      "source": [
        "df_poland.head()"
      ],
      "execution_count": null,
      "outputs": [
        {
          "output_type": "execute_result",
          "data": {
            "text/html": [
              "<div>\n",
              "<style scoped>\n",
              "    .dataframe tbody tr th:only-of-type {\n",
              "        vertical-align: middle;\n",
              "    }\n",
              "\n",
              "    .dataframe tbody tr th {\n",
              "        vertical-align: top;\n",
              "    }\n",
              "\n",
              "    .dataframe thead th {\n",
              "        text-align: right;\n",
              "    }\n",
              "</style>\n",
              "<table border=\"1\" class=\"dataframe\">\n",
              "  <thead>\n",
              "    <tr style=\"text-align: right;\">\n",
              "      <th></th>\n",
              "      <th>Invasive mediastinal staging</th>\n",
              "      <th>Date of surgery</th>\n",
              "      <th>Approach</th>\n",
              "      <th>Type of surgery</th>\n",
              "      <th>Sleeve - bronchial</th>\n",
              "      <th>Histology</th>\n",
              "      <th>Stage</th>\n",
              "      <th>Stage.1</th>\n",
              "      <th>Total hospital stay</th>\n",
              "      <th>Postoperative hospital stay</th>\n",
              "      <th>Outcome at discharge</th>\n",
              "    </tr>\n",
              "    <tr>\n",
              "      <th>unique_ID</th>\n",
              "      <th></th>\n",
              "      <th></th>\n",
              "      <th></th>\n",
              "      <th></th>\n",
              "      <th></th>\n",
              "      <th></th>\n",
              "      <th></th>\n",
              "      <th></th>\n",
              "      <th></th>\n",
              "      <th></th>\n",
              "      <th></th>\n",
              "    </tr>\n",
              "  </thead>\n",
              "  <tbody>\n",
              "    <tr>\n",
              "      <th>0</th>\n",
              "      <td>NO</td>\n",
              "      <td>2019</td>\n",
              "      <td>Open</td>\n",
              "      <td>Lobectomy</td>\n",
              "      <td>NO</td>\n",
              "      <td>Adenocarcinoma</td>\n",
              "      <td>1</td>\n",
              "      <td>Early</td>\n",
              "      <td>8.0</td>\n",
              "      <td>7.0</td>\n",
              "      <td>Alive</td>\n",
              "    </tr>\n",
              "    <tr>\n",
              "      <th>1</th>\n",
              "      <td>NO</td>\n",
              "      <td>2019</td>\n",
              "      <td>VATS</td>\n",
              "      <td>Lobectomy</td>\n",
              "      <td>NO</td>\n",
              "      <td>Squamous cell carcinoma</td>\n",
              "      <td>4</td>\n",
              "      <td>Advanced</td>\n",
              "      <td>6.0</td>\n",
              "      <td>3.0</td>\n",
              "      <td>Alive</td>\n",
              "    </tr>\n",
              "    <tr>\n",
              "      <th>2</th>\n",
              "      <td>NO</td>\n",
              "      <td>2019</td>\n",
              "      <td>Open</td>\n",
              "      <td>Lobectomy</td>\n",
              "      <td>NO</td>\n",
              "      <td>Adenocarcinoma</td>\n",
              "      <td>1</td>\n",
              "      <td>Early</td>\n",
              "      <td>8.0</td>\n",
              "      <td>5.0</td>\n",
              "      <td>Alive</td>\n",
              "    </tr>\n",
              "    <tr>\n",
              "      <th>3</th>\n",
              "      <td>NO</td>\n",
              "      <td>2019</td>\n",
              "      <td>Open</td>\n",
              "      <td>Lobectomy</td>\n",
              "      <td>NO</td>\n",
              "      <td>Squamous cell carcinoma</td>\n",
              "      <td>1</td>\n",
              "      <td>Early</td>\n",
              "      <td>6.0</td>\n",
              "      <td>4.0</td>\n",
              "      <td>Alive</td>\n",
              "    </tr>\n",
              "    <tr>\n",
              "      <th>4</th>\n",
              "      <td>YES</td>\n",
              "      <td>2019</td>\n",
              "      <td>Open</td>\n",
              "      <td>Lobectomy</td>\n",
              "      <td>NO</td>\n",
              "      <td>Adenocarcinoma</td>\n",
              "      <td>1</td>\n",
              "      <td>Early</td>\n",
              "      <td>5.0</td>\n",
              "      <td>4.0</td>\n",
              "      <td>Alive</td>\n",
              "    </tr>\n",
              "  </tbody>\n",
              "</table>\n",
              "</div>"
            ],
            "text/plain": [
              "          Invasive mediastinal staging  ...  Outcome at discharge\n",
              "unique_ID                               ...                      \n",
              "0                                   NO  ...                 Alive\n",
              "1                                   NO  ...                 Alive\n",
              "2                                   NO  ...                 Alive\n",
              "3                                   NO  ...                 Alive\n",
              "4                                  YES  ...                 Alive\n",
              "\n",
              "[5 rows x 11 columns]"
            ]
          },
          "metadata": {},
          "execution_count": 40
        }
      ]
    },
    {
      "cell_type": "code",
      "metadata": {
        "colab": {
          "base_uri": "https://localhost:8080/"
        },
        "id": "MTjwLK31aOd7",
        "outputId": "5620954e-df0a-47b4-b6c9-b69cf57e0aff"
      },
      "source": [
        "objects= [cols for cols in df_poland if df_poland[cols].dtypes=='O']\n",
        "objects"
      ],
      "execution_count": null,
      "outputs": [
        {
          "output_type": "execute_result",
          "data": {
            "text/plain": [
              "['Invasive mediastinal staging',\n",
              " 'Approach',\n",
              " 'Type of surgery',\n",
              " 'Sleeve - bronchial',\n",
              " 'Histology',\n",
              " 'Stage.1',\n",
              " 'Outcome at discharge']"
            ]
          },
          "metadata": {},
          "execution_count": 41
        }
      ]
    },
    {
      "cell_type": "markdown",
      "metadata": {
        "id": "LKjs879tcs9d"
      },
      "source": [
        "#### The number of patients that underwent invasive medistinal staging were more than those that didnt."
      ]
    },
    {
      "cell_type": "code",
      "metadata": {
        "colab": {
          "base_uri": "https://localhost:8080/",
          "height": 1000
        },
        "id": "D6P8iUtXc7VH",
        "outputId": "723e6a5e-ade6-4a1d-b038-5bc362f626d7"
      },
      "source": [
        "fig,ax=plt.subplots(len(objects),figsize=(15,40))\n",
        "for i, col_vals in enumerate(objects):\n",
        "  sns.countplot(x=df_poland[col_vals],ax=ax[i])\n",
        "  ax[i].set_title(\"Countplot of \"+format(col_vals),fontsize=15)\n",
        "plt.show()"
      ],
      "execution_count": null,
      "outputs": [
        {
          "output_type": "display_data",
          "data": {
            "image/png": "[encoded data removed]",
            "text/plain": [
              "<Figure size 1080x2880 with 7 Axes>"
            ]
          },
          "metadata": {
            "needs_background": "light"
          }
        }
      ]
    },
    {
      "cell_type": "code",
      "metadata": {
        "colab": {
          "base_uri": "https://localhost:8080/",
          "height": 515
        },
        "id": "TA8HCqi1q67J",
        "outputId": "7b61c1b0-61dc-45df-e24d-daa3b5a5f10d"
      },
      "source": [
        "plt.figure(figsize=(10,8))\n",
        "sns.countplot(x=df_poland['Date of surgery'])\n",
        "plt.title(\"Count plot of the number of years\",fontsize=15)\n",
        "plt.show()"
      ],
      "execution_count": null,
      "outputs": [
        {
          "output_type": "display_data",
          "data": {
            "image/png": "[encoded data removed]",
            "text/plain": [
              "<Figure size 720x576 with 1 Axes>"
            ]
          },
          "metadata": {
            "needs_background": "light"
          }
        }
      ]
    },
    {
      "cell_type": "code",
      "metadata": {
        "colab": {
          "base_uri": "https://localhost:8080/",
          "height": 515
        },
        "id": "j2iyj4Vlrfrd",
        "outputId": "573740a8-fd75-4605-c33b-5114fb67671c"
      },
      "source": [
        "plt.figure(figsize=(10,8))\n",
        "sns.countplot(x=df_poland['Stage'])\n",
        "plt.title(\"Count plot of Cancer stages\",fontsize=15)\n",
        "plt.show()"
      ],
      "execution_count": null,
      "outputs": [
        {
          "output_type": "display_data",
          "data": {
            "image/png": "[encoded data removed]",
            "text/plain": [
              "<Figure size 720x576 with 1 Axes>"
            ]
          },
          "metadata": {
            "needs_background": "light"
          }
        }
      ]
    },
    {
      "cell_type": "markdown",
      "metadata": {
        "id": "VNGoV0--oiVD"
      },
      "source": [
        "*  Fewer patients underwent invasive medialstinal staging as compared to those that underwent.\n",
        "*  Open surgery was done frequently as compared to the Video-assisted thoracoscopic surgery\n",
        "* The leading count of surgery types was lobectomy followed closely by segmentectomy. This could be attributed to the simplicity in the  prpceedures.\n",
        "* A lot of patients presented with Adenocarcinoma as compared to other types of cancers.\n",
        "* Patients at early stages were found in the observations as compared to those at advanced stages.\n",
        "* Alive patients were more than dead patients."
      ]
    },
    {
      "cell_type": "markdown",
      "metadata": {
        "id": "nZXy5vtRqrAn"
      },
      "source": [
        "### Continous Variables"
      ]
    },
    {
      "cell_type": "code",
      "metadata": {
        "colab": {
          "base_uri": "https://localhost:8080/",
          "height": 698
        },
        "id": "CIUfJV8EZGt-",
        "outputId": "4dc33722-550e-488b-f8f7-206147d997d6"
      },
      "source": [
        "num_cols=['Total hospital stay','Postoperative hospital stay']\n",
        "fig,ax=plt.subplots(len(num_cols),figsize=(10,10))\n",
        "for i, col_vals in enumerate(num_cols):\n",
        "  sns.distplot(x=df_poland[col_vals],ax=ax[i],kde=True)\n",
        "  ax[i].set_title(\"Distribution of \"+format(col_vals),fontsize=15)\n",
        "plt.show()"
      ],
      "execution_count": null,
      "outputs": [
        {
          "output_type": "stream",
          "name": "stderr",
          "text": [
            "/usr/local/lib/python3.7/dist-packages/seaborn/distributions.py:2619: FutureWarning: `distplot` is a deprecated function and will be removed in a future version. Please adapt your code to use either `displot` (a figure-level function with similar flexibility) or `histplot` (an axes-level function for histograms).\n",
            "  warnings.warn(msg, FutureWarning)\n",
            "/usr/local/lib/python3.7/dist-packages/seaborn/distributions.py:2619: FutureWarning: `distplot` is a deprecated function and will be removed in a future version. Please adapt your code to use either `displot` (a figure-level function with similar flexibility) or `histplot` (an axes-level function for histograms).\n",
            "  warnings.warn(msg, FutureWarning)\n"
          ]
        },
        {
          "output_type": "display_data",
          "data": {
            "image/png": "[encoded data removed]",
            "text/plain": [
              "<Figure size 720x720 with 2 Axes>"
            ]
          },
          "metadata": {
            "needs_background": "light"
          }
        }
      ]
    },
    {
      "cell_type": "markdown",
      "metadata": {
        "id": "HzRgRIJkoCv9"
      },
      "source": [
        "From the distribution plot we get to see that most people did not spend time in the hospital as our distribution is skewed positively . However , some outliers are seen to be at the 3rd quantile where some patients spent more than 200 days in the hospital."
      ]
    },
    {
      "cell_type": "markdown",
      "metadata": {
        "id": "gYjHwelYqeqe"
      },
      "source": [
        "## Bivariate Analysis."
      ]
    },
    {
      "cell_type": "markdown",
      "metadata": {
        "id": "HMQ0HbThqjPV"
      },
      "source": [
        "### This is meant to help us understand the relationships within our dataset."
      ]
    },
    {
      "cell_type": "code",
      "metadata": {
        "colab": {
          "base_uri": "https://localhost:8080/",
          "height": 307
        },
        "id": "uxC6oWJFoAtC",
        "outputId": "2e3dff60-631f-4260-f6e0-adfb299a7e93"
      },
      "source": [
        "df_poland.head()"
      ],
      "execution_count": null,
      "outputs": [
        {
          "output_type": "execute_result",
          "data": {
            "text/html": [
              "<div>\n",
              "<style scoped>\n",
              "    .dataframe tbody tr th:only-of-type {\n",
              "        vertical-align: middle;\n",
              "    }\n",
              "\n",
              "    .dataframe tbody tr th {\n",
              "        vertical-align: top;\n",
              "    }\n",
              "\n",
              "    .dataframe thead th {\n",
              "        text-align: right;\n",
              "    }\n",
              "</style>\n",
              "<table border=\"1\" class=\"dataframe\">\n",
              "  <thead>\n",
              "    <tr style=\"text-align: right;\">\n",
              "      <th></th>\n",
              "      <th>Invasive mediastinal staging</th>\n",
              "      <th>Date of surgery</th>\n",
              "      <th>Approach</th>\n",
              "      <th>Type of surgery</th>\n",
              "      <th>Sleeve - bronchial</th>\n",
              "      <th>Histology</th>\n",
              "      <th>Stage</th>\n",
              "      <th>Stage.1</th>\n",
              "      <th>Total hospital stay</th>\n",
              "      <th>Postoperative hospital stay</th>\n",
              "      <th>Outcome at discharge</th>\n",
              "    </tr>\n",
              "    <tr>\n",
              "      <th>unique_ID</th>\n",
              "      <th></th>\n",
              "      <th></th>\n",
              "      <th></th>\n",
              "      <th></th>\n",
              "      <th></th>\n",
              "      <th></th>\n",
              "      <th></th>\n",
              "      <th></th>\n",
              "      <th></th>\n",
              "      <th></th>\n",
              "      <th></th>\n",
              "    </tr>\n",
              "  </thead>\n",
              "  <tbody>\n",
              "    <tr>\n",
              "      <th>0</th>\n",
              "      <td>NO</td>\n",
              "      <td>2019</td>\n",
              "      <td>Open</td>\n",
              "      <td>Lobectomy</td>\n",
              "      <td>NO</td>\n",
              "      <td>Adenocarcinoma</td>\n",
              "      <td>1</td>\n",
              "      <td>Early</td>\n",
              "      <td>8.0</td>\n",
              "      <td>7.0</td>\n",
              "      <td>Alive</td>\n",
              "    </tr>\n",
              "    <tr>\n",
              "      <th>1</th>\n",
              "      <td>NO</td>\n",
              "      <td>2019</td>\n",
              "      <td>VATS</td>\n",
              "      <td>Lobectomy</td>\n",
              "      <td>NO</td>\n",
              "      <td>Squamous cell carcinoma</td>\n",
              "      <td>4</td>\n",
              "      <td>Advanced</td>\n",
              "      <td>6.0</td>\n",
              "      <td>3.0</td>\n",
              "      <td>Alive</td>\n",
              "    </tr>\n",
              "    <tr>\n",
              "      <th>2</th>\n",
              "      <td>NO</td>\n",
              "      <td>2019</td>\n",
              "      <td>Open</td>\n",
              "      <td>Lobectomy</td>\n",
              "      <td>NO</td>\n",
              "      <td>Adenocarcinoma</td>\n",
              "      <td>1</td>\n",
              "      <td>Early</td>\n",
              "      <td>8.0</td>\n",
              "      <td>5.0</td>\n",
              "      <td>Alive</td>\n",
              "    </tr>\n",
              "    <tr>\n",
              "      <th>3</th>\n",
              "      <td>NO</td>\n",
              "      <td>2019</td>\n",
              "      <td>Open</td>\n",
              "      <td>Lobectomy</td>\n",
              "      <td>NO</td>\n",
              "      <td>Squamous cell carcinoma</td>\n",
              "      <td>1</td>\n",
              "      <td>Early</td>\n",
              "      <td>6.0</td>\n",
              "      <td>4.0</td>\n",
              "      <td>Alive</td>\n",
              "    </tr>\n",
              "    <tr>\n",
              "      <th>4</th>\n",
              "      <td>YES</td>\n",
              "      <td>2019</td>\n",
              "      <td>Open</td>\n",
              "      <td>Lobectomy</td>\n",
              "      <td>NO</td>\n",
              "      <td>Adenocarcinoma</td>\n",
              "      <td>1</td>\n",
              "      <td>Early</td>\n",
              "      <td>5.0</td>\n",
              "      <td>4.0</td>\n",
              "      <td>Alive</td>\n",
              "    </tr>\n",
              "  </tbody>\n",
              "</table>\n",
              "</div>"
            ],
            "text/plain": [
              "          Invasive mediastinal staging  ...  Outcome at discharge\n",
              "unique_ID                               ...                      \n",
              "0                                   NO  ...                 Alive\n",
              "1                                   NO  ...                 Alive\n",
              "2                                   NO  ...                 Alive\n",
              "3                                   NO  ...                 Alive\n",
              "4                                  YES  ...                 Alive\n",
              "\n",
              "[5 rows x 11 columns]"
            ]
          },
          "metadata": {},
          "execution_count": 51
        }
      ]
    },
    {
      "cell_type": "markdown",
      "metadata": {
        "id": "GOqa0lJGxDpr"
      },
      "source": [
        "# Research Questions\n",
        "####  * What was the reliability of open surgery as compare to Video assisted surgery considering the post discharge Outcome?\n"
      ]
    },
    {
      "cell_type": "code",
      "metadata": {
        "colab": {
          "base_uri": "https://localhost:8080/",
          "height": 515
        },
        "id": "KTfhs_saZQKw",
        "outputId": "c39f37bf-9f37-4abb-d8db-c7dab9c87a0d"
      },
      "source": [
        "# Assesing the relationship between The suregery approach to the discharge outcome\n",
        "plt.figure(figsize=(10,8))\n",
        "sns.countplot(x='Approach',hue='Outcome at discharge',data=df_poland)\n",
        "plt.title(\"Count plot to compare Approach and Outcome\",fontsize=15)\n",
        "plt.show()"
      ],
      "execution_count": null,
      "outputs": [
        {
          "output_type": "display_data",
          "data": {
            "image/png": "[encoded data removed]",
            "text/plain": [
              "<Figure size 720x576 with 1 Axes>"
            ]
          },
          "metadata": {
            "needs_background": "light"
          }
        }
      ]
    },
    {
      "cell_type": "markdown",
      "metadata": {
        "id": "OBLDiBugxkVx"
      },
      "source": [
        "#### * Patients who underwent open surgeries had a higher death count as compared to patients that underwent Video assisted thoracoscopic surgery."
      ]
    },
    {
      "cell_type": "code",
      "metadata": {
        "colab": {
          "base_uri": "https://localhost:8080/",
          "height": 515
        },
        "id": "VwIa1YxeudmO",
        "outputId": "4367d706-75b4-4d8d-88a9-79ec752824bd"
      },
      "source": [
        "plt.figure(figsize=(10,8))\n",
        "sns.countplot(x='Invasive mediastinal staging',hue='Outcome at discharge',data=df_poland)\n",
        "plt.title(\"Count plot to compare Invasive mediastinal staging and Outcome\",fontsize=15)\n",
        "plt.show() "
      ],
      "execution_count": null,
      "outputs": [
        {
          "output_type": "display_data",
          "data": {
            "image/png": "[encoded data removed]",
            "text/plain": [
              "<Figure size 720x576 with 1 Axes>"
            ]
          },
          "metadata": {
            "needs_background": "light"
          }
        }
      ]
    },
    {
      "cell_type": "code",
      "metadata": {
        "colab": {
          "base_uri": "https://localhost:8080/",
          "height": 515
        },
        "id": "rRkxKEoOu0NS",
        "outputId": "69f8e37d-6a70-447e-9105-732f24dce4e9"
      },
      "source": [
        "plt.figure(figsize=(10,8))\n",
        "sns.countplot(x='Date of surgery',hue='Outcome at discharge',data=df_poland)\n",
        "plt.title(\"Count plot to Date of surgery and Outcome\",fontsize=15)\n",
        "plt.show()"
      ],
      "execution_count": null,
      "outputs": [
        {
          "output_type": "display_data",
          "data": {
            "image/png": "[encoded data removed]",
            "text/plain": [
              "<Figure size 720x576 with 1 Axes>"
            ]
          },
          "metadata": {
            "needs_background": "light"
          }
        }
      ]
    },
    {
      "cell_type": "code",
      "metadata": {
        "colab": {
          "base_uri": "https://localhost:8080/",
          "height": 623
        },
        "id": "E8K-VwRfvEnd",
        "outputId": "9bb40d64-45f8-4545-8d9e-3c9e6eaebc78"
      },
      "source": [
        "plt.figure(figsize=(10,10))\n",
        "sns.countplot(x='Sleeve - bronchial',hue='Outcome at discharge',data=df_poland)\n",
        "plt.title(\"Count plot to see the relationship between Broncial resection and Outcome\",fontsize=15)\n",
        "plt.show()"
      ],
      "execution_count": null,
      "outputs": [
        {
          "output_type": "display_data",
          "data": {
            "image/png": "[encoded data removed]",
            "text/plain": [
              "<Figure size 720x720 with 1 Axes>"
            ]
          },
          "metadata": {
            "needs_background": "light"
          }
        }
      ]
    }
  ]
}